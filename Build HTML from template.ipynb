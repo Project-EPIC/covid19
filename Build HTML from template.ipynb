{
 "cells": [
  {
   "cell_type": "code",
   "execution_count": 6,
   "metadata": {
    "ExecuteTime": {
     "end_time": "2020-05-20T17:35:31.677169Z",
     "start_time": "2020-05-20T17:35:31.674411Z"
    }
   },
   "outputs": [],
   "source": [
    "import pystache, sys"
   ]
  },
  {
   "cell_type": "code",
   "execution_count": 11,
   "metadata": {
    "ExecuteTime": {
     "end_time": "2020-05-20T17:41:34.884029Z",
     "start_time": "2020-05-20T17:41:34.880406Z"
    }
   },
   "outputs": [],
   "source": [
    "def buildSingleStaticPlotlyPage(CONFIG):\n",
    "    sys.stderr.write(\"Writing HTML... \")\n",
    "\n",
    "    main_template = open('templates/plotly_js_template.html','r').read()\n",
    "\n",
    "    with open(CONFIG['output'],'w') as outFile:\n",
    "        outFile.write(pystache.render(main_template, CONFIG))"
   ]
  },
  {
   "cell_type": "code",
   "execution_count": 12,
   "metadata": {
    "ExecuteTime": {
     "end_time": "2020-05-20T17:41:35.004044Z",
     "start_time": "2020-05-20T17:41:35.001157Z"
    }
   },
   "outputs": [],
   "source": [
    "WHO_CONFIG = {\n",
    "\n",
    "    \"TITLE\"      : \"Top 25 Retweets of @WHO\",\n",
    "    \"SUBHEADER\"  : \"Diffusion of the top 25 most retweeted tweets from the World Health Organization since mid-April\",\n",
    "    \"JSON\"   : 'data/who.json',\n",
    "\n",
    "    \"output\" : 'docs/who.html'\n",
    "}"
   ]
  },
  {
   "cell_type": "code",
   "execution_count": 13,
   "metadata": {
    "ExecuteTime": {
     "end_time": "2020-05-20T17:41:35.106944Z",
     "start_time": "2020-05-20T17:41:35.104000Z"
    }
   },
   "outputs": [],
   "source": [
    "CDC_CONFIG = {\n",
    "\n",
    "    \"TITLE\"      : \"Top 25 Retweets of Center for Disease Control\",\n",
    "    \"SUBHEADER\"  : \"Diffusion of the top 25 most retweeted @CDCGov, @CDCEmergency, @CDCEspañol, @CDCGlobal, @CDC_ehealth tweets since mid-April\",\n",
    "    \"JSON\"       : 'data/cdc.json',\n",
    "\n",
    "    \"output\" : 'docs/cdc.html'\n",
    "}"
   ]
  },
  {
   "cell_type": "code",
   "execution_count": 33,
   "metadata": {
    "ExecuteTime": {
     "end_time": "2020-05-20T21:06:20.855205Z",
     "start_time": "2020-05-20T21:06:20.849346Z"
    }
   },
   "outputs": [
    {
     "name": "stderr",
     "output_type": "stream",
     "text": [
      "Writing HTML... Writing HTML... "
     ]
    }
   ],
   "source": [
    "buildSingleStaticPlotlyPage(CDC_CONFIG)\n",
    "buildSingleStaticPlotlyPage(WHO_CONFIG)"
   ]
  },
  {
   "cell_type": "code",
   "execution_count": null,
   "metadata": {},
   "outputs": [],
   "source": []
  }
 ],
 "metadata": {
  "hide_input": false,
  "kernelspec": {
   "display_name": "Python 3",
   "language": "python",
   "name": "python3"
  },
  "language_info": {
   "codemirror_mode": {
    "name": "ipython",
    "version": 3
   },
   "file_extension": ".py",
   "mimetype": "text/x-python",
   "name": "python",
   "nbconvert_exporter": "python",
   "pygments_lexer": "ipython3",
   "version": "3.7.4"
  },
  "varInspector": {
   "cols": {
    "lenName": 16,
    "lenType": 16,
    "lenVar": 40
   },
   "kernels_config": {
    "python": {
     "delete_cmd_postfix": "",
     "delete_cmd_prefix": "del ",
     "library": "var_list.py",
     "varRefreshCmd": "print(var_dic_list())"
    },
    "r": {
     "delete_cmd_postfix": ") ",
     "delete_cmd_prefix": "rm(",
     "library": "var_list.r",
     "varRefreshCmd": "cat(var_dic_list()) "
    }
   },
   "types_to_exclude": [
    "module",
    "function",
    "builtin_function_or_method",
    "instance",
    "_Feature"
   ],
   "window_display": false
  }
 },
 "nbformat": 4,
 "nbformat_minor": 2
}
