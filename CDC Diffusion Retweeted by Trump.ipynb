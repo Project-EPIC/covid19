{
 "cells": [
  {
   "cell_type": "code",
   "execution_count": 1,
   "metadata": {},
   "outputs": [],
   "source": [
    "import pystache, plotly, json, random, sys, yaml, glob, os\n",
    "import pandas as pd\n",
    "import plotly.graph_objects as go\n",
    "\n",
    "from google.cloud import bigquery\n",
    "from google.oauth2 import service_account\n",
    "from datetime import datetime"
   ]
  },
  {
   "cell_type": "markdown",
   "metadata": {},
   "source": [
    "\n",
    "# Create Interactive Diffusion Graph for Retweets of the CDC that Trump also retweeted\n",
    "\n",
    "1. Reads yaml configuration file from `/home/jupyter/data/www/covid19-static-pages/configs/cdc-trump.special`\n",
    "2. Queries for retweets from Big Query including extra user information.\n",
    "3. Processes and produces simplified JSON output of retweets.\n",
    "3. Reads simplified JSON into Plotly and writes JSON configurations for Plotly Graphs and HTML files."
   ]
  },
  {
   "cell_type": "code",
   "execution_count": 2,
   "metadata": {},
   "outputs": [],
   "source": [
    "credentials = service_account.Credentials.from_service_account_file(\n",
    "    '/home/jupyter/covid-19-data/.credentials/google-connector.json')\n",
    "project_id = 'crypto-eon-164220'\n",
    "client = bigquery.Client(credentials=credentials, project=project_id)"
   ]
  },
  {
   "cell_type": "markdown",
   "metadata": {},
   "source": [
    "## 1. Get top retweets from Big Query"
   ]
  },
  {
   "cell_type": "code",
   "execution_count": 3,
   "metadata": {},
   "outputs": [],
   "source": [
    "def get_top_N_retweeted_tweets(table, N=25): #Limits to 25 for safety\n",
    "    sys.stderr.write(\"Querying for top {} retweets in {}...\".format(N, table))\n",
    "    \n",
    "    query_job = client.query(\"\"\"\n",
    "SELECT\n",
    "  id AS retweet_id,\n",
    "  min(original_tweet_id) AS orig_id,\n",
    "  min(tweet_text) AS orig_text,\n",
    "  min(source) AS source,\n",
    "  min(times_retweeted_) AS times_retweeted,\n",
    "  min(original_author) AS orig_author,\n",
    "  min(original_followers) as orig_followers_count,\n",
    "  min(original_posted) AS orig_posted,\n",
    "  min(user.screen_name) AS retweeter,\n",
    "  min(user.id_str) AS retweeter_id,\n",
    "  min(user.created_at) AS retweeter_join_date,\n",
    "  min(user.followers_count) AS retweeter_followers_count,\n",
    "  min(PARSE_TIMESTAMP('%a %b %d %T %z %Y', created_at)) AS retweet_timestamp\n",
    "FROM\n",
    "  `crypto-eon-164220.tweets.{TABLE}` tweets,\n",
    "  (\n",
    "  SELECT\n",
    "    MIN(retweeted_status.id) AS original_tweet_id,\n",
    "    MIN(retweeted_status.text) AS tweet_text,\n",
    "    MIN(retweeted_status.user.screen_name) AS original_author,\n",
    "    MIN(retweeted_status.user.followers_count) AS original_followers,\n",
    "    MIN(PARSE_TIMESTAMP('%a %b %d %T %z %Y', retweeted_status.created_at)) AS original_posted,\n",
    "    COUNT(DISTINCT(id)) AS times_retweeted_\n",
    "  FROM\n",
    "    `crypto-eon-164220.tweets.{TABLE}`\n",
    "  WHERE\n",
    "    retweeted_status IS NOT NULL\n",
    "    AND retweeted_status.id >= (SELECT MIN(id) FROM `crypto-eon-164220.tweets.{TABLE}`)\n",
    "  GROUP BY\n",
    "    retweeted_status.id\n",
    "  ORDER BY times_retweeted_ DESC\n",
    "  LIMIT {N}\n",
    "  ) topRetweets\n",
    "WHERE\n",
    "  topRetweets.original_tweet_id = tweets.retweeted_status.id\n",
    "GROUP by id\n",
    "order by orig_id\n",
    "\"\"\".format(TABLE=table,\n",
    "           N=N) )\n",
    "    \n",
    "    sys.stderr.write(\"done; creating dataframe\\n\")\n",
    "    return query_job.result().to_dataframe()\n"
   ]
  },
  {
   "cell_type": "code",
   "execution_count": 4,
   "metadata": {},
   "outputs": [],
   "source": [
    "def create_dataframe_for_plotly(df, fileName):\n",
    "\n",
    "    retweet_counts_by_id = list(df.orig_id.value_counts(ascending=False).keys())\n",
    "\n",
    "    count = 0;\n",
    "    to_return = pd.DataFrame()\n",
    "\n",
    "    for original_id, retweets in df.groupby('orig_id'):\n",
    "        count += 1;\n",
    "        topN = retweet_counts_by_id.index(original_id) + 1 # The Top N tweet...\n",
    "        print(\"Processing Tweet# {} - TopN [{}] - ID: {})\".format(count, topN, original_id))\n",
    "\n",
    "        sorted_retweets = retweets.sort_values(by='retweet_id').reindex()\n",
    "\n",
    "        original_tweet = pd.DataFrame([{\n",
    "            'id': sorted_retweets.iloc[0].orig_id,\n",
    "            'created_at': sorted_retweets.iloc[0].orig_posted,\n",
    "            'username': sorted_retweets.iloc[0].orig_author,\n",
    "            'followers_count': sorted_retweets.iloc[0].orig_followers_count\n",
    "        }])\n",
    "\n",
    "        text = sorted_retweets.iloc[0].orig_text\n",
    "\n",
    "        interested_rows = sorted_retweets[['retweet_id','retweet_timestamp','retweeter','retweeter_followers_count','source','retweeter_id','retweeter_join_date']]\n",
    "        interested_rows.columns = ['id','created_at','username','followers_count','source','user_id','user_join_date']\n",
    "\n",
    "        #Add the first row for the original tweet\n",
    "        x = pd.concat([original_tweet, interested_rows]).reset_index(drop = True) \n",
    "\n",
    "        x['followers_count_cumsum'] = x.followers_count.cumsum()\n",
    "        x['text'] = text\n",
    "        x['top_N'] = topN\n",
    "        \n",
    "        x.created_at = x.created_at.apply(lambda x: x.isoformat())\n",
    "        \n",
    "        usernames = set(x.username)\n",
    "        \n",
    "        #Check if Trump or a Trump retweeting bot is there:\n",
    "        if 'idontdonald' in usernames or 'realDonaldTrump' in usernames: \n",
    "            to_return = pd.concat([x, to_return])\n",
    "\n",
    "    current_datestamp = datetime.today().strftime('%Y-%m-%d')\n",
    "    with open(fileName +\"_\"+current_datestamp+'.json','w') as f:\n",
    "        json.dump(to_return.sort_values(by='top_N').to_dict('records'), f)"
   ]
  },
  {
   "cell_type": "code",
   "execution_count": 5,
   "metadata": {},
   "outputs": [],
   "source": [
    "def get_data(config):\n",
    "    \n",
    "    df = get_top_N_retweeted_tweets(config['table'], N= (config.get(\"topN\") or 10) )\n",
    "    \n",
    "    create_dataframe_for_plotly(df, config['data'])"
   ]
  },
  {
   "cell_type": "markdown",
   "metadata": {},
   "source": [
    "\n",
    "## 2. Create Plots"
   ]
  },
  {
   "cell_type": "code",
   "execution_count": 6,
   "metadata": {},
   "outputs": [],
   "source": [
    "COLORS = plotly.colors.qualitative.Alphabet"
   ]
  },
  {
   "cell_type": "code",
   "execution_count": 7,
   "metadata": {},
   "outputs": [],
   "source": [
    "def view_colors():\n",
    "    sns.palplot(COLORS)\n",
    "\n",
    "def normalize(values, desired_bounds):\n",
    "    actual_bounds = (min(values), max(values))\n",
    "    result = [desired_bounds[0] + (x - actual_bounds[0]) *\n",
    "            (desired_bounds[1] - desired_bounds[0]) / \\\n",
    "            (actual_bounds[1] - actual_bounds[0]) for x in values]\n",
    "    return [round(x,2) for x in result]"
   ]
  },
  {
   "cell_type": "code",
   "execution_count": 8,
   "metadata": {},
   "outputs": [],
   "source": [
    "# Read the latest diffusion data...\n",
    "def read_dataframe_from_file(CONFIG):\n",
    "\n",
    "    #Get the latest file\n",
    "    latest_file = sorted(glob.glob(CONFIG['data']+\"*.json\"))[-1]\n",
    "    \n",
    "    sys.stderr.write(\"Loading \"+latest_file+\"...\")\n",
    "    to_plot = json.load(open(latest_file,'r')) #Could put error handling here if necessary\n",
    "\n",
    "    df = pd.DataFrame(to_plot)\n",
    "    df['timestamp'] = df.created_at.apply(lambda t: pd.Timestamp(t))\n",
    "    \n",
    "#     print(df.timestamp.head())\n",
    "    \n",
    "    #Convert all timestamps to EST (Trump's timezone)\n",
    "    df.timestamp = df.timestamp.apply(lambda t: t.tz_convert('EST'))\n",
    "    \n",
    "#     print(df.timestamp.head())\n",
    "    \n",
    "    sys.stderr.write((\"Read {:,} retweets\\n\".format(len(to_plot))))\n",
    "\n",
    "    return df"
   ]
  },
  {
   "cell_type": "code",
   "execution_count": 9,
   "metadata": {},
   "outputs": [],
   "source": [
    "def makeDateStringForName(d):\n",
    "    \n",
    "#     return d.isoformat()\n",
    "    \n",
    "    return \"{} {} {:02d}:{:02d}:{:02d} (EST)\".format( d.month_name()[0:3], d.day, d.hour,d.minute,d.second)\n",
    "\n",
    "def calculate_self_retweets(input_df):\n",
    "\n",
    "    sys.stderr.write(\"Discounting self-retweets: [\")\n",
    "    df = pd.DataFrame.copy(input_df, deep=True)\n",
    "    \n",
    "    tweet_data = {}\n",
    "\n",
    "    for topN in df.top_N.unique():\n",
    "        newCounter = 0\n",
    "        subValue = 0\n",
    "        \n",
    "        trump_retweet_time = None\n",
    "        this_tweet_data = None\n",
    "\n",
    "        for idx, row in df[df.top_N == topN].sort_values(by='id').iterrows():\n",
    "                        \n",
    "            if newCounter==0:\n",
    "                thisUser = row.username\n",
    "                origFollowerCount = row.followers_count\n",
    "                origTweetID = str(row.id)\n",
    "                this_tweet_data = {\n",
    "                    'text' : row.text,\n",
    "                    'user' : thisUser,\n",
    "                    'topN' : int(topN),\n",
    "                    'color': COLORS[topN%len(COLORS)],\n",
    "                    'id'   : origTweetID,\n",
    "                    'self-rt' : [],\n",
    "                    'time' : row.timestamp.isoformat()\n",
    "                }\n",
    "            \n",
    "            else:\n",
    "                if row.username == thisUser:\n",
    "                    if row.followers_count > origFollowerCount:\n",
    "                        subValue = origFollowerCount\n",
    "                    else:\n",
    "                        subValue = row.followers_count\n",
    "                    this_tweet_data['self-rt'].append(\n",
    "#                         \"2020-04-19T01:53:07+00:00\"\n",
    "                        {'x':row.timestamp.isoformat(), 'subValue':subValue}\n",
    "                    )                    \n",
    "        \n",
    "            #Add Trump timestamp to the tweet data for the ranking...\n",
    "            if row.username == 'realDonaldTrump':\n",
    "                trump_retweet_time = makeDateStringForName( row.timestamp )\n",
    "                \n",
    "                #Also reset \"rank\" value here\n",
    "            \n",
    "            if subValue > 0:\n",
    "                df.loc[idx,'followers_count_cumsum'] = row.followers_count_cumsum - subValue\n",
    "            newCounter += 1;\n",
    "        \n",
    "        if not trump_retweet_time:\n",
    "            #Use 5 seconds prior to idontdonald\n",
    "            row = df[df.top_N == topN].query('username==\"idontdonald\"')\n",
    "            print(row.timestamp)\n",
    "            x = row.timestamp - pd.Timedelta(seconds=5)\n",
    "            trump_retweet_time = makeDateStringForName( x.iloc[0] ) \n",
    "            print(trump_retweet_time)\n",
    "            \n",
    "        this_tweet_data['rank'] = trump_retweet_time\n",
    "            \n",
    "        tweet_data[trump_retweet_time] = this_tweet_data\n",
    "            \n",
    "        sys.stderr.write(\"{},\".format(topN))\n",
    "        \n",
    "    sys.stderr.write(\"] done\\n\".format(topN))\n",
    "    \n",
    "    return (df, tweet_data)"
   ]
  },
  {
   "cell_type": "code",
   "execution_count": 10,
   "metadata": {},
   "outputs": [],
   "source": [
    "def custom_label(row):\n",
    "    return \"{}: {} followers\".format(row.username, row.followers_count)\n",
    "    \n",
    "\n",
    "def buildPlotlyGraph(df, tweet_data):\n",
    "    sys.stderr.write(\"Plotting...\")\n",
    "    \n",
    "#     df['globalScaledMarker'] = df.followers_count.apply(lambda x: np.log2(x+1))\n",
    "    df['globalScaledMarker'] = normalize(list(df.followers_count), (10,100))\n",
    "\n",
    "    fig = go.Figure()\n",
    "\n",
    "    for tweetTimeStamp in sorted(tweet_data.keys()):\n",
    "        topNidx = tweet_data[tweetTimeStamp].get('topN')\n",
    "\n",
    "        #Should be sorted safely?\n",
    "        plot_df = df[df.top_N==topNidx].sort_values(by='id')\n",
    "\n",
    "        if len(plot_df) > 0:\n",
    "\n",
    "            tweetId   = str(plot_df.head(1).id.values[0])\n",
    "            tweetText = plot_df.head(1).text.values[0]\n",
    "\n",
    "            if pd.isna(tweetText):\n",
    "                raise \"No Tweet Text on First Entry\"\n",
    "\n",
    "            color = COLORS[topNidx%len(COLORS)]\n",
    "\n",
    "            fig.add_trace(go.Scattergl(\n",
    "                name = tweetTimeStamp, #rank\n",
    "                x    = plot_df.timestamp, \n",
    "                y    = plot_df.followers_count_cumsum,\n",
    "                mode = 'markers+lines',\n",
    "                marker = dict(\n",
    "                    size  = plot_df.globalScaledMarker, #normalize(list(plot_df.followers_count), (10,35)),\n",
    "                    color = color,\n",
    "                    opacity = 0.5,\n",
    "                    line=dict(\n",
    "                        color='white',\n",
    "                        width=0.4\n",
    "                    ),\n",
    "                ),\n",
    "                line=dict(\n",
    "                    color=color,\n",
    "                    width=0.75,\n",
    "                ),\n",
    "                hovertemplate ='%{x} - %{text}',\n",
    "                text = list(plot_df.apply(lambda row: custom_label(row), axis=1)),\n",
    "                meta={'u':plot_df.username,\n",
    "                      'f':plot_df.followers_count },\n",
    "                showlegend = True\n",
    "            ))\n",
    "            sys.stderr.write(\".\")\n",
    "\n",
    "    fig.update_layout(\n",
    "        autosize=False,\n",
    "        width=1400,\n",
    "        height=600,\n",
    "        margin=dict(\n",
    "            t=1,r=50,l=1,b=1\n",
    "        ),\n",
    "        legend=dict(\n",
    "            x=1,\n",
    "            y=1,\n",
    "            traceorder=\"normal\",\n",
    "            font=dict(\n",
    "                family=\"sans-serif\",\n",
    "                size=12,\n",
    "                color=\"black\"\n",
    "            ),\n",
    "    ),\n",
    "        yaxis_title=\"Potential Audience Exposure\",)\n",
    "\n",
    "    sys.stderr.write(\"] Done\\n\")\n",
    "    return fig"
   ]
  },
  {
   "cell_type": "code",
   "execution_count": 11,
   "metadata": {},
   "outputs": [],
   "source": [
    "def buildSingleStaticPlotlyPage(CONFIG):\n",
    "    sys.stderr.write(\"Writing HTML... \")\n",
    "\n",
    "    main_template = open(STATIC_PAGES_ROOT + '/templates/plotly_js_template.html').read()\n",
    "\n",
    "    with open(STATIC_PAGES_ROOT + \"/\" + CONFIG['output'],'w') as outFile:\n",
    "        outFile.write(pystache.render(main_template, CONFIG))\n",
    "    sys.stderr.write(\" view at: http://epic.tweetsonamap.com/covid19-static-pages/\"+CONFIG['output']+\"\\n\")"
   ]
  },
  {
   "cell_type": "markdown",
   "metadata": {},
   "source": [
    "<br><br><hr><br><br>"
   ]
  },
  {
   "cell_type": "markdown",
   "metadata": {},
   "source": [
    "# Runtime\n"
   ]
  },
  {
   "cell_type": "code",
   "execution_count": 12,
   "metadata": {},
   "outputs": [],
   "source": [
    "# GLOBAL VARIABLES?\n",
    "STATIC_PAGES_ROOT = '/home/jupyter/data/www/covid19-static-pages'"
   ]
  },
  {
   "cell_type": "code",
   "execution_count": 13,
   "metadata": {},
   "outputs": [],
   "source": [
    "def full_run(yaml_config, query=True, plot=True, write_html=True):\n",
    "    print(\"Building page for: {}\".format(yaml_config))\n",
    "    config = yaml.load(open(yaml_config,'r'),\n",
    "                       Loader=yaml.FullLoader)\n",
    "    \n",
    "    if query:\n",
    "        get_data(config)\n",
    "    \n",
    "    if plot:\n",
    "        config['df'] = read_dataframe_from_file(config)\n",
    "    \n",
    "        topN = config.get('topN') or 25\n",
    "    \n",
    "        config['no_self_retweets'], config['tweets'] = calculate_self_retweets(config['df'] )\n",
    "\n",
    "        config['fig'] = buildPlotlyGraph(config['no_self_retweets'], config['tweets'])\n",
    "    \n",
    "        figJSON = json.loads(plotly.io.to_json(config['fig']))\n",
    "        figJSON['tweets'] = config['tweets']\n",
    "        \n",
    "        with open(STATIC_PAGES_ROOT +\"/docs/\"+ config['JSON'],'w') as outFile: \n",
    "            json.dump(figJSON, outFile)\n",
    "            \n",
    "    if write_html:\n",
    "        buildSingleStaticPlotlyPage(config)\n",
    "    \n",
    "    return config"
   ]
  },
  {
   "cell_type": "code",
   "execution_count": 14,
   "metadata": {},
   "outputs": [
    {
     "name": "stdout",
     "output_type": "stream",
     "text": [
      "Building page for: /home/jupyter/data/www/covid19-static-pages/configs/cdc-trump.special\n"
     ]
    },
    {
     "name": "stderr",
     "output_type": "stream",
     "text": [
      "Loading /home/jupyter/data/diffusion/cdc_userstreams_with_trump_2020-06-17.json...Read 44,256 retweets\n",
      "Discounting self-retweets: ["
     ]
    },
    {
     "name": "stdout",
     "output_type": "stream",
     "text": [
      "4315   2020-04-25 08:02:01-05:00\n",
      "Name: timestamp, dtype: datetime64[ns, EST]\n",
      "Apr 25 08:01:56 (EST)\n"
     ]
    },
    {
     "name": "stderr",
     "output_type": "stream",
     "text": [
      "1,2,3,4,5,6,7,8,10,11,12,13,14,15,] done\n",
      "Plotting.................] Done\n",
      "Writing HTML...  view at: http://epic.tweetsonamap.com/covid19-static-pages/docs/cdc-trump.html\n"
     ]
    }
   ],
   "source": [
    "# Do some testing?\n",
    "# full_run('/home/jupyter/data/www/covid19-static-pages/configs/covid-maps.yaml')\n",
    "\n",
    "x = full_run('/home/jupyter/data/www/covid19-static-pages/configs/cdc-trump.special', query=False, plot=True)\n"
   ]
  },
  {
   "cell_type": "markdown",
   "metadata": {},
   "source": [
    "## Build other datasets for comparisons"
   ]
  },
  {
   "cell_type": "code",
   "execution_count": 15,
   "metadata": {},
   "outputs": [
    {
     "data": {
      "text/html": [
       "<div>\n",
       "<style scoped>\n",
       "    .dataframe tbody tr th:only-of-type {\n",
       "        vertical-align: middle;\n",
       "    }\n",
       "\n",
       "    .dataframe tbody tr th {\n",
       "        vertical-align: top;\n",
       "    }\n",
       "\n",
       "    .dataframe thead th {\n",
       "        text-align: right;\n",
       "    }\n",
       "</style>\n",
       "<table border=\"1\" class=\"dataframe\">\n",
       "  <thead>\n",
       "    <tr style=\"text-align: right;\">\n",
       "      <th></th>\n",
       "      <th>created_at</th>\n",
       "      <th>username</th>\n",
       "      <th>followers_count</th>\n",
       "      <th>source</th>\n",
       "      <th>user_id</th>\n",
       "      <th>user_join_date</th>\n",
       "      <th>followers_count_cumsum</th>\n",
       "      <th>text</th>\n",
       "      <th>top_N</th>\n",
       "      <th>timestamp</th>\n",
       "      <th>globalScaledMarker</th>\n",
       "      <th>time_trump_retweeted</th>\n",
       "      <th>type</th>\n",
       "    </tr>\n",
       "    <tr>\n",
       "      <th>id</th>\n",
       "      <th></th>\n",
       "      <th></th>\n",
       "      <th></th>\n",
       "      <th></th>\n",
       "      <th></th>\n",
       "      <th></th>\n",
       "      <th></th>\n",
       "      <th></th>\n",
       "      <th></th>\n",
       "      <th></th>\n",
       "      <th></th>\n",
       "      <th></th>\n",
       "      <th></th>\n",
       "    </tr>\n",
       "  </thead>\n",
       "  <tbody>\n",
       "    <tr>\n",
       "      <th>1253742258853199872</th>\n",
       "      <td>2020-04-24T17:47:02+00:00</td>\n",
       "      <td>CDCgov</td>\n",
       "      <td>2615841</td>\n",
       "      <td>NaN</td>\n",
       "      <td>None</td>\n",
       "      <td>NaN</td>\n",
       "      <td>2615841</td>\n",
       "      <td>Household cleaners and disinfectants can cause...</td>\n",
       "      <td>1</td>\n",
       "      <td>2020-04-24 12:47:02-05:00</td>\n",
       "      <td>12.93</td>\n",
       "      <td>Apr 25 08:01:56 (EST)</td>\n",
       "      <td>original tweet</td>\n",
       "    </tr>\n",
       "    <tr>\n",
       "      <th>1253742282479673345</th>\n",
       "      <td>2020-04-24T17:47:08+00:00</td>\n",
       "      <td>monitor_PH</td>\n",
       "      <td>1057</td>\n",
       "      <td>&lt;a href=\"https://twitter.com/pubhealth_watch\" ...</td>\n",
       "      <td>869967070984851456</td>\n",
       "      <td>Wed May 31 17:21:27 +0000 2017</td>\n",
       "      <td>2616898</td>\n",
       "      <td>Household cleaners and disinfectants can cause...</td>\n",
       "      <td>1</td>\n",
       "      <td>2020-04-24 12:47:08-05:00</td>\n",
       "      <td>10.00</td>\n",
       "      <td>Apr 25 08:01:56 (EST)</td>\n",
       "      <td>retweet</td>\n",
       "    </tr>\n",
       "  </tbody>\n",
       "</table>\n",
       "</div>"
      ],
      "text/plain": [
       "                                    created_at    username  followers_count  \\\n",
       "id                                                                            \n",
       "1253742258853199872  2020-04-24T17:47:02+00:00      CDCgov          2615841   \n",
       "1253742282479673345  2020-04-24T17:47:08+00:00  monitor_PH             1057   \n",
       "\n",
       "                                                                source  \\\n",
       "id                                                                       \n",
       "1253742258853199872                                                NaN   \n",
       "1253742282479673345  <a href=\"https://twitter.com/pubhealth_watch\" ...   \n",
       "\n",
       "                                user_id                  user_join_date  \\\n",
       "id                                                                        \n",
       "1253742258853199872                None                             NaN   \n",
       "1253742282479673345  869967070984851456  Wed May 31 17:21:27 +0000 2017   \n",
       "\n",
       "                     followers_count_cumsum  \\\n",
       "id                                            \n",
       "1253742258853199872                 2615841   \n",
       "1253742282479673345                 2616898   \n",
       "\n",
       "                                                                  text  top_N  \\\n",
       "id                                                                              \n",
       "1253742258853199872  Household cleaners and disinfectants can cause...      1   \n",
       "1253742282479673345  Household cleaners and disinfectants can cause...      1   \n",
       "\n",
       "                                    timestamp  globalScaledMarker  \\\n",
       "id                                                                  \n",
       "1253742258853199872 2020-04-24 12:47:02-05:00               12.93   \n",
       "1253742282479673345 2020-04-24 12:47:08-05:00               10.00   \n",
       "\n",
       "                      time_trump_retweeted            type  \n",
       "id                                                          \n",
       "1253742258853199872  Apr 25 08:01:56 (EST)  original tweet  \n",
       "1253742282479673345  Apr 25 08:01:56 (EST)         retweet  "
      ]
     },
     "execution_count": 15,
     "metadata": {},
     "output_type": "execute_result"
    }
   ],
   "source": [
    "def int_or_none(val):\n",
    "    try:\n",
    "        return str(int(val))\n",
    "    except:\n",
    "        return None\n",
    "\n",
    "def set_type(val):\n",
    "    if pd.isna(val):\n",
    "        return 'original tweet'\n",
    "    else:\n",
    "        return 'retweet'\n",
    "\n",
    "lookup = dict( [(u['topN'], u['rank']) for u in x['tweets'].values()])\n",
    "\n",
    "y = x['no_self_retweets'].sort_values(by=['top_N','id']).set_index('id')\n",
    "y['time_trump_retweeted'] = y.top_N.apply(lambda n: lookup[n])\n",
    "y['type'] = y.user_id.apply(lambda u: set_type(u))\n",
    "y.user_id = y.user_id.apply(lambda u: int_or_none(u))\n",
    "\n",
    "y.head(2)"
   ]
  },
  {
   "cell_type": "code",
   "execution_count": 16,
   "metadata": {},
   "outputs": [
    {
     "data": {
      "text/html": [
       "<div>\n",
       "<style scoped>\n",
       "    .dataframe tbody tr th:only-of-type {\n",
       "        vertical-align: middle;\n",
       "    }\n",
       "\n",
       "    .dataframe tbody tr th {\n",
       "        vertical-align: top;\n",
       "    }\n",
       "\n",
       "    .dataframe thead th {\n",
       "        text-align: right;\n",
       "    }\n",
       "</style>\n",
       "<table border=\"1\" class=\"dataframe\">\n",
       "  <thead>\n",
       "    <tr style=\"text-align: right;\">\n",
       "      <th></th>\n",
       "      <th>created_at</th>\n",
       "      <th>username</th>\n",
       "      <th>followers_count</th>\n",
       "      <th>source</th>\n",
       "      <th>user_id</th>\n",
       "      <th>user_join_date</th>\n",
       "      <th>text</th>\n",
       "      <th>top_N</th>\n",
       "      <th>time_trump_retweeted</th>\n",
       "      <th>type</th>\n",
       "    </tr>\n",
       "    <tr>\n",
       "      <th>id</th>\n",
       "      <th></th>\n",
       "      <th></th>\n",
       "      <th></th>\n",
       "      <th></th>\n",
       "      <th></th>\n",
       "      <th></th>\n",
       "      <th></th>\n",
       "      <th></th>\n",
       "      <th></th>\n",
       "      <th></th>\n",
       "    </tr>\n",
       "  </thead>\n",
       "  <tbody>\n",
       "    <tr>\n",
       "      <th>1253742258853199872</th>\n",
       "      <td>2020-04-24T17:47:02+00:00</td>\n",
       "      <td>CDCgov</td>\n",
       "      <td>2615841</td>\n",
       "      <td>NaN</td>\n",
       "      <td>None</td>\n",
       "      <td>NaN</td>\n",
       "      <td>Household cleaners and disinfectants can cause...</td>\n",
       "      <td>1</td>\n",
       "      <td>Apr 25 08:01:56 (EST)</td>\n",
       "      <td>original tweet</td>\n",
       "    </tr>\n",
       "    <tr>\n",
       "      <th>1253742282479673345</th>\n",
       "      <td>2020-04-24T17:47:08+00:00</td>\n",
       "      <td>monitor_PH</td>\n",
       "      <td>1057</td>\n",
       "      <td>&lt;a href=\"https://twitter.com/pubhealth_watch\" ...</td>\n",
       "      <td>869967070984851456</td>\n",
       "      <td>Wed May 31 17:21:27 +0000 2017</td>\n",
       "      <td>Household cleaners and disinfectants can cause...</td>\n",
       "      <td>1</td>\n",
       "      <td>Apr 25 08:01:56 (EST)</td>\n",
       "      <td>retweet</td>\n",
       "    </tr>\n",
       "  </tbody>\n",
       "</table>\n",
       "</div>"
      ],
      "text/plain": [
       "                                    created_at    username  followers_count  \\\n",
       "id                                                                            \n",
       "1253742258853199872  2020-04-24T17:47:02+00:00      CDCgov          2615841   \n",
       "1253742282479673345  2020-04-24T17:47:08+00:00  monitor_PH             1057   \n",
       "\n",
       "                                                                source  \\\n",
       "id                                                                       \n",
       "1253742258853199872                                                NaN   \n",
       "1253742282479673345  <a href=\"https://twitter.com/pubhealth_watch\" ...   \n",
       "\n",
       "                                user_id                  user_join_date  \\\n",
       "id                                                                        \n",
       "1253742258853199872                None                             NaN   \n",
       "1253742282479673345  869967070984851456  Wed May 31 17:21:27 +0000 2017   \n",
       "\n",
       "                                                                  text  top_N  \\\n",
       "id                                                                              \n",
       "1253742258853199872  Household cleaners and disinfectants can cause...      1   \n",
       "1253742282479673345  Household cleaners and disinfectants can cause...      1   \n",
       "\n",
       "                      time_trump_retweeted            type  \n",
       "id                                                          \n",
       "1253742258853199872  Apr 25 08:01:56 (EST)  original tweet  \n",
       "1253742282479673345  Apr 25 08:01:56 (EST)         retweet  "
      ]
     },
     "execution_count": 16,
     "metadata": {},
     "output_type": "execute_result"
    }
   ],
   "source": [
    "# Okay, ready to save some data...\n",
    "complete_dataframe = pd.DataFrame(y[['created_at','username','followers_count','source','user_id','user_join_date','text','top_N','time_trump_retweeted','type']])\n",
    "complete_dataframe.to_csv(open('cdc_retweeted_by_trump.csv','w'))\n",
    "complete_dataframe.head(2)"
   ]
  },
  {
   "cell_type": "markdown",
   "metadata": {},
   "source": [
    "# Part II: Do the Stream Comparisons for SRC and % Similar "
   ]
  },
  {
   "cell_type": "code",
   "execution_count": 17,
   "metadata": {},
   "outputs": [],
   "source": [
    "from scipy.stats import spearmanr\n",
    "from collections import Counter"
   ]
  },
  {
   "cell_type": "code",
   "execution_count": 18,
   "metadata": {},
   "outputs": [],
   "source": [
    "#Get our keys\n",
    "TRUMP_RETWEET_TIME_KEYS = sorted(set(complete_dataframe.time_trump_retweeted))\n",
    "TIME_TRUMP_RETWEETED_BLEACH = pd.Timestamp(\"20200425T13:01:56Z\") #This is 5 seconds before idontdonald"
   ]
  },
  {
   "cell_type": "code",
   "execution_count": 22,
   "metadata": {},
   "outputs": [],
   "source": [
    "def get_retweets_after_trump(df, window=1, debug=False):\n",
    "    \"\"\"\n",
    "        Returns a dictionary keyed by number (corresponding to the Trump KeyS) with dataframes as values of all the retweets of that tweet.\n",
    "    \"\"\"\n",
    "    retweets_after_trump = {}\n",
    "\n",
    "    for trumpLabel, retweets in df.groupby('time_trump_retweeted'):\n",
    "        retweets = retweets.sort_values(by='created_at').reindex()\n",
    "        retweets.created_at = retweets.created_at.apply(pd.Timestamp)\n",
    "        \n",
    "        index_of_trump_retweet = retweets[retweets.username == 'realDonaldTrump'].index\n",
    "\n",
    "        #The tweet he deleted.  Obnoxious we have to do this.\n",
    "        if trumpLabel==TRUMP_RETWEET_TIME_KEYS[2]:\n",
    "            \n",
    "            trumpTweetTime = TIME_TRUMP_RETWEETED_BLEACH\n",
    "            \n",
    "        elif index_of_trump_retweet.any() > 0:\n",
    "            \n",
    "            tweet = retweets.loc[min(index_of_trump_retweet)]\n",
    "            trumpTweetTime = tweet.created_at\n",
    "            \n",
    "        if debug: \n",
    "            print(trumpTweetTime)\n",
    "\n",
    "        max_time = trumpTweetTime + pd.Timedelta(hours=window)\n",
    "        \n",
    "        if debug: \n",
    "            print(\"Tweet TrumpLabel: {}; \".format(trumpLabel), end=\"\")\n",
    "            print('@realDonaldTrump retweeted at '+ str( trumpTweetTime))\n",
    "\n",
    "\n",
    "        in_window = retweets[(retweets.created_at > trumpTweetTime ) & (retweets.created_at <= max_time)]\n",
    "        if debug: \n",
    "                print(str(len(in_window)) + \" retweets in {} hour(s) after Trump\".format(window)+\"\\n\")\n",
    "        \n",
    "        retweets_after_trump[trumpLabel] = pd.DataFrame.copy(in_window)\n",
    "        retweets_after_trump[trumpLabel]['timeSinceTrump'] = (retweets_after_trump[trumpLabel].created_at - trumpTweetTime)\n",
    "            \n",
    "    # How many tweets do users retweet?\n",
    "    all_users = []\n",
    "    all_sources = []\n",
    "    for k in retweets_after_trump.keys():\n",
    "        all_users   += list(retweets_after_trump[k].user_id)\n",
    "        all_sources += list(retweets_after_trump[k].source)\n",
    "    source_counts = Counter(all_sources)\n",
    "    user_counts   = Counter(all_users)\n",
    "            \n",
    "    return [retweets_after_trump, source_counts, user_counts]\n",
    "\n",
    "\n",
    "def calculate_similarity_of_tweeters_in_two_streams(streamA, streamB):\n",
    "    \"\"\"\n",
    "        Returns the percentage of users that present in both streams\n",
    "    \"\"\"\n",
    "    return len( set(streamA.user_id) & set(streamB.user_id) ) / min(len(streamA),len(streamB) )* 100\n",
    "\n",
    "def rank_twitterers(streamA, streamB):\n",
    "    \"\"\"\n",
    "    Returns dataframe for plotting\n",
    "    \"\"\"\n",
    "    \n",
    "    users = set(streamA.user_id) & set(streamB.user_id)\n",
    "    \n",
    "    p_similar = calculate_similarity_of_tweeters_in_two_streams(streamA,streamB);\n",
    "    \n",
    "#     print(\"The % similar is: {:.2f} with {} users in both streams\".format(p_similar, len(users)))\n",
    "\n",
    "    to_return = []\n",
    "\n",
    "    for u in list(users):\n",
    "        \n",
    "        usernameA = streamA[streamA.user_id==u].username.values[0]\n",
    "        usernameB = streamA[streamA.user_id==u].username.values[0]\n",
    "        \n",
    "        if usernameA == usernameB:\n",
    "            username = usernameA\n",
    "        else:\n",
    "            username = usernameA + \" | \" + usernameB\n",
    "            \n",
    "        sourceA = streamA[streamA.user_id==u].source.values[0]\n",
    "        sourceB = streamB[streamB.user_id==u].source.values[0]\n",
    "\n",
    "        if sourceA == sourceB:\n",
    "            source = sourceA\n",
    "        else:\n",
    "            source = sourceA + \" | \" + sourceB\n",
    "        \n",
    "        to_return.append(\n",
    "            {'user_id':u, \n",
    "             'username': username,\n",
    "             'source' : source,\n",
    "             'rankInA':streamA[streamA.user_id==u].timeSinceTrump.values[0],\n",
    "             'rankInB':streamB[streamB.user_id==u].timeSinceTrump.values[0]})\n",
    "\n",
    "    thisDF = pd.DataFrame(to_return)\n",
    "    sr = spearmanr(thisDF.rankInA, thisDF.rankInB)\n",
    "\n",
    "    return thisDF, sr, p_similar"
   ]
  },
  {
   "cell_type": "code",
   "execution_count": 23,
   "metadata": {},
   "outputs": [],
   "source": [
    "COLORS = plotly.colors.cyclical.Edge\n",
    "def hoverTemplate(row):\n",
    "    return row.username + \": \" + row.source\n",
    "\n",
    "def make_plot(df2, user_counts):\n",
    "    \n",
    "    df2['counts'] = df2.user_id.apply(lambda x: user_counts[x])\n",
    "        \n",
    "    fig = go.Figure()\n",
    "\n",
    "    for count, rts in df2.groupby('counts'):\n",
    "        if count < 17:\n",
    "            fig.add_trace(go.Scattergl(\n",
    "                name = 'Retweeted {} tweets'.format(count),\n",
    "                x    = rts.rankInA.apply(lambda x: x.total_seconds()),\n",
    "                y    = rts.rankInB.apply(lambda x: x.total_seconds()), \n",
    "                mode = 'markers',\n",
    "                marker = dict(\n",
    "                    size  = 8,\n",
    "                    color = COLORS[count-1],\n",
    "                    opacity = 1\n",
    "                ),\n",
    "                hovertemplate ='%{text}',\n",
    "                text = rts.apply(lambda row: hoverTemplate(row), axis=1),\n",
    "                showlegend = True\n",
    "            ))\n",
    "\n",
    "    fig.update_layout(\n",
    "        autosize=False,\n",
    "        width=800,\n",
    "        height=600,\n",
    "        margin=dict(\n",
    "            t=50,r=50,l=1,b=1\n",
    "        ),\n",
    "        legend=dict(\n",
    "            x=1,\n",
    "            y=1,\n",
    "            traceorder=\"normal\",\n",
    "            font=dict(\n",
    "                family=\"sans-serif\",\n",
    "                size=12,\n",
    "                color=\"black\"\n",
    "            )),\n",
    "        title=\"Trump's Retweet at {} vs Retweet at {} \\n ({},{})\".format(A,B,\n",
    "                                                                        TRUMP_RETWEET_TIME_KEYS.index(A),\n",
    "                                                                        TRUMP_RETWEET_TIME_KEYS.index(B)),\n",
    "        xaxis_title=\"Seconds since Trump Retweeted at #{}\".format(A),\n",
    "        yaxis_title=\"Seconds since Trump Retweeted at #{}\".format(B))\n",
    "    return fig"
   ]
  },
  {
   "cell_type": "code",
   "execution_count": 24,
   "metadata": {},
   "outputs": [
    {
     "name": "stdout",
     "output_type": "stream",
     "text": [
      "The % similar is: 73.95 with 491 users in both streams\n",
      "SpearmanrResult(correlation=0.9616196930282267, pvalue=8.566916827808671e-277)\n"
     ]
    },
    {
     "data": {
      "application/vnd.plotly.v1+json": {
       "config": {
        "plotlyServerURL": "https://plot.ly"
       },
       "data": [
        {
         "hovertemplate": "%{text}",
         "marker": {
          "color": "#3d019d",
          "opacity": 1,
          "size": 8
         },
         "mode": "markers",
         "name": "Retweeted 2 tweets",
         "showlegend": true,
         "text": [
          "RealMiamiEstate: <a href=\"http://twitter.com/download/android\" rel=\"nofollow\">Twitter for Android</a>",
          "reidmt1: <a href=\"http://twitter.com/#!/download/ipad\" rel=\"nofollow\">Twitter for iPad</a>",
          "WSCP1: <a href=\"http://twitter.com/download/iphone\" rel=\"nofollow\">Twitter for iPhone</a>",
          "AnnieGruber1: <a href=\"http://twitter.com/download/iphone\" rel=\"nofollow\">Twitter for iPhone</a>",
          "TracyPrichard2: <a href=\"http://twitter.com/download/android\" rel=\"nofollow\">Twitter for Android</a>",
          "H2211C: <a href=\"http://twitter.com/download/iphone\" rel=\"nofollow\">Twitter for iPhone</a>"
         ],
         "type": "scattergl",
         "x": [
          829,
          115,
          446,
          121,
          150,
          3214
         ],
         "y": [
          781,
          114,
          409,
          95,
          133,
          3167
         ]
        },
        {
         "hovertemplate": "%{text}",
         "marker": {
          "color": "#3810dc",
          "opacity": 1,
          "size": 8
         },
         "mode": "markers",
         "name": "Retweeted 3 tweets",
         "showlegend": true,
         "text": [
          "HappenShitDoes: <a href=\"http://twitter.com/download/android\" rel=\"nofollow\">Twitter for Android</a>",
          "solomon_ann: <a href=\"http://twitter.com/download/android\" rel=\"nofollow\">Twitter for Android</a>",
          "hayproudofu: <a href=\"http://twitter.com/download/iphone\" rel=\"nofollow\">Twitter for iPhone</a>",
          "DogMomOfFour: <a href=\"http://twitter.com/download/iphone\" rel=\"nofollow\">Twitter for iPhone</a>",
          "TracyNovak72: <a href=\"http://twitter.com/download/iphone\" rel=\"nofollow\">Twitter for iPhone</a>",
          "tadams1234bg: <a href=\"http://twitter.com/download/android\" rel=\"nofollow\">Twitter for Android</a>",
          "tobie132: <a href=\"http://twitter.com/download/android\" rel=\"nofollow\">Twitter for Android</a>",
          "GlennRo92133357: <a href=\"https://mobile.twitter.com\" rel=\"nofollow\">Twitter Web App</a>",
          "TrumpFo: <a href=\"http://twitter.com/download/android\" rel=\"nofollow\">Twitter for Android</a>",
          "BelvuiaB: <a href=\"http://twitter.com/download/iphone\" rel=\"nofollow\">Twitter for iPhone</a>",
          "barel_galit: <a href=\"http://twitter.com/download/iphone\" rel=\"nofollow\">Twitter for iPhone</a>",
          "killer_designer: <a href=\"http://twitter.com/download/android\" rel=\"nofollow\">Twitter for Android</a>",
          "Jessica59266951: <a href=\"http://twitter.com/download/android\" rel=\"nofollow\">Twitter for Android</a>",
          "MichaelJFarina: <a href=\"http://twitter.com/download/iphone\" rel=\"nofollow\">Twitter for iPhone</a>",
          "MGY_B: <a href=\"https://mobile.twitter.com\" rel=\"nofollow\">Twitter Web App</a>"
         ],
         "type": "scattergl",
         "x": [
          206,
          127,
          157,
          108,
          653,
          350,
          224,
          2299,
          138,
          1045,
          3189,
          178,
          172,
          120,
          198
         ],
         "y": [
          191,
          104,
          110,
          97,
          603,
          343,
          107,
          2269,
          89,
          1125,
          3132,
          133,
          126,
          96,
          146
         ]
        },
        {
         "hovertemplate": "%{text}",
         "marker": {
          "color": "#2d47f9",
          "opacity": 1,
          "size": 8
         },
         "mode": "markers",
         "name": "Retweeted 4 tweets",
         "showlegend": true,
         "text": [
          "jhansuzan: <a href=\"http://twitter.com/download/iphone\" rel=\"nofollow\">Twitter for iPhone</a>",
          "Tochukw25816012: <a href=\"http://twitter.com/download/android\" rel=\"nofollow\">Twitter for Android</a>",
          "WRAUER: <a href=\"http://twitter.com/download/iphone\" rel=\"nofollow\">Twitter for iPhone</a>",
          "dmuc93: <a href=\"http://twitter.com/download/iphone\" rel=\"nofollow\">Twitter for iPhone</a>",
          "misstozak: <a href=\"http://twitter.com/download/android\" rel=\"nofollow\">Twitter for Android</a>",
          "art_vermette: <a href=\"http://twitter.com/#!/download/ipad\" rel=\"nofollow\">Twitter for iPad</a>",
          "KellyWo37712938: <a href=\"http://twitter.com/download/android\" rel=\"nofollow\">Twitter for Android</a>",
          "welcome24eva: <a href=\"http://twitter.com/download/iphone\" rel=\"nofollow\">Twitter for iPhone</a>",
          "Kofi_Bartels: <a href=\"http://twitter.com/download/iphone\" rel=\"nofollow\">Twitter for iPhone</a>",
          "Alybrit54: <a href=\"http://twitter.com/download/iphone\" rel=\"nofollow\">Twitter for iPhone</a>",
          "stacykarma1: <a href=\"http://twitter.com/download/iphone\" rel=\"nofollow\">Twitter for iPhone</a>",
          "rhoadhard: <a href=\"https://mobile.twitter.com\" rel=\"nofollow\">Twitter Web App</a>",
          "PhilManess3: <a href=\"http://twitter.com/download/android\" rel=\"nofollow\">Twitter for Android</a>",
          "Kat4TRUMP: <a href=\"http://twitter.com/download/android\" rel=\"nofollow\">Twitter for Android</a>"
         ],
         "type": "scattergl",
         "x": [
          2714,
          505,
          404,
          121,
          133,
          308,
          254,
          88,
          1404,
          214,
          227,
          269,
          340,
          196
         ],
         "y": [
          2762,
          241,
          350,
          22,
          85,
          367,
          206,
          83,
          1356,
          170,
          90,
          214,
          271,
          135
         ]
        },
        {
         "hovertemplate": "%{text}",
         "marker": {
          "color": "#2593ff",
          "opacity": 1,
          "size": 8
         },
         "mode": "markers",
         "name": "Retweeted 5 tweets",
         "showlegend": true,
         "text": [
          "TrumpsSquad: <a href=\"http://twitter.com/download/iphone\" rel=\"nofollow\">Twitter for iPhone</a>",
          "Epahlee: <a href=\"http://twitter.com/download/android\" rel=\"nofollow\">Twitter for Android</a>",
          "michael_szumega: <a href=\"http://twitter.com/#!/download/ipad\" rel=\"nofollow\">Twitter for iPad</a>",
          "jaebbejmejwejie: <a href=\"http://twitter.com/download/android\" rel=\"nofollow\">Twitter for Android</a>",
          "TheCape1961: <a href=\"http://twitter.com/download/iphone\" rel=\"nofollow\">Twitter for iPhone</a>",
          "PAMCLAUGHLIN2: <a href=\"http://twitter.com/download/iphone\" rel=\"nofollow\">Twitter for iPhone</a>",
          "BernyTx: <a href=\"http://twitter.com/download/android\" rel=\"nofollow\">Twitter for Android</a>",
          "elysnowangel: <a href=\"http://twitter.com/#!/download/ipad\" rel=\"nofollow\">Twitter for iPad</a>",
          "AmericanGal_69: <a href=\"http://twitter.com/download/android\" rel=\"nofollow\">Twitter for Android</a>",
          "Reggio_Inspired: <a href=\"http://twitter.com/download/iphone\" rel=\"nofollow\">Twitter for iPhone</a>",
          "dachapman4: <a href=\"http://twitter.com/download/iphone\" rel=\"nofollow\">Twitter for iPhone</a>",
          "debra_dunmire: <a href=\"http://twitter.com/download/iphone\" rel=\"nofollow\">Twitter for iPhone</a>",
          "jimcuthbert_: <a href=\"https://mobile.twitter.com\" rel=\"nofollow\">Twitter Web App</a>"
         ],
         "type": "scattergl",
         "x": [
          156,
          308,
          210,
          185,
          998,
          103,
          115,
          463,
          340,
          555,
          1424,
          152,
          791
         ],
         "y": [
          107,
          281,
          927,
          184,
          965,
          116,
          98,
          401,
          295,
          528,
          1269,
          103,
          759
         ]
        },
        {
         "hovertemplate": "%{text}",
         "marker": {
          "color": "#2adef6",
          "opacity": 1,
          "size": 8
         },
         "mode": "markers",
         "name": "Retweeted 6 tweets",
         "showlegend": true,
         "text": [
          "tjlinehan: <a href=\"http://twitter.com/download/android\" rel=\"nofollow\">Twitter for Android</a>",
          "andrea58532317: <a href=\"http://twitter.com/download/iphone\" rel=\"nofollow\">Twitter for iPhone</a>",
          "dawnegray3: <a href=\"http://twitter.com/download/android\" rel=\"nofollow\">Twitter for Android</a>",
          "TrumpFor2024: <a href=\"http://twitter.com/download/iphone\" rel=\"nofollow\">Twitter for iPhone</a>",
          "ginanotjenna17: <a href=\"http://twitter.com/download/iphone\" rel=\"nofollow\">Twitter for iPhone</a>",
          "tankable: <a href=\"http://twitter.com/#!/download/ipad\" rel=\"nofollow\">Twitter for iPad</a>",
          "Rebazhin: <a href=\"http://twitter.com/#!/download/ipad\" rel=\"nofollow\">Twitter for iPad</a>",
          "PRheydt: <a href=\"https://mobile.twitter.com\" rel=\"nofollow\">Twitter Web App</a>",
          "csava247: <a href=\"http://twitter.com/download/iphone\" rel=\"nofollow\">Twitter for iPhone</a>",
          "BikerSkinny: <a href=\"http://twitter.com/download/android\" rel=\"nofollow\">Twitter for Android</a>",
          "MaryLar62027107: <a href=\"http://twitter.com/download/iphone\" rel=\"nofollow\">Twitter for iPhone</a>",
          "SarahRosie5: <a href=\"http://twitter.com/download/android\" rel=\"nofollow\">Twitter for Android</a>",
          "thmiv: <a href=\"http://twitter.com/download/iphone\" rel=\"nofollow\">Twitter for iPhone</a>",
          "Saddlebags6969: <a href=\"http://twitter.com/download/android\" rel=\"nofollow\">Twitter for Android</a>",
          "PatrickTRooney: <a href=\"http://twitter.com/download/iphone\" rel=\"nofollow\">Twitter for iPhone</a>",
          "rick74arnold: <a href=\"http://twitter.com/download/iphone\" rel=\"nofollow\">Twitter for iPhone</a>",
          "Rosa49680894: <a href=\"https://mobile.twitter.com\" rel=\"nofollow\">Twitter Web App</a>",
          "William83189354: <a href=\"http://twitter.com/download/iphone\" rel=\"nofollow\">Twitter for iPhone</a>",
          "Cheri_Kentucky: <a href=\"http://twitter.com/download/iphone\" rel=\"nofollow\">Twitter for iPhone</a>",
          "bonnie66842444: <a href=\"http://twitter.com/#!/download/ipad\" rel=\"nofollow\">Twitter for iPad</a>",
          "GurupadaDbnt: <a href=\"http://twitter.com/download/android\" rel=\"nofollow\">Twitter for Android</a>",
          "idlegigi: <a href=\"http://twitter.com/download/iphone\" rel=\"nofollow\">Twitter for iPhone</a>",
          "atlprinter: <a href=\"http://twitter.com/download/android\" rel=\"nofollow\">Twitter for Android</a>",
          "CherylS13478522: <a href=\"http://twitter.com/download/iphone\" rel=\"nofollow\">Twitter for iPhone</a>",
          "carolou87: <a href=\"http://twitter.com/download/iphone\" rel=\"nofollow\">Twitter for iPhone</a>"
         ],
         "type": "scattergl",
         "x": [
          2552,
          126,
          135,
          220,
          156,
          1431,
          96,
          1326,
          167,
          1039,
          425,
          177,
          230,
          419,
          171,
          166,
          324,
          93,
          116,
          2751,
          93,
          355,
          168,
          1452,
          1260
         ],
         "y": [
          2462,
          221,
          251,
          170,
          112,
          1398,
          94,
          1283,
          115,
          976,
          550,
          126,
          184,
          351,
          123,
          116,
          338,
          43,
          102,
          2560,
          90,
          183,
          136,
          1399,
          1229
         ]
        },
        {
         "hovertemplate": "%{text}",
         "marker": {
          "color": "#60fdfa",
          "opacity": 1,
          "size": 8
         },
         "mode": "markers",
         "name": "Retweeted 7 tweets",
         "showlegend": true,
         "text": [
          "pwhitt43: <a href=\"http://twitter.com/download/android\" rel=\"nofollow\">Twitter for Android</a>",
          "imshivmgoyal: <a href=\"http://twitter.com/download/android\" rel=\"nofollow\">Twitter for Android</a>",
          "WSchlittenhart: <a href=\"http://twitter.com/download/iphone\" rel=\"nofollow\">Twitter for iPhone</a>",
          "joemhhi: <a href=\"http://twitter.com/#!/download/ipad\" rel=\"nofollow\">Twitter for iPad</a>",
          "Favourjacki: <a href=\"http://twitter.com/download/android\" rel=\"nofollow\">Twitter for Android</a>",
          "LLViola: <a href=\"http://twitter.com/download/iphone\" rel=\"nofollow\">Twitter for iPhone</a>",
          "RicardoZurdo: <a href=\"http://twitter.com/download/android\" rel=\"nofollow\">Twitter for Android</a>",
          "jjraegirl: <a href=\"http://twitter.com/download/iphone\" rel=\"nofollow\">Twitter for iPhone</a>",
          "PowerNation22: <a href=\"http://twitter.com/download/iphone\" rel=\"nofollow\">Twitter for iPhone</a>",
          "fwilliams17: <a href=\"http://twitter.com/download/iphone\" rel=\"nofollow\">Twitter for iPhone</a>",
          "DeaRiley: <a href=\"http://twitter.com/download/iphone\" rel=\"nofollow\">Twitter for iPhone</a>",
          "JaniceMontalto: <a href=\"https://mobile.twitter.com\" rel=\"nofollow\">Twitter Web App</a>",
          "MelLovesJesus: <a href=\"http://twitter.com/download/iphone\" rel=\"nofollow\">Twitter for iPhone</a>",
          "KellyFria: <a href=\"http://twitter.com/download/iphone\" rel=\"nofollow\">Twitter for iPhone</a>",
          "Birder511: <a href=\"http://twitter.com/download/android\" rel=\"nofollow\">Twitter for Android</a>",
          "aranom12: <a href=\"http://twitter.com/download/iphone\" rel=\"nofollow\">Twitter for iPhone</a>",
          "TomFarr1961: <a href=\"https://mobile.twitter.com\" rel=\"nofollow\">Twitter Web App</a>",
          "cricket1378: <a href=\"http://twitter.com/download/android\" rel=\"nofollow\">Twitter for Android</a>",
          "RRogerCarpenter: <a href=\"http://twitter.com/download/iphone\" rel=\"nofollow\">Twitter for iPhone</a>",
          "William_Leon78: <a href=\"http://twitter.com/download/android\" rel=\"nofollow\">Twitter for Android</a>",
          "MatthewStover7: <a href=\"http://twitter.com/download/android\" rel=\"nofollow\">Twitter for Android</a>",
          "Laflafouha: <a href=\"http://twitter.com/download/iphone\" rel=\"nofollow\">Twitter for iPhone</a>",
          "Katecar84611017: <a href=\"http://twitter.com/#!/download/ipad\" rel=\"nofollow\">Twitter for iPad</a>",
          "smnewmark_: <a href=\"http://twitter.com/download/iphone\" rel=\"nofollow\">Twitter for iPhone</a>",
          "Sumsky2: <a href=\"http://twitter.com/download/iphone\" rel=\"nofollow\">Twitter for iPhone</a>",
          "titcanada: <a href=\"http://twitter.com/download/android\" rel=\"nofollow\">Twitter for Android</a>",
          "wildwest1900: <a href=\"http://twitter.com/download/android\" rel=\"nofollow\">Twitter for Android</a>",
          "Iworknightshift: <a href=\"https://mobile.twitter.com\" rel=\"nofollow\">Twitter Web App</a>",
          "JenWisconsin: <a href=\"http://twitter.com/download/android\" rel=\"nofollow\">Twitter for Android</a>",
          "Kimbermac2: <a href=\"http://twitter.com/download/android\" rel=\"nofollow\">Twitter for Android</a>",
          "BredlauMary: <a href=\"https://mobile.twitter.com\" rel=\"nofollow\">Twitter Web App</a>",
          "bill7405: <a href=\"https://mobile.twitter.com\" rel=\"nofollow\">Twitter Web App</a>",
          "princesssofpwr: <a href=\"http://twitter.com/download/iphone\" rel=\"nofollow\">Twitter for iPhone</a>"
         ],
         "type": "scattergl",
         "x": [
          367,
          290,
          107,
          217,
          100,
          3566,
          222,
          1921,
          2347,
          783,
          1920,
          2363,
          615,
          2042,
          444,
          2757,
          1150,
          2433,
          141,
          1206,
          438,
          2816,
          662,
          112,
          474,
          668,
          92,
          2131,
          770,
          620,
          3172,
          3493,
          2485
         ],
         "y": [
          192,
          242,
          111,
          165,
          95,
          3517,
          178,
          1871,
          2302,
          677,
          1876,
          2305,
          567,
          2008,
          392,
          2705,
          1095,
          2383,
          95,
          1183,
          442,
          2515,
          615,
          98,
          425,
          106,
          82,
          2086,
          720,
          516,
          3124,
          3444,
          2423
         ]
        },
        {
         "hovertemplate": "%{text}",
         "marker": {
          "color": "#aefdff",
          "opacity": 1,
          "size": 8
         },
         "mode": "markers",
         "name": "Retweeted 8 tweets",
         "showlegend": true,
         "text": [
          "GeorgiaBoy4Real: <a href=\"https://mobile.twitter.com\" rel=\"nofollow\">Twitter Web App</a>",
          "Auburngirlx: <a href=\"http://twitter.com\" rel=\"nofollow\">Twitter Web Client</a>",
          "Rolandvanking: <a href=\"https://mobile.twitter.com\" rel=\"nofollow\">Twitter Web App</a>",
          "Carol56488068: <a href=\"http://twitter.com/download/android\" rel=\"nofollow\">Twitter for Android</a>",
          "KZemski: <a href=\"http://twitter.com/download/android\" rel=\"nofollow\">Twitter for Android</a>",
          "DeanRob88631190: <a href=\"https://mobile.twitter.com\" rel=\"nofollow\">Twitter Web App</a>",
          "DebbieKiwiblack: <a href=\"https://mobile.twitter.com\" rel=\"nofollow\">Twitter Web App</a>",
          "AnaBergeron1: <a href=\"http://twitter.com/download/iphone\" rel=\"nofollow\">Twitter for iPhone</a>",
          "DaveEverlasting: <a href=\"http://twitter.com/download/iphone\" rel=\"nofollow\">Twitter for iPhone</a>",
          "TroxellLinda: <a href=\"http://twitter.com/download/iphone\" rel=\"nofollow\">Twitter for iPhone</a>",
          "Hasselhoff_III: <a href=\"http://twitter.com/download/iphone\" rel=\"nofollow\">Twitter for iPhone</a>",
          "sergekorits: <a href=\"https://mobile.twitter.com\" rel=\"nofollow\">Twitter Web App</a>",
          "Gigicat3: <a href=\"https://mobile.twitter.com\" rel=\"nofollow\">Twitter Web App</a>",
          "TEHILLAH444: <a href=\"http://twitter.com/download/iphone\" rel=\"nofollow\">Twitter for iPhone</a>",
          "slh2813: <a href=\"http://twitter.com/download/android\" rel=\"nofollow\">Twitter for Android</a>",
          "KahlerSabrina: <a href=\"http://twitter.com/download/android\" rel=\"nofollow\">Twitter for Android</a>",
          "lumezgo77: <a href=\"http://twitter.com/download/android\" rel=\"nofollow\">Twitter for Android</a>",
          "SusaMcKenzieNe1: <a href=\"http://twitter.com/download/iphone\" rel=\"nofollow\">Twitter for iPhone</a>",
          "cmteed: <a href=\"http://twitter.com/download/iphone\" rel=\"nofollow\">Twitter for iPhone</a>",
          "MinMtwit: <a href=\"http://twitter.com/download/android\" rel=\"nofollow\">Twitter for Android</a>",
          "jdkfkfl1: <a href=\"http://twitter.com/download/android\" rel=\"nofollow\">Twitter for Android</a>",
          "SYMMETRY_11: <a href=\"https://mobile.twitter.com\" rel=\"nofollow\">Twitter Web App</a>",
          "fedagentmark: <a href=\"http://twitter.com/#!/download/ipad\" rel=\"nofollow\">Twitter for iPad</a>",
          "Henry_4570: <a href=\"http://twitter.com/download/android\" rel=\"nofollow\">Twitter for Android</a>",
          "jimtek86: <a href=\"http://twitter.com/download/android\" rel=\"nofollow\">Twitter for Android</a>",
          "BudithiRaman: <a href=\"http://twitter.com/download/android\" rel=\"nofollow\">Twitter for Android</a>",
          "ConservativeGM: <a href=\"http://twitter.com/download/android\" rel=\"nofollow\">Twitter for Android</a>",
          "TwWorthy: <a href=\"http://twitter.com/download/android\" rel=\"nofollow\">Twitter for Android</a>",
          "graydeadzombie: <a href=\"http://twitter.com/download/android\" rel=\"nofollow\">Twitter for Android</a>",
          "KeithShake: <a href=\"http://twitter.com/download/iphone\" rel=\"nofollow\">Twitter for iPhone</a>",
          "ChunFanTWJ: <a href=\"http://twitter.com/download/iphone\" rel=\"nofollow\">Twitter for iPhone</a>",
          "MIKEM_LINY: <a href=\"http://twitter.com/download/android\" rel=\"nofollow\">Twitter for Android</a>",
          "stivers52: <a href=\"http://twitter.com/download/iphone\" rel=\"nofollow\">Twitter for iPhone</a>",
          "LittleDavid55: <a href=\"http://twitter.com/download/iphone\" rel=\"nofollow\">Twitter for iPhone</a>",
          "rometioaquen: <a href=\"http://twitter.com/download/android\" rel=\"nofollow\">Twitter for Android</a>",
          "hey_dani_hey: <a href=\"http://twitter.com/download/iphone\" rel=\"nofollow\">Twitter for iPhone</a>",
          "SandyTRUMP2020: <a href=\"http://twitter.com/download/iphone\" rel=\"nofollow\">Twitter for iPhone</a>",
          "America1776Q: <a href=\"http://twitter.com/download/iphone\" rel=\"nofollow\">Twitter for iPhone</a>",
          "KidukSong: <a href=\"http://twitter.com/download/iphone\" rel=\"nofollow\">Twitter for iPhone</a>",
          "DavidSuarezAvi1: <a href=\"http://twitter.com/download/android\" rel=\"nofollow\">Twitter for Android</a>",
          "mjoaniedickson: <a href=\"http://twitter.com/#!/download/ipad\" rel=\"nofollow\">Twitter for iPad</a>",
          "starrynight620: <a href=\"http://twitter.com/download/iphone\" rel=\"nofollow\">Twitter for iPhone</a>",
          "pgrlegacy: <a href=\"http://twitter.com/download/android\" rel=\"nofollow\">Twitter for Android</a>",
          "lvlvlrd707: <a href=\"http://twitter.com/download/android\" rel=\"nofollow\">Twitter for Android</a>",
          "5mvaldivia2017: <a href=\"http://twitter.com/#!/download/ipad\" rel=\"nofollow\">Twitter for iPad</a>",
          "ShanMirza5: <a href=\"http://twitter.com/download/android\" rel=\"nofollow\">Twitter for Android</a>",
          "GrampTorino: <a href=\"http://twitter.com/download/android\" rel=\"nofollow\">Twitter for Android</a>",
          "trademarkburdo: <a href=\"http://twitter.com/download/iphone\" rel=\"nofollow\">Twitter for iPhone</a>",
          "dhasiv: <a href=\"http://twitter.com/download/iphone\" rel=\"nofollow\">Twitter for iPhone</a>",
          "indictEm: <a href=\"http://twitter.com/download/iphone\" rel=\"nofollow\">Twitter for iPhone</a>",
          "QGraphi: <a href=\"http://twitter.com/download/iphone\" rel=\"nofollow\">Twitter for iPhone</a>",
          "lonestartxMary: <a href=\"http://twitter.com/download/iphone\" rel=\"nofollow\">Twitter for iPhone</a>",
          "LoRosS26: <a href=\"http://twitter.com/download/iphone\" rel=\"nofollow\">Twitter for iPhone</a>",
          "Retlaw1911: <a href=\"https://mobile.twitter.com\" rel=\"nofollow\">Twitter Web App</a>",
          "JamesWr16739404: <a href=\"https://mobile.twitter.com\" rel=\"nofollow\">Twitter Web App</a>",
          "ApstDonald: <a href=\"http://twitter.com/download/iphone\" rel=\"nofollow\">Twitter for iPhone</a>",
          "Hadigee1: <a href=\"https://mobile.twitter.com\" rel=\"nofollow\">Twitter Web App</a>",
          "Merryflower33: <a href=\"https://mobile.twitter.com\" rel=\"nofollow\">Twitter Web App</a>",
          "DennisG60867771: <a href=\"https://mobile.twitter.com\" rel=\"nofollow\">Twitter Web App</a>",
          "TruthWins4ever: <a href=\"http://twitter.com/download/iphone\" rel=\"nofollow\">Twitter for iPhone</a>",
          "jssar: <a href=\"http://twitter.com/#!/download/ipad\" rel=\"nofollow\">Twitter for iPad</a>",
          "EdwardNugent15: <a href=\"http://twitter.com/download/iphone\" rel=\"nofollow\">Twitter for iPhone</a>",
          "ronnuke: <a href=\"http://twitter.com/download/iphone\" rel=\"nofollow\">Twitter for iPhone</a>",
          "BeckiDoll007: <a href=\"http://twitter.com/download/iphone\" rel=\"nofollow\">Twitter for iPhone</a>",
          "DeplorableScot: <a href=\"https://mobile.twitter.com\" rel=\"nofollow\">Twitter Web App</a>",
          "saramangas2004: <a href=\"http://twitter.com/download/iphone\" rel=\"nofollow\">Twitter for iPhone</a>",
          "DorothyPortHope: <a href=\"https://mobile.twitter.com\" rel=\"nofollow\">Twitter Web App</a>",
          "rcanales: <a href=\"http://twitter.com/download/iphone\" rel=\"nofollow\">Twitter for iPhone</a>",
          "Chris86668638: <a href=\"http://twitter.com/download/android\" rel=\"nofollow\">Twitter for Android</a>",
          "Donna__Carol: <a href=\"http://twitter.com/download/iphone\" rel=\"nofollow\">Twitter for iPhone</a>",
          "Anthony00819898: <a href=\"http://twitter.com/download/android\" rel=\"nofollow\">Twitter for Android</a>",
          "Mudblood54: <a href=\"http://twitter.com/download/iphone\" rel=\"nofollow\">Twitter for iPhone</a>",
          "lionsmds: <a href=\"http://twitter.com/download/android\" rel=\"nofollow\">Twitter for Android</a>",
          "GrandmaPatriot2: <a href=\"https://mobile.twitter.com\" rel=\"nofollow\">Twitter Web App</a>"
         ],
         "type": "scattergl",
         "x": [
          2407,
          1272,
          611,
          337,
          322,
          582,
          339,
          894,
          3048,
          118,
          1445,
          3062,
          737,
          104,
          1307,
          491,
          3009,
          783,
          105,
          1549,
          2346,
          2615,
          1421,
          383,
          2168,
          98,
          1579,
          2812,
          681,
          419,
          158,
          517,
          2557,
          1906,
          660,
          753,
          1433,
          1098,
          354,
          974,
          1375,
          2037,
          1629,
          2989,
          93,
          1774,
          62,
          764,
          3311,
          2460,
          1927,
          102,
          2538,
          2664,
          1231,
          145,
          3142,
          3407,
          1241,
          142,
          2548,
          655,
          1797,
          95,
          2063,
          356,
          1789,
          3078,
          3569,
          1579,
          808,
          121,
          3505,
          581
         ],
         "y": [
          2382,
          1602,
          566,
          291,
          259,
          537,
          315,
          843,
          2957,
          93,
          1401,
          3025,
          692,
          101,
          1252,
          438,
          2972,
          734,
          105,
          1504,
          2303,
          2595,
          1377,
          327,
          2130,
          92,
          1529,
          2761,
          624,
          363,
          112,
          468,
          2513,
          1859,
          610,
          710,
          1376,
          1053,
          316,
          982,
          1330,
          1926,
          1585,
          2967,
          89,
          1741,
          17,
          716,
          3267,
          2415,
          1876,
          642,
          2491,
          2586,
          1186,
          101,
          3097,
          3355,
          1189,
          187,
          2513,
          611,
          1742,
          138,
          2015,
          306,
          1699,
          3022,
          3524,
          1534,
          765,
          102,
          3468,
          555
         ]
        },
        {
         "hovertemplate": "%{text}",
         "marker": {
          "color": "#f3f3f1",
          "opacity": 1,
          "size": 8
         },
         "mode": "markers",
         "name": "Retweeted 9 tweets",
         "showlegend": true,
         "text": [
          "duanevotaw: <a href=\"http://twitter.com/download/iphone\" rel=\"nofollow\">Twitter for iPhone</a>",
          "ErinUlshafer: <a href=\"http://twitter.com/download/android\" rel=\"nofollow\">Twitter for Android</a>",
          "scrappytx: <a href=\"http://twitter.com/download/android\" rel=\"nofollow\">Twitter for Android</a>",
          "ScottCarpenterS: <a href=\"https://mobile.twitter.com\" rel=\"nofollow\">Twitter Web App</a>",
          "GowdyBoogaloo: <a href=\"http://twitter.com/download/android\" rel=\"nofollow\">Twitter for Android</a>",
          "MarionSchafter: <a href=\"http://twitter.com/download/android\" rel=\"nofollow\">Twitter for Android</a>",
          "Chrittieg: <a href=\"http://twitter.com/download/iphone\" rel=\"nofollow\">Twitter for iPhone</a>",
          "restart24757062: <a href=\"https://mobile.twitter.com\" rel=\"nofollow\">Twitter Web App</a>",
          "Sherryandpets: <a href=\"http://twitter.com/#!/download/ipad\" rel=\"nofollow\">Twitter for iPad</a>",
          "Dianeecho17: <a href=\"http://twitter.com/download/android\" rel=\"nofollow\">Twitter for Android</a>",
          "PamelaB98884515: <a href=\"http://twitter.com/download/iphone\" rel=\"nofollow\">Twitter for iPhone</a>",
          "GeorgeChisolm3: <a href=\"http://twitter.com/download/android\" rel=\"nofollow\">Twitter for Android</a>",
          "lucky_burgess: <a href=\"https://mobile.twitter.com\" rel=\"nofollow\">Twitter Web App</a>",
          "LauraWilsonGal: <a href=\"http://twitter.com/download/android\" rel=\"nofollow\">Twitter for Android</a>",
          "TiredofBS13: <a href=\"https://mobile.twitter.com\" rel=\"nofollow\">Twitter Web App</a>",
          "WFoxCat: <a href=\"https://mobile.twitter.com\" rel=\"nofollow\">Twitter Web App</a>",
          "u2biker: <a href=\"https://mobile.twitter.com\" rel=\"nofollow\">Twitter Web App</a>",
          "RealMedEmpire: <a href=\"http://twitter.com/download/iphone\" rel=\"nofollow\">Twitter for iPhone</a>",
          "stovetop4yo: <a href=\"http://twitter.com/download/iphone\" rel=\"nofollow\">Twitter for iPhone</a>",
          "thejacibh2: <a href=\"http://twitter.com/download/iphone\" rel=\"nofollow\">Twitter for iPhone</a>",
          "wavmakr1: <a href=\"http://twitter.com/download/iphone\" rel=\"nofollow\">Twitter for iPhone</a>",
          "americanism36: <a href=\"http://twitter.com/download/iphone\" rel=\"nofollow\">Twitter for iPhone</a>",
          "MattDonaldson15: <a href=\"http://twitter.com/download/iphone\" rel=\"nofollow\">Twitter for iPhone</a>",
          "Fed56825: <a href=\"http://twitter.com/download/iphone\" rel=\"nofollow\">Twitter for iPhone</a>",
          "seva4544: <a href=\"http://twitter.com/download/android\" rel=\"nofollow\">Twitter for Android</a>",
          "bugsfbunny: <a href=\"https://mobile.twitter.com\" rel=\"nofollow\">Twitter Web App</a>",
          "rldcarync: <a href=\"http://twitter.com/download/iphone\" rel=\"nofollow\">Twitter for iPhone</a>",
          "Trump_Rocks_US: <a href=\"https://mobile.twitter.com\" rel=\"nofollow\">Twitter Web App</a>",
          "ERGA75: <a href=\"https://mobile.twitter.com\" rel=\"nofollow\">Twitter Web App</a>",
          "Tamralee123: <a href=\"https://mobile.twitter.com\" rel=\"nofollow\">Twitter Web App</a>",
          "orlandomicki: <a href=\"https://about.twitter.com/products/tweetdeck\" rel=\"nofollow\">TweetDeck</a>",
          "g_valtadoros: <a href=\"http://twitter.com/download/iphone\" rel=\"nofollow\">Twitter for iPhone</a>",
          "Pax2Sofie: <a href=\"http://twitter.com/download/iphone\" rel=\"nofollow\">Twitter for iPhone</a>",
          "VickyLynnSulli1: <a href=\"http://twitter.com/download/iphone\" rel=\"nofollow\">Twitter for iPhone</a>",
          "Andrianamik: <a href=\"http://twitter.com/#!/download/ipad\" rel=\"nofollow\">Twitter for iPad</a>",
          "6549lmartin: <a href=\"http://twitter.com/#!/download/ipad\" rel=\"nofollow\">Twitter for iPad</a>",
          "2sweetdad: <a href=\"http://twitter.com/download/android\" rel=\"nofollow\">Twitter for Android</a>",
          "TheocharisHadj5: <a href=\"https://mobile.twitter.com\" rel=\"nofollow\">Twitter Web App</a>",
          "CraigsMegs: <a href=\"http://twitter.com/download/android\" rel=\"nofollow\">Twitter for Android</a>",
          "SongBird4Trump: <a href=\"http://twitter.com/download/android\" rel=\"nofollow\">Twitter for Android</a>",
          "AbdulHai23: <a href=\"https://mobile.twitter.com\" rel=\"nofollow\">Twitter Web App</a>",
          "sanangelotexan: <a href=\"http://twitter.com/download/iphone\" rel=\"nofollow\">Twitter for iPhone</a>",
          "ThedeplorableM: <a href=\"https://mobile.twitter.com\" rel=\"nofollow\">Twitter Web App</a>",
          "psPetePatel7: <a href=\"http://twitter.com/download/iphone\" rel=\"nofollow\">Twitter for iPhone</a>",
          "JohnIQSimeon: <a href=\"http://twitter.com/download/iphone\" rel=\"nofollow\">Twitter for iPhone</a>",
          "Johnkim05416420: <a href=\"https://mobile.twitter.com\" rel=\"nofollow\">Twitter Web App</a>",
          "MerryAnita: <a href=\"http://twitter.com/download/android\" rel=\"nofollow\">Twitter for Android</a>",
          "GMSRepublic: <a href=\"https://mobile.twitter.com\" rel=\"nofollow\">Twitter Web App</a>",
          "FuFubar1: <a href=\"http://twitter.com/download/android\" rel=\"nofollow\">Twitter for Android</a>",
          "soniaerasmus: <a href=\"http://twitter.com/download/android\" rel=\"nofollow\">Twitter for Android</a>",
          "fionataylor999: <a href=\"http://twitter.com/download/android\" rel=\"nofollow\">Twitter for Android</a>",
          "MitziSzemeth: <a href=\"http://twitter.com/download/iphone\" rel=\"nofollow\">Twitter for iPhone</a>",
          "tthseeker: <a href=\"http://twitter.com/download/android\" rel=\"nofollow\">Twitter for Android</a>",
          "bksharp69: <a href=\"http://twitter.com/download/iphone\" rel=\"nofollow\">Twitter for iPhone</a>",
          "alrcats: <a href=\"http://twitter.com/download/iphone\" rel=\"nofollow\">Twitter for iPhone</a>",
          "Jeff70477084: <a href=\"http://twitter.com/download/android\" rel=\"nofollow\">Twitter for Android</a>",
          "LadyG8tor51: <a href=\"http://twitter.com/download/iphone\" rel=\"nofollow\">Twitter for iPhone</a>",
          "sasky1959: <a href=\"http://twitter.com/download/iphone\" rel=\"nofollow\">Twitter for iPhone</a>",
          "LorraineMingri1: <a href=\"http://twitter.com/#!/download/ipad\" rel=\"nofollow\">Twitter for iPad</a>",
          "souljahsingh: <a href=\"http://twitter.com/download/android\" rel=\"nofollow\">Twitter for Android</a>",
          "ChukwuaustinG: <a href=\"http://twitter.com/download/android\" rel=\"nofollow\">Twitter for Android</a>",
          "DawnHunterton: <a href=\"http://twitter.com/download/iphone\" rel=\"nofollow\">Twitter for iPhone</a>",
          "SueSarabia: <a href=\"http://twitter.com/download/android\" rel=\"nofollow\">Twitter for Android</a>",
          "stewonthis1: <a href=\"http://twitter.com/download/iphone\" rel=\"nofollow\">Twitter for iPhone</a>",
          "TrishFricke: <a href=\"http://twitter.com/download/android\" rel=\"nofollow\">Twitter for Android</a>",
          "jocelyncoppock: <a href=\"http://twitter.com/download/iphone\" rel=\"nofollow\">Twitter for iPhone</a>",
          "Roni4488: <a href=\"http://twitter.com/download/android\" rel=\"nofollow\">Twitter for Android</a>",
          "the_staceys: <a href=\"https://mobile.twitter.com\" rel=\"nofollow\">Twitter Web App</a>",
          "caitie1877: <a href=\"http://twitter.com/download/android\" rel=\"nofollow\">Twitter for Android</a>",
          "MikeMusky427: <a href=\"http://twitter.com/download/iphone\" rel=\"nofollow\">Twitter for iPhone</a>",
          "SadiKleida: <a href=\"https://mobile.twitter.com\" rel=\"nofollow\">Twitter Web App</a>",
          "AlexYarber: <a href=\"http://twitter.com/download/iphone\" rel=\"nofollow\">Twitter for iPhone</a>",
          "rrtheis81: <a href=\"https://mobile.twitter.com\" rel=\"nofollow\">Twitter Web App</a>",
          "tony_mazzei: <a href=\"http://twitter.com/download/iphone\" rel=\"nofollow\">Twitter for iPhone</a>",
          "JoyceGlaser: <a href=\"http://twitter.com/#!/download/ipad\" rel=\"nofollow\">Twitter for iPad</a>",
          "ii_shieldwolf: <a href=\"https://mobile.twitter.com\" rel=\"nofollow\">Twitter Web App</a>",
          "agbudeufuoma: <a href=\"http://twitter.com/download/iphone\" rel=\"nofollow\">Twitter for iPhone</a>",
          "ScubaSteve015: <a href=\"http://twitter.com/download/iphone\" rel=\"nofollow\">Twitter for iPhone</a>",
          "MarkMck13926292: <a href=\"http://twitter.com/download/android\" rel=\"nofollow\">Twitter for Android</a>",
          "1Kekster: <a href=\"http://twitter.com/download/iphone\" rel=\"nofollow\">Twitter for iPhone</a>",
          "NanFitzpatrick: <a href=\"https://mobile.twitter.com\" rel=\"nofollow\">Twitter Web App</a>",
          "kranDemirkollu2: <a href=\"https://mobile.twitter.com\" rel=\"nofollow\">Twitter Web App</a>",
          "texasfreedom101: <a href=\"https://mobile.twitter.com\" rel=\"nofollow\">Twitter Web App</a>",
          "gillcolon1158: <a href=\"http://twitter.com/download/iphone\" rel=\"nofollow\">Twitter for iPhone</a>",
          "LuongoRose: <a href=\"http://twitter.com/download/android\" rel=\"nofollow\">Twitter for Android</a>",
          "105267: <a href=\"http://twitter.com/download/iphone\" rel=\"nofollow\">Twitter for iPhone</a>",
          "Lisa4OR1st: <a href=\"http://twitter.com/download/iphone\" rel=\"nofollow\">Twitter for iPhone</a>",
          "linda_mclelland: <a href=\"http://twitter.com/download/android\" rel=\"nofollow\">Twitter for Android</a>",
          "OfficialMuhamm8: <a href=\"https://mobile.twitter.com\" rel=\"nofollow\">Twitter Web App</a>",
          "Brandon55821992: <a href=\"http://twitter.com/download/android\" rel=\"nofollow\">Twitter for Android</a>",
          "Red_PilledMaga: <a href=\"http://twitter.com/download/android\" rel=\"nofollow\">Twitter for Android</a>",
          "Debster234: <a href=\"http://twitter.com/download/iphone\" rel=\"nofollow\">Twitter for iPhone</a>",
          "AndreaMorse56: <a href=\"http://twitter.com/download/iphone\" rel=\"nofollow\">Twitter for iPhone</a>",
          "KathrynFebbrar1: <a href=\"http://twitter.com/download/iphone\" rel=\"nofollow\">Twitter for iPhone</a>",
          "lishih_h: <a href=\"http://twitter.com/download/android\" rel=\"nofollow\">Twitter for Android</a>",
          "jetrotter: <a href=\"http://twitter.com/download/android\" rel=\"nofollow\">Twitter for Android</a>",
          "FeistyGriffin: <a href=\"http://twitter.com/download/iphone\" rel=\"nofollow\">Twitter for iPhone</a>",
          "AutoWagers: <a href=\"http://twitter.com/download/iphone\" rel=\"nofollow\">Twitter for iPhone</a>",
          "JimKuther: <a href=\"https://mobile.twitter.com\" rel=\"nofollow\">Twitter Web App</a>",
          "schexn1: <a href=\"http://twitter.com/download/iphone\" rel=\"nofollow\">Twitter for iPhone</a>",
          "bamanicky: <a href=\"http://twitter.com/download/iphone\" rel=\"nofollow\">Twitter for iPhone</a>",
          "SandersonNoreen: <a href=\"https://mobile.twitter.com\" rel=\"nofollow\">Twitter Web App</a>",
          "gail_bozik: <a href=\"http://twitter.com/download/android\" rel=\"nofollow\">Twitter for Android</a>"
         ],
         "type": "scattergl",
         "x": [
          1430,
          1092,
          2984,
          644,
          963,
          1457,
          579,
          3437,
          2476,
          349,
          461,
          386,
          717,
          1258,
          3116,
          3215,
          2549,
          886,
          1448,
          310,
          1702,
          1612,
          2599,
          2489,
          233,
          443,
          1634,
          411,
          836,
          2841,
          11,
          2371,
          2340,
          2053,
          3444,
          443,
          357,
          640,
          232,
          2178,
          1497,
          1702,
          623,
          651,
          2928,
          2311,
          2706,
          2432,
          949,
          2961,
          669,
          859,
          2699,
          730,
          3198,
          2226,
          103,
          256,
          605,
          1682,
          219,
          2106,
          2535,
          1440,
          705,
          1145,
          1171,
          3271,
          2630,
          1095,
          1647,
          671,
          3024,
          2405,
          1045,
          1432,
          298,
          665,
          2055,
          1057,
          2699,
          692,
          1210,
          1233,
          423,
          1387,
          2474,
          2186,
          1555,
          1044,
          3093,
          370,
          382,
          2788,
          1138,
          15,
          3440,
          554,
          3276,
          2845,
          164,
          353,
          1667
         ],
         "y": [
          1384,
          1035,
          2939,
          601,
          933,
          1405,
          534,
          3392,
          2462,
          316,
          417,
          328,
          669,
          1211,
          3066,
          3205,
          2363,
          836,
          1402,
          264,
          1669,
          1568,
          2563,
          2445,
          185,
          415,
          1586,
          381,
          780,
          2808,
          6,
          2327,
          2312,
          1992,
          3407,
          398,
          311,
          594,
          244,
          2129,
          1452,
          1665,
          573,
          595,
          2880,
          2277,
          2668,
          2387,
          893,
          2923,
          615,
          812,
          2668,
          699,
          3154,
          2190,
          96,
          223,
          545,
          1640,
          178,
          2052,
          2487,
          1384,
          651,
          1092,
          1120,
          3212,
          2586,
          1048,
          1621,
          616,
          2978,
          2362,
          1001,
          1387,
          255,
          620,
          2010,
          1007,
          2669,
          656,
          1166,
          1187,
          370,
          1336,
          2450,
          2151,
          1510,
          991,
          3061,
          322,
          338,
          2728,
          1093,
          2578,
          3393,
          135,
          3232,
          2796,
          88,
          307,
          1616
         ]
        },
        {
         "hovertemplate": "%{text}",
         "marker": {
          "color": "#fffda9",
          "opacity": 1,
          "size": 8
         },
         "mode": "markers",
         "name": "Retweeted 10 tweets",
         "showlegend": true,
         "text": [
          "azoebear11: <a href=\"http://twitter.com/download/iphone\" rel=\"nofollow\">Twitter for iPhone</a>",
          "bzm84413132: <a href=\"http://twitter.com/download/iphone\" rel=\"nofollow\">Twitter for iPhone</a>",
          "caskett2014: <a href=\"http://twitter.com/#!/download/ipad\" rel=\"nofollow\">Twitter for iPad</a>",
          "BobHarr1944: <a href=\"http://twitter.com/download/android\" rel=\"nofollow\">Twitter for Android</a>",
          "autismfamily01: <a href=\"http://twitter.com/download/iphone\" rel=\"nofollow\">Twitter for iPhone</a>",
          "myIZrOpend: <a href=\"http://twitter.com/#!/download/ipad\" rel=\"nofollow\">Twitter for iPad</a>",
          "NHale1776: <a href=\"https://mobile.twitter.com\" rel=\"nofollow\">Twitter Web App</a>",
          "Donna48195033: <a href=\"https://mobile.twitter.com\" rel=\"nofollow\">Twitter Web App</a>",
          "Bob74794984: <a href=\"https://mobile.twitter.com\" rel=\"nofollow\">Twitter Web App</a>",
          "rikyt74: <a href=\"http://twitter.com/download/iphone\" rel=\"nofollow\">Twitter for iPhone</a>",
          "Hiking586: <a href=\"http://twitter.com/#!/download/ipad\" rel=\"nofollow\">Twitter for iPad</a>",
          "Amazinggrace2me: <a href=\"http://twitter.com/#!/download/ipad\" rel=\"nofollow\">Twitter for iPad</a>",
          "DanielThillerup: <a href=\"https://mobile.twitter.com\" rel=\"nofollow\">Twitter Web App</a>",
          "barista_diva: <a href=\"http://twitter.com/download/iphone\" rel=\"nofollow\">Twitter for iPhone</a>",
          "trueDaveThomas: <a href=\"http://twitter.com/download/android\" rel=\"nofollow\">Twitter for Android</a>",
          "KittyCatGranny: <a href=\"http://twitter.com/#!/download/ipad\" rel=\"nofollow\">Twitter for iPad</a>",
          "BDinsio: <a href=\"http://twitter.com/download/android\" rel=\"nofollow\">Twitter for Android</a>",
          "UPMHPM: <a href=\"https://mobile.twitter.com\" rel=\"nofollow\">Twitter Web App</a>",
          "OldhessL: <a href=\"http://twitter.com/download/iphone\" rel=\"nofollow\">Twitter for iPhone</a>",
          "angela88van: <a href=\"http://twitter.com/download/android\" rel=\"nofollow\">Twitter for Android</a>",
          "1Deucer: <a href=\"http://twitter.com/download/iphone\" rel=\"nofollow\">Twitter for iPhone</a>",
          "swirlygal: <a href=\"https://mobile.twitter.com\" rel=\"nofollow\">Twitter Web App</a>",
          "bearhd57: <a href=\"http://twitter.com/download/iphone\" rel=\"nofollow\">Twitter for iPhone</a>",
          "AmericanCuban13: <a href=\"http://twitter.com/#!/download/ipad\" rel=\"nofollow\">Twitter for iPad</a>",
          "LynjohnHouli: <a href=\"http://twitter.com/download/iphone\" rel=\"nofollow\">Twitter for iPhone</a>",
          "Denny59107237: <a href=\"http://twitter.com/download/iphone\" rel=\"nofollow\">Twitter for iPhone</a>",
          "nosteponsnek_1: <a href=\"http://twitter.com/download/android\" rel=\"nofollow\">Twitter for Android</a>",
          "ArchKennedy: <a href=\"http://twitter.com/download/iphone\" rel=\"nofollow\">Twitter for iPhone</a>",
          "Lynnsegura10: <a href=\"http://twitter.com/download/iphone\" rel=\"nofollow\">Twitter for iPhone</a>",
          "Kelly73739605: <a href=\"http://twitter.com/download/iphone\" rel=\"nofollow\">Twitter for iPhone</a>",
          "cmcgover: <a href=\"https://mobile.twitter.com\" rel=\"nofollow\">Twitter Web App</a>",
          "RealKSridharan: <a href=\"http://twitter.com/download/iphone\" rel=\"nofollow\">Twitter for iPhone</a>",
          "Jason23819091: <a href=\"https://mobile.twitter.com\" rel=\"nofollow\">Twitter Web App</a>",
          "KrisBrbr93: <a href=\"http://twitter.com/download/android\" rel=\"nofollow\">Twitter for Android</a>",
          "dwier11111: <a href=\"http://twitter.com/download/iphone\" rel=\"nofollow\">Twitter for iPhone</a>",
          "JamTech65: <a href=\"http://twitter.com/download/iphone\" rel=\"nofollow\">Twitter for iPhone</a>",
          "Writing4Life197: <a href=\"http://twitter.com/download/android\" rel=\"nofollow\">Twitter for Android</a>",
          "realdonaldsays: <a href=\"http://yahoo.com\" rel=\"nofollow\">Real Donald Says</a>",
          "BarbaraZaccai: <a href=\"https://mobile.twitter.com\" rel=\"nofollow\">Twitter Web App</a>",
          "BrendaAnnEstep: <a href=\"http://twitter.com/download/android\" rel=\"nofollow\">Twitter for Android</a>",
          "Smiths4ever: <a href=\"http://twitter.com/download/iphone\" rel=\"nofollow\">Twitter for iPhone</a>",
          "JennieKoo: <a href=\"http://twitter.com/download/android\" rel=\"nofollow\">Twitter for Android</a>",
          "sylvest72655936: <a href=\"https://mobile.twitter.com\" rel=\"nofollow\">Twitter Web App</a>",
          "Sea3monkey: <a href=\"http://twitter.com/download/iphone\" rel=\"nofollow\">Twitter for iPhone</a>",
          "Sal94775674: <a href=\"http://twitter.com/download/iphone\" rel=\"nofollow\">Twitter for iPhone</a>",
          "RaylenePatriot: <a href=\"http://twitter.com/#!/download/ipad\" rel=\"nofollow\">Twitter for iPad</a>",
          "StutsmanTerrie: <a href=\"https://mobile.twitter.com\" rel=\"nofollow\">Twitter Web App</a>",
          "Hawksmom09: <a href=\"http://twitter.com/download/iphone\" rel=\"nofollow\">Twitter for iPhone</a>",
          "imbearclansami: <a href=\"https://mobile.twitter.com\" rel=\"nofollow\">Twitter Web App</a>",
          "ArwannaSaylor: <a href=\"https://mobile.twitter.com\" rel=\"nofollow\">Twitter Web App</a>",
          "Mcinfo1: <a href=\"http://twitter.com/download/iphone\" rel=\"nofollow\">Twitter for iPhone</a>",
          "milothekemosabe: <a href=\"http://twitter.com\" rel=\"nofollow\">Twitter Web Client</a>",
          "SlogicBeth: <a href=\"http://twitter.com/download/iphone\" rel=\"nofollow\">Twitter for iPhone</a>",
          "sangrerayada: <a href=\"http://twitter.com/download/iphone\" rel=\"nofollow\">Twitter for iPhone</a>",
          "schenk1_sws: <a href=\"http://twitter.com/download/android\" rel=\"nofollow\">Twitter for Android</a>",
          "MsMaryBee4Trump: <a href=\"http://twitter.com/download/android\" rel=\"nofollow\">Twitter for Android</a>",
          "alfa673: <a href=\"http://twitter.com/download/iphone\" rel=\"nofollow\">Twitter for iPhone</a>",
          "MSkeens19621: <a href=\"http://twitter.com/download/android\" rel=\"nofollow\">Twitter for Android</a>",
          "Barbara77250226: <a href=\"http://twitter.com/download/android\" rel=\"nofollow\">Twitter for Android</a>",
          "DclareDiane: <a href=\"https://mobile.twitter.com\" rel=\"nofollow\">Twitter Web App</a>",
          "daaydreemer: <a href=\"http://twitter.com/download/iphone\" rel=\"nofollow\">Twitter for iPhone</a>",
          "fastmaro_kicky: <a href=\"http://twitter.com/download/iphone\" rel=\"nofollow\">Twitter for iPhone</a>",
          "Tman2345678998: <a href=\"http://twitter.com/download/iphone\" rel=\"nofollow\">Twitter for iPhone</a>",
          "rthomas937: <a href=\"http://twitter.com/download/android\" rel=\"nofollow\">Twitter for Android</a>",
          "MikeCantarini: <a href=\"http://twitter.com/#!/download/ipad\" rel=\"nofollow\">Twitter for iPad</a>",
          "pyorf: <a href=\"http://twitter.com/download/iphone\" rel=\"nofollow\">Twitter for iPhone</a>",
          "YHahami: <a href=\"http://twitter.com/download/android\" rel=\"nofollow\">Twitter for Android</a>",
          "JUNE1BB: <a href=\"http://twitter.com/download/android\" rel=\"nofollow\">Twitter for Android</a>",
          "repubfan: <a href=\"http://twitter.com/download/iphone\" rel=\"nofollow\">Twitter for iPhone</a>",
          "T_Minus3: <a href=\"http://twitter.com/download/android\" rel=\"nofollow\">Twitter for Android</a>",
          "idawhannadoyou: <a href=\"https://mobile.twitter.com\" rel=\"nofollow\">Twitter Web App</a>",
          "struppa_anthony: <a href=\"http://twitter.com/download/android\" rel=\"nofollow\">Twitter for Android</a>",
          "AbbyLo6: <a href=\"http://twitter.com/download/iphone\" rel=\"nofollow\">Twitter for iPhone</a>",
          "ChrisNoelMills: <a href=\"https://mobile.twitter.com\" rel=\"nofollow\">Twitter Web App</a>",
          "Almac06169397: <a href=\"http://twitter.com/download/iphone\" rel=\"nofollow\">Twitter for iPhone</a>",
          "OhioWomen4Trump: <a href=\"http://twitter.com/download/iphone\" rel=\"nofollow\">Twitter for iPhone</a>",
          "tracey_mcentyre: <a href=\"http://twitter.com/download/iphone\" rel=\"nofollow\">Twitter for iPhone</a>",
          "MaggioMichelle: <a href=\"http://twitter.com/download/iphone\" rel=\"nofollow\">Twitter for iPhone</a>",
          "humlh66: <a href=\"http://twitter.com/download/android\" rel=\"nofollow\">Twitter for Android</a>",
          "BattleTerk: <a href=\"http://twitter.com/download/iphone\" rel=\"nofollow\">Twitter for iPhone</a>",
          "4rd4x4truck: <a href=\"http://twitter.com/download/iphone\" rel=\"nofollow\">Twitter for iPhone</a>",
          "joercrouae: <a href=\"http://twitter.com/download/iphone\" rel=\"nofollow\">Twitter for iPhone</a>",
          "SuzyQtrue: <a href=\"https://mobile.twitter.com\" rel=\"nofollow\">Twitter Web App</a>",
          "kittenkk: <a href=\"http://twitter.com/download/iphone\" rel=\"nofollow\">Twitter for iPhone</a>",
          "ElChristy5: <a href=\"https://mobile.twitter.com\" rel=\"nofollow\">Twitter Web App</a>",
          "DavenpJames: <a href=\"http://twitter.com/download/android\" rel=\"nofollow\">Twitter for Android</a>",
          "Debster2017: <a href=\"http://twitter.com/#!/download/ipad\" rel=\"nofollow\">Twitter for iPad</a>",
          "Jmeryl1: <a href=\"http://twitter.com/download/android\" rel=\"nofollow\">Twitter for Android</a>",
          "TheocharisHadj2: <a href=\"https://mobile.twitter.com\" rel=\"nofollow\">Twitter Web App</a>"
         ],
         "type": "scattergl",
         "x": [
          226,
          1041,
          1827,
          539,
          481,
          3099,
          115,
          1468,
          726,
          3082,
          163,
          1448,
          998,
          562,
          122,
          1165,
          147,
          337,
          515,
          1494,
          599,
          84,
          474,
          313,
          3558,
          1554,
          1031,
          1502,
          105,
          102,
          1376,
          1255,
          831,
          233,
          516,
          2994,
          144,
          6,
          759,
          360,
          143,
          510,
          1103,
          1420,
          2421,
          198,
          710,
          513,
          2986,
          2460,
          3070,
          1137,
          408,
          3077,
          106,
          1224,
          315,
          123,
          422,
          1942,
          931,
          3200,
          87,
          1769,
          425,
          19,
          515,
          1624,
          108,
          11,
          2384,
          139,
          498,
          730,
          202,
          128,
          264,
          1134,
          696,
          1621,
          3218,
          3563,
          1343,
          3307,
          236,
          945,
          1297,
          2675,
          294
         ],
         "y": [
          182,
          994,
          1776,
          496,
          437,
          3053,
          70,
          1408,
          667,
          3034,
          114,
          1394,
          964,
          515,
          177,
          1228,
          94,
          293,
          458,
          1456,
          564,
          273,
          244,
          269,
          3514,
          1501,
          980,
          1468,
          118,
          58,
          1323,
          1210,
          798,
          168,
          472,
          2950,
          100,
          146,
          757,
          342,
          97,
          452,
          1056,
          1372,
          2378,
          174,
          723,
          462,
          2962,
          2425,
          3025,
          1080,
          107,
          3044,
          3080,
          1196,
          288,
          117,
          362,
          1910,
          881,
          3150,
          88,
          1735,
          367,
          74,
          462,
          1603,
          102,
          272,
          2338,
          114,
          453,
          704,
          158,
          103,
          215,
          1089,
          637,
          1577,
          3181,
          3532,
          1327,
          3264,
          90,
          861,
          1259,
          2641,
          247
         ]
        },
        {
         "hovertemplate": "%{text}",
         "marker": {
          "color": "#fafd5b",
          "opacity": 1,
          "size": 8
         },
         "mode": "markers",
         "name": "Retweeted 11 tweets",
         "showlegend": true,
         "text": [
          "1Faithum: <a href=\"http://twitter.com/download/android\" rel=\"nofollow\">Twitter for Android</a>",
          "SkilledServ: <a href=\"http://twitter.com/download/iphone\" rel=\"nofollow\">Twitter for iPhone</a> | <a href=\"http://twitter.com/#!/download/ipad\" rel=\"nofollow\">Twitter for iPad</a>",
          "mothertmaz: <a href=\"https://mobile.twitter.com\" rel=\"nofollow\">Twitter Web App</a>",
          "Sabrina67408695: <a href=\"http://twitter.com/download/android\" rel=\"nofollow\">Twitter for Android</a>",
          "ReneeC2920: <a href=\"http://twitter.com/download/android\" rel=\"nofollow\">Twitter for Android</a>",
          "RedStRising: <a href=\"http://twitter.com/download/android\" rel=\"nofollow\">Twitter for Android</a>",
          "chooarashed: <a href=\"http://twitter.com/download/iphone\" rel=\"nofollow\">Twitter for iPhone</a>",
          "Diverstang: <a href=\"http://twitter.com/download/android\" rel=\"nofollow\">Twitter for Android</a>",
          "Rodger_Bice: <a href=\"http://twitter.com/download/iphone\" rel=\"nofollow\">Twitter for iPhone</a>",
          "LisaOvercomer7: <a href=\"http://twitter.com/download/iphone\" rel=\"nofollow\">Twitter for iPhone</a>",
          "dmcclintock4117: <a href=\"http://twitter.com/download/iphone\" rel=\"nofollow\">Twitter for iPhone</a>",
          "Farshad187_King: <a href=\"https://mobile.twitter.com\" rel=\"nofollow\">Twitter Web App</a>",
          "caselvis58: <a href=\"http://twitter.com/download/iphone\" rel=\"nofollow\">Twitter for iPhone</a>",
          "klph69: <a href=\"http://twitter.com/download/android\" rel=\"nofollow\">Twitter for Android</a>",
          "observingeye2: <a href=\"http://twitter.com/download/iphone\" rel=\"nofollow\">Twitter for iPhone</a>",
          "e1l2z3: <a href=\"http://twitter.com/download/iphone\" rel=\"nofollow\">Twitter for iPhone</a>",
          "Lovable019: <a href=\"http://twitter.com/download/android\" rel=\"nofollow\">Twitter for Android</a>",
          "Dog2Purple: <a href=\"https://mobile.twitter.com\" rel=\"nofollow\">Twitter Web App</a>",
          "Angel40043090: <a href=\"http://twitter.com/download/iphone\" rel=\"nofollow\">Twitter for iPhone</a>",
          "JohnPena03: <a href=\"https://mobile.twitter.com\" rel=\"nofollow\">Twitter Web App</a>",
          "mpitts27: <a href=\"http://twitter.com/#!/download/ipad\" rel=\"nofollow\">Twitter for iPad</a>",
          "jim7911: <a href=\"http://twitter.com/download/android\" rel=\"nofollow\">Twitter for Android</a>",
          "ashokchavan19: <a href=\"http://twitter.com/download/iphone\" rel=\"nofollow\">Twitter for iPhone</a>",
          "thefakehillary1: <a href=\"http://twitter.com/download/android\" rel=\"nofollow\">Twitter for Android</a>",
          "PatriotNana64: <a href=\"http://twitter.com/download/iphone\" rel=\"nofollow\">Twitter for iPhone</a>",
          "weee208: <a href=\"http://twitter.com/#!/download/ipad\" rel=\"nofollow\">Twitter for iPad</a>",
          "wdalereneaujr: <a href=\"http://twitter.com/download/iphone\" rel=\"nofollow\">Twitter for iPhone</a>",
          "wbwf27: <a href=\"https://mobile.twitter.com\" rel=\"nofollow\">Twitter Web App</a>",
          "icare4america16: <a href=\"http://twitter.com\" rel=\"nofollow\">Twitter Web Client</a>",
          "DannyDshelton8: <a href=\"http://twitter.com/download/android\" rel=\"nofollow\">Twitter for Android</a>",
          "RickPettit3: <a href=\"http://twitter.com/download/android\" rel=\"nofollow\">Twitter for Android</a>",
          "lana67says2: <a href=\"http://twitter.com/download/android\" rel=\"nofollow\">Twitter for Android</a>",
          "danharley52: <a href=\"http://twitter.com/#!/download/ipad\" rel=\"nofollow\">Twitter for iPad</a>",
          "billymjonesMACK: <a href=\"http://twitter.com/download/android\" rel=\"nofollow\">Twitter for Android</a>",
          "jpjinco: <a href=\"http://twitter.com/download/iphone\" rel=\"nofollow\">Twitter for iPhone</a>",
          "Erinseeking: <a href=\"http://twitter.com/#!/download/ipad\" rel=\"nofollow\">Twitter for iPad</a>",
          "kristen4trump: <a href=\"https://mobile.twitter.com\" rel=\"nofollow\">Twitter Web App</a>",
          "CherylJ588: <a href=\"http://twitter.com/download/iphone\" rel=\"nofollow\">Twitter for iPhone</a>",
          "LattyDian: <a href=\"http://twitter.com/download/iphone\" rel=\"nofollow\">Twitter for iPhone</a>",
          "MCtai48: <a href=\"http://twitter.com/download/android\" rel=\"nofollow\">Twitter for Android</a>",
          "poppajosephy: <a href=\"http://twitter.com/download/android\" rel=\"nofollow\">Twitter for Android</a>",
          "MAGA_Engineer: <a href=\"http://twitter.com/download/android\" rel=\"nofollow\">Twitter for Android</a>",
          "Love79Dixie: <a href=\"http://twitter.com/download/iphone\" rel=\"nofollow\">Twitter for iPhone</a>",
          "czonevet: <a href=\"https://mobile.twitter.com\" rel=\"nofollow\">Twitter Web App</a>",
          "vspeed65: <a href=\"http://twitter.com/download/iphone\" rel=\"nofollow\">Twitter for iPhone</a>",
          "rgwiese: <a href=\"http://twitter.com/download/iphone\" rel=\"nofollow\">Twitter for iPhone</a>",
          "ScottLeelon: <a href=\"http://twitter.com/download/iphone\" rel=\"nofollow\">Twitter for iPhone</a>",
          "PaulPasquariell: <a href=\"http://twitter.com/download/android\" rel=\"nofollow\">Twitter for Android</a>",
          "Blakeinvestor: <a href=\"http://twitter.com/download/iphone\" rel=\"nofollow\">Twitter for iPhone</a>",
          "Dalmo162: <a href=\"https://mobile.twitter.com\" rel=\"nofollow\">Twitter Web App</a>",
          "joearoberts691: <a href=\"https://mobile.twitter.com\" rel=\"nofollow\">Twitter Web App</a>",
          "maxger31: <a href=\"http://twitter.com/download/iphone\" rel=\"nofollow\">Twitter for iPhone</a>",
          "vlad333_: <a href=\"http://twitter.com/download/android\" rel=\"nofollow\">Twitter for Android</a>",
          "WAMBAM51: <a href=\"http://twitter.com/download/iphone\" rel=\"nofollow\">Twitter for iPhone</a>",
          "Uchechi32407596: <a href=\"http://twitter.com/download/android\" rel=\"nofollow\">Twitter for Android</a>",
          "Theocharles: <a href=\"http://twitter.com/download/iphone\" rel=\"nofollow\">Twitter for iPhone</a>",
          "Shauna33R: <a href=\"http://twitter.com/download/iphone\" rel=\"nofollow\">Twitter for iPhone</a>",
          "nereido79: <a href=\"http://twitter.com/download/android\" rel=\"nofollow\">Twitter for Android</a>",
          "tamararedding72: <a href=\"http://twitter.com/download/iphone\" rel=\"nofollow\">Twitter for iPhone</a>",
          "Misstuffsee: <a href=\"http://twitter.com/download/iphone\" rel=\"nofollow\">Twitter for iPhone</a>",
          "SandraH76231604: <a href=\"http://twitter.com/download/iphone\" rel=\"nofollow\">Twitter for iPhone</a>",
          "peachyking501: <a href=\"http://twitter.com/download/iphone\" rel=\"nofollow\">Twitter for iPhone</a>",
          "CrisSmi32403701: <a href=\"http://twitter.com/download/iphone\" rel=\"nofollow\">Twitter for iPhone</a>",
          "Sally28168579: <a href=\"http://twitter.com/download/android\" rel=\"nofollow\">Twitter for Android</a>"
         ],
         "type": "scattergl",
         "x": [
          3101,
          128,
          267,
          987,
          2465,
          1150,
          108,
          259,
          118,
          630,
          1969,
          534,
          1632,
          257,
          952,
          940,
          348,
          2187,
          99,
          1274,
          1461,
          152,
          178,
          186,
          116,
          520,
          3297,
          896,
          1579,
          434,
          713,
          899,
          3198,
          3114,
          3422,
          177,
          1097,
          144,
          124,
          208,
          572,
          120,
          1250,
          1124,
          353,
          100,
          1303,
          2376,
          1898,
          604,
          2759,
          1688,
          2750,
          294,
          92,
          189,
          2756,
          917,
          271,
          309,
          404,
          1064,
          289,
          143
         ],
         "y": [
          3018,
          360,
          240,
          944,
          2441,
          1074,
          64,
          211,
          107,
          586,
          1923,
          550,
          1576,
          178,
          919,
          897,
          311,
          2132,
          210,
          1230,
          1416,
          130,
          140,
          148,
          112,
          487,
          3269,
          850,
          1534,
          390,
          665,
          874,
          3152,
          3053,
          3395,
          167,
          1050,
          571,
          98,
          135,
          518,
          90,
          1199,
          1102,
          307,
          546,
          1259,
          2327,
          1855,
          560,
          2704,
          1631,
          2706,
          260,
          145,
          104,
          2720,
          872,
          234,
          263,
          399,
          1006,
          245,
          95
         ]
        },
        {
         "hovertemplate": "%{text}",
         "marker": {
          "color": "#f7da29",
          "opacity": 1,
          "size": 8
         },
         "mode": "markers",
         "name": "Retweeted 12 tweets",
         "showlegend": true,
         "text": [
          "Steve_Gregory82: <a href=\"http://twitter.com/download/android\" rel=\"nofollow\">Twitter for Android</a>",
          "Hinatawakaba129: <a href=\"http://twitter.com/download/android\" rel=\"nofollow\">Twitter for Android</a>",
          "SebastianJRusso: <a href=\"http://twitter.com/download/android\" rel=\"nofollow\">Twitter for Android</a>",
          "ToniTattles: <a href=\"http://twitter.com/download/iphone\" rel=\"nofollow\">Twitter for iPhone</a>",
          "RedHatty_Social: <a href=\"http://twitter.com/download/android\" rel=\"nofollow\">Twitter for Android</a>",
          "DustinEBole: <a href=\"http://twitter.com/download/android\" rel=\"nofollow\">Twitter for Android</a>",
          "CheezyBorger: <a href=\"https://mobile.twitter.com\" rel=\"nofollow\">Twitter Web App</a>",
          "Unfollow_Donald: <a href=\"https://twitter.com/Unfollow_Donald\" rel=\"nofollow\">Unfollow Donald Trump</a>",
          "trail_8: <a href=\"https://mobile.twitter.com\" rel=\"nofollow\">Twitter Web App</a>",
          "DulinTommy: <a href=\"http://twitter.com/download/android\" rel=\"nofollow\">Twitter for Android</a>",
          "JaniceW05412341: <a href=\"http://twitter.com/download/android\" rel=\"nofollow\">Twitter for Android</a>",
          "JJDJ1187: <a href=\"http://twitter.com/download/iphone\" rel=\"nofollow\">Twitter for iPhone</a>",
          "tweetwelovetryp: <a href=\"https://mobile.twitter.com\" rel=\"nofollow\">Twitter Web App</a>",
          "Represe04754550: <a href=\"http://twitter.com/download/iphone\" rel=\"nofollow\">Twitter for iPhone</a>",
          "PJN4Real: <a href=\"http://twitter.com/#!/download/ipad\" rel=\"nofollow\">Twitter for iPad</a>",
          "LindaSuhler: <a href=\"http://twitter.com/download/iphone\" rel=\"nofollow\">Twitter for iPhone</a>",
          "texasmom2many: <a href=\"http://twitter.com/#!/download/ipad\" rel=\"nofollow\">Twitter for iPad</a>",
          "GlenStJames: <a href=\"http://twitter.com/#!/download/ipad\" rel=\"nofollow\">Twitter for iPad</a>",
          "paulasul1414: <a href=\"https://mobile.twitter.com\" rel=\"nofollow\">Twitter Web App</a>",
          "NancymkQ: <a href=\"http://twitter.com/#!/download/ipad\" rel=\"nofollow\">Twitter for iPad</a>",
          "rawoods24: <a href=\"http://twitter.com/download/iphone\" rel=\"nofollow\">Twitter for iPhone</a>",
          "BillLandis4: <a href=\"http://twitter.com/download/android\" rel=\"nofollow\">Twitter for Android</a>",
          "knassios: <a href=\"http://twitter.com/download/android\" rel=\"nofollow\">Twitter for Android</a>",
          "CEASARBOY: <a href=\"http://twitter.com/#!/download/ipad\" rel=\"nofollow\">Twitter for iPad</a>",
          "Mrseifert24Mike: <a href=\"http://twitter.com/download/iphone\" rel=\"nofollow\">Twitter for iPhone</a>",
          "MyTeresadampier: <a href=\"http://twitter.com/download/android\" rel=\"nofollow\">Twitter for Android</a>",
          "here_4Trump2020: <a href=\"http://twitter.com/download/android\" rel=\"nofollow\">Twitter for Android</a>",
          "uABjwfS3rS80Egc: <a href=\"http://twitter.com/download/iphone\" rel=\"nofollow\">Twitter for iPhone</a>",
          "lfbill: <a href=\"http://twitter.com/#!/download/ipad\" rel=\"nofollow\">Twitter for iPad</a>",
          "D_Dextra: <a href=\"http://twitter.com/download/iphone\" rel=\"nofollow\">Twitter for iPhone</a>",
          "mkbshm: <a href=\"http://twitter.com/download/iphone\" rel=\"nofollow\">Twitter for iPhone</a>"
         ],
         "type": "scattergl",
         "x": [
          414,
          2131,
          549,
          562,
          111,
          263,
          476,
          5,
          2644,
          177,
          146,
          3249,
          2088,
          100,
          251,
          2253,
          110,
          114,
          1741,
          2026,
          1875,
          648,
          250,
          1280,
          203,
          353,
          679,
          12,
          427,
          726,
          159
         ],
         "y": [
          369,
          2104,
          527,
          514,
          117,
          217,
          430,
          5,
          2609,
          133,
          182,
          3205,
          2032,
          203,
          188,
          2221,
          61,
          123,
          1572,
          1978,
          1841,
          626,
          198,
          1673,
          201,
          309,
          626,
          100,
          381,
          679,
          99
         ]
        },
        {
         "hovertemplate": "%{text}",
         "marker": {
          "color": "#ff8e25",
          "opacity": 1,
          "size": 8
         },
         "mode": "markers",
         "name": "Retweeted 13 tweets",
         "showlegend": true,
         "text": [
          "thagnome70065: <a href=\"http://twitter.com/download/android\" rel=\"nofollow\">Twitter for Android</a>",
          "ReaganCharlie: <a href=\"http://twitter.com/download/android\" rel=\"nofollow\">Twitter for Android</a>",
          "inscnc: <a href=\"http://twitter.com/download/iphone\" rel=\"nofollow\">Twitter for iPhone</a>",
          "koupdetat: <a href=\"http://twitter.com/download/iphone\" rel=\"nofollow\">Twitter for iPhone</a>",
          "KatsuhikoTsuda: <a href=\"http://twitter.com/download/iphone\" rel=\"nofollow\">Twitter for iPhone</a>",
          "mwiley4975: <a href=\"http://twitter.com/download/android\" rel=\"nofollow\">Twitter for Android</a>",
          "San_Diego_858: <a href=\"http://twitter.com/download/iphone\" rel=\"nofollow\">Twitter for iPhone</a>",
          "Helovedmefirst: <a href=\"http://twitter.com\" rel=\"nofollow\">Twitter Web Client</a>",
          "palinpal1: <a href=\"http://twitter.com/download/android\" rel=\"nofollow\">Twitter for Android</a>",
          "jjon21: <a href=\"https://mobile.twitter.com\" rel=\"nofollow\">Twitter Web App</a>",
          "Erikajakins: <a href=\"http://twitter.com/download/iphone\" rel=\"nofollow\">Twitter for iPhone</a>",
          "Apiphanys_Eye: <a href=\"http://twitter.com/download/android\" rel=\"nofollow\">Twitter for Android</a>",
          "Prageetnoone: <a href=\"http://twitter.com/download/iphone\" rel=\"nofollow\">Twitter for iPhone</a>",
          "ChukwudubemIgb1: <a href=\"http://twitter.com/download/android\" rel=\"nofollow\">Twitter for Android</a>",
          "henry0467: <a href=\"http://twitter.com/download/iphone\" rel=\"nofollow\">Twitter for iPhone</a>",
          "idontdonald: <a href=\"https://www.google.com\" rel=\"nofollow\">idontdonald</a>"
         ],
         "type": "scattergl",
         "x": [
          134,
          1130,
          345,
          887,
          905,
          363,
          94,
          164,
          108,
          2531,
          513,
          96,
          1843,
          392,
          628,
          5
         ],
         "y": [
          99,
          1084,
          307,
          860,
          893,
          333,
          81,
          118,
          115,
          2495,
          461,
          103,
          1799,
          345,
          582,
          5
         ]
        },
        {
         "hovertemplate": "%{text}",
         "marker": {
          "color": "#f8432d",
          "opacity": 1,
          "size": 8
         },
         "mode": "markers",
         "name": "Retweeted 14 tweets",
         "showlegend": true,
         "text": [
          "mimiinftworth: <a href=\"http://twitter.com/download/iphone\" rel=\"nofollow\">Twitter for iPhone</a>",
          "MeAndMyHouse1: <a href=\"http://twitter.com/download/iphone\" rel=\"nofollow\">Twitter for iPhone</a>",
          "LousLounge: <a href=\"http://twitter.com/download/iphone\" rel=\"nofollow\">Twitter for iPhone</a>",
          "gerald_lowery: <a href=\"http://twitter.com/download/iphone\" rel=\"nofollow\">Twitter for iPhone</a>",
          "MichaelPoppo0: <a href=\"http://twitter.com/download/iphone\" rel=\"nofollow\">Twitter for iPhone</a>",
          "MelissaGrableAF: <a href=\"http://twitter.com/download/android\" rel=\"nofollow\">Twitter for Android</a>",
          "CReeseReport: <a href=\"https://mobile.twitter.com\" rel=\"nofollow\">Twitter Web App</a>"
         ],
         "type": "scattergl",
         "x": [
          473,
          170,
          3520,
          1135,
          493,
          515,
          1145
         ],
         "y": [
          446,
          118,
          3489,
          1091,
          448,
          470,
          1112
         ]
        }
       ],
       "layout": {
        "autosize": false,
        "height": 600,
        "legend": {
         "font": {
          "color": "black",
          "family": "sans-serif",
          "size": 12
         },
         "traceorder": "normal",
         "x": 1,
         "y": 1
        },
        "margin": {
         "b": 1,
         "l": 1,
         "r": 50,
         "t": 50
        },
        "template": {
         "data": {
          "bar": [
           {
            "error_x": {
             "color": "#2a3f5f"
            },
            "error_y": {
             "color": "#2a3f5f"
            },
            "marker": {
             "line": {
              "color": "#E5ECF6",
              "width": 0.5
             }
            },
            "type": "bar"
           }
          ],
          "barpolar": [
           {
            "marker": {
             "line": {
              "color": "#E5ECF6",
              "width": 0.5
             }
            },
            "type": "barpolar"
           }
          ],
          "carpet": [
           {
            "aaxis": {
             "endlinecolor": "#2a3f5f",
             "gridcolor": "white",
             "linecolor": "white",
             "minorgridcolor": "white",
             "startlinecolor": "#2a3f5f"
            },
            "baxis": {
             "endlinecolor": "#2a3f5f",
             "gridcolor": "white",
             "linecolor": "white",
             "minorgridcolor": "white",
             "startlinecolor": "#2a3f5f"
            },
            "type": "carpet"
           }
          ],
          "choropleth": [
           {
            "colorbar": {
             "outlinewidth": 0,
             "ticks": ""
            },
            "type": "choropleth"
           }
          ],
          "contour": [
           {
            "colorbar": {
             "outlinewidth": 0,
             "ticks": ""
            },
            "colorscale": [
             [
              0,
              "#0d0887"
             ],
             [
              0.1111111111111111,
              "#46039f"
             ],
             [
              0.2222222222222222,
              "#7201a8"
             ],
             [
              0.3333333333333333,
              "#9c179e"
             ],
             [
              0.4444444444444444,
              "#bd3786"
             ],
             [
              0.5555555555555556,
              "#d8576b"
             ],
             [
              0.6666666666666666,
              "#ed7953"
             ],
             [
              0.7777777777777778,
              "#fb9f3a"
             ],
             [
              0.8888888888888888,
              "#fdca26"
             ],
             [
              1,
              "#f0f921"
             ]
            ],
            "type": "contour"
           }
          ],
          "contourcarpet": [
           {
            "colorbar": {
             "outlinewidth": 0,
             "ticks": ""
            },
            "type": "contourcarpet"
           }
          ],
          "heatmap": [
           {
            "colorbar": {
             "outlinewidth": 0,
             "ticks": ""
            },
            "colorscale": [
             [
              0,
              "#0d0887"
             ],
             [
              0.1111111111111111,
              "#46039f"
             ],
             [
              0.2222222222222222,
              "#7201a8"
             ],
             [
              0.3333333333333333,
              "#9c179e"
             ],
             [
              0.4444444444444444,
              "#bd3786"
             ],
             [
              0.5555555555555556,
              "#d8576b"
             ],
             [
              0.6666666666666666,
              "#ed7953"
             ],
             [
              0.7777777777777778,
              "#fb9f3a"
             ],
             [
              0.8888888888888888,
              "#fdca26"
             ],
             [
              1,
              "#f0f921"
             ]
            ],
            "type": "heatmap"
           }
          ],
          "heatmapgl": [
           {
            "colorbar": {
             "outlinewidth": 0,
             "ticks": ""
            },
            "colorscale": [
             [
              0,
              "#0d0887"
             ],
             [
              0.1111111111111111,
              "#46039f"
             ],
             [
              0.2222222222222222,
              "#7201a8"
             ],
             [
              0.3333333333333333,
              "#9c179e"
             ],
             [
              0.4444444444444444,
              "#bd3786"
             ],
             [
              0.5555555555555556,
              "#d8576b"
             ],
             [
              0.6666666666666666,
              "#ed7953"
             ],
             [
              0.7777777777777778,
              "#fb9f3a"
             ],
             [
              0.8888888888888888,
              "#fdca26"
             ],
             [
              1,
              "#f0f921"
             ]
            ],
            "type": "heatmapgl"
           }
          ],
          "histogram": [
           {
            "marker": {
             "colorbar": {
              "outlinewidth": 0,
              "ticks": ""
             }
            },
            "type": "histogram"
           }
          ],
          "histogram2d": [
           {
            "colorbar": {
             "outlinewidth": 0,
             "ticks": ""
            },
            "colorscale": [
             [
              0,
              "#0d0887"
             ],
             [
              0.1111111111111111,
              "#46039f"
             ],
             [
              0.2222222222222222,
              "#7201a8"
             ],
             [
              0.3333333333333333,
              "#9c179e"
             ],
             [
              0.4444444444444444,
              "#bd3786"
             ],
             [
              0.5555555555555556,
              "#d8576b"
             ],
             [
              0.6666666666666666,
              "#ed7953"
             ],
             [
              0.7777777777777778,
              "#fb9f3a"
             ],
             [
              0.8888888888888888,
              "#fdca26"
             ],
             [
              1,
              "#f0f921"
             ]
            ],
            "type": "histogram2d"
           }
          ],
          "histogram2dcontour": [
           {
            "colorbar": {
             "outlinewidth": 0,
             "ticks": ""
            },
            "colorscale": [
             [
              0,
              "#0d0887"
             ],
             [
              0.1111111111111111,
              "#46039f"
             ],
             [
              0.2222222222222222,
              "#7201a8"
             ],
             [
              0.3333333333333333,
              "#9c179e"
             ],
             [
              0.4444444444444444,
              "#bd3786"
             ],
             [
              0.5555555555555556,
              "#d8576b"
             ],
             [
              0.6666666666666666,
              "#ed7953"
             ],
             [
              0.7777777777777778,
              "#fb9f3a"
             ],
             [
              0.8888888888888888,
              "#fdca26"
             ],
             [
              1,
              "#f0f921"
             ]
            ],
            "type": "histogram2dcontour"
           }
          ],
          "mesh3d": [
           {
            "colorbar": {
             "outlinewidth": 0,
             "ticks": ""
            },
            "type": "mesh3d"
           }
          ],
          "parcoords": [
           {
            "line": {
             "colorbar": {
              "outlinewidth": 0,
              "ticks": ""
             }
            },
            "type": "parcoords"
           }
          ],
          "pie": [
           {
            "automargin": true,
            "type": "pie"
           }
          ],
          "scatter": [
           {
            "marker": {
             "colorbar": {
              "outlinewidth": 0,
              "ticks": ""
             }
            },
            "type": "scatter"
           }
          ],
          "scatter3d": [
           {
            "line": {
             "colorbar": {
              "outlinewidth": 0,
              "ticks": ""
             }
            },
            "marker": {
             "colorbar": {
              "outlinewidth": 0,
              "ticks": ""
             }
            },
            "type": "scatter3d"
           }
          ],
          "scattercarpet": [
           {
            "marker": {
             "colorbar": {
              "outlinewidth": 0,
              "ticks": ""
             }
            },
            "type": "scattercarpet"
           }
          ],
          "scattergeo": [
           {
            "marker": {
             "colorbar": {
              "outlinewidth": 0,
              "ticks": ""
             }
            },
            "type": "scattergeo"
           }
          ],
          "scattergl": [
           {
            "marker": {
             "colorbar": {
              "outlinewidth": 0,
              "ticks": ""
             }
            },
            "type": "scattergl"
           }
          ],
          "scattermapbox": [
           {
            "marker": {
             "colorbar": {
              "outlinewidth": 0,
              "ticks": ""
             }
            },
            "type": "scattermapbox"
           }
          ],
          "scatterpolar": [
           {
            "marker": {
             "colorbar": {
              "outlinewidth": 0,
              "ticks": ""
             }
            },
            "type": "scatterpolar"
           }
          ],
          "scatterpolargl": [
           {
            "marker": {
             "colorbar": {
              "outlinewidth": 0,
              "ticks": ""
             }
            },
            "type": "scatterpolargl"
           }
          ],
          "scatterternary": [
           {
            "marker": {
             "colorbar": {
              "outlinewidth": 0,
              "ticks": ""
             }
            },
            "type": "scatterternary"
           }
          ],
          "surface": [
           {
            "colorbar": {
             "outlinewidth": 0,
             "ticks": ""
            },
            "colorscale": [
             [
              0,
              "#0d0887"
             ],
             [
              0.1111111111111111,
              "#46039f"
             ],
             [
              0.2222222222222222,
              "#7201a8"
             ],
             [
              0.3333333333333333,
              "#9c179e"
             ],
             [
              0.4444444444444444,
              "#bd3786"
             ],
             [
              0.5555555555555556,
              "#d8576b"
             ],
             [
              0.6666666666666666,
              "#ed7953"
             ],
             [
              0.7777777777777778,
              "#fb9f3a"
             ],
             [
              0.8888888888888888,
              "#fdca26"
             ],
             [
              1,
              "#f0f921"
             ]
            ],
            "type": "surface"
           }
          ],
          "table": [
           {
            "cells": {
             "fill": {
              "color": "#EBF0F8"
             },
             "line": {
              "color": "white"
             }
            },
            "header": {
             "fill": {
              "color": "#C8D4E3"
             },
             "line": {
              "color": "white"
             }
            },
            "type": "table"
           }
          ]
         },
         "layout": {
          "annotationdefaults": {
           "arrowcolor": "#2a3f5f",
           "arrowhead": 0,
           "arrowwidth": 1
          },
          "coloraxis": {
           "colorbar": {
            "outlinewidth": 0,
            "ticks": ""
           }
          },
          "colorscale": {
           "diverging": [
            [
             0,
             "#8e0152"
            ],
            [
             0.1,
             "#c51b7d"
            ],
            [
             0.2,
             "#de77ae"
            ],
            [
             0.3,
             "#f1b6da"
            ],
            [
             0.4,
             "#fde0ef"
            ],
            [
             0.5,
             "#f7f7f7"
            ],
            [
             0.6,
             "#e6f5d0"
            ],
            [
             0.7,
             "#b8e186"
            ],
            [
             0.8,
             "#7fbc41"
            ],
            [
             0.9,
             "#4d9221"
            ],
            [
             1,
             "#276419"
            ]
           ],
           "sequential": [
            [
             0,
             "#0d0887"
            ],
            [
             0.1111111111111111,
             "#46039f"
            ],
            [
             0.2222222222222222,
             "#7201a8"
            ],
            [
             0.3333333333333333,
             "#9c179e"
            ],
            [
             0.4444444444444444,
             "#bd3786"
            ],
            [
             0.5555555555555556,
             "#d8576b"
            ],
            [
             0.6666666666666666,
             "#ed7953"
            ],
            [
             0.7777777777777778,
             "#fb9f3a"
            ],
            [
             0.8888888888888888,
             "#fdca26"
            ],
            [
             1,
             "#f0f921"
            ]
           ],
           "sequentialminus": [
            [
             0,
             "#0d0887"
            ],
            [
             0.1111111111111111,
             "#46039f"
            ],
            [
             0.2222222222222222,
             "#7201a8"
            ],
            [
             0.3333333333333333,
             "#9c179e"
            ],
            [
             0.4444444444444444,
             "#bd3786"
            ],
            [
             0.5555555555555556,
             "#d8576b"
            ],
            [
             0.6666666666666666,
             "#ed7953"
            ],
            [
             0.7777777777777778,
             "#fb9f3a"
            ],
            [
             0.8888888888888888,
             "#fdca26"
            ],
            [
             1,
             "#f0f921"
            ]
           ]
          },
          "colorway": [
           "#636efa",
           "#EF553B",
           "#00cc96",
           "#ab63fa",
           "#FFA15A",
           "#19d3f3",
           "#FF6692",
           "#B6E880",
           "#FF97FF",
           "#FECB52"
          ],
          "font": {
           "color": "#2a3f5f"
          },
          "geo": {
           "bgcolor": "white",
           "lakecolor": "white",
           "landcolor": "#E5ECF6",
           "showlakes": true,
           "showland": true,
           "subunitcolor": "white"
          },
          "hoverlabel": {
           "align": "left"
          },
          "hovermode": "closest",
          "mapbox": {
           "style": "light"
          },
          "paper_bgcolor": "white",
          "plot_bgcolor": "#E5ECF6",
          "polar": {
           "angularaxis": {
            "gridcolor": "white",
            "linecolor": "white",
            "ticks": ""
           },
           "bgcolor": "#E5ECF6",
           "radialaxis": {
            "gridcolor": "white",
            "linecolor": "white",
            "ticks": ""
           }
          },
          "scene": {
           "xaxis": {
            "backgroundcolor": "#E5ECF6",
            "gridcolor": "white",
            "gridwidth": 2,
            "linecolor": "white",
            "showbackground": true,
            "ticks": "",
            "zerolinecolor": "white"
           },
           "yaxis": {
            "backgroundcolor": "#E5ECF6",
            "gridcolor": "white",
            "gridwidth": 2,
            "linecolor": "white",
            "showbackground": true,
            "ticks": "",
            "zerolinecolor": "white"
           },
           "zaxis": {
            "backgroundcolor": "#E5ECF6",
            "gridcolor": "white",
            "gridwidth": 2,
            "linecolor": "white",
            "showbackground": true,
            "ticks": "",
            "zerolinecolor": "white"
           }
          },
          "shapedefaults": {
           "line": {
            "color": "#2a3f5f"
           }
          },
          "ternary": {
           "aaxis": {
            "gridcolor": "white",
            "linecolor": "white",
            "ticks": ""
           },
           "baxis": {
            "gridcolor": "white",
            "linecolor": "white",
            "ticks": ""
           },
           "bgcolor": "#E5ECF6",
           "caxis": {
            "gridcolor": "white",
            "linecolor": "white",
            "ticks": ""
           }
          },
          "title": {
           "x": 0.05
          },
          "xaxis": {
           "automargin": true,
           "gridcolor": "white",
           "linecolor": "white",
           "ticks": "",
           "title": {
            "standoff": 15
           },
           "zerolinecolor": "white",
           "zerolinewidth": 2
          },
          "yaxis": {
           "automargin": true,
           "gridcolor": "white",
           "linecolor": "white",
           "ticks": "",
           "title": {
            "standoff": 15
           },
           "zerolinecolor": "white",
           "zerolinewidth": 2
          }
         }
        },
        "title": {
         "text": "Trump's Retweet at Apr 25 08:01:56 (EST) vs Retweet at Apr 25 08:02:37 (EST) \n (2,3)"
        },
        "width": 800,
        "xaxis": {
         "title": {
          "text": "Seconds since Trump Retweeted at #Apr 25 08:01:56 (EST)"
         }
        },
        "yaxis": {
         "title": {
          "text": "Seconds since Trump Retweeted at #Apr 25 08:02:37 (EST)"
         }
        }
       }
      },
      "text/html": [
       "<div>\n",
       "        \n",
       "        \n",
       "            <div id=\"8ef911ea-3ba0-4e54-9927-2b6c8b16c286\" class=\"plotly-graph-div\" style=\"height:600px; width:800px;\"></div>\n",
       "            <script type=\"text/javascript\">\n",
       "                require([\"plotly\"], function(Plotly) {\n",
       "                    window.PLOTLYENV=window.PLOTLYENV || {};\n",
       "                    \n",
       "                if (document.getElementById(\"8ef911ea-3ba0-4e54-9927-2b6c8b16c286\")) {\n",
       "                    Plotly.newPlot(\n",
       "                        '8ef911ea-3ba0-4e54-9927-2b6c8b16c286',\n",
       "                        [{\"hovertemplate\": \"%{text}\", \"marker\": {\"color\": \"#3d019d\", \"opacity\": 1, \"size\": 8}, \"mode\": \"markers\", \"name\": \"Retweeted 2 tweets\", \"showlegend\": true, \"text\": [\"RealMiamiEstate: <a href=\\\"http://twitter.com/download/android\\\" rel=\\\"nofollow\\\">Twitter for Android</a>\", \"reidmt1: <a href=\\\"http://twitter.com/#!/download/ipad\\\" rel=\\\"nofollow\\\">Twitter for iPad</a>\", \"WSCP1: <a href=\\\"http://twitter.com/download/iphone\\\" rel=\\\"nofollow\\\">Twitter for iPhone</a>\", \"AnnieGruber1: <a href=\\\"http://twitter.com/download/iphone\\\" rel=\\\"nofollow\\\">Twitter for iPhone</a>\", \"TracyPrichard2: <a href=\\\"http://twitter.com/download/android\\\" rel=\\\"nofollow\\\">Twitter for Android</a>\", \"H2211C: <a href=\\\"http://twitter.com/download/iphone\\\" rel=\\\"nofollow\\\">Twitter for iPhone</a>\"], \"type\": \"scattergl\", \"x\": [829.0, 115.0, 446.0, 121.0, 150.0, 3214.0], \"y\": [781.0, 114.0, 409.0, 95.0, 133.0, 3167.0]}, {\"hovertemplate\": \"%{text}\", \"marker\": {\"color\": \"#3810dc\", \"opacity\": 1, \"size\": 8}, \"mode\": \"markers\", \"name\": \"Retweeted 3 tweets\", \"showlegend\": true, \"text\": [\"HappenShitDoes: <a href=\\\"http://twitter.com/download/android\\\" rel=\\\"nofollow\\\">Twitter for Android</a>\", \"solomon_ann: <a href=\\\"http://twitter.com/download/android\\\" rel=\\\"nofollow\\\">Twitter for Android</a>\", \"hayproudofu: <a href=\\\"http://twitter.com/download/iphone\\\" rel=\\\"nofollow\\\">Twitter for iPhone</a>\", \"DogMomOfFour: <a href=\\\"http://twitter.com/download/iphone\\\" rel=\\\"nofollow\\\">Twitter for iPhone</a>\", \"TracyNovak72: <a href=\\\"http://twitter.com/download/iphone\\\" rel=\\\"nofollow\\\">Twitter for iPhone</a>\", \"tadams1234bg: <a href=\\\"http://twitter.com/download/android\\\" rel=\\\"nofollow\\\">Twitter for Android</a>\", \"tobie132: <a href=\\\"http://twitter.com/download/android\\\" rel=\\\"nofollow\\\">Twitter for Android</a>\", \"GlennRo92133357: <a href=\\\"https://mobile.twitter.com\\\" rel=\\\"nofollow\\\">Twitter Web App</a>\", \"TrumpFo: <a href=\\\"http://twitter.com/download/android\\\" rel=\\\"nofollow\\\">Twitter for Android</a>\", \"BelvuiaB: <a href=\\\"http://twitter.com/download/iphone\\\" rel=\\\"nofollow\\\">Twitter for iPhone</a>\", \"barel_galit: <a href=\\\"http://twitter.com/download/iphone\\\" rel=\\\"nofollow\\\">Twitter for iPhone</a>\", \"killer_designer: <a href=\\\"http://twitter.com/download/android\\\" rel=\\\"nofollow\\\">Twitter for Android</a>\", \"Jessica59266951: <a href=\\\"http://twitter.com/download/android\\\" rel=\\\"nofollow\\\">Twitter for Android</a>\", \"MichaelJFarina: <a href=\\\"http://twitter.com/download/iphone\\\" rel=\\\"nofollow\\\">Twitter for iPhone</a>\", \"MGY_B: <a href=\\\"https://mobile.twitter.com\\\" rel=\\\"nofollow\\\">Twitter Web App</a>\"], \"type\": \"scattergl\", \"x\": [206.0, 127.0, 157.0, 108.0, 653.0, 350.0, 224.0, 2299.0, 138.0, 1045.0, 3189.0, 178.0, 172.0, 120.0, 198.0], \"y\": [191.0, 104.0, 110.0, 97.0, 603.0, 343.0, 107.0, 2269.0, 89.0, 1125.0, 3132.0, 133.0, 126.0, 96.0, 146.0]}, {\"hovertemplate\": \"%{text}\", \"marker\": {\"color\": \"#2d47f9\", \"opacity\": 1, \"size\": 8}, \"mode\": \"markers\", \"name\": \"Retweeted 4 tweets\", \"showlegend\": true, \"text\": [\"jhansuzan: <a href=\\\"http://twitter.com/download/iphone\\\" rel=\\\"nofollow\\\">Twitter for iPhone</a>\", \"Tochukw25816012: <a href=\\\"http://twitter.com/download/android\\\" rel=\\\"nofollow\\\">Twitter for Android</a>\", \"WRAUER: <a href=\\\"http://twitter.com/download/iphone\\\" rel=\\\"nofollow\\\">Twitter for iPhone</a>\", \"dmuc93: <a href=\\\"http://twitter.com/download/iphone\\\" rel=\\\"nofollow\\\">Twitter for iPhone</a>\", \"misstozak: <a href=\\\"http://twitter.com/download/android\\\" rel=\\\"nofollow\\\">Twitter for Android</a>\", \"art_vermette: <a href=\\\"http://twitter.com/#!/download/ipad\\\" rel=\\\"nofollow\\\">Twitter for iPad</a>\", \"KellyWo37712938: <a href=\\\"http://twitter.com/download/android\\\" rel=\\\"nofollow\\\">Twitter for Android</a>\", \"welcome24eva: <a href=\\\"http://twitter.com/download/iphone\\\" rel=\\\"nofollow\\\">Twitter for iPhone</a>\", \"Kofi_Bartels: <a href=\\\"http://twitter.com/download/iphone\\\" rel=\\\"nofollow\\\">Twitter for iPhone</a>\", \"Alybrit54: <a href=\\\"http://twitter.com/download/iphone\\\" rel=\\\"nofollow\\\">Twitter for iPhone</a>\", \"stacykarma1: <a href=\\\"http://twitter.com/download/iphone\\\" rel=\\\"nofollow\\\">Twitter for iPhone</a>\", \"rhoadhard: <a href=\\\"https://mobile.twitter.com\\\" rel=\\\"nofollow\\\">Twitter Web App</a>\", \"PhilManess3: <a href=\\\"http://twitter.com/download/android\\\" rel=\\\"nofollow\\\">Twitter for Android</a>\", \"Kat4TRUMP: <a href=\\\"http://twitter.com/download/android\\\" rel=\\\"nofollow\\\">Twitter for Android</a>\"], \"type\": \"scattergl\", \"x\": [2714.0, 505.0, 404.0, 121.0, 133.0, 308.0, 254.0, 88.0, 1404.0, 214.0, 227.0, 269.0, 340.0, 196.0], \"y\": [2762.0, 241.0, 350.0, 22.0, 85.0, 367.0, 206.0, 83.0, 1356.0, 170.0, 90.0, 214.0, 271.0, 135.0]}, {\"hovertemplate\": \"%{text}\", \"marker\": {\"color\": \"#2593ff\", \"opacity\": 1, \"size\": 8}, \"mode\": \"markers\", \"name\": \"Retweeted 5 tweets\", \"showlegend\": true, \"text\": [\"TrumpsSquad: <a href=\\\"http://twitter.com/download/iphone\\\" rel=\\\"nofollow\\\">Twitter for iPhone</a>\", \"Epahlee: <a href=\\\"http://twitter.com/download/android\\\" rel=\\\"nofollow\\\">Twitter for Android</a>\", \"michael_szumega: <a href=\\\"http://twitter.com/#!/download/ipad\\\" rel=\\\"nofollow\\\">Twitter for iPad</a>\", \"jaebbejmejwejie: <a href=\\\"http://twitter.com/download/android\\\" rel=\\\"nofollow\\\">Twitter for Android</a>\", \"TheCape1961: <a href=\\\"http://twitter.com/download/iphone\\\" rel=\\\"nofollow\\\">Twitter for iPhone</a>\", \"PAMCLAUGHLIN2: <a href=\\\"http://twitter.com/download/iphone\\\" rel=\\\"nofollow\\\">Twitter for iPhone</a>\", \"BernyTx: <a href=\\\"http://twitter.com/download/android\\\" rel=\\\"nofollow\\\">Twitter for Android</a>\", \"elysnowangel: <a href=\\\"http://twitter.com/#!/download/ipad\\\" rel=\\\"nofollow\\\">Twitter for iPad</a>\", \"AmericanGal_69: <a href=\\\"http://twitter.com/download/android\\\" rel=\\\"nofollow\\\">Twitter for Android</a>\", \"Reggio_Inspired: <a href=\\\"http://twitter.com/download/iphone\\\" rel=\\\"nofollow\\\">Twitter for iPhone</a>\", \"dachapman4: <a href=\\\"http://twitter.com/download/iphone\\\" rel=\\\"nofollow\\\">Twitter for iPhone</a>\", \"debra_dunmire: <a href=\\\"http://twitter.com/download/iphone\\\" rel=\\\"nofollow\\\">Twitter for iPhone</a>\", \"jimcuthbert_: <a href=\\\"https://mobile.twitter.com\\\" rel=\\\"nofollow\\\">Twitter Web App</a>\"], \"type\": \"scattergl\", \"x\": [156.0, 308.0, 210.0, 185.0, 998.0, 103.0, 115.0, 463.0, 340.0, 555.0, 1424.0, 152.0, 791.0], \"y\": [107.0, 281.0, 927.0, 184.0, 965.0, 116.0, 98.0, 401.0, 295.0, 528.0, 1269.0, 103.0, 759.0]}, {\"hovertemplate\": \"%{text}\", \"marker\": {\"color\": \"#2adef6\", \"opacity\": 1, \"size\": 8}, \"mode\": \"markers\", \"name\": \"Retweeted 6 tweets\", \"showlegend\": true, \"text\": [\"tjlinehan: <a href=\\\"http://twitter.com/download/android\\\" rel=\\\"nofollow\\\">Twitter for Android</a>\", \"andrea58532317: <a href=\\\"http://twitter.com/download/iphone\\\" rel=\\\"nofollow\\\">Twitter for iPhone</a>\", \"dawnegray3: <a href=\\\"http://twitter.com/download/android\\\" rel=\\\"nofollow\\\">Twitter for Android</a>\", \"TrumpFor2024: <a href=\\\"http://twitter.com/download/iphone\\\" rel=\\\"nofollow\\\">Twitter for iPhone</a>\", \"ginanotjenna17: <a href=\\\"http://twitter.com/download/iphone\\\" rel=\\\"nofollow\\\">Twitter for iPhone</a>\", \"tankable: <a href=\\\"http://twitter.com/#!/download/ipad\\\" rel=\\\"nofollow\\\">Twitter for iPad</a>\", \"Rebazhin: <a href=\\\"http://twitter.com/#!/download/ipad\\\" rel=\\\"nofollow\\\">Twitter for iPad</a>\", \"PRheydt: <a href=\\\"https://mobile.twitter.com\\\" rel=\\\"nofollow\\\">Twitter Web App</a>\", \"csava247: <a href=\\\"http://twitter.com/download/iphone\\\" rel=\\\"nofollow\\\">Twitter for iPhone</a>\", \"BikerSkinny: <a href=\\\"http://twitter.com/download/android\\\" rel=\\\"nofollow\\\">Twitter for Android</a>\", \"MaryLar62027107: <a href=\\\"http://twitter.com/download/iphone\\\" rel=\\\"nofollow\\\">Twitter for iPhone</a>\", \"SarahRosie5: <a href=\\\"http://twitter.com/download/android\\\" rel=\\\"nofollow\\\">Twitter for Android</a>\", \"thmiv: <a href=\\\"http://twitter.com/download/iphone\\\" rel=\\\"nofollow\\\">Twitter for iPhone</a>\", \"Saddlebags6969: <a href=\\\"http://twitter.com/download/android\\\" rel=\\\"nofollow\\\">Twitter for Android</a>\", \"PatrickTRooney: <a href=\\\"http://twitter.com/download/iphone\\\" rel=\\\"nofollow\\\">Twitter for iPhone</a>\", \"rick74arnold: <a href=\\\"http://twitter.com/download/iphone\\\" rel=\\\"nofollow\\\">Twitter for iPhone</a>\", \"Rosa49680894: <a href=\\\"https://mobile.twitter.com\\\" rel=\\\"nofollow\\\">Twitter Web App</a>\", \"William83189354: <a href=\\\"http://twitter.com/download/iphone\\\" rel=\\\"nofollow\\\">Twitter for iPhone</a>\", \"Cheri_Kentucky: <a href=\\\"http://twitter.com/download/iphone\\\" rel=\\\"nofollow\\\">Twitter for iPhone</a>\", \"bonnie66842444: <a href=\\\"http://twitter.com/#!/download/ipad\\\" rel=\\\"nofollow\\\">Twitter for iPad</a>\", \"GurupadaDbnt: <a href=\\\"http://twitter.com/download/android\\\" rel=\\\"nofollow\\\">Twitter for Android</a>\", \"idlegigi: <a href=\\\"http://twitter.com/download/iphone\\\" rel=\\\"nofollow\\\">Twitter for iPhone</a>\", \"atlprinter: <a href=\\\"http://twitter.com/download/android\\\" rel=\\\"nofollow\\\">Twitter for Android</a>\", \"CherylS13478522: <a href=\\\"http://twitter.com/download/iphone\\\" rel=\\\"nofollow\\\">Twitter for iPhone</a>\", \"carolou87: <a href=\\\"http://twitter.com/download/iphone\\\" rel=\\\"nofollow\\\">Twitter for iPhone</a>\"], \"type\": \"scattergl\", \"x\": [2552.0, 126.0, 135.0, 220.0, 156.0, 1431.0, 96.0, 1326.0, 167.0, 1039.0, 425.0, 177.0, 230.0, 419.0, 171.0, 166.0, 324.0, 93.0, 116.0, 2751.0, 93.0, 355.0, 168.0, 1452.0, 1260.0], \"y\": [2462.0, 221.0, 251.0, 170.0, 112.0, 1398.0, 94.0, 1283.0, 115.0, 976.0, 550.0, 126.0, 184.0, 351.0, 123.0, 116.0, 338.0, 43.0, 102.0, 2560.0, 90.0, 183.0, 136.0, 1399.0, 1229.0]}, {\"hovertemplate\": \"%{text}\", \"marker\": {\"color\": \"#60fdfa\", \"opacity\": 1, \"size\": 8}, \"mode\": \"markers\", \"name\": \"Retweeted 7 tweets\", \"showlegend\": true, \"text\": [\"pwhitt43: <a href=\\\"http://twitter.com/download/android\\\" rel=\\\"nofollow\\\">Twitter for Android</a>\", \"imshivmgoyal: <a href=\\\"http://twitter.com/download/android\\\" rel=\\\"nofollow\\\">Twitter for Android</a>\", \"WSchlittenhart: <a href=\\\"http://twitter.com/download/iphone\\\" rel=\\\"nofollow\\\">Twitter for iPhone</a>\", \"joemhhi: <a href=\\\"http://twitter.com/#!/download/ipad\\\" rel=\\\"nofollow\\\">Twitter for iPad</a>\", \"Favourjacki: <a href=\\\"http://twitter.com/download/android\\\" rel=\\\"nofollow\\\">Twitter for Android</a>\", \"LLViola: <a href=\\\"http://twitter.com/download/iphone\\\" rel=\\\"nofollow\\\">Twitter for iPhone</a>\", \"RicardoZurdo: <a href=\\\"http://twitter.com/download/android\\\" rel=\\\"nofollow\\\">Twitter for Android</a>\", \"jjraegirl: <a href=\\\"http://twitter.com/download/iphone\\\" rel=\\\"nofollow\\\">Twitter for iPhone</a>\", \"PowerNation22: <a href=\\\"http://twitter.com/download/iphone\\\" rel=\\\"nofollow\\\">Twitter for iPhone</a>\", \"fwilliams17: <a href=\\\"http://twitter.com/download/iphone\\\" rel=\\\"nofollow\\\">Twitter for iPhone</a>\", \"DeaRiley: <a href=\\\"http://twitter.com/download/iphone\\\" rel=\\\"nofollow\\\">Twitter for iPhone</a>\", \"JaniceMontalto: <a href=\\\"https://mobile.twitter.com\\\" rel=\\\"nofollow\\\">Twitter Web App</a>\", \"MelLovesJesus: <a href=\\\"http://twitter.com/download/iphone\\\" rel=\\\"nofollow\\\">Twitter for iPhone</a>\", \"KellyFria: <a href=\\\"http://twitter.com/download/iphone\\\" rel=\\\"nofollow\\\">Twitter for iPhone</a>\", \"Birder511: <a href=\\\"http://twitter.com/download/android\\\" rel=\\\"nofollow\\\">Twitter for Android</a>\", \"aranom12: <a href=\\\"http://twitter.com/download/iphone\\\" rel=\\\"nofollow\\\">Twitter for iPhone</a>\", \"TomFarr1961: <a href=\\\"https://mobile.twitter.com\\\" rel=\\\"nofollow\\\">Twitter Web App</a>\", \"cricket1378: <a href=\\\"http://twitter.com/download/android\\\" rel=\\\"nofollow\\\">Twitter for Android</a>\", \"RRogerCarpenter: <a href=\\\"http://twitter.com/download/iphone\\\" rel=\\\"nofollow\\\">Twitter for iPhone</a>\", \"William_Leon78: <a href=\\\"http://twitter.com/download/android\\\" rel=\\\"nofollow\\\">Twitter for Android</a>\", \"MatthewStover7: <a href=\\\"http://twitter.com/download/android\\\" rel=\\\"nofollow\\\">Twitter for Android</a>\", \"Laflafouha: <a href=\\\"http://twitter.com/download/iphone\\\" rel=\\\"nofollow\\\">Twitter for iPhone</a>\", \"Katecar84611017: <a href=\\\"http://twitter.com/#!/download/ipad\\\" rel=\\\"nofollow\\\">Twitter for iPad</a>\", \"smnewmark_: <a href=\\\"http://twitter.com/download/iphone\\\" rel=\\\"nofollow\\\">Twitter for iPhone</a>\", \"Sumsky2: <a href=\\\"http://twitter.com/download/iphone\\\" rel=\\\"nofollow\\\">Twitter for iPhone</a>\", \"titcanada: <a href=\\\"http://twitter.com/download/android\\\" rel=\\\"nofollow\\\">Twitter for Android</a>\", \"wildwest1900: <a href=\\\"http://twitter.com/download/android\\\" rel=\\\"nofollow\\\">Twitter for Android</a>\", \"Iworknightshift: <a href=\\\"https://mobile.twitter.com\\\" rel=\\\"nofollow\\\">Twitter Web App</a>\", \"JenWisconsin: <a href=\\\"http://twitter.com/download/android\\\" rel=\\\"nofollow\\\">Twitter for Android</a>\", \"Kimbermac2: <a href=\\\"http://twitter.com/download/android\\\" rel=\\\"nofollow\\\">Twitter for Android</a>\", \"BredlauMary: <a href=\\\"https://mobile.twitter.com\\\" rel=\\\"nofollow\\\">Twitter Web App</a>\", \"bill7405: <a href=\\\"https://mobile.twitter.com\\\" rel=\\\"nofollow\\\">Twitter Web App</a>\", \"princesssofpwr: <a href=\\\"http://twitter.com/download/iphone\\\" rel=\\\"nofollow\\\">Twitter for iPhone</a>\"], \"type\": \"scattergl\", \"x\": [367.0, 290.0, 107.0, 217.0, 100.0, 3566.0, 222.0, 1921.0, 2347.0, 783.0, 1920.0, 2363.0, 615.0, 2042.0, 444.0, 2757.0, 1150.0, 2433.0, 141.0, 1206.0, 438.0, 2816.0, 662.0, 112.0, 474.0, 668.0, 92.0, 2131.0, 770.0, 620.0, 3172.0, 3493.0, 2485.0], \"y\": [192.0, 242.0, 111.0, 165.0, 95.0, 3517.0, 178.0, 1871.0, 2302.0, 677.0, 1876.0, 2305.0, 567.0, 2008.0, 392.0, 2705.0, 1095.0, 2383.0, 95.0, 1183.0, 442.0, 2515.0, 615.0, 98.0, 425.0, 106.0, 82.0, 2086.0, 720.0, 516.0, 3124.0, 3444.0, 2423.0]}, {\"hovertemplate\": \"%{text}\", \"marker\": {\"color\": \"#aefdff\", \"opacity\": 1, \"size\": 8}, \"mode\": \"markers\", \"name\": \"Retweeted 8 tweets\", \"showlegend\": true, \"text\": [\"GeorgiaBoy4Real: <a href=\\\"https://mobile.twitter.com\\\" rel=\\\"nofollow\\\">Twitter Web App</a>\", \"Auburngirlx: <a href=\\\"http://twitter.com\\\" rel=\\\"nofollow\\\">Twitter Web Client</a>\", \"Rolandvanking: <a href=\\\"https://mobile.twitter.com\\\" rel=\\\"nofollow\\\">Twitter Web App</a>\", \"Carol56488068: <a href=\\\"http://twitter.com/download/android\\\" rel=\\\"nofollow\\\">Twitter for Android</a>\", \"KZemski: <a href=\\\"http://twitter.com/download/android\\\" rel=\\\"nofollow\\\">Twitter for Android</a>\", \"DeanRob88631190: <a href=\\\"https://mobile.twitter.com\\\" rel=\\\"nofollow\\\">Twitter Web App</a>\", \"DebbieKiwiblack: <a href=\\\"https://mobile.twitter.com\\\" rel=\\\"nofollow\\\">Twitter Web App</a>\", \"AnaBergeron1: <a href=\\\"http://twitter.com/download/iphone\\\" rel=\\\"nofollow\\\">Twitter for iPhone</a>\", \"DaveEverlasting: <a href=\\\"http://twitter.com/download/iphone\\\" rel=\\\"nofollow\\\">Twitter for iPhone</a>\", \"TroxellLinda: <a href=\\\"http://twitter.com/download/iphone\\\" rel=\\\"nofollow\\\">Twitter for iPhone</a>\", \"Hasselhoff_III: <a href=\\\"http://twitter.com/download/iphone\\\" rel=\\\"nofollow\\\">Twitter for iPhone</a>\", \"sergekorits: <a href=\\\"https://mobile.twitter.com\\\" rel=\\\"nofollow\\\">Twitter Web App</a>\", \"Gigicat3: <a href=\\\"https://mobile.twitter.com\\\" rel=\\\"nofollow\\\">Twitter Web App</a>\", \"TEHILLAH444: <a href=\\\"http://twitter.com/download/iphone\\\" rel=\\\"nofollow\\\">Twitter for iPhone</a>\", \"slh2813: <a href=\\\"http://twitter.com/download/android\\\" rel=\\\"nofollow\\\">Twitter for Android</a>\", \"KahlerSabrina: <a href=\\\"http://twitter.com/download/android\\\" rel=\\\"nofollow\\\">Twitter for Android</a>\", \"lumezgo77: <a href=\\\"http://twitter.com/download/android\\\" rel=\\\"nofollow\\\">Twitter for Android</a>\", \"SusaMcKenzieNe1: <a href=\\\"http://twitter.com/download/iphone\\\" rel=\\\"nofollow\\\">Twitter for iPhone</a>\", \"cmteed: <a href=\\\"http://twitter.com/download/iphone\\\" rel=\\\"nofollow\\\">Twitter for iPhone</a>\", \"MinMtwit: <a href=\\\"http://twitter.com/download/android\\\" rel=\\\"nofollow\\\">Twitter for Android</a>\", \"jdkfkfl1: <a href=\\\"http://twitter.com/download/android\\\" rel=\\\"nofollow\\\">Twitter for Android</a>\", \"SYMMETRY_11: <a href=\\\"https://mobile.twitter.com\\\" rel=\\\"nofollow\\\">Twitter Web App</a>\", \"fedagentmark: <a href=\\\"http://twitter.com/#!/download/ipad\\\" rel=\\\"nofollow\\\">Twitter for iPad</a>\", \"Henry_4570: <a href=\\\"http://twitter.com/download/android\\\" rel=\\\"nofollow\\\">Twitter for Android</a>\", \"jimtek86: <a href=\\\"http://twitter.com/download/android\\\" rel=\\\"nofollow\\\">Twitter for Android</a>\", \"BudithiRaman: <a href=\\\"http://twitter.com/download/android\\\" rel=\\\"nofollow\\\">Twitter for Android</a>\", \"ConservativeGM: <a href=\\\"http://twitter.com/download/android\\\" rel=\\\"nofollow\\\">Twitter for Android</a>\", \"TwWorthy: <a href=\\\"http://twitter.com/download/android\\\" rel=\\\"nofollow\\\">Twitter for Android</a>\", \"graydeadzombie: <a href=\\\"http://twitter.com/download/android\\\" rel=\\\"nofollow\\\">Twitter for Android</a>\", \"KeithShake: <a href=\\\"http://twitter.com/download/iphone\\\" rel=\\\"nofollow\\\">Twitter for iPhone</a>\", \"ChunFanTWJ: <a href=\\\"http://twitter.com/download/iphone\\\" rel=\\\"nofollow\\\">Twitter for iPhone</a>\", \"MIKEM_LINY: <a href=\\\"http://twitter.com/download/android\\\" rel=\\\"nofollow\\\">Twitter for Android</a>\", \"stivers52: <a href=\\\"http://twitter.com/download/iphone\\\" rel=\\\"nofollow\\\">Twitter for iPhone</a>\", \"LittleDavid55: <a href=\\\"http://twitter.com/download/iphone\\\" rel=\\\"nofollow\\\">Twitter for iPhone</a>\", \"rometioaquen: <a href=\\\"http://twitter.com/download/android\\\" rel=\\\"nofollow\\\">Twitter for Android</a>\", \"hey_dani_hey: <a href=\\\"http://twitter.com/download/iphone\\\" rel=\\\"nofollow\\\">Twitter for iPhone</a>\", \"SandyTRUMP2020: <a href=\\\"http://twitter.com/download/iphone\\\" rel=\\\"nofollow\\\">Twitter for iPhone</a>\", \"America1776Q: <a href=\\\"http://twitter.com/download/iphone\\\" rel=\\\"nofollow\\\">Twitter for iPhone</a>\", \"KidukSong: <a href=\\\"http://twitter.com/download/iphone\\\" rel=\\\"nofollow\\\">Twitter for iPhone</a>\", \"DavidSuarezAvi1: <a href=\\\"http://twitter.com/download/android\\\" rel=\\\"nofollow\\\">Twitter for Android</a>\", \"mjoaniedickson: <a href=\\\"http://twitter.com/#!/download/ipad\\\" rel=\\\"nofollow\\\">Twitter for iPad</a>\", \"starrynight620: <a href=\\\"http://twitter.com/download/iphone\\\" rel=\\\"nofollow\\\">Twitter for iPhone</a>\", \"pgrlegacy: <a href=\\\"http://twitter.com/download/android\\\" rel=\\\"nofollow\\\">Twitter for Android</a>\", \"lvlvlrd707: <a href=\\\"http://twitter.com/download/android\\\" rel=\\\"nofollow\\\">Twitter for Android</a>\", \"5mvaldivia2017: <a href=\\\"http://twitter.com/#!/download/ipad\\\" rel=\\\"nofollow\\\">Twitter for iPad</a>\", \"ShanMirza5: <a href=\\\"http://twitter.com/download/android\\\" rel=\\\"nofollow\\\">Twitter for Android</a>\", \"GrampTorino: <a href=\\\"http://twitter.com/download/android\\\" rel=\\\"nofollow\\\">Twitter for Android</a>\", \"trademarkburdo: <a href=\\\"http://twitter.com/download/iphone\\\" rel=\\\"nofollow\\\">Twitter for iPhone</a>\", \"dhasiv: <a href=\\\"http://twitter.com/download/iphone\\\" rel=\\\"nofollow\\\">Twitter for iPhone</a>\", \"indictEm: <a href=\\\"http://twitter.com/download/iphone\\\" rel=\\\"nofollow\\\">Twitter for iPhone</a>\", \"QGraphi: <a href=\\\"http://twitter.com/download/iphone\\\" rel=\\\"nofollow\\\">Twitter for iPhone</a>\", \"lonestartxMary: <a href=\\\"http://twitter.com/download/iphone\\\" rel=\\\"nofollow\\\">Twitter for iPhone</a>\", \"LoRosS26: <a href=\\\"http://twitter.com/download/iphone\\\" rel=\\\"nofollow\\\">Twitter for iPhone</a>\", \"Retlaw1911: <a href=\\\"https://mobile.twitter.com\\\" rel=\\\"nofollow\\\">Twitter Web App</a>\", \"JamesWr16739404: <a href=\\\"https://mobile.twitter.com\\\" rel=\\\"nofollow\\\">Twitter Web App</a>\", \"ApstDonald: <a href=\\\"http://twitter.com/download/iphone\\\" rel=\\\"nofollow\\\">Twitter for iPhone</a>\", \"Hadigee1: <a href=\\\"https://mobile.twitter.com\\\" rel=\\\"nofollow\\\">Twitter Web App</a>\", \"Merryflower33: <a href=\\\"https://mobile.twitter.com\\\" rel=\\\"nofollow\\\">Twitter Web App</a>\", \"DennisG60867771: <a href=\\\"https://mobile.twitter.com\\\" rel=\\\"nofollow\\\">Twitter Web App</a>\", \"TruthWins4ever: <a href=\\\"http://twitter.com/download/iphone\\\" rel=\\\"nofollow\\\">Twitter for iPhone</a>\", \"jssar: <a href=\\\"http://twitter.com/#!/download/ipad\\\" rel=\\\"nofollow\\\">Twitter for iPad</a>\", \"EdwardNugent15: <a href=\\\"http://twitter.com/download/iphone\\\" rel=\\\"nofollow\\\">Twitter for iPhone</a>\", \"ronnuke: <a href=\\\"http://twitter.com/download/iphone\\\" rel=\\\"nofollow\\\">Twitter for iPhone</a>\", \"BeckiDoll007: <a href=\\\"http://twitter.com/download/iphone\\\" rel=\\\"nofollow\\\">Twitter for iPhone</a>\", \"DeplorableScot: <a href=\\\"https://mobile.twitter.com\\\" rel=\\\"nofollow\\\">Twitter Web App</a>\", \"saramangas2004: <a href=\\\"http://twitter.com/download/iphone\\\" rel=\\\"nofollow\\\">Twitter for iPhone</a>\", \"DorothyPortHope: <a href=\\\"https://mobile.twitter.com\\\" rel=\\\"nofollow\\\">Twitter Web App</a>\", \"rcanales: <a href=\\\"http://twitter.com/download/iphone\\\" rel=\\\"nofollow\\\">Twitter for iPhone</a>\", \"Chris86668638: <a href=\\\"http://twitter.com/download/android\\\" rel=\\\"nofollow\\\">Twitter for Android</a>\", \"Donna__Carol: <a href=\\\"http://twitter.com/download/iphone\\\" rel=\\\"nofollow\\\">Twitter for iPhone</a>\", \"Anthony00819898: <a href=\\\"http://twitter.com/download/android\\\" rel=\\\"nofollow\\\">Twitter for Android</a>\", \"Mudblood54: <a href=\\\"http://twitter.com/download/iphone\\\" rel=\\\"nofollow\\\">Twitter for iPhone</a>\", \"lionsmds: <a href=\\\"http://twitter.com/download/android\\\" rel=\\\"nofollow\\\">Twitter for Android</a>\", \"GrandmaPatriot2: <a href=\\\"https://mobile.twitter.com\\\" rel=\\\"nofollow\\\">Twitter Web App</a>\"], \"type\": \"scattergl\", \"x\": [2407.0, 1272.0, 611.0, 337.0, 322.0, 582.0, 339.0, 894.0, 3048.0, 118.0, 1445.0, 3062.0, 737.0, 104.0, 1307.0, 491.0, 3009.0, 783.0, 105.0, 1549.0, 2346.0, 2615.0, 1421.0, 383.0, 2168.0, 98.0, 1579.0, 2812.0, 681.0, 419.0, 158.0, 517.0, 2557.0, 1906.0, 660.0, 753.0, 1433.0, 1098.0, 354.0, 974.0, 1375.0, 2037.0, 1629.0, 2989.0, 93.0, 1774.0, 62.0, 764.0, 3311.0, 2460.0, 1927.0, 102.0, 2538.0, 2664.0, 1231.0, 145.0, 3142.0, 3407.0, 1241.0, 142.0, 2548.0, 655.0, 1797.0, 95.0, 2063.0, 356.0, 1789.0, 3078.0, 3569.0, 1579.0, 808.0, 121.0, 3505.0, 581.0], \"y\": [2382.0, 1602.0, 566.0, 291.0, 259.0, 537.0, 315.0, 843.0, 2957.0, 93.0, 1401.0, 3025.0, 692.0, 101.0, 1252.0, 438.0, 2972.0, 734.0, 105.0, 1504.0, 2303.0, 2595.0, 1377.0, 327.0, 2130.0, 92.0, 1529.0, 2761.0, 624.0, 363.0, 112.0, 468.0, 2513.0, 1859.0, 610.0, 710.0, 1376.0, 1053.0, 316.0, 982.0, 1330.0, 1926.0, 1585.0, 2967.0, 89.0, 1741.0, 17.0, 716.0, 3267.0, 2415.0, 1876.0, 642.0, 2491.0, 2586.0, 1186.0, 101.0, 3097.0, 3355.0, 1189.0, 187.0, 2513.0, 611.0, 1742.0, 138.0, 2015.0, 306.0, 1699.0, 3022.0, 3524.0, 1534.0, 765.0, 102.0, 3468.0, 555.0]}, {\"hovertemplate\": \"%{text}\", \"marker\": {\"color\": \"#f3f3f1\", \"opacity\": 1, \"size\": 8}, \"mode\": \"markers\", \"name\": \"Retweeted 9 tweets\", \"showlegend\": true, \"text\": [\"duanevotaw: <a href=\\\"http://twitter.com/download/iphone\\\" rel=\\\"nofollow\\\">Twitter for iPhone</a>\", \"ErinUlshafer: <a href=\\\"http://twitter.com/download/android\\\" rel=\\\"nofollow\\\">Twitter for Android</a>\", \"scrappytx: <a href=\\\"http://twitter.com/download/android\\\" rel=\\\"nofollow\\\">Twitter for Android</a>\", \"ScottCarpenterS: <a href=\\\"https://mobile.twitter.com\\\" rel=\\\"nofollow\\\">Twitter Web App</a>\", \"GowdyBoogaloo: <a href=\\\"http://twitter.com/download/android\\\" rel=\\\"nofollow\\\">Twitter for Android</a>\", \"MarionSchafter: <a href=\\\"http://twitter.com/download/android\\\" rel=\\\"nofollow\\\">Twitter for Android</a>\", \"Chrittieg: <a href=\\\"http://twitter.com/download/iphone\\\" rel=\\\"nofollow\\\">Twitter for iPhone</a>\", \"restart24757062: <a href=\\\"https://mobile.twitter.com\\\" rel=\\\"nofollow\\\">Twitter Web App</a>\", \"Sherryandpets: <a href=\\\"http://twitter.com/#!/download/ipad\\\" rel=\\\"nofollow\\\">Twitter for iPad</a>\", \"Dianeecho17: <a href=\\\"http://twitter.com/download/android\\\" rel=\\\"nofollow\\\">Twitter for Android</a>\", \"PamelaB98884515: <a href=\\\"http://twitter.com/download/iphone\\\" rel=\\\"nofollow\\\">Twitter for iPhone</a>\", \"GeorgeChisolm3: <a href=\\\"http://twitter.com/download/android\\\" rel=\\\"nofollow\\\">Twitter for Android</a>\", \"lucky_burgess: <a href=\\\"https://mobile.twitter.com\\\" rel=\\\"nofollow\\\">Twitter Web App</a>\", \"LauraWilsonGal: <a href=\\\"http://twitter.com/download/android\\\" rel=\\\"nofollow\\\">Twitter for Android</a>\", \"TiredofBS13: <a href=\\\"https://mobile.twitter.com\\\" rel=\\\"nofollow\\\">Twitter Web App</a>\", \"WFoxCat: <a href=\\\"https://mobile.twitter.com\\\" rel=\\\"nofollow\\\">Twitter Web App</a>\", \"u2biker: <a href=\\\"https://mobile.twitter.com\\\" rel=\\\"nofollow\\\">Twitter Web App</a>\", \"RealMedEmpire: <a href=\\\"http://twitter.com/download/iphone\\\" rel=\\\"nofollow\\\">Twitter for iPhone</a>\", \"stovetop4yo: <a href=\\\"http://twitter.com/download/iphone\\\" rel=\\\"nofollow\\\">Twitter for iPhone</a>\", \"thejacibh2: <a href=\\\"http://twitter.com/download/iphone\\\" rel=\\\"nofollow\\\">Twitter for iPhone</a>\", \"wavmakr1: <a href=\\\"http://twitter.com/download/iphone\\\" rel=\\\"nofollow\\\">Twitter for iPhone</a>\", \"americanism36: <a href=\\\"http://twitter.com/download/iphone\\\" rel=\\\"nofollow\\\">Twitter for iPhone</a>\", \"MattDonaldson15: <a href=\\\"http://twitter.com/download/iphone\\\" rel=\\\"nofollow\\\">Twitter for iPhone</a>\", \"Fed56825: <a href=\\\"http://twitter.com/download/iphone\\\" rel=\\\"nofollow\\\">Twitter for iPhone</a>\", \"seva4544: <a href=\\\"http://twitter.com/download/android\\\" rel=\\\"nofollow\\\">Twitter for Android</a>\", \"bugsfbunny: <a href=\\\"https://mobile.twitter.com\\\" rel=\\\"nofollow\\\">Twitter Web App</a>\", \"rldcarync: <a href=\\\"http://twitter.com/download/iphone\\\" rel=\\\"nofollow\\\">Twitter for iPhone</a>\", \"Trump_Rocks_US: <a href=\\\"https://mobile.twitter.com\\\" rel=\\\"nofollow\\\">Twitter Web App</a>\", \"ERGA75: <a href=\\\"https://mobile.twitter.com\\\" rel=\\\"nofollow\\\">Twitter Web App</a>\", \"Tamralee123: <a href=\\\"https://mobile.twitter.com\\\" rel=\\\"nofollow\\\">Twitter Web App</a>\", \"orlandomicki: <a href=\\\"https://about.twitter.com/products/tweetdeck\\\" rel=\\\"nofollow\\\">TweetDeck</a>\", \"g_valtadoros: <a href=\\\"http://twitter.com/download/iphone\\\" rel=\\\"nofollow\\\">Twitter for iPhone</a>\", \"Pax2Sofie: <a href=\\\"http://twitter.com/download/iphone\\\" rel=\\\"nofollow\\\">Twitter for iPhone</a>\", \"VickyLynnSulli1: <a href=\\\"http://twitter.com/download/iphone\\\" rel=\\\"nofollow\\\">Twitter for iPhone</a>\", \"Andrianamik: <a href=\\\"http://twitter.com/#!/download/ipad\\\" rel=\\\"nofollow\\\">Twitter for iPad</a>\", \"6549lmartin: <a href=\\\"http://twitter.com/#!/download/ipad\\\" rel=\\\"nofollow\\\">Twitter for iPad</a>\", \"2sweetdad: <a href=\\\"http://twitter.com/download/android\\\" rel=\\\"nofollow\\\">Twitter for Android</a>\", \"TheocharisHadj5: <a href=\\\"https://mobile.twitter.com\\\" rel=\\\"nofollow\\\">Twitter Web App</a>\", \"CraigsMegs: <a href=\\\"http://twitter.com/download/android\\\" rel=\\\"nofollow\\\">Twitter for Android</a>\", \"SongBird4Trump: <a href=\\\"http://twitter.com/download/android\\\" rel=\\\"nofollow\\\">Twitter for Android</a>\", \"AbdulHai23: <a href=\\\"https://mobile.twitter.com\\\" rel=\\\"nofollow\\\">Twitter Web App</a>\", \"sanangelotexan: <a href=\\\"http://twitter.com/download/iphone\\\" rel=\\\"nofollow\\\">Twitter for iPhone</a>\", \"ThedeplorableM: <a href=\\\"https://mobile.twitter.com\\\" rel=\\\"nofollow\\\">Twitter Web App</a>\", \"psPetePatel7: <a href=\\\"http://twitter.com/download/iphone\\\" rel=\\\"nofollow\\\">Twitter for iPhone</a>\", \"JohnIQSimeon: <a href=\\\"http://twitter.com/download/iphone\\\" rel=\\\"nofollow\\\">Twitter for iPhone</a>\", \"Johnkim05416420: <a href=\\\"https://mobile.twitter.com\\\" rel=\\\"nofollow\\\">Twitter Web App</a>\", \"MerryAnita: <a href=\\\"http://twitter.com/download/android\\\" rel=\\\"nofollow\\\">Twitter for Android</a>\", \"GMSRepublic: <a href=\\\"https://mobile.twitter.com\\\" rel=\\\"nofollow\\\">Twitter Web App</a>\", \"FuFubar1: <a href=\\\"http://twitter.com/download/android\\\" rel=\\\"nofollow\\\">Twitter for Android</a>\", \"soniaerasmus: <a href=\\\"http://twitter.com/download/android\\\" rel=\\\"nofollow\\\">Twitter for Android</a>\", \"fionataylor999: <a href=\\\"http://twitter.com/download/android\\\" rel=\\\"nofollow\\\">Twitter for Android</a>\", \"MitziSzemeth: <a href=\\\"http://twitter.com/download/iphone\\\" rel=\\\"nofollow\\\">Twitter for iPhone</a>\", \"tthseeker: <a href=\\\"http://twitter.com/download/android\\\" rel=\\\"nofollow\\\">Twitter for Android</a>\", \"bksharp69: <a href=\\\"http://twitter.com/download/iphone\\\" rel=\\\"nofollow\\\">Twitter for iPhone</a>\", \"alrcats: <a href=\\\"http://twitter.com/download/iphone\\\" rel=\\\"nofollow\\\">Twitter for iPhone</a>\", \"Jeff70477084: <a href=\\\"http://twitter.com/download/android\\\" rel=\\\"nofollow\\\">Twitter for Android</a>\", \"LadyG8tor51: <a href=\\\"http://twitter.com/download/iphone\\\" rel=\\\"nofollow\\\">Twitter for iPhone</a>\", \"sasky1959: <a href=\\\"http://twitter.com/download/iphone\\\" rel=\\\"nofollow\\\">Twitter for iPhone</a>\", \"LorraineMingri1: <a href=\\\"http://twitter.com/#!/download/ipad\\\" rel=\\\"nofollow\\\">Twitter for iPad</a>\", \"souljahsingh: <a href=\\\"http://twitter.com/download/android\\\" rel=\\\"nofollow\\\">Twitter for Android</a>\", \"ChukwuaustinG: <a href=\\\"http://twitter.com/download/android\\\" rel=\\\"nofollow\\\">Twitter for Android</a>\", \"DawnHunterton: <a href=\\\"http://twitter.com/download/iphone\\\" rel=\\\"nofollow\\\">Twitter for iPhone</a>\", \"SueSarabia: <a href=\\\"http://twitter.com/download/android\\\" rel=\\\"nofollow\\\">Twitter for Android</a>\", \"stewonthis1: <a href=\\\"http://twitter.com/download/iphone\\\" rel=\\\"nofollow\\\">Twitter for iPhone</a>\", \"TrishFricke: <a href=\\\"http://twitter.com/download/android\\\" rel=\\\"nofollow\\\">Twitter for Android</a>\", \"jocelyncoppock: <a href=\\\"http://twitter.com/download/iphone\\\" rel=\\\"nofollow\\\">Twitter for iPhone</a>\", \"Roni4488: <a href=\\\"http://twitter.com/download/android\\\" rel=\\\"nofollow\\\">Twitter for Android</a>\", \"the_staceys: <a href=\\\"https://mobile.twitter.com\\\" rel=\\\"nofollow\\\">Twitter Web App</a>\", \"caitie1877: <a href=\\\"http://twitter.com/download/android\\\" rel=\\\"nofollow\\\">Twitter for Android</a>\", \"MikeMusky427: <a href=\\\"http://twitter.com/download/iphone\\\" rel=\\\"nofollow\\\">Twitter for iPhone</a>\", \"SadiKleida: <a href=\\\"https://mobile.twitter.com\\\" rel=\\\"nofollow\\\">Twitter Web App</a>\", \"AlexYarber: <a href=\\\"http://twitter.com/download/iphone\\\" rel=\\\"nofollow\\\">Twitter for iPhone</a>\", \"rrtheis81: <a href=\\\"https://mobile.twitter.com\\\" rel=\\\"nofollow\\\">Twitter Web App</a>\", \"tony_mazzei: <a href=\\\"http://twitter.com/download/iphone\\\" rel=\\\"nofollow\\\">Twitter for iPhone</a>\", \"JoyceGlaser: <a href=\\\"http://twitter.com/#!/download/ipad\\\" rel=\\\"nofollow\\\">Twitter for iPad</a>\", \"ii_shieldwolf: <a href=\\\"https://mobile.twitter.com\\\" rel=\\\"nofollow\\\">Twitter Web App</a>\", \"agbudeufuoma: <a href=\\\"http://twitter.com/download/iphone\\\" rel=\\\"nofollow\\\">Twitter for iPhone</a>\", \"ScubaSteve015: <a href=\\\"http://twitter.com/download/iphone\\\" rel=\\\"nofollow\\\">Twitter for iPhone</a>\", \"MarkMck13926292: <a href=\\\"http://twitter.com/download/android\\\" rel=\\\"nofollow\\\">Twitter for Android</a>\", \"1Kekster: <a href=\\\"http://twitter.com/download/iphone\\\" rel=\\\"nofollow\\\">Twitter for iPhone</a>\", \"NanFitzpatrick: <a href=\\\"https://mobile.twitter.com\\\" rel=\\\"nofollow\\\">Twitter Web App</a>\", \"kranDemirkollu2: <a href=\\\"https://mobile.twitter.com\\\" rel=\\\"nofollow\\\">Twitter Web App</a>\", \"texasfreedom101: <a href=\\\"https://mobile.twitter.com\\\" rel=\\\"nofollow\\\">Twitter Web App</a>\", \"gillcolon1158: <a href=\\\"http://twitter.com/download/iphone\\\" rel=\\\"nofollow\\\">Twitter for iPhone</a>\", \"LuongoRose: <a href=\\\"http://twitter.com/download/android\\\" rel=\\\"nofollow\\\">Twitter for Android</a>\", \"105267: <a href=\\\"http://twitter.com/download/iphone\\\" rel=\\\"nofollow\\\">Twitter for iPhone</a>\", \"Lisa4OR1st: <a href=\\\"http://twitter.com/download/iphone\\\" rel=\\\"nofollow\\\">Twitter for iPhone</a>\", \"linda_mclelland: <a href=\\\"http://twitter.com/download/android\\\" rel=\\\"nofollow\\\">Twitter for Android</a>\", \"OfficialMuhamm8: <a href=\\\"https://mobile.twitter.com\\\" rel=\\\"nofollow\\\">Twitter Web App</a>\", \"Brandon55821992: <a href=\\\"http://twitter.com/download/android\\\" rel=\\\"nofollow\\\">Twitter for Android</a>\", \"Red_PilledMaga: <a href=\\\"http://twitter.com/download/android\\\" rel=\\\"nofollow\\\">Twitter for Android</a>\", \"Debster234: <a href=\\\"http://twitter.com/download/iphone\\\" rel=\\\"nofollow\\\">Twitter for iPhone</a>\", \"AndreaMorse56: <a href=\\\"http://twitter.com/download/iphone\\\" rel=\\\"nofollow\\\">Twitter for iPhone</a>\", \"KathrynFebbrar1: <a href=\\\"http://twitter.com/download/iphone\\\" rel=\\\"nofollow\\\">Twitter for iPhone</a>\", \"lishih_h: <a href=\\\"http://twitter.com/download/android\\\" rel=\\\"nofollow\\\">Twitter for Android</a>\", \"jetrotter: <a href=\\\"http://twitter.com/download/android\\\" rel=\\\"nofollow\\\">Twitter for Android</a>\", \"FeistyGriffin: <a href=\\\"http://twitter.com/download/iphone\\\" rel=\\\"nofollow\\\">Twitter for iPhone</a>\", \"AutoWagers: <a href=\\\"http://twitter.com/download/iphone\\\" rel=\\\"nofollow\\\">Twitter for iPhone</a>\", \"JimKuther: <a href=\\\"https://mobile.twitter.com\\\" rel=\\\"nofollow\\\">Twitter Web App</a>\", \"schexn1: <a href=\\\"http://twitter.com/download/iphone\\\" rel=\\\"nofollow\\\">Twitter for iPhone</a>\", \"bamanicky: <a href=\\\"http://twitter.com/download/iphone\\\" rel=\\\"nofollow\\\">Twitter for iPhone</a>\", \"SandersonNoreen: <a href=\\\"https://mobile.twitter.com\\\" rel=\\\"nofollow\\\">Twitter Web App</a>\", \"gail_bozik: <a href=\\\"http://twitter.com/download/android\\\" rel=\\\"nofollow\\\">Twitter for Android</a>\"], \"type\": \"scattergl\", \"x\": [1430.0, 1092.0, 2984.0, 644.0, 963.0, 1457.0, 579.0, 3437.0, 2476.0, 349.0, 461.0, 386.0, 717.0, 1258.0, 3116.0, 3215.0, 2549.0, 886.0, 1448.0, 310.0, 1702.0, 1612.0, 2599.0, 2489.0, 233.0, 443.0, 1634.0, 411.0, 836.0, 2841.0, 11.0, 2371.0, 2340.0, 2053.0, 3444.0, 443.0, 357.0, 640.0, 232.0, 2178.0, 1497.0, 1702.0, 623.0, 651.0, 2928.0, 2311.0, 2706.0, 2432.0, 949.0, 2961.0, 669.0, 859.0, 2699.0, 730.0, 3198.0, 2226.0, 103.0, 256.0, 605.0, 1682.0, 219.0, 2106.0, 2535.0, 1440.0, 705.0, 1145.0, 1171.0, 3271.0, 2630.0, 1095.0, 1647.0, 671.0, 3024.0, 2405.0, 1045.0, 1432.0, 298.0, 665.0, 2055.0, 1057.0, 2699.0, 692.0, 1210.0, 1233.0, 423.0, 1387.0, 2474.0, 2186.0, 1555.0, 1044.0, 3093.0, 370.0, 382.0, 2788.0, 1138.0, 15.0, 3440.0, 554.0, 3276.0, 2845.0, 164.0, 353.0, 1667.0], \"y\": [1384.0, 1035.0, 2939.0, 601.0, 933.0, 1405.0, 534.0, 3392.0, 2462.0, 316.0, 417.0, 328.0, 669.0, 1211.0, 3066.0, 3205.0, 2363.0, 836.0, 1402.0, 264.0, 1669.0, 1568.0, 2563.0, 2445.0, 185.0, 415.0, 1586.0, 381.0, 780.0, 2808.0, 6.0, 2327.0, 2312.0, 1992.0, 3407.0, 398.0, 311.0, 594.0, 244.0, 2129.0, 1452.0, 1665.0, 573.0, 595.0, 2880.0, 2277.0, 2668.0, 2387.0, 893.0, 2923.0, 615.0, 812.0, 2668.0, 699.0, 3154.0, 2190.0, 96.0, 223.0, 545.0, 1640.0, 178.0, 2052.0, 2487.0, 1384.0, 651.0, 1092.0, 1120.0, 3212.0, 2586.0, 1048.0, 1621.0, 616.0, 2978.0, 2362.0, 1001.0, 1387.0, 255.0, 620.0, 2010.0, 1007.0, 2669.0, 656.0, 1166.0, 1187.0, 370.0, 1336.0, 2450.0, 2151.0, 1510.0, 991.0, 3061.0, 322.0, 338.0, 2728.0, 1093.0, 2578.0, 3393.0, 135.0, 3232.0, 2796.0, 88.0, 307.0, 1616.0]}, {\"hovertemplate\": \"%{text}\", \"marker\": {\"color\": \"#fffda9\", \"opacity\": 1, \"size\": 8}, \"mode\": \"markers\", \"name\": \"Retweeted 10 tweets\", \"showlegend\": true, \"text\": [\"azoebear11: <a href=\\\"http://twitter.com/download/iphone\\\" rel=\\\"nofollow\\\">Twitter for iPhone</a>\", \"bzm84413132: <a href=\\\"http://twitter.com/download/iphone\\\" rel=\\\"nofollow\\\">Twitter for iPhone</a>\", \"caskett2014: <a href=\\\"http://twitter.com/#!/download/ipad\\\" rel=\\\"nofollow\\\">Twitter for iPad</a>\", \"BobHarr1944: <a href=\\\"http://twitter.com/download/android\\\" rel=\\\"nofollow\\\">Twitter for Android</a>\", \"autismfamily01: <a href=\\\"http://twitter.com/download/iphone\\\" rel=\\\"nofollow\\\">Twitter for iPhone</a>\", \"myIZrOpend: <a href=\\\"http://twitter.com/#!/download/ipad\\\" rel=\\\"nofollow\\\">Twitter for iPad</a>\", \"NHale1776: <a href=\\\"https://mobile.twitter.com\\\" rel=\\\"nofollow\\\">Twitter Web App</a>\", \"Donna48195033: <a href=\\\"https://mobile.twitter.com\\\" rel=\\\"nofollow\\\">Twitter Web App</a>\", \"Bob74794984: <a href=\\\"https://mobile.twitter.com\\\" rel=\\\"nofollow\\\">Twitter Web App</a>\", \"rikyt74: <a href=\\\"http://twitter.com/download/iphone\\\" rel=\\\"nofollow\\\">Twitter for iPhone</a>\", \"Hiking586: <a href=\\\"http://twitter.com/#!/download/ipad\\\" rel=\\\"nofollow\\\">Twitter for iPad</a>\", \"Amazinggrace2me: <a href=\\\"http://twitter.com/#!/download/ipad\\\" rel=\\\"nofollow\\\">Twitter for iPad</a>\", \"DanielThillerup: <a href=\\\"https://mobile.twitter.com\\\" rel=\\\"nofollow\\\">Twitter Web App</a>\", \"barista_diva: <a href=\\\"http://twitter.com/download/iphone\\\" rel=\\\"nofollow\\\">Twitter for iPhone</a>\", \"trueDaveThomas: <a href=\\\"http://twitter.com/download/android\\\" rel=\\\"nofollow\\\">Twitter for Android</a>\", \"KittyCatGranny: <a href=\\\"http://twitter.com/#!/download/ipad\\\" rel=\\\"nofollow\\\">Twitter for iPad</a>\", \"BDinsio: <a href=\\\"http://twitter.com/download/android\\\" rel=\\\"nofollow\\\">Twitter for Android</a>\", \"UPMHPM: <a href=\\\"https://mobile.twitter.com\\\" rel=\\\"nofollow\\\">Twitter Web App</a>\", \"OldhessL: <a href=\\\"http://twitter.com/download/iphone\\\" rel=\\\"nofollow\\\">Twitter for iPhone</a>\", \"angela88van: <a href=\\\"http://twitter.com/download/android\\\" rel=\\\"nofollow\\\">Twitter for Android</a>\", \"1Deucer: <a href=\\\"http://twitter.com/download/iphone\\\" rel=\\\"nofollow\\\">Twitter for iPhone</a>\", \"swirlygal: <a href=\\\"https://mobile.twitter.com\\\" rel=\\\"nofollow\\\">Twitter Web App</a>\", \"bearhd57: <a href=\\\"http://twitter.com/download/iphone\\\" rel=\\\"nofollow\\\">Twitter for iPhone</a>\", \"AmericanCuban13: <a href=\\\"http://twitter.com/#!/download/ipad\\\" rel=\\\"nofollow\\\">Twitter for iPad</a>\", \"LynjohnHouli: <a href=\\\"http://twitter.com/download/iphone\\\" rel=\\\"nofollow\\\">Twitter for iPhone</a>\", \"Denny59107237: <a href=\\\"http://twitter.com/download/iphone\\\" rel=\\\"nofollow\\\">Twitter for iPhone</a>\", \"nosteponsnek_1: <a href=\\\"http://twitter.com/download/android\\\" rel=\\\"nofollow\\\">Twitter for Android</a>\", \"ArchKennedy: <a href=\\\"http://twitter.com/download/iphone\\\" rel=\\\"nofollow\\\">Twitter for iPhone</a>\", \"Lynnsegura10: <a href=\\\"http://twitter.com/download/iphone\\\" rel=\\\"nofollow\\\">Twitter for iPhone</a>\", \"Kelly73739605: <a href=\\\"http://twitter.com/download/iphone\\\" rel=\\\"nofollow\\\">Twitter for iPhone</a>\", \"cmcgover: <a href=\\\"https://mobile.twitter.com\\\" rel=\\\"nofollow\\\">Twitter Web App</a>\", \"RealKSridharan: <a href=\\\"http://twitter.com/download/iphone\\\" rel=\\\"nofollow\\\">Twitter for iPhone</a>\", \"Jason23819091: <a href=\\\"https://mobile.twitter.com\\\" rel=\\\"nofollow\\\">Twitter Web App</a>\", \"KrisBrbr93: <a href=\\\"http://twitter.com/download/android\\\" rel=\\\"nofollow\\\">Twitter for Android</a>\", \"dwier11111: <a href=\\\"http://twitter.com/download/iphone\\\" rel=\\\"nofollow\\\">Twitter for iPhone</a>\", \"JamTech65: <a href=\\\"http://twitter.com/download/iphone\\\" rel=\\\"nofollow\\\">Twitter for iPhone</a>\", \"Writing4Life197: <a href=\\\"http://twitter.com/download/android\\\" rel=\\\"nofollow\\\">Twitter for Android</a>\", \"realdonaldsays: <a href=\\\"http://yahoo.com\\\" rel=\\\"nofollow\\\">Real Donald Says</a>\", \"BarbaraZaccai: <a href=\\\"https://mobile.twitter.com\\\" rel=\\\"nofollow\\\">Twitter Web App</a>\", \"BrendaAnnEstep: <a href=\\\"http://twitter.com/download/android\\\" rel=\\\"nofollow\\\">Twitter for Android</a>\", \"Smiths4ever: <a href=\\\"http://twitter.com/download/iphone\\\" rel=\\\"nofollow\\\">Twitter for iPhone</a>\", \"JennieKoo: <a href=\\\"http://twitter.com/download/android\\\" rel=\\\"nofollow\\\">Twitter for Android</a>\", \"sylvest72655936: <a href=\\\"https://mobile.twitter.com\\\" rel=\\\"nofollow\\\">Twitter Web App</a>\", \"Sea3monkey: <a href=\\\"http://twitter.com/download/iphone\\\" rel=\\\"nofollow\\\">Twitter for iPhone</a>\", \"Sal94775674: <a href=\\\"http://twitter.com/download/iphone\\\" rel=\\\"nofollow\\\">Twitter for iPhone</a>\", \"RaylenePatriot: <a href=\\\"http://twitter.com/#!/download/ipad\\\" rel=\\\"nofollow\\\">Twitter for iPad</a>\", \"StutsmanTerrie: <a href=\\\"https://mobile.twitter.com\\\" rel=\\\"nofollow\\\">Twitter Web App</a>\", \"Hawksmom09: <a href=\\\"http://twitter.com/download/iphone\\\" rel=\\\"nofollow\\\">Twitter for iPhone</a>\", \"imbearclansami: <a href=\\\"https://mobile.twitter.com\\\" rel=\\\"nofollow\\\">Twitter Web App</a>\", \"ArwannaSaylor: <a href=\\\"https://mobile.twitter.com\\\" rel=\\\"nofollow\\\">Twitter Web App</a>\", \"Mcinfo1: <a href=\\\"http://twitter.com/download/iphone\\\" rel=\\\"nofollow\\\">Twitter for iPhone</a>\", \"milothekemosabe: <a href=\\\"http://twitter.com\\\" rel=\\\"nofollow\\\">Twitter Web Client</a>\", \"SlogicBeth: <a href=\\\"http://twitter.com/download/iphone\\\" rel=\\\"nofollow\\\">Twitter for iPhone</a>\", \"sangrerayada: <a href=\\\"http://twitter.com/download/iphone\\\" rel=\\\"nofollow\\\">Twitter for iPhone</a>\", \"schenk1_sws: <a href=\\\"http://twitter.com/download/android\\\" rel=\\\"nofollow\\\">Twitter for Android</a>\", \"MsMaryBee4Trump: <a href=\\\"http://twitter.com/download/android\\\" rel=\\\"nofollow\\\">Twitter for Android</a>\", \"alfa673: <a href=\\\"http://twitter.com/download/iphone\\\" rel=\\\"nofollow\\\">Twitter for iPhone</a>\", \"MSkeens19621: <a href=\\\"http://twitter.com/download/android\\\" rel=\\\"nofollow\\\">Twitter for Android</a>\", \"Barbara77250226: <a href=\\\"http://twitter.com/download/android\\\" rel=\\\"nofollow\\\">Twitter for Android</a>\", \"DclareDiane: <a href=\\\"https://mobile.twitter.com\\\" rel=\\\"nofollow\\\">Twitter Web App</a>\", \"daaydreemer: <a href=\\\"http://twitter.com/download/iphone\\\" rel=\\\"nofollow\\\">Twitter for iPhone</a>\", \"fastmaro_kicky: <a href=\\\"http://twitter.com/download/iphone\\\" rel=\\\"nofollow\\\">Twitter for iPhone</a>\", \"Tman2345678998: <a href=\\\"http://twitter.com/download/iphone\\\" rel=\\\"nofollow\\\">Twitter for iPhone</a>\", \"rthomas937: <a href=\\\"http://twitter.com/download/android\\\" rel=\\\"nofollow\\\">Twitter for Android</a>\", \"MikeCantarini: <a href=\\\"http://twitter.com/#!/download/ipad\\\" rel=\\\"nofollow\\\">Twitter for iPad</a>\", \"pyorf: <a href=\\\"http://twitter.com/download/iphone\\\" rel=\\\"nofollow\\\">Twitter for iPhone</a>\", \"YHahami: <a href=\\\"http://twitter.com/download/android\\\" rel=\\\"nofollow\\\">Twitter for Android</a>\", \"JUNE1BB: <a href=\\\"http://twitter.com/download/android\\\" rel=\\\"nofollow\\\">Twitter for Android</a>\", \"repubfan: <a href=\\\"http://twitter.com/download/iphone\\\" rel=\\\"nofollow\\\">Twitter for iPhone</a>\", \"T_Minus3: <a href=\\\"http://twitter.com/download/android\\\" rel=\\\"nofollow\\\">Twitter for Android</a>\", \"idawhannadoyou: <a href=\\\"https://mobile.twitter.com\\\" rel=\\\"nofollow\\\">Twitter Web App</a>\", \"struppa_anthony: <a href=\\\"http://twitter.com/download/android\\\" rel=\\\"nofollow\\\">Twitter for Android</a>\", \"AbbyLo6: <a href=\\\"http://twitter.com/download/iphone\\\" rel=\\\"nofollow\\\">Twitter for iPhone</a>\", \"ChrisNoelMills: <a href=\\\"https://mobile.twitter.com\\\" rel=\\\"nofollow\\\">Twitter Web App</a>\", \"Almac06169397: <a href=\\\"http://twitter.com/download/iphone\\\" rel=\\\"nofollow\\\">Twitter for iPhone</a>\", \"OhioWomen4Trump: <a href=\\\"http://twitter.com/download/iphone\\\" rel=\\\"nofollow\\\">Twitter for iPhone</a>\", \"tracey_mcentyre: <a href=\\\"http://twitter.com/download/iphone\\\" rel=\\\"nofollow\\\">Twitter for iPhone</a>\", \"MaggioMichelle: <a href=\\\"http://twitter.com/download/iphone\\\" rel=\\\"nofollow\\\">Twitter for iPhone</a>\", \"humlh66: <a href=\\\"http://twitter.com/download/android\\\" rel=\\\"nofollow\\\">Twitter for Android</a>\", \"BattleTerk: <a href=\\\"http://twitter.com/download/iphone\\\" rel=\\\"nofollow\\\">Twitter for iPhone</a>\", \"4rd4x4truck: <a href=\\\"http://twitter.com/download/iphone\\\" rel=\\\"nofollow\\\">Twitter for iPhone</a>\", \"joercrouae: <a href=\\\"http://twitter.com/download/iphone\\\" rel=\\\"nofollow\\\">Twitter for iPhone</a>\", \"SuzyQtrue: <a href=\\\"https://mobile.twitter.com\\\" rel=\\\"nofollow\\\">Twitter Web App</a>\", \"kittenkk: <a href=\\\"http://twitter.com/download/iphone\\\" rel=\\\"nofollow\\\">Twitter for iPhone</a>\", \"ElChristy5: <a href=\\\"https://mobile.twitter.com\\\" rel=\\\"nofollow\\\">Twitter Web App</a>\", \"DavenpJames: <a href=\\\"http://twitter.com/download/android\\\" rel=\\\"nofollow\\\">Twitter for Android</a>\", \"Debster2017: <a href=\\\"http://twitter.com/#!/download/ipad\\\" rel=\\\"nofollow\\\">Twitter for iPad</a>\", \"Jmeryl1: <a href=\\\"http://twitter.com/download/android\\\" rel=\\\"nofollow\\\">Twitter for Android</a>\", \"TheocharisHadj2: <a href=\\\"https://mobile.twitter.com\\\" rel=\\\"nofollow\\\">Twitter Web App</a>\"], \"type\": \"scattergl\", \"x\": [226.0, 1041.0, 1827.0, 539.0, 481.0, 3099.0, 115.0, 1468.0, 726.0, 3082.0, 163.0, 1448.0, 998.0, 562.0, 122.0, 1165.0, 147.0, 337.0, 515.0, 1494.0, 599.0, 84.0, 474.0, 313.0, 3558.0, 1554.0, 1031.0, 1502.0, 105.0, 102.0, 1376.0, 1255.0, 831.0, 233.0, 516.0, 2994.0, 144.0, 6.0, 759.0, 360.0, 143.0, 510.0, 1103.0, 1420.0, 2421.0, 198.0, 710.0, 513.0, 2986.0, 2460.0, 3070.0, 1137.0, 408.0, 3077.0, 106.0, 1224.0, 315.0, 123.0, 422.0, 1942.0, 931.0, 3200.0, 87.0, 1769.0, 425.0, 19.0, 515.0, 1624.0, 108.0, 11.0, 2384.0, 139.0, 498.0, 730.0, 202.0, 128.0, 264.0, 1134.0, 696.0, 1621.0, 3218.0, 3563.0, 1343.0, 3307.0, 236.0, 945.0, 1297.0, 2675.0, 294.0], \"y\": [182.0, 994.0, 1776.0, 496.0, 437.0, 3053.0, 70.0, 1408.0, 667.0, 3034.0, 114.0, 1394.0, 964.0, 515.0, 177.0, 1228.0, 94.0, 293.0, 458.0, 1456.0, 564.0, 273.0, 244.0, 269.0, 3514.0, 1501.0, 980.0, 1468.0, 118.0, 58.0, 1323.0, 1210.0, 798.0, 168.0, 472.0, 2950.0, 100.0, 146.0, 757.0, 342.0, 97.0, 452.0, 1056.0, 1372.0, 2378.0, 174.0, 723.0, 462.0, 2962.0, 2425.0, 3025.0, 1080.0, 107.0, 3044.0, 3080.0, 1196.0, 288.0, 117.0, 362.0, 1910.0, 881.0, 3150.0, 88.0, 1735.0, 367.0, 74.0, 462.0, 1603.0, 102.0, 272.0, 2338.0, 114.0, 453.0, 704.0, 158.0, 103.0, 215.0, 1089.0, 637.0, 1577.0, 3181.0, 3532.0, 1327.0, 3264.0, 90.0, 861.0, 1259.0, 2641.0, 247.0]}, {\"hovertemplate\": \"%{text}\", \"marker\": {\"color\": \"#fafd5b\", \"opacity\": 1, \"size\": 8}, \"mode\": \"markers\", \"name\": \"Retweeted 11 tweets\", \"showlegend\": true, \"text\": [\"1Faithum: <a href=\\\"http://twitter.com/download/android\\\" rel=\\\"nofollow\\\">Twitter for Android</a>\", \"SkilledServ: <a href=\\\"http://twitter.com/download/iphone\\\" rel=\\\"nofollow\\\">Twitter for iPhone</a> | <a href=\\\"http://twitter.com/#!/download/ipad\\\" rel=\\\"nofollow\\\">Twitter for iPad</a>\", \"mothertmaz: <a href=\\\"https://mobile.twitter.com\\\" rel=\\\"nofollow\\\">Twitter Web App</a>\", \"Sabrina67408695: <a href=\\\"http://twitter.com/download/android\\\" rel=\\\"nofollow\\\">Twitter for Android</a>\", \"ReneeC2920: <a href=\\\"http://twitter.com/download/android\\\" rel=\\\"nofollow\\\">Twitter for Android</a>\", \"RedStRising: <a href=\\\"http://twitter.com/download/android\\\" rel=\\\"nofollow\\\">Twitter for Android</a>\", \"chooarashed: <a href=\\\"http://twitter.com/download/iphone\\\" rel=\\\"nofollow\\\">Twitter for iPhone</a>\", \"Diverstang: <a href=\\\"http://twitter.com/download/android\\\" rel=\\\"nofollow\\\">Twitter for Android</a>\", \"Rodger_Bice: <a href=\\\"http://twitter.com/download/iphone\\\" rel=\\\"nofollow\\\">Twitter for iPhone</a>\", \"LisaOvercomer7: <a href=\\\"http://twitter.com/download/iphone\\\" rel=\\\"nofollow\\\">Twitter for iPhone</a>\", \"dmcclintock4117: <a href=\\\"http://twitter.com/download/iphone\\\" rel=\\\"nofollow\\\">Twitter for iPhone</a>\", \"Farshad187_King: <a href=\\\"https://mobile.twitter.com\\\" rel=\\\"nofollow\\\">Twitter Web App</a>\", \"caselvis58: <a href=\\\"http://twitter.com/download/iphone\\\" rel=\\\"nofollow\\\">Twitter for iPhone</a>\", \"klph69: <a href=\\\"http://twitter.com/download/android\\\" rel=\\\"nofollow\\\">Twitter for Android</a>\", \"observingeye2: <a href=\\\"http://twitter.com/download/iphone\\\" rel=\\\"nofollow\\\">Twitter for iPhone</a>\", \"e1l2z3: <a href=\\\"http://twitter.com/download/iphone\\\" rel=\\\"nofollow\\\">Twitter for iPhone</a>\", \"Lovable019: <a href=\\\"http://twitter.com/download/android\\\" rel=\\\"nofollow\\\">Twitter for Android</a>\", \"Dog2Purple: <a href=\\\"https://mobile.twitter.com\\\" rel=\\\"nofollow\\\">Twitter Web App</a>\", \"Angel40043090: <a href=\\\"http://twitter.com/download/iphone\\\" rel=\\\"nofollow\\\">Twitter for iPhone</a>\", \"JohnPena03: <a href=\\\"https://mobile.twitter.com\\\" rel=\\\"nofollow\\\">Twitter Web App</a>\", \"mpitts27: <a href=\\\"http://twitter.com/#!/download/ipad\\\" rel=\\\"nofollow\\\">Twitter for iPad</a>\", \"jim7911: <a href=\\\"http://twitter.com/download/android\\\" rel=\\\"nofollow\\\">Twitter for Android</a>\", \"ashokchavan19: <a href=\\\"http://twitter.com/download/iphone\\\" rel=\\\"nofollow\\\">Twitter for iPhone</a>\", \"thefakehillary1: <a href=\\\"http://twitter.com/download/android\\\" rel=\\\"nofollow\\\">Twitter for Android</a>\", \"PatriotNana64: <a href=\\\"http://twitter.com/download/iphone\\\" rel=\\\"nofollow\\\">Twitter for iPhone</a>\", \"weee208: <a href=\\\"http://twitter.com/#!/download/ipad\\\" rel=\\\"nofollow\\\">Twitter for iPad</a>\", \"wdalereneaujr: <a href=\\\"http://twitter.com/download/iphone\\\" rel=\\\"nofollow\\\">Twitter for iPhone</a>\", \"wbwf27: <a href=\\\"https://mobile.twitter.com\\\" rel=\\\"nofollow\\\">Twitter Web App</a>\", \"icare4america16: <a href=\\\"http://twitter.com\\\" rel=\\\"nofollow\\\">Twitter Web Client</a>\", \"DannyDshelton8: <a href=\\\"http://twitter.com/download/android\\\" rel=\\\"nofollow\\\">Twitter for Android</a>\", \"RickPettit3: <a href=\\\"http://twitter.com/download/android\\\" rel=\\\"nofollow\\\">Twitter for Android</a>\", \"lana67says2: <a href=\\\"http://twitter.com/download/android\\\" rel=\\\"nofollow\\\">Twitter for Android</a>\", \"danharley52: <a href=\\\"http://twitter.com/#!/download/ipad\\\" rel=\\\"nofollow\\\">Twitter for iPad</a>\", \"billymjonesMACK: <a href=\\\"http://twitter.com/download/android\\\" rel=\\\"nofollow\\\">Twitter for Android</a>\", \"jpjinco: <a href=\\\"http://twitter.com/download/iphone\\\" rel=\\\"nofollow\\\">Twitter for iPhone</a>\", \"Erinseeking: <a href=\\\"http://twitter.com/#!/download/ipad\\\" rel=\\\"nofollow\\\">Twitter for iPad</a>\", \"kristen4trump: <a href=\\\"https://mobile.twitter.com\\\" rel=\\\"nofollow\\\">Twitter Web App</a>\", \"CherylJ588: <a href=\\\"http://twitter.com/download/iphone\\\" rel=\\\"nofollow\\\">Twitter for iPhone</a>\", \"LattyDian: <a href=\\\"http://twitter.com/download/iphone\\\" rel=\\\"nofollow\\\">Twitter for iPhone</a>\", \"MCtai48: <a href=\\\"http://twitter.com/download/android\\\" rel=\\\"nofollow\\\">Twitter for Android</a>\", \"poppajosephy: <a href=\\\"http://twitter.com/download/android\\\" rel=\\\"nofollow\\\">Twitter for Android</a>\", \"MAGA_Engineer: <a href=\\\"http://twitter.com/download/android\\\" rel=\\\"nofollow\\\">Twitter for Android</a>\", \"Love79Dixie: <a href=\\\"http://twitter.com/download/iphone\\\" rel=\\\"nofollow\\\">Twitter for iPhone</a>\", \"czonevet: <a href=\\\"https://mobile.twitter.com\\\" rel=\\\"nofollow\\\">Twitter Web App</a>\", \"vspeed65: <a href=\\\"http://twitter.com/download/iphone\\\" rel=\\\"nofollow\\\">Twitter for iPhone</a>\", \"rgwiese: <a href=\\\"http://twitter.com/download/iphone\\\" rel=\\\"nofollow\\\">Twitter for iPhone</a>\", \"ScottLeelon: <a href=\\\"http://twitter.com/download/iphone\\\" rel=\\\"nofollow\\\">Twitter for iPhone</a>\", \"PaulPasquariell: <a href=\\\"http://twitter.com/download/android\\\" rel=\\\"nofollow\\\">Twitter for Android</a>\", \"Blakeinvestor: <a href=\\\"http://twitter.com/download/iphone\\\" rel=\\\"nofollow\\\">Twitter for iPhone</a>\", \"Dalmo162: <a href=\\\"https://mobile.twitter.com\\\" rel=\\\"nofollow\\\">Twitter Web App</a>\", \"joearoberts691: <a href=\\\"https://mobile.twitter.com\\\" rel=\\\"nofollow\\\">Twitter Web App</a>\", \"maxger31: <a href=\\\"http://twitter.com/download/iphone\\\" rel=\\\"nofollow\\\">Twitter for iPhone</a>\", \"vlad333_: <a href=\\\"http://twitter.com/download/android\\\" rel=\\\"nofollow\\\">Twitter for Android</a>\", \"WAMBAM51: <a href=\\\"http://twitter.com/download/iphone\\\" rel=\\\"nofollow\\\">Twitter for iPhone</a>\", \"Uchechi32407596: <a href=\\\"http://twitter.com/download/android\\\" rel=\\\"nofollow\\\">Twitter for Android</a>\", \"Theocharles: <a href=\\\"http://twitter.com/download/iphone\\\" rel=\\\"nofollow\\\">Twitter for iPhone</a>\", \"Shauna33R: <a href=\\\"http://twitter.com/download/iphone\\\" rel=\\\"nofollow\\\">Twitter for iPhone</a>\", \"nereido79: <a href=\\\"http://twitter.com/download/android\\\" rel=\\\"nofollow\\\">Twitter for Android</a>\", \"tamararedding72: <a href=\\\"http://twitter.com/download/iphone\\\" rel=\\\"nofollow\\\">Twitter for iPhone</a>\", \"Misstuffsee: <a href=\\\"http://twitter.com/download/iphone\\\" rel=\\\"nofollow\\\">Twitter for iPhone</a>\", \"SandraH76231604: <a href=\\\"http://twitter.com/download/iphone\\\" rel=\\\"nofollow\\\">Twitter for iPhone</a>\", \"peachyking501: <a href=\\\"http://twitter.com/download/iphone\\\" rel=\\\"nofollow\\\">Twitter for iPhone</a>\", \"CrisSmi32403701: <a href=\\\"http://twitter.com/download/iphone\\\" rel=\\\"nofollow\\\">Twitter for iPhone</a>\", \"Sally28168579: <a href=\\\"http://twitter.com/download/android\\\" rel=\\\"nofollow\\\">Twitter for Android</a>\"], \"type\": \"scattergl\", \"x\": [3101.0, 128.0, 267.0, 987.0, 2465.0, 1150.0, 108.0, 259.0, 118.0, 630.0, 1969.0, 534.0, 1632.0, 257.0, 952.0, 940.0, 348.0, 2187.0, 99.0, 1274.0, 1461.0, 152.0, 178.0, 186.0, 116.0, 520.0, 3297.0, 896.0, 1579.0, 434.0, 713.0, 899.0, 3198.0, 3114.0, 3422.0, 177.0, 1097.0, 144.0, 124.0, 208.0, 572.0, 120.0, 1250.0, 1124.0, 353.0, 100.0, 1303.0, 2376.0, 1898.0, 604.0, 2759.0, 1688.0, 2750.0, 294.0, 92.0, 189.0, 2756.0, 917.0, 271.0, 309.0, 404.0, 1064.0, 289.0, 143.0], \"y\": [3018.0, 360.0, 240.0, 944.0, 2441.0, 1074.0, 64.0, 211.0, 107.0, 586.0, 1923.0, 550.0, 1576.0, 178.0, 919.0, 897.0, 311.0, 2132.0, 210.0, 1230.0, 1416.0, 130.0, 140.0, 148.0, 112.0, 487.0, 3269.0, 850.0, 1534.0, 390.0, 665.0, 874.0, 3152.0, 3053.0, 3395.0, 167.0, 1050.0, 571.0, 98.0, 135.0, 518.0, 90.0, 1199.0, 1102.0, 307.0, 546.0, 1259.0, 2327.0, 1855.0, 560.0, 2704.0, 1631.0, 2706.0, 260.0, 145.0, 104.0, 2720.0, 872.0, 234.0, 263.0, 399.0, 1006.0, 245.0, 95.0]}, {\"hovertemplate\": \"%{text}\", \"marker\": {\"color\": \"#f7da29\", \"opacity\": 1, \"size\": 8}, \"mode\": \"markers\", \"name\": \"Retweeted 12 tweets\", \"showlegend\": true, \"text\": [\"Steve_Gregory82: <a href=\\\"http://twitter.com/download/android\\\" rel=\\\"nofollow\\\">Twitter for Android</a>\", \"Hinatawakaba129: <a href=\\\"http://twitter.com/download/android\\\" rel=\\\"nofollow\\\">Twitter for Android</a>\", \"SebastianJRusso: <a href=\\\"http://twitter.com/download/android\\\" rel=\\\"nofollow\\\">Twitter for Android</a>\", \"ToniTattles: <a href=\\\"http://twitter.com/download/iphone\\\" rel=\\\"nofollow\\\">Twitter for iPhone</a>\", \"RedHatty_Social: <a href=\\\"http://twitter.com/download/android\\\" rel=\\\"nofollow\\\">Twitter for Android</a>\", \"DustinEBole: <a href=\\\"http://twitter.com/download/android\\\" rel=\\\"nofollow\\\">Twitter for Android</a>\", \"CheezyBorger: <a href=\\\"https://mobile.twitter.com\\\" rel=\\\"nofollow\\\">Twitter Web App</a>\", \"Unfollow_Donald: <a href=\\\"https://twitter.com/Unfollow_Donald\\\" rel=\\\"nofollow\\\">Unfollow Donald Trump</a>\", \"trail_8: <a href=\\\"https://mobile.twitter.com\\\" rel=\\\"nofollow\\\">Twitter Web App</a>\", \"DulinTommy: <a href=\\\"http://twitter.com/download/android\\\" rel=\\\"nofollow\\\">Twitter for Android</a>\", \"JaniceW05412341: <a href=\\\"http://twitter.com/download/android\\\" rel=\\\"nofollow\\\">Twitter for Android</a>\", \"JJDJ1187: <a href=\\\"http://twitter.com/download/iphone\\\" rel=\\\"nofollow\\\">Twitter for iPhone</a>\", \"tweetwelovetryp: <a href=\\\"https://mobile.twitter.com\\\" rel=\\\"nofollow\\\">Twitter Web App</a>\", \"Represe04754550: <a href=\\\"http://twitter.com/download/iphone\\\" rel=\\\"nofollow\\\">Twitter for iPhone</a>\", \"PJN4Real: <a href=\\\"http://twitter.com/#!/download/ipad\\\" rel=\\\"nofollow\\\">Twitter for iPad</a>\", \"LindaSuhler: <a href=\\\"http://twitter.com/download/iphone\\\" rel=\\\"nofollow\\\">Twitter for iPhone</a>\", \"texasmom2many: <a href=\\\"http://twitter.com/#!/download/ipad\\\" rel=\\\"nofollow\\\">Twitter for iPad</a>\", \"GlenStJames: <a href=\\\"http://twitter.com/#!/download/ipad\\\" rel=\\\"nofollow\\\">Twitter for iPad</a>\", \"paulasul1414: <a href=\\\"https://mobile.twitter.com\\\" rel=\\\"nofollow\\\">Twitter Web App</a>\", \"NancymkQ: <a href=\\\"http://twitter.com/#!/download/ipad\\\" rel=\\\"nofollow\\\">Twitter for iPad</a>\", \"rawoods24: <a href=\\\"http://twitter.com/download/iphone\\\" rel=\\\"nofollow\\\">Twitter for iPhone</a>\", \"BillLandis4: <a href=\\\"http://twitter.com/download/android\\\" rel=\\\"nofollow\\\">Twitter for Android</a>\", \"knassios: <a href=\\\"http://twitter.com/download/android\\\" rel=\\\"nofollow\\\">Twitter for Android</a>\", \"CEASARBOY: <a href=\\\"http://twitter.com/#!/download/ipad\\\" rel=\\\"nofollow\\\">Twitter for iPad</a>\", \"Mrseifert24Mike: <a href=\\\"http://twitter.com/download/iphone\\\" rel=\\\"nofollow\\\">Twitter for iPhone</a>\", \"MyTeresadampier: <a href=\\\"http://twitter.com/download/android\\\" rel=\\\"nofollow\\\">Twitter for Android</a>\", \"here_4Trump2020: <a href=\\\"http://twitter.com/download/android\\\" rel=\\\"nofollow\\\">Twitter for Android</a>\", \"uABjwfS3rS80Egc: <a href=\\\"http://twitter.com/download/iphone\\\" rel=\\\"nofollow\\\">Twitter for iPhone</a>\", \"lfbill: <a href=\\\"http://twitter.com/#!/download/ipad\\\" rel=\\\"nofollow\\\">Twitter for iPad</a>\", \"D_Dextra: <a href=\\\"http://twitter.com/download/iphone\\\" rel=\\\"nofollow\\\">Twitter for iPhone</a>\", \"mkbshm: <a href=\\\"http://twitter.com/download/iphone\\\" rel=\\\"nofollow\\\">Twitter for iPhone</a>\"], \"type\": \"scattergl\", \"x\": [414.0, 2131.0, 549.0, 562.0, 111.0, 263.0, 476.0, 5.0, 2644.0, 177.0, 146.0, 3249.0, 2088.0, 100.0, 251.0, 2253.0, 110.0, 114.0, 1741.0, 2026.0, 1875.0, 648.0, 250.0, 1280.0, 203.0, 353.0, 679.0, 12.0, 427.0, 726.0, 159.0], \"y\": [369.0, 2104.0, 527.0, 514.0, 117.0, 217.0, 430.0, 5.0, 2609.0, 133.0, 182.0, 3205.0, 2032.0, 203.0, 188.0, 2221.0, 61.0, 123.0, 1572.0, 1978.0, 1841.0, 626.0, 198.0, 1673.0, 201.0, 309.0, 626.0, 100.0, 381.0, 679.0, 99.0]}, {\"hovertemplate\": \"%{text}\", \"marker\": {\"color\": \"#ff8e25\", \"opacity\": 1, \"size\": 8}, \"mode\": \"markers\", \"name\": \"Retweeted 13 tweets\", \"showlegend\": true, \"text\": [\"thagnome70065: <a href=\\\"http://twitter.com/download/android\\\" rel=\\\"nofollow\\\">Twitter for Android</a>\", \"ReaganCharlie: <a href=\\\"http://twitter.com/download/android\\\" rel=\\\"nofollow\\\">Twitter for Android</a>\", \"inscnc: <a href=\\\"http://twitter.com/download/iphone\\\" rel=\\\"nofollow\\\">Twitter for iPhone</a>\", \"koupdetat: <a href=\\\"http://twitter.com/download/iphone\\\" rel=\\\"nofollow\\\">Twitter for iPhone</a>\", \"KatsuhikoTsuda: <a href=\\\"http://twitter.com/download/iphone\\\" rel=\\\"nofollow\\\">Twitter for iPhone</a>\", \"mwiley4975: <a href=\\\"http://twitter.com/download/android\\\" rel=\\\"nofollow\\\">Twitter for Android</a>\", \"San_Diego_858: <a href=\\\"http://twitter.com/download/iphone\\\" rel=\\\"nofollow\\\">Twitter for iPhone</a>\", \"Helovedmefirst: <a href=\\\"http://twitter.com\\\" rel=\\\"nofollow\\\">Twitter Web Client</a>\", \"palinpal1: <a href=\\\"http://twitter.com/download/android\\\" rel=\\\"nofollow\\\">Twitter for Android</a>\", \"jjon21: <a href=\\\"https://mobile.twitter.com\\\" rel=\\\"nofollow\\\">Twitter Web App</a>\", \"Erikajakins: <a href=\\\"http://twitter.com/download/iphone\\\" rel=\\\"nofollow\\\">Twitter for iPhone</a>\", \"Apiphanys_Eye: <a href=\\\"http://twitter.com/download/android\\\" rel=\\\"nofollow\\\">Twitter for Android</a>\", \"Prageetnoone: <a href=\\\"http://twitter.com/download/iphone\\\" rel=\\\"nofollow\\\">Twitter for iPhone</a>\", \"ChukwudubemIgb1: <a href=\\\"http://twitter.com/download/android\\\" rel=\\\"nofollow\\\">Twitter for Android</a>\", \"henry0467: <a href=\\\"http://twitter.com/download/iphone\\\" rel=\\\"nofollow\\\">Twitter for iPhone</a>\", \"idontdonald: <a href=\\\"https://www.google.com\\\" rel=\\\"nofollow\\\">idontdonald</a>\"], \"type\": \"scattergl\", \"x\": [134.0, 1130.0, 345.0, 887.0, 905.0, 363.0, 94.0, 164.0, 108.0, 2531.0, 513.0, 96.0, 1843.0, 392.0, 628.0, 5.0], \"y\": [99.0, 1084.0, 307.0, 860.0, 893.0, 333.0, 81.0, 118.0, 115.0, 2495.0, 461.0, 103.0, 1799.0, 345.0, 582.0, 5.0]}, {\"hovertemplate\": \"%{text}\", \"marker\": {\"color\": \"#f8432d\", \"opacity\": 1, \"size\": 8}, \"mode\": \"markers\", \"name\": \"Retweeted 14 tweets\", \"showlegend\": true, \"text\": [\"mimiinftworth: <a href=\\\"http://twitter.com/download/iphone\\\" rel=\\\"nofollow\\\">Twitter for iPhone</a>\", \"MeAndMyHouse1: <a href=\\\"http://twitter.com/download/iphone\\\" rel=\\\"nofollow\\\">Twitter for iPhone</a>\", \"LousLounge: <a href=\\\"http://twitter.com/download/iphone\\\" rel=\\\"nofollow\\\">Twitter for iPhone</a>\", \"gerald_lowery: <a href=\\\"http://twitter.com/download/iphone\\\" rel=\\\"nofollow\\\">Twitter for iPhone</a>\", \"MichaelPoppo0: <a href=\\\"http://twitter.com/download/iphone\\\" rel=\\\"nofollow\\\">Twitter for iPhone</a>\", \"MelissaGrableAF: <a href=\\\"http://twitter.com/download/android\\\" rel=\\\"nofollow\\\">Twitter for Android</a>\", \"CReeseReport: <a href=\\\"https://mobile.twitter.com\\\" rel=\\\"nofollow\\\">Twitter Web App</a>\"], \"type\": \"scattergl\", \"x\": [473.0, 170.0, 3520.0, 1135.0, 493.0, 515.0, 1145.0], \"y\": [446.0, 118.0, 3489.0, 1091.0, 448.0, 470.0, 1112.0]}],\n",
       "                        {\"autosize\": false, \"height\": 600, \"legend\": {\"font\": {\"color\": \"black\", \"family\": \"sans-serif\", \"size\": 12}, \"traceorder\": \"normal\", \"x\": 1, \"y\": 1}, \"margin\": {\"b\": 1, \"l\": 1, \"r\": 50, \"t\": 50}, \"template\": {\"data\": {\"bar\": [{\"error_x\": {\"color\": \"#2a3f5f\"}, \"error_y\": {\"color\": \"#2a3f5f\"}, \"marker\": {\"line\": {\"color\": \"#E5ECF6\", \"width\": 0.5}}, \"type\": \"bar\"}], \"barpolar\": [{\"marker\": {\"line\": {\"color\": \"#E5ECF6\", \"width\": 0.5}}, \"type\": \"barpolar\"}], \"carpet\": [{\"aaxis\": {\"endlinecolor\": \"#2a3f5f\", \"gridcolor\": \"white\", \"linecolor\": \"white\", \"minorgridcolor\": \"white\", \"startlinecolor\": \"#2a3f5f\"}, \"baxis\": {\"endlinecolor\": \"#2a3f5f\", \"gridcolor\": \"white\", \"linecolor\": \"white\", \"minorgridcolor\": \"white\", \"startlinecolor\": \"#2a3f5f\"}, \"type\": \"carpet\"}], \"choropleth\": [{\"colorbar\": {\"outlinewidth\": 0, \"ticks\": \"\"}, \"type\": \"choropleth\"}], \"contour\": [{\"colorbar\": {\"outlinewidth\": 0, \"ticks\": \"\"}, \"colorscale\": [[0.0, \"#0d0887\"], [0.1111111111111111, \"#46039f\"], [0.2222222222222222, \"#7201a8\"], [0.3333333333333333, \"#9c179e\"], [0.4444444444444444, \"#bd3786\"], [0.5555555555555556, \"#d8576b\"], [0.6666666666666666, \"#ed7953\"], [0.7777777777777778, \"#fb9f3a\"], [0.8888888888888888, \"#fdca26\"], [1.0, \"#f0f921\"]], \"type\": \"contour\"}], \"contourcarpet\": [{\"colorbar\": {\"outlinewidth\": 0, \"ticks\": \"\"}, \"type\": \"contourcarpet\"}], \"heatmap\": [{\"colorbar\": {\"outlinewidth\": 0, \"ticks\": \"\"}, \"colorscale\": [[0.0, \"#0d0887\"], [0.1111111111111111, \"#46039f\"], [0.2222222222222222, \"#7201a8\"], [0.3333333333333333, \"#9c179e\"], [0.4444444444444444, \"#bd3786\"], [0.5555555555555556, \"#d8576b\"], [0.6666666666666666, \"#ed7953\"], [0.7777777777777778, \"#fb9f3a\"], [0.8888888888888888, \"#fdca26\"], [1.0, \"#f0f921\"]], \"type\": \"heatmap\"}], \"heatmapgl\": [{\"colorbar\": {\"outlinewidth\": 0, \"ticks\": \"\"}, \"colorscale\": [[0.0, \"#0d0887\"], [0.1111111111111111, \"#46039f\"], [0.2222222222222222, \"#7201a8\"], [0.3333333333333333, \"#9c179e\"], [0.4444444444444444, \"#bd3786\"], [0.5555555555555556, \"#d8576b\"], [0.6666666666666666, \"#ed7953\"], [0.7777777777777778, \"#fb9f3a\"], [0.8888888888888888, \"#fdca26\"], [1.0, \"#f0f921\"]], \"type\": \"heatmapgl\"}], \"histogram\": [{\"marker\": {\"colorbar\": {\"outlinewidth\": 0, \"ticks\": \"\"}}, \"type\": \"histogram\"}], \"histogram2d\": [{\"colorbar\": {\"outlinewidth\": 0, \"ticks\": \"\"}, \"colorscale\": [[0.0, \"#0d0887\"], [0.1111111111111111, \"#46039f\"], [0.2222222222222222, \"#7201a8\"], [0.3333333333333333, \"#9c179e\"], [0.4444444444444444, \"#bd3786\"], [0.5555555555555556, \"#d8576b\"], [0.6666666666666666, \"#ed7953\"], [0.7777777777777778, \"#fb9f3a\"], [0.8888888888888888, \"#fdca26\"], [1.0, \"#f0f921\"]], \"type\": \"histogram2d\"}], \"histogram2dcontour\": [{\"colorbar\": {\"outlinewidth\": 0, \"ticks\": \"\"}, \"colorscale\": [[0.0, \"#0d0887\"], [0.1111111111111111, \"#46039f\"], [0.2222222222222222, \"#7201a8\"], [0.3333333333333333, \"#9c179e\"], [0.4444444444444444, \"#bd3786\"], [0.5555555555555556, \"#d8576b\"], [0.6666666666666666, \"#ed7953\"], [0.7777777777777778, \"#fb9f3a\"], [0.8888888888888888, \"#fdca26\"], [1.0, \"#f0f921\"]], \"type\": \"histogram2dcontour\"}], \"mesh3d\": [{\"colorbar\": {\"outlinewidth\": 0, \"ticks\": \"\"}, \"type\": \"mesh3d\"}], \"parcoords\": [{\"line\": {\"colorbar\": {\"outlinewidth\": 0, \"ticks\": \"\"}}, \"type\": \"parcoords\"}], \"pie\": [{\"automargin\": true, \"type\": \"pie\"}], \"scatter\": [{\"marker\": {\"colorbar\": {\"outlinewidth\": 0, \"ticks\": \"\"}}, \"type\": \"scatter\"}], \"scatter3d\": [{\"line\": {\"colorbar\": {\"outlinewidth\": 0, \"ticks\": \"\"}}, \"marker\": {\"colorbar\": {\"outlinewidth\": 0, \"ticks\": \"\"}}, \"type\": \"scatter3d\"}], \"scattercarpet\": [{\"marker\": {\"colorbar\": {\"outlinewidth\": 0, \"ticks\": \"\"}}, \"type\": \"scattercarpet\"}], \"scattergeo\": [{\"marker\": {\"colorbar\": {\"outlinewidth\": 0, \"ticks\": \"\"}}, \"type\": \"scattergeo\"}], \"scattergl\": [{\"marker\": {\"colorbar\": {\"outlinewidth\": 0, \"ticks\": \"\"}}, \"type\": \"scattergl\"}], \"scattermapbox\": [{\"marker\": {\"colorbar\": {\"outlinewidth\": 0, \"ticks\": \"\"}}, \"type\": \"scattermapbox\"}], \"scatterpolar\": [{\"marker\": {\"colorbar\": {\"outlinewidth\": 0, \"ticks\": \"\"}}, \"type\": \"scatterpolar\"}], \"scatterpolargl\": [{\"marker\": {\"colorbar\": {\"outlinewidth\": 0, \"ticks\": \"\"}}, \"type\": \"scatterpolargl\"}], \"scatterternary\": [{\"marker\": {\"colorbar\": {\"outlinewidth\": 0, \"ticks\": \"\"}}, \"type\": \"scatterternary\"}], \"surface\": [{\"colorbar\": {\"outlinewidth\": 0, \"ticks\": \"\"}, \"colorscale\": [[0.0, \"#0d0887\"], [0.1111111111111111, \"#46039f\"], [0.2222222222222222, \"#7201a8\"], [0.3333333333333333, \"#9c179e\"], [0.4444444444444444, \"#bd3786\"], [0.5555555555555556, \"#d8576b\"], [0.6666666666666666, \"#ed7953\"], [0.7777777777777778, \"#fb9f3a\"], [0.8888888888888888, \"#fdca26\"], [1.0, \"#f0f921\"]], \"type\": \"surface\"}], \"table\": [{\"cells\": {\"fill\": {\"color\": \"#EBF0F8\"}, \"line\": {\"color\": \"white\"}}, \"header\": {\"fill\": {\"color\": \"#C8D4E3\"}, \"line\": {\"color\": \"white\"}}, \"type\": \"table\"}]}, \"layout\": {\"annotationdefaults\": {\"arrowcolor\": \"#2a3f5f\", \"arrowhead\": 0, \"arrowwidth\": 1}, \"coloraxis\": {\"colorbar\": {\"outlinewidth\": 0, \"ticks\": \"\"}}, \"colorscale\": {\"diverging\": [[0, \"#8e0152\"], [0.1, \"#c51b7d\"], [0.2, \"#de77ae\"], [0.3, \"#f1b6da\"], [0.4, \"#fde0ef\"], [0.5, \"#f7f7f7\"], [0.6, \"#e6f5d0\"], [0.7, \"#b8e186\"], [0.8, \"#7fbc41\"], [0.9, \"#4d9221\"], [1, \"#276419\"]], \"sequential\": [[0.0, \"#0d0887\"], [0.1111111111111111, \"#46039f\"], [0.2222222222222222, \"#7201a8\"], [0.3333333333333333, \"#9c179e\"], [0.4444444444444444, \"#bd3786\"], [0.5555555555555556, \"#d8576b\"], [0.6666666666666666, \"#ed7953\"], [0.7777777777777778, \"#fb9f3a\"], [0.8888888888888888, \"#fdca26\"], [1.0, \"#f0f921\"]], \"sequentialminus\": [[0.0, \"#0d0887\"], [0.1111111111111111, \"#46039f\"], [0.2222222222222222, \"#7201a8\"], [0.3333333333333333, \"#9c179e\"], [0.4444444444444444, \"#bd3786\"], [0.5555555555555556, \"#d8576b\"], [0.6666666666666666, \"#ed7953\"], [0.7777777777777778, \"#fb9f3a\"], [0.8888888888888888, \"#fdca26\"], [1.0, \"#f0f921\"]]}, \"colorway\": [\"#636efa\", \"#EF553B\", \"#00cc96\", \"#ab63fa\", \"#FFA15A\", \"#19d3f3\", \"#FF6692\", \"#B6E880\", \"#FF97FF\", \"#FECB52\"], \"font\": {\"color\": \"#2a3f5f\"}, \"geo\": {\"bgcolor\": \"white\", \"lakecolor\": \"white\", \"landcolor\": \"#E5ECF6\", \"showlakes\": true, \"showland\": true, \"subunitcolor\": \"white\"}, \"hoverlabel\": {\"align\": \"left\"}, \"hovermode\": \"closest\", \"mapbox\": {\"style\": \"light\"}, \"paper_bgcolor\": \"white\", \"plot_bgcolor\": \"#E5ECF6\", \"polar\": {\"angularaxis\": {\"gridcolor\": \"white\", \"linecolor\": \"white\", \"ticks\": \"\"}, \"bgcolor\": \"#E5ECF6\", \"radialaxis\": {\"gridcolor\": \"white\", \"linecolor\": \"white\", \"ticks\": \"\"}}, \"scene\": {\"xaxis\": {\"backgroundcolor\": \"#E5ECF6\", \"gridcolor\": \"white\", \"gridwidth\": 2, \"linecolor\": \"white\", \"showbackground\": true, \"ticks\": \"\", \"zerolinecolor\": \"white\"}, \"yaxis\": {\"backgroundcolor\": \"#E5ECF6\", \"gridcolor\": \"white\", \"gridwidth\": 2, \"linecolor\": \"white\", \"showbackground\": true, \"ticks\": \"\", \"zerolinecolor\": \"white\"}, \"zaxis\": {\"backgroundcolor\": \"#E5ECF6\", \"gridcolor\": \"white\", \"gridwidth\": 2, \"linecolor\": \"white\", \"showbackground\": true, \"ticks\": \"\", \"zerolinecolor\": \"white\"}}, \"shapedefaults\": {\"line\": {\"color\": \"#2a3f5f\"}}, \"ternary\": {\"aaxis\": {\"gridcolor\": \"white\", \"linecolor\": \"white\", \"ticks\": \"\"}, \"baxis\": {\"gridcolor\": \"white\", \"linecolor\": \"white\", \"ticks\": \"\"}, \"bgcolor\": \"#E5ECF6\", \"caxis\": {\"gridcolor\": \"white\", \"linecolor\": \"white\", \"ticks\": \"\"}}, \"title\": {\"x\": 0.05}, \"xaxis\": {\"automargin\": true, \"gridcolor\": \"white\", \"linecolor\": \"white\", \"ticks\": \"\", \"title\": {\"standoff\": 15}, \"zerolinecolor\": \"white\", \"zerolinewidth\": 2}, \"yaxis\": {\"automargin\": true, \"gridcolor\": \"white\", \"linecolor\": \"white\", \"ticks\": \"\", \"title\": {\"standoff\": 15}, \"zerolinecolor\": \"white\", \"zerolinewidth\": 2}}}, \"title\": {\"text\": \"Trump's Retweet at Apr 25 08:01:56 (EST) vs Retweet at Apr 25 08:02:37 (EST) \\n (2,3)\"}, \"width\": 800, \"xaxis\": {\"title\": {\"text\": \"Seconds since Trump Retweeted at #Apr 25 08:01:56 (EST)\"}}, \"yaxis\": {\"title\": {\"text\": \"Seconds since Trump Retweeted at #Apr 25 08:02:37 (EST)\"}}},\n",
       "                        {\"responsive\": true}\n",
       "                    ).then(function(){\n",
       "                            \n",
       "var gd = document.getElementById('8ef911ea-3ba0-4e54-9927-2b6c8b16c286');\n",
       "var x = new MutationObserver(function (mutations, observer) {{\n",
       "        var display = window.getComputedStyle(gd).display;\n",
       "        if (!display || display === 'none') {{\n",
       "            console.log([gd, 'removed!']);\n",
       "            Plotly.purge(gd);\n",
       "            observer.disconnect();\n",
       "        }}\n",
       "}});\n",
       "\n",
       "// Listen for the removal of the full notebook cells\n",
       "var notebookContainer = gd.closest('#notebook-container');\n",
       "if (notebookContainer) {{\n",
       "    x.observe(notebookContainer, {childList: true});\n",
       "}}\n",
       "\n",
       "// Listen for the clearing of the current output cell\n",
       "var outputEl = gd.closest('.output');\n",
       "if (outputEl) {{\n",
       "    x.observe(outputEl, {childList: true});\n",
       "}}\n",
       "\n",
       "                        })\n",
       "                };\n",
       "                });\n",
       "            </script>\n",
       "        </div>"
      ]
     },
     "metadata": {},
     "output_type": "display_data"
    }
   ],
   "source": [
    "window=1\n",
    "\n",
    "retweets_after_trump, source_counts, user_counts = get_retweets_after_trump(complete_dataframe, \n",
    "                                                                            window=window, debug=False)\n",
    "\n",
    "#Which should we compare?\n",
    "A = TRUMP_RETWEET_TIME_KEYS[2]\n",
    "B = TRUMP_RETWEET_TIME_KEYS[3]\n",
    "\n",
    "df2, sr, p = rank_twitterers(retweets_after_trump[A], retweets_after_trump[B])\n",
    "print(\"The % similar is: {:.2f} with {} users in both streams\".format(p, len(df2)))\n",
    "print(sr)\n",
    "\n",
    "\n",
    "f = make_plot(df2, user_counts)\n",
    "f.show()\n",
    "\n",
    "with open('/data/www/tmp.html','w') as outFile:\n",
    "    outFile.write( plotly.io.to_html(f,include_plotlyjs='cdn') )"
   ]
  },
  {
   "cell_type": "code",
   "execution_count": 27,
   "metadata": {
    "scrolled": false
   },
   "outputs": [],
   "source": [
    "def do_all():\n",
    "    window=1\n",
    "\n",
    "    retweets_after_trump, source_counts, user_counts = get_retweets_after_trump(complete_dataframe, window=window)\n",
    "\n",
    "    for A in retweets_after_trump.keys():\n",
    "        for B in retweets_after_trump.keys():\n",
    "            if B > A:\n",
    "                df2, sr, p = rank_twitterers(retweets_after_trump[A], retweets_after_trump[B])\n",
    "\n",
    "                f = make_plot(df2, user_counts)\n",
    "                with open('/data/www/covid19-static-pages/docs/retweet_correlations/{}_{}_{}H.html'.format(A,B,window),'w') as outFile:\n",
    "                    outFile.write( plotly.io.to_html(f,include_plotlyjs='cdn') )\n",
    "\n",
    "                print(\"{},{},{},{},{},https://epic.cs.colorado.edu/covid19/retweet_correlations/{}_{}_{}H.html\".format(A,B,p,sr.correlation,sr.pvalue,A,B,window))"
   ]
  },
  {
   "cell_type": "code",
   "execution_count": 28,
   "metadata": {},
   "outputs": [],
   "source": [
    "# do_all()"
   ]
  },
  {
   "cell_type": "code",
   "execution_count": 29,
   "metadata": {},
   "outputs": [
    {
     "data": {
      "image/png": "[encoded data removed]",
      "text/plain": [
       "<Figure size 1080x576 with 1 Axes>"
      ]
     },
     "metadata": {
      "needs_background": "light"
     },
     "output_type": "display_data"
    }
   ],
   "source": [
    "ax = pd.Series([x[1] for x in user_counts.most_common()]).hist(figsize=(15,8), bins=[1,2,3,4,5,6,7,8,9,10,11,12,13,14])\n",
    "ax.set_ylabel(\"Number of users retweeting\")\n",
    "ax.set_xlabel(\"Number of tweets\");"
   ]
  },
  {
   "cell_type": "code",
   "execution_count": 30,
   "metadata": {},
   "outputs": [],
   "source": [
    "def write_dataframe_for_heatmaps():\n",
    "\n",
    "    users = {}\n",
    "\n",
    "    for t, retweets in complete_dataframe[complete_dataframe.type=='retweet'].groupby('time_trump_retweeted'):\n",
    "        retweets = retweets.sort_values(by='created_at').reindex()\n",
    "\n",
    "        for idx, tweet in retweets.iterrows():\n",
    "            if tweet.user_id in users:\n",
    "                users[tweet.user_id]['tweet'+str(t)] = tweet.created_at\n",
    "            else:                \n",
    "                users[tweet.user_id] = {'tweet'+str(t):tweet.created_at, 'user_id':tweet.user_id}\n",
    "\n",
    "                for_jim = pd.DataFrame(users.values())\n",
    "\n",
    "    for_jim['username'] = for_jim.user_id.apply(lambda u: set(complete_dataframe[complete_dataframe.user_id==u].username))\n",
    "    for_jim['source'] = for_jim.user_id.apply(lambda u: set(complete_dataframe[complete_dataframe.user_id==u].source))\n",
    "    for_jim['join_date'] = for_jim.user_id.apply(lambda u: complete_dataframe[complete_dataframe.user_id==u].user_join_date.min())\n",
    "    \n",
    "    for_jim = for_jim.set_index('user_id')\n",
    "    for_jim.to_csv('retweeted_times_with_dates.csv')\n",
    "    \n",
    "    return for_jim\n",
    "    \n",
    "for_jim = write_dataframe_for_heatmaps()"
   ]
  },
  {
   "cell_type": "code",
   "execution_count": 31,
   "metadata": {},
   "outputs": [
    {
     "data": {
      "text/html": [
       "<div>\n",
       "<style scoped>\n",
       "    .dataframe tbody tr th:only-of-type {\n",
       "        vertical-align: middle;\n",
       "    }\n",
       "\n",
       "    .dataframe tbody tr th {\n",
       "        vertical-align: top;\n",
       "    }\n",
       "\n",
       "    .dataframe thead th {\n",
       "        text-align: right;\n",
       "    }\n",
       "</style>\n",
       "<table border=\"1\" class=\"dataframe\">\n",
       "  <thead>\n",
       "    <tr style=\"text-align: right;\">\n",
       "      <th></th>\n",
       "      <th>tweetApr 25 07:12:10 (EST)</th>\n",
       "      <th>tweetApr 25 08:05:51 (EST)</th>\n",
       "      <th>tweetApr 25 08:08:14 (EST)</th>\n",
       "      <th>tweetApr 25 08:04:07 (EST)</th>\n",
       "      <th>tweetApr 25 08:01:56 (EST)</th>\n",
       "      <th>tweetApr 25 08:05:26 (EST)</th>\n",
       "      <th>tweetMay 1 18:28:32 (EST)</th>\n",
       "      <th>tweetApr 25 07:12:52 (EST)</th>\n",
       "      <th>tweetApr 25 08:02:37 (EST)</th>\n",
       "      <th>tweetApr 25 08:02:51 (EST)</th>\n",
       "      <th>tweetApr 25 08:05:16 (EST)</th>\n",
       "      <th>tweetApr 25 08:07:15 (EST)</th>\n",
       "      <th>tweetMay 24 21:29:05 (EST)</th>\n",
       "      <th>tweetMay 24 21:29:01 (EST)</th>\n",
       "      <th>username</th>\n",
       "      <th>source</th>\n",
       "      <th>join_date</th>\n",
       "    </tr>\n",
       "    <tr>\n",
       "      <th>user_id</th>\n",
       "      <th></th>\n",
       "      <th></th>\n",
       "      <th></th>\n",
       "      <th></th>\n",
       "      <th></th>\n",
       "      <th></th>\n",
       "      <th></th>\n",
       "      <th></th>\n",
       "      <th></th>\n",
       "      <th></th>\n",
       "      <th></th>\n",
       "      <th></th>\n",
       "      <th></th>\n",
       "      <th></th>\n",
       "      <th></th>\n",
       "      <th></th>\n",
       "      <th></th>\n",
       "    </tr>\n",
       "  </thead>\n",
       "  <tbody>\n",
       "    <tr>\n",
       "      <th>156662055</th>\n",
       "      <td>2020-04-24T21:09:13+00:00</td>\n",
       "      <td>NaN</td>\n",
       "      <td>NaN</td>\n",
       "      <td>NaN</td>\n",
       "      <td>NaN</td>\n",
       "      <td>NaN</td>\n",
       "      <td>NaN</td>\n",
       "      <td>NaN</td>\n",
       "      <td>NaN</td>\n",
       "      <td>NaN</td>\n",
       "      <td>NaN</td>\n",
       "      <td>NaN</td>\n",
       "      <td>NaN</td>\n",
       "      <td>NaN</td>\n",
       "      <td>{pmramani}</td>\n",
       "      <td>{&lt;a href=\"http://twitter.com/download/iphone\" ...</td>\n",
       "      <td>Thu Jun 17 15:03:07 +0000 2010</td>\n",
       "    </tr>\n",
       "    <tr>\n",
       "      <th>849463051464192000</th>\n",
       "      <td>2020-04-24T21:09:15+00:00</td>\n",
       "      <td>NaN</td>\n",
       "      <td>NaN</td>\n",
       "      <td>NaN</td>\n",
       "      <td>NaN</td>\n",
       "      <td>NaN</td>\n",
       "      <td>NaN</td>\n",
       "      <td>NaN</td>\n",
       "      <td>NaN</td>\n",
       "      <td>NaN</td>\n",
       "      <td>NaN</td>\n",
       "      <td>NaN</td>\n",
       "      <td>NaN</td>\n",
       "      <td>NaN</td>\n",
       "      <td>{constanza_caa}</td>\n",
       "      <td>{&lt;a href=\"http://twitter.com/download/iphone\" ...</td>\n",
       "      <td>Wed Apr 05 03:25:48 +0000 2017</td>\n",
       "    </tr>\n",
       "    <tr>\n",
       "      <th>568963331</th>\n",
       "      <td>2020-04-24T21:09:16+00:00</td>\n",
       "      <td>2020-04-22T22:22:54+00:00</td>\n",
       "      <td>2020-04-21T16:49:10+00:00</td>\n",
       "      <td>NaN</td>\n",
       "      <td>NaN</td>\n",
       "      <td>NaN</td>\n",
       "      <td>NaN</td>\n",
       "      <td>NaN</td>\n",
       "      <td>NaN</td>\n",
       "      <td>NaN</td>\n",
       "      <td>NaN</td>\n",
       "      <td>NaN</td>\n",
       "      <td>NaN</td>\n",
       "      <td>NaN</td>\n",
       "      <td>{juanparza}</td>\n",
       "      <td>{&lt;a href=\"http://twitter.com/#!/download/ipad\"...</td>\n",
       "      <td>Wed May 02 09:45:31 +0000 2012</td>\n",
       "    </tr>\n",
       "    <tr>\n",
       "      <th>2386878706</th>\n",
       "      <td>2020-04-24T21:09:17+00:00</td>\n",
       "      <td>NaN</td>\n",
       "      <td>NaN</td>\n",
       "      <td>2020-04-23T20:37:50+00:00</td>\n",
       "      <td>NaN</td>\n",
       "      <td>NaN</td>\n",
       "      <td>NaN</td>\n",
       "      <td>NaN</td>\n",
       "      <td>NaN</td>\n",
       "      <td>NaN</td>\n",
       "      <td>NaN</td>\n",
       "      <td>NaN</td>\n",
       "      <td>NaN</td>\n",
       "      <td>NaN</td>\n",
       "      <td>{e_daisyjackson7}</td>\n",
       "      <td>{&lt;a href=\"http://twitter.com/download/iphone\" ...</td>\n",
       "      <td>Thu Mar 06 00:21:21 +0000 2014</td>\n",
       "    </tr>\n",
       "    <tr>\n",
       "      <th>1190419997140631552</th>\n",
       "      <td>2020-04-24T21:09:18+00:00</td>\n",
       "      <td>NaN</td>\n",
       "      <td>NaN</td>\n",
       "      <td>NaN</td>\n",
       "      <td>NaN</td>\n",
       "      <td>NaN</td>\n",
       "      <td>NaN</td>\n",
       "      <td>NaN</td>\n",
       "      <td>NaN</td>\n",
       "      <td>NaN</td>\n",
       "      <td>NaN</td>\n",
       "      <td>NaN</td>\n",
       "      <td>NaN</td>\n",
       "      <td>NaN</td>\n",
       "      <td>{EmilyLeonella}</td>\n",
       "      <td>{&lt;a href=\"http://twitter.com/download/iphone\" ...</td>\n",
       "      <td>Sat Nov 02 00:07:08 +0000 2019</td>\n",
       "    </tr>\n",
       "  </tbody>\n",
       "</table>\n",
       "</div>"
      ],
      "text/plain": [
       "                    tweetApr 25 07:12:10 (EST) tweetApr 25 08:05:51 (EST)  \\\n",
       "user_id                                                                     \n",
       "156662055            2020-04-24T21:09:13+00:00                        NaN   \n",
       "849463051464192000   2020-04-24T21:09:15+00:00                        NaN   \n",
       "568963331            2020-04-24T21:09:16+00:00  2020-04-22T22:22:54+00:00   \n",
       "2386878706           2020-04-24T21:09:17+00:00                        NaN   \n",
       "1190419997140631552  2020-04-24T21:09:18+00:00                        NaN   \n",
       "\n",
       "                    tweetApr 25 08:08:14 (EST) tweetApr 25 08:04:07 (EST)  \\\n",
       "user_id                                                                     \n",
       "156662055                                  NaN                        NaN   \n",
       "849463051464192000                         NaN                        NaN   \n",
       "568963331            2020-04-21T16:49:10+00:00                        NaN   \n",
       "2386878706                                 NaN  2020-04-23T20:37:50+00:00   \n",
       "1190419997140631552                        NaN                        NaN   \n",
       "\n",
       "                    tweetApr 25 08:01:56 (EST) tweetApr 25 08:05:26 (EST)  \\\n",
       "user_id                                                                     \n",
       "156662055                                  NaN                        NaN   \n",
       "849463051464192000                         NaN                        NaN   \n",
       "568963331                                  NaN                        NaN   \n",
       "2386878706                                 NaN                        NaN   \n",
       "1190419997140631552                        NaN                        NaN   \n",
       "\n",
       "                    tweetMay 1 18:28:32 (EST) tweetApr 25 07:12:52 (EST)  \\\n",
       "user_id                                                                    \n",
       "156662055                                 NaN                        NaN   \n",
       "849463051464192000                        NaN                        NaN   \n",
       "568963331                                 NaN                        NaN   \n",
       "2386878706                                NaN                        NaN   \n",
       "1190419997140631552                       NaN                        NaN   \n",
       "\n",
       "                    tweetApr 25 08:02:37 (EST) tweetApr 25 08:02:51 (EST)  \\\n",
       "user_id                                                                     \n",
       "156662055                                  NaN                        NaN   \n",
       "849463051464192000                         NaN                        NaN   \n",
       "568963331                                  NaN                        NaN   \n",
       "2386878706                                 NaN                        NaN   \n",
       "1190419997140631552                        NaN                        NaN   \n",
       "\n",
       "                    tweetApr 25 08:05:16 (EST) tweetApr 25 08:07:15 (EST)  \\\n",
       "user_id                                                                     \n",
       "156662055                                  NaN                        NaN   \n",
       "849463051464192000                         NaN                        NaN   \n",
       "568963331                                  NaN                        NaN   \n",
       "2386878706                                 NaN                        NaN   \n",
       "1190419997140631552                        NaN                        NaN   \n",
       "\n",
       "                    tweetMay 24 21:29:05 (EST) tweetMay 24 21:29:01 (EST)  \\\n",
       "user_id                                                                     \n",
       "156662055                                  NaN                        NaN   \n",
       "849463051464192000                         NaN                        NaN   \n",
       "568963331                                  NaN                        NaN   \n",
       "2386878706                                 NaN                        NaN   \n",
       "1190419997140631552                        NaN                        NaN   \n",
       "\n",
       "                              username  \\\n",
       "user_id                                  \n",
       "156662055                   {pmramani}   \n",
       "849463051464192000     {constanza_caa}   \n",
       "568963331                  {juanparza}   \n",
       "2386878706           {e_daisyjackson7}   \n",
       "1190419997140631552    {EmilyLeonella}   \n",
       "\n",
       "                                                                source  \\\n",
       "user_id                                                                  \n",
       "156662055            {<a href=\"http://twitter.com/download/iphone\" ...   \n",
       "849463051464192000   {<a href=\"http://twitter.com/download/iphone\" ...   \n",
       "568963331            {<a href=\"http://twitter.com/#!/download/ipad\"...   \n",
       "2386878706           {<a href=\"http://twitter.com/download/iphone\" ...   \n",
       "1190419997140631552  {<a href=\"http://twitter.com/download/iphone\" ...   \n",
       "\n",
       "                                          join_date  \n",
       "user_id                                              \n",
       "156662055            Thu Jun 17 15:03:07 +0000 2010  \n",
       "849463051464192000   Wed Apr 05 03:25:48 +0000 2017  \n",
       "568963331            Wed May 02 09:45:31 +0000 2012  \n",
       "2386878706           Thu Mar 06 00:21:21 +0000 2014  \n",
       "1190419997140631552  Sat Nov 02 00:07:08 +0000 2019  "
      ]
     },
     "execution_count": 31,
     "metadata": {},
     "output_type": "execute_result"
    }
   ],
   "source": [
    "for_jim.head()"
   ]
  },
  {
   "cell_type": "markdown",
   "metadata": {},
   "source": [
    "# Part III: Who was retweeting Trump's stream during these times?"
   ]
  },
  {
   "cell_type": "code",
   "execution_count": 47,
   "metadata": {},
   "outputs": [],
   "source": [
    "def get_trump_retweeter_stream(time):\n",
    "    \n",
    "    a = (time - pd.Timedelta(minutes=15)).to_pydatetime()\n",
    "    b = (time + pd.Timedelta(hours=1)).to_pydatetime()\n",
    "    \n",
    "    query = \"\"\"\n",
    "\n",
    "SELECT id,\n",
    "       retweeted_status.id_str AS retweeted_id,\n",
    "       created_at, \n",
    "       user.screen_name, \n",
    "       user.created_at AS user_join_date, \n",
    "       user.followers_count, \n",
    "       user.id_str, \n",
    "       text\n",
    "\n",
    "FROM `crypto-eon-164220.tweets.donald_trump` \n",
    "\n",
    "WHERE  PARSE_TIMESTAMP('%a %b %d %T %z %Y', retweeted_status.created_at) > TIMESTAMP(DATETIME({}, {}, {}, {}, {}, {}))\n",
    "  AND PARSE_TIMESTAMP('%a %b %d %T %z %Y', retweeted_status.created_at) < TIMESTAMP(DATETIME({}, {}, {}, {}, {}, {}))\n",
    "  -- AND retweeted_status.user.screen_name = 'realDonaldTrump' \n",
    " \n",
    "ORDER BY id\n",
    "\"\"\".format(a.year, a.month, a.day, a.hour, a.minute, a.second, b.year, b.month, b.day, b.hour, b.minute, b.second)\n",
    "    \n",
    "    query_job = client.query(query)\n",
    "    \n",
    "    return query_job.result().to_dataframe()"
   ]
  },
  {
   "cell_type": "code",
   "execution_count": 41,
   "metadata": {},
   "outputs": [],
   "source": [
    "#Four 3? groups: \n",
    "cluster_times = [\n",
    "  pd.Timestamp(\"2020-04-25T12:12:10Z\"), \n",
    "  pd.Timestamp(\"2020-04-25T13:01:56Z\"),\n",
    "  pd.Timestamp(\"2020-05-25T02:29:01Z\")]"
   ]
  },
  {
   "cell_type": "code",
   "execution_count": 48,
   "metadata": {},
   "outputs": [],
   "source": [
    "xx = get_trump_retweeter_stream(pd.Timestamp(\"2020-04-25T12:12:10Z\"))"
   ]
  },
  {
   "cell_type": "code",
   "execution_count": 49,
   "metadata": {},
   "outputs": [
    {
     "data": {
      "text/plain": [
       "50999"
      ]
     },
     "execution_count": 49,
     "metadata": {},
     "output_type": "execute_result"
    }
   ],
   "source": [
    "len(xx)"
   ]
  },
  {
   "cell_type": "code",
   "execution_count": 33,
   "metadata": {},
   "outputs": [
    {
     "data": {
      "text/html": [
       "<div>\n",
       "<style scoped>\n",
       "    .dataframe tbody tr th:only-of-type {\n",
       "        vertical-align: middle;\n",
       "    }\n",
       "\n",
       "    .dataframe tbody tr th {\n",
       "        vertical-align: top;\n",
       "    }\n",
       "\n",
       "    .dataframe thead th {\n",
       "        text-align: right;\n",
       "    }\n",
       "</style>\n",
       "<table border=\"1\" class=\"dataframe\">\n",
       "  <thead>\n",
       "    <tr style=\"text-align: right;\">\n",
       "      <th></th>\n",
       "      <th>id</th>\n",
       "      <th>retweeted_id</th>\n",
       "      <th>created_at</th>\n",
       "      <th>screen_name</th>\n",
       "      <th>user_join_date</th>\n",
       "      <th>followers_count</th>\n",
       "      <th>id_str</th>\n",
       "      <th>text</th>\n",
       "    </tr>\n",
       "  </thead>\n",
       "  <tbody>\n",
       "    <tr>\n",
       "      <th>0</th>\n",
       "      <td>1254021092093693952</td>\n",
       "      <td>1254021070379769856</td>\n",
       "      <td>Sat Apr 25 12:15:01 +0000 2020</td>\n",
       "      <td>Unfollow_Donald</td>\n",
       "      <td>Thu Jan 26 00:11:09 +0000 2017</td>\n",
       "      <td>244</td>\n",
       "      <td>824409302769303552</td>\n",
       "      <td>RT @realDonaldTrump: Thank you to William Perr...</td>\n",
       "    </tr>\n",
       "    <tr>\n",
       "      <th>1</th>\n",
       "      <td>1254021092236288002</td>\n",
       "      <td>1254021070379769856</td>\n",
       "      <td>Sat Apr 25 12:15:01 +0000 2020</td>\n",
       "      <td>idontdonald</td>\n",
       "      <td>Fri Jan 27 04:35:34 +0000 2017</td>\n",
       "      <td>45</td>\n",
       "      <td>824838233762697216</td>\n",
       "      <td>RT @realDonaldTrump: Thank you to William Perr...</td>\n",
       "    </tr>\n",
       "    <tr>\n",
       "      <th>2</th>\n",
       "      <td>1254021093033009153</td>\n",
       "      <td>1254021070379769856</td>\n",
       "      <td>Sat Apr 25 12:15:01 +0000 2020</td>\n",
       "      <td>trump2ja</td>\n",
       "      <td>Tue Jan 17 10:41:30 +0000 2017</td>\n",
       "      <td>3486</td>\n",
       "      <td>821306443512967168</td>\n",
       "      <td>RT @realDonaldTrump: Thank you to William Perr...</td>\n",
       "    </tr>\n",
       "    <tr>\n",
       "      <th>3</th>\n",
       "      <td>1254021096032124928</td>\n",
       "      <td>1254021070379769856</td>\n",
       "      <td>Sat Apr 25 12:15:02 +0000 2020</td>\n",
       "      <td>la_cates</td>\n",
       "      <td>Sun Nov 08 17:44:11 +0000 2009</td>\n",
       "      <td>15947</td>\n",
       "      <td>88467528</td>\n",
       "      <td>RT @realDonaldTrump: Thank you to William Perr...</td>\n",
       "    </tr>\n",
       "    <tr>\n",
       "      <th>4</th>\n",
       "      <td>1254021102243905538</td>\n",
       "      <td>1254021070379769856</td>\n",
       "      <td>Sat Apr 25 12:15:04 +0000 2020</td>\n",
       "      <td>Mike422422</td>\n",
       "      <td>Fri Feb 07 21:19:39 +0000 2020</td>\n",
       "      <td>1276</td>\n",
       "      <td>1225891864877899776</td>\n",
       "      <td>RT @realDonaldTrump: Thank you to William Perr...</td>\n",
       "    </tr>\n",
       "  </tbody>\n",
       "</table>\n",
       "</div>"
      ],
      "text/plain": [
       "                    id         retweeted_id                      created_at  \\\n",
       "0  1254021092093693952  1254021070379769856  Sat Apr 25 12:15:01 +0000 2020   \n",
       "1  1254021092236288002  1254021070379769856  Sat Apr 25 12:15:01 +0000 2020   \n",
       "2  1254021093033009153  1254021070379769856  Sat Apr 25 12:15:01 +0000 2020   \n",
       "3  1254021096032124928  1254021070379769856  Sat Apr 25 12:15:02 +0000 2020   \n",
       "4  1254021102243905538  1254021070379769856  Sat Apr 25 12:15:04 +0000 2020   \n",
       "\n",
       "       screen_name                  user_join_date  followers_count  \\\n",
       "0  Unfollow_Donald  Thu Jan 26 00:11:09 +0000 2017              244   \n",
       "1      idontdonald  Fri Jan 27 04:35:34 +0000 2017               45   \n",
       "2         trump2ja  Tue Jan 17 10:41:30 +0000 2017             3486   \n",
       "3         la_cates  Sun Nov 08 17:44:11 +0000 2009            15947   \n",
       "4       Mike422422  Fri Feb 07 21:19:39 +0000 2020             1276   \n",
       "\n",
       "                id_str                                               text  \n",
       "0   824409302769303552  RT @realDonaldTrump: Thank you to William Perr...  \n",
       "1   824838233762697216  RT @realDonaldTrump: Thank you to William Perr...  \n",
       "2   821306443512967168  RT @realDonaldTrump: Thank you to William Perr...  \n",
       "3             88467528  RT @realDonaldTrump: Thank you to William Perr...  \n",
       "4  1225891864877899776  RT @realDonaldTrump: Thank you to William Perr...  "
      ]
     },
     "execution_count": 33,
     "metadata": {},
     "output_type": "execute_result"
    }
   ],
   "source": [
    "x.head()"
   ]
  },
  {
   "cell_type": "code",
   "execution_count": 46,
   "metadata": {},
   "outputs": [
    {
     "data": {
      "text/plain": [
       "50999"
      ]
     },
     "execution_count": 46,
     "metadata": {},
     "output_type": "execute_result"
    }
   ],
   "source": [
    "len(x)"
   ]
  },
  {
   "cell_type": "code",
   "execution_count": 44,
   "metadata": {},
   "outputs": [
    {
     "name": "stdout",
     "output_type": "stream",
     "text": [
      "\n",
      "\n",
      "SELECT id_str,\n",
      "       created_at, \n",
      "       user.screen_name, \n",
      "       text\n",
      "\n",
      "FROM `crypto-eon-164220.tweets.donald_trump` \n",
      "\n",
      "WHERE user.screen_name = 'realDonaldTrump' \n",
      "  AND PARSE_TIMESTAMP('%a %b %d %T %z %Y', created_at) > TIMESTAMP(DATETIME(2020, 4, 25, 11, 57, 10))\n",
      "  AND PARSE_TIMESTAMP('%a %b %d %T %z %Y', created_at) < TIMESTAMP(DATETIME(2020, 4, 25, 13, 12, 10))\n",
      " \n",
      "ORDER BY id\n",
      "\n"
     ]
    }
   ],
   "source": [
    "def get_trump_tweets_around_a_time(time):\n",
    "    \n",
    "    a = (time - pd.Timedelta(minutes=15)).to_pydatetime()\n",
    "    b = (time + pd.Timedelta(hours=1)).to_pydatetime()\n",
    "    \n",
    "    query = \"\"\"\n",
    "\n",
    "SELECT id_str,\n",
    "       created_at, \n",
    "       user.screen_name, \n",
    "       text\n",
    "\n",
    "FROM `crypto-eon-164220.tweets.donald_trump` \n",
    "\n",
    "WHERE user.screen_name = 'realDonaldTrump' \n",
    "  AND PARSE_TIMESTAMP('%a %b %d %T %z %Y', created_at) > TIMESTAMP(DATETIME({}, {}, {}, {}, {}, {}))\n",
    "  AND PARSE_TIMESTAMP('%a %b %d %T %z %Y', created_at) < TIMESTAMP(DATETIME({}, {}, {}, {}, {}, {}))\n",
    " \n",
    "ORDER BY id\n",
    "\"\"\".format(a.year, a.month, a.day, a.hour, a.minute, a.second, b.year, b.month, b.day, b.hour, b.minute, b.second)\n",
    "    \n",
    "    print(query)\n",
    "    \n",
    "    query_job = client.query(query)\n",
    "    \n",
    "    return query_job.result().to_dataframe()\n",
    "\n",
    "trump_times = get_trump_tweets_around_a_time(cluster_times[0])"
   ]
  },
  {
   "cell_type": "code",
   "execution_count": 45,
   "metadata": {},
   "outputs": [
    {
     "data": {
      "text/html": [
       "<div>\n",
       "<style scoped>\n",
       "    .dataframe tbody tr th:only-of-type {\n",
       "        vertical-align: middle;\n",
       "    }\n",
       "\n",
       "    .dataframe tbody tr th {\n",
       "        vertical-align: top;\n",
       "    }\n",
       "\n",
       "    .dataframe thead th {\n",
       "        text-align: right;\n",
       "    }\n",
       "</style>\n",
       "<table border=\"1\" class=\"dataframe\">\n",
       "  <thead>\n",
       "    <tr style=\"text-align: right;\">\n",
       "      <th></th>\n",
       "      <th>id_str</th>\n",
       "      <th>created_at</th>\n",
       "      <th>screen_name</th>\n",
       "      <th>text</th>\n",
       "    </tr>\n",
       "  </thead>\n",
       "  <tbody>\n",
       "    <tr>\n",
       "      <th>0</th>\n",
       "      <td>1254021070379769856</td>\n",
       "      <td>Sat Apr 25 12:14:56 +0000 2020</td>\n",
       "      <td>realDonaldTrump</td>\n",
       "      <td>Thank you to William Perry Pendley of the Bure...</td>\n",
       "    </tr>\n",
       "    <tr>\n",
       "      <th>1</th>\n",
       "      <td>1254022414058631170</td>\n",
       "      <td>Sat Apr 25 12:20:16 +0000 2020</td>\n",
       "      <td>realDonaldTrump</td>\n",
       "      <td>.@TripleH is a total winner!</td>\n",
       "    </tr>\n",
       "    <tr>\n",
       "      <th>2</th>\n",
       "      <td>1254028869859971072</td>\n",
       "      <td>Sat Apr 25 12:45:55 +0000 2020</td>\n",
       "      <td>realDonaldTrump</td>\n",
       "      <td>Thank you to the people of Colorado for the wa...</td>\n",
       "    </tr>\n",
       "    <tr>\n",
       "      <th>3</th>\n",
       "      <td>1254032243770736642</td>\n",
       "      <td>Sat Apr 25 12:59:20 +0000 2020</td>\n",
       "      <td>realDonaldTrump</td>\n",
       "      <td>Many testing sites are, and have been, open &amp;a...</td>\n",
       "    </tr>\n",
       "  </tbody>\n",
       "</table>\n",
       "</div>"
      ],
      "text/plain": [
       "                id_str                      created_at      screen_name  \\\n",
       "0  1254021070379769856  Sat Apr 25 12:14:56 +0000 2020  realDonaldTrump   \n",
       "1  1254022414058631170  Sat Apr 25 12:20:16 +0000 2020  realDonaldTrump   \n",
       "2  1254028869859971072  Sat Apr 25 12:45:55 +0000 2020  realDonaldTrump   \n",
       "3  1254032243770736642  Sat Apr 25 12:59:20 +0000 2020  realDonaldTrump   \n",
       "\n",
       "                                                text  \n",
       "0  Thank you to William Perry Pendley of the Bure...  \n",
       "1                       .@TripleH is a total winner!  \n",
       "2  Thank you to the people of Colorado for the wa...  \n",
       "3  Many testing sites are, and have been, open &a...  "
      ]
     },
     "execution_count": 45,
     "metadata": {},
     "output_type": "execute_result"
    }
   ],
   "source": [
    "trump_times.head()"
   ]
  },
  {
   "cell_type": "code",
   "execution_count": 50,
   "metadata": {},
   "outputs": [
    {
     "data": {
      "text/html": [
       "<div>\n",
       "<style scoped>\n",
       "    .dataframe tbody tr th:only-of-type {\n",
       "        vertical-align: middle;\n",
       "    }\n",
       "\n",
       "    .dataframe tbody tr th {\n",
       "        vertical-align: top;\n",
       "    }\n",
       "\n",
       "    .dataframe thead th {\n",
       "        text-align: right;\n",
       "    }\n",
       "</style>\n",
       "<table border=\"1\" class=\"dataframe\">\n",
       "  <thead>\n",
       "    <tr style=\"text-align: right;\">\n",
       "      <th></th>\n",
       "      <th>id</th>\n",
       "      <th>retweeted_id</th>\n",
       "      <th>created_at</th>\n",
       "      <th>screen_name</th>\n",
       "      <th>user_join_date</th>\n",
       "      <th>followers_count</th>\n",
       "      <th>id_str</th>\n",
       "      <th>text</th>\n",
       "    </tr>\n",
       "  </thead>\n",
       "  <tbody>\n",
       "    <tr>\n",
       "      <th>0</th>\n",
       "      <td>1254021092093693952</td>\n",
       "      <td>1254021070379769856</td>\n",
       "      <td>Sat Apr 25 12:15:01 +0000 2020</td>\n",
       "      <td>Unfollow_Donald</td>\n",
       "      <td>Thu Jan 26 00:11:09 +0000 2017</td>\n",
       "      <td>244</td>\n",
       "      <td>824409302769303552</td>\n",
       "      <td>RT @realDonaldTrump: Thank you to William Perr...</td>\n",
       "    </tr>\n",
       "    <tr>\n",
       "      <th>1</th>\n",
       "      <td>1254021092236288002</td>\n",
       "      <td>1254021070379769856</td>\n",
       "      <td>Sat Apr 25 12:15:01 +0000 2020</td>\n",
       "      <td>idontdonald</td>\n",
       "      <td>Fri Jan 27 04:35:34 +0000 2017</td>\n",
       "      <td>45</td>\n",
       "      <td>824838233762697216</td>\n",
       "      <td>RT @realDonaldTrump: Thank you to William Perr...</td>\n",
       "    </tr>\n",
       "    <tr>\n",
       "      <th>2</th>\n",
       "      <td>1254021093033009153</td>\n",
       "      <td>1254021070379769856</td>\n",
       "      <td>Sat Apr 25 12:15:01 +0000 2020</td>\n",
       "      <td>trump2ja</td>\n",
       "      <td>Tue Jan 17 10:41:30 +0000 2017</td>\n",
       "      <td>3486</td>\n",
       "      <td>821306443512967168</td>\n",
       "      <td>RT @realDonaldTrump: Thank you to William Perr...</td>\n",
       "    </tr>\n",
       "    <tr>\n",
       "      <th>3</th>\n",
       "      <td>1254021096032124928</td>\n",
       "      <td>1254021070379769856</td>\n",
       "      <td>Sat Apr 25 12:15:02 +0000 2020</td>\n",
       "      <td>la_cates</td>\n",
       "      <td>Sun Nov 08 17:44:11 +0000 2009</td>\n",
       "      <td>15947</td>\n",
       "      <td>88467528</td>\n",
       "      <td>RT @realDonaldTrump: Thank you to William Perr...</td>\n",
       "    </tr>\n",
       "    <tr>\n",
       "      <th>4</th>\n",
       "      <td>1254021102243905538</td>\n",
       "      <td>1254021070379769856</td>\n",
       "      <td>Sat Apr 25 12:15:04 +0000 2020</td>\n",
       "      <td>Mike422422</td>\n",
       "      <td>Fri Feb 07 21:19:39 +0000 2020</td>\n",
       "      <td>1276</td>\n",
       "      <td>1225891864877899776</td>\n",
       "      <td>RT @realDonaldTrump: Thank you to William Perr...</td>\n",
       "    </tr>\n",
       "  </tbody>\n",
       "</table>\n",
       "</div>"
      ],
      "text/plain": [
       "                    id         retweeted_id                      created_at  \\\n",
       "0  1254021092093693952  1254021070379769856  Sat Apr 25 12:15:01 +0000 2020   \n",
       "1  1254021092236288002  1254021070379769856  Sat Apr 25 12:15:01 +0000 2020   \n",
       "2  1254021093033009153  1254021070379769856  Sat Apr 25 12:15:01 +0000 2020   \n",
       "3  1254021096032124928  1254021070379769856  Sat Apr 25 12:15:02 +0000 2020   \n",
       "4  1254021102243905538  1254021070379769856  Sat Apr 25 12:15:04 +0000 2020   \n",
       "\n",
       "       screen_name                  user_join_date  followers_count  \\\n",
       "0  Unfollow_Donald  Thu Jan 26 00:11:09 +0000 2017              244   \n",
       "1      idontdonald  Fri Jan 27 04:35:34 +0000 2017               45   \n",
       "2         trump2ja  Tue Jan 17 10:41:30 +0000 2017             3486   \n",
       "3         la_cates  Sun Nov 08 17:44:11 +0000 2009            15947   \n",
       "4       Mike422422  Fri Feb 07 21:19:39 +0000 2020             1276   \n",
       "\n",
       "                id_str                                               text  \n",
       "0   824409302769303552  RT @realDonaldTrump: Thank you to William Perr...  \n",
       "1   824838233762697216  RT @realDonaldTrump: Thank you to William Perr...  \n",
       "2   821306443512967168  RT @realDonaldTrump: Thank you to William Perr...  \n",
       "3             88467528  RT @realDonaldTrump: Thank you to William Perr...  \n",
       "4  1225891864877899776  RT @realDonaldTrump: Thank you to William Perr...  "
      ]
     },
     "execution_count": 50,
     "metadata": {},
     "output_type": "execute_result"
    }
   ],
   "source": [
    "xx.head()"
   ]
  },
  {
   "cell_type": "code",
   "execution_count": 51,
   "metadata": {},
   "outputs": [
    {
     "data": {
      "text/plain": [
       "50999"
      ]
     },
     "execution_count": 51,
     "metadata": {},
     "output_type": "execute_result"
    }
   ],
   "source": [
    "len(xx)"
   ]
  },
  {
   "cell_type": "code",
   "execution_count": 55,
   "metadata": {},
   "outputs": [
    {
     "data": {
      "text/html": [
       "<div>\n",
       "<style scoped>\n",
       "    .dataframe tbody tr th:only-of-type {\n",
       "        vertical-align: middle;\n",
       "    }\n",
       "\n",
       "    .dataframe tbody tr th {\n",
       "        vertical-align: top;\n",
       "    }\n",
       "\n",
       "    .dataframe thead th {\n",
       "        text-align: right;\n",
       "    }\n",
       "</style>\n",
       "<table border=\"1\" class=\"dataframe\">\n",
       "  <thead>\n",
       "    <tr style=\"text-align: right;\">\n",
       "      <th></th>\n",
       "      <th>id</th>\n",
       "      <th>created_at</th>\n",
       "      <th>screen_name</th>\n",
       "      <th>user_join_date</th>\n",
       "      <th>followers_count</th>\n",
       "      <th>id_str</th>\n",
       "      <th>text</th>\n",
       "    </tr>\n",
       "    <tr>\n",
       "      <th>retweeted_id</th>\n",
       "      <th></th>\n",
       "      <th></th>\n",
       "      <th></th>\n",
       "      <th></th>\n",
       "      <th></th>\n",
       "      <th></th>\n",
       "      <th></th>\n",
       "    </tr>\n",
       "  </thead>\n",
       "  <tbody>\n",
       "    <tr>\n",
       "      <th>1254021070379769856</th>\n",
       "      <td>9675</td>\n",
       "      <td>9675</td>\n",
       "      <td>9675</td>\n",
       "      <td>9675</td>\n",
       "      <td>9675</td>\n",
       "      <td>9675</td>\n",
       "      <td>9675</td>\n",
       "    </tr>\n",
       "    <tr>\n",
       "      <th>1254022414058631170</th>\n",
       "      <td>16871</td>\n",
       "      <td>16871</td>\n",
       "      <td>16871</td>\n",
       "      <td>16871</td>\n",
       "      <td>16871</td>\n",
       "      <td>16871</td>\n",
       "      <td>16871</td>\n",
       "    </tr>\n",
       "    <tr>\n",
       "      <th>1254028869859971072</th>\n",
       "      <td>14938</td>\n",
       "      <td>14938</td>\n",
       "      <td>14938</td>\n",
       "      <td>14938</td>\n",
       "      <td>14938</td>\n",
       "      <td>14938</td>\n",
       "      <td>14938</td>\n",
       "    </tr>\n",
       "    <tr>\n",
       "      <th>1254032243770736642</th>\n",
       "      <td>9515</td>\n",
       "      <td>9515</td>\n",
       "      <td>9515</td>\n",
       "      <td>9515</td>\n",
       "      <td>9515</td>\n",
       "      <td>9515</td>\n",
       "      <td>9515</td>\n",
       "    </tr>\n",
       "  </tbody>\n",
       "</table>\n",
       "</div>"
      ],
      "text/plain": [
       "                        id  created_at  screen_name  user_join_date  \\\n",
       "retweeted_id                                                          \n",
       "1254021070379769856   9675        9675         9675            9675   \n",
       "1254022414058631170  16871       16871        16871           16871   \n",
       "1254028869859971072  14938       14938        14938           14938   \n",
       "1254032243770736642   9515        9515         9515            9515   \n",
       "\n",
       "                     followers_count  id_str   text  \n",
       "retweeted_id                                         \n",
       "1254021070379769856             9675    9675   9675  \n",
       "1254022414058631170            16871   16871  16871  \n",
       "1254028869859971072            14938   14938  14938  \n",
       "1254032243770736642             9515    9515   9515  "
      ]
     },
     "execution_count": 55,
     "metadata": {},
     "output_type": "execute_result"
    }
   ],
   "source": [
    "xx.groupby('retweeted_id').aggregate('count')"
   ]
  },
  {
   "cell_type": "code",
   "execution_count": null,
   "metadata": {},
   "outputs": [],
   "source": []
  }
 ],
 "metadata": {
  "kernelspec": {
   "display_name": "Python 3",
   "language": "python",
   "name": "python3"
  },
  "language_info": {
   "codemirror_mode": {
    "name": "ipython",
    "version": 3
   },
   "file_extension": ".py",
   "mimetype": "text/x-python",
   "name": "python",
   "nbconvert_exporter": "python",
   "pygments_lexer": "ipython3",
   "version": "3.6.9"
  }
 },
 "nbformat": 4,
 "nbformat_minor": 4
}
