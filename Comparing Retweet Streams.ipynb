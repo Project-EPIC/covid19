{
 "cells": [
  {
   "cell_type": "code",
   "execution_count": 51,
   "metadata": {},
   "outputs": [],
   "source": [
    "import plotly; import pandas as pd; import matplotlib.pyplot as plt\n",
    "import plotly.graph_objects as go\n",
    "from scipy.stats import spearmanr\n",
    "from collections import Counter\n",
    "import seaborn as sns\n",
    "\n",
    "%matplotlib inline\n",
    "%config InlineBackend.figure_format = 'retina' # Make figures look good for hi-res displays."
   ]
  },
  {
   "cell_type": "markdown",
   "metadata": {},
   "source": [
    "# Comparing Retweet Streams"
   ]
  },
  {
   "cell_type": "code",
   "execution_count": 52,
   "metadata": {},
   "outputs": [
    {
     "data": {
      "text/html": [
       "<div>\n",
       "<style scoped>\n",
       "    .dataframe tbody tr th:only-of-type {\n",
       "        vertical-align: middle;\n",
       "    }\n",
       "\n",
       "    .dataframe tbody tr th {\n",
       "        vertical-align: top;\n",
       "    }\n",
       "\n",
       "    .dataframe thead th {\n",
       "        text-align: right;\n",
       "    }\n",
       "</style>\n",
       "<table border=\"1\" class=\"dataframe\">\n",
       "  <thead>\n",
       "    <tr style=\"text-align: right;\">\n",
       "      <th></th>\n",
       "      <th>id</th>\n",
       "      <th>created_at</th>\n",
       "      <th>username</th>\n",
       "      <th>followers_count</th>\n",
       "      <th>source</th>\n",
       "      <th>followers_count_cumsum</th>\n",
       "      <th>text</th>\n",
       "      <th>top_N</th>\n",
       "    </tr>\n",
       "  </thead>\n",
       "  <tbody>\n",
       "    <tr>\n",
       "      <th>0</th>\n",
       "      <td>1253786298390732800</td>\n",
       "      <td>2020-04-24 20:42:02+00:00</td>\n",
       "      <td>mylow196</td>\n",
       "      <td>13</td>\n",
       "      <td>&lt;a href=\"http://twitter.com/download/iphone\" r...</td>\n",
       "      <td>9922339</td>\n",
       "      <td>Household cleaners and disinfectants can cause...</td>\n",
       "      <td>1</td>\n",
       "    </tr>\n",
       "    <tr>\n",
       "      <th>1</th>\n",
       "      <td>1254038937825402880</td>\n",
       "      <td>2020-04-25 13:25:56+00:00</td>\n",
       "      <td>stewonthis1</td>\n",
       "      <td>11238</td>\n",
       "      <td>&lt;a href=\"http://twitter.com/download/iphone\" r...</td>\n",
       "      <td>15751053</td>\n",
       "      <td>Household cleaners and disinfectants can cause...</td>\n",
       "      <td>1</td>\n",
       "    </tr>\n",
       "  </tbody>\n",
       "</table>\n",
       "</div>"
      ],
      "text/plain": [
       "                    id                created_at     username  \\\n",
       "0  1253786298390732800 2020-04-24 20:42:02+00:00     mylow196   \n",
       "1  1254038937825402880 2020-04-25 13:25:56+00:00  stewonthis1   \n",
       "\n",
       "   followers_count                                             source  \\\n",
       "0               13  <a href=\"http://twitter.com/download/iphone\" r...   \n",
       "1            11238  <a href=\"http://twitter.com/download/iphone\" r...   \n",
       "\n",
       "   followers_count_cumsum                                               text  \\\n",
       "0                 9922339  Household cleaners and disinfectants can cause...   \n",
       "1                15751053  Household cleaners and disinfectants can cause...   \n",
       "\n",
       "   top_N  \n",
       "0      1  \n",
       "1      1  "
      ]
     },
     "execution_count": 52,
     "metadata": {},
     "output_type": "execute_result"
    }
   ],
   "source": [
    "#Dataset: \n",
    "df = pd.read_json('/data/diffusion/cdc_userstreams_top_25_retweeted_2020-06-09.json')\n",
    "\n",
    "#View the raw data\n",
    "df.head(2)"
   ]
  },
  {
   "cell_type": "code",
   "execution_count": 53,
   "metadata": {
    "scrolled": false
   },
   "outputs": [],
   "source": [
    "def get_retweets_after_trump(df, window=1, debug=False):\n",
    "    \"\"\"\n",
    "        Returns a dictionary keyed by topN with dataframes as values of all the retweets of that tweet.\n",
    "    \"\"\"\n",
    "    retweets_after_trump = {}\n",
    "\n",
    "    for t, retweets in df.groupby('top_N'):\n",
    "        retweets.sort_values(by='created_at').reindex()\n",
    "        index_of_trump_retweet = retweets[retweets.username == 'realDonaldTrump'].index\n",
    "        \n",
    "        if t == 1: #The tweet he deleted\n",
    "            if debug: \n",
    "                print(\"Tweet TopN #: {}; \".format(t), end=\"\")\n",
    "            trumpTime = pd.Timestamp(\"20200425T13:01:55Z\")\n",
    "            max_time  = trumpTime + pd.Timedelta(hours=window)\n",
    "            \n",
    "            if debug: \n",
    "                print('we think @realDonaldTrump retweeted at '+ str(trumpTime))\n",
    "\n",
    "            in_window = retweets[(retweets.created_at > trumpTime ) & (retweets.created_at <= max_time)]\n",
    "            if debug: \n",
    "                print(str(len(in_window)) + \" retweets in {} hour(s) after Trump\".format(window)+\"\\n\")\n",
    "            \n",
    "            retweets_after_trump[t] = pd.DataFrame.copy(in_window)\n",
    "            retweets_after_trump[t]['timeSinceTrump'] = (retweets_after_trump[t].created_at - trumpTime)\n",
    "        \n",
    "        elif index_of_trump_retweet.any() > 0:\n",
    "            if debug: \n",
    "                print(\"Tweet TopN #: {}; \".format(t), end=\"\")\n",
    "            tweet = retweets.loc[min(index_of_trump_retweet)]\n",
    "            if debug: \n",
    "                print('@realDonaldTrump retweeted at '+ str( tweet.created_at))\n",
    "\n",
    "            max_time = tweet.created_at + pd.Timedelta(hours=window)\n",
    "\n",
    "            in_window = retweets[(retweets.created_at > tweet.created_at ) & (retweets.created_at <= max_time)]\n",
    "            if debug: \n",
    "                print(str(len(in_window)) + \" retweets in {} hour(s) after Trump\".format(window)+\"\\n\")\n",
    "            \n",
    "            retweets_after_trump[t] = pd.DataFrame.copy(in_window)\n",
    "            retweets_after_trump[t]['timeSinceTrump'] = (retweets_after_trump[t].created_at - tweet.created_at)\n",
    "            \n",
    "    # How many tweets do users retweet?\n",
    "    all_users = []\n",
    "    all_sources = []\n",
    "    for k in retweets_after_trump.keys():\n",
    "        all_users   += list(retweets_after_trump[k].username)\n",
    "        all_sources += list(retweets_after_trump[k].source)\n",
    "    source_counts = Counter(all_sources)\n",
    "    user_counts   = Counter(all_users)\n",
    "            \n",
    "    return [retweets_after_trump, source_counts, user_counts]\n",
    "\n",
    "def calculate_similarity_of_tweeters_in_two_streams(streamA, streamB):\n",
    "    \"\"\"\n",
    "        Returns the percentage of users that present in both streams\n",
    "    \"\"\"\n",
    "    return len( set(streamA.username) & set(streamB.username) ) / min(len(streamA),len(streamB) )* 100\n",
    "\n",
    "def rank_twitterers(streamA, streamB):\n",
    "    \"\"\"\n",
    "    Returns dataframe for plotting\n",
    "    \"\"\"\n",
    "    \n",
    "    users = set(streamA.username) & set(streamB.username)\n",
    "    \n",
    "    p_similar = calculate_similarity_of_tweeters_in_two_streams(streamA,streamB);\n",
    "    \n",
    "#     print(\"The % similar is: {:.2f} with {} users in both streams\".format(p_similar, len(users)))\n",
    "\n",
    "\n",
    "    to_return = []\n",
    "#         #Now remove users from each stream that aren't present in both.\n",
    "#         A = list( streamA[ streamA.username.apply(lambda u: u in users) ].username )\n",
    "#         B = list( streamB[ streamB.username.apply(lambda u: u in users) ].username )\n",
    "\n",
    "#         for u in list(users):\n",
    "#             to_return.append(\n",
    "#             {'user':u, 'rankInA':A.index(u), 'rankInB' : B.index(u)})\n",
    "\n",
    "    for u in list(users):\n",
    "        to_return.append(\n",
    "            {'user':u, \n",
    "             'rankInA':streamA[streamA.username==u].timeSinceTrump.values[0],\n",
    "             'rankInB':streamB[streamB.username==u].timeSinceTrump.values[0],\n",
    "             'sourceA':streamA[streamA.username==u].source.values[0],\n",
    "             'sourceB':streamB[streamB.username==u].source.values[0]})\n",
    "\n",
    "    thisDF = pd.DataFrame(to_return)\n",
    "    sr = spearmanr(thisDF.rankInA, thisDF.rankInB)\n",
    "#     print(sr)\n",
    "\n",
    "    return thisDF, sr, p_similar"
   ]
  },
  {
   "cell_type": "code",
   "execution_count": 68,
   "metadata": {},
   "outputs": [],
   "source": [
    "COLORS = plotly.colors.cyclical.Edge\n",
    "def hoverTemplate(row):\n",
    "    return row.user + \": \" + row.sourceA\n",
    "\n",
    "def make_plot(df2, user_counts):\n",
    "    \n",
    "    df2['counts'] = df2.user.apply(lambda x: user_counts[x])\n",
    "    \n",
    "    fig = go.Figure()\n",
    "\n",
    "    for count, rts in df2.groupby('counts'):\n",
    "\n",
    "        fig.add_trace(go.Scattergl(\n",
    "            name = 'Retweeted {} tweets'.format(count),\n",
    "            x    = rts.rankInA.apply(lambda x: x.total_seconds()),\n",
    "            y    = rts.rankInB.apply(lambda x: x.total_seconds()), \n",
    "            mode = 'markers',\n",
    "            marker = dict(\n",
    "                size  = 8,\n",
    "                color = COLORS[count-1],\n",
    "                opacity = 1\n",
    "            ),\n",
    "            hovertemplate ='%{text}',\n",
    "            text = rts.apply(lambda row: hoverTemplate(row), axis=1),\n",
    "            showlegend = True\n",
    "        ))\n",
    "\n",
    "    fig.update_layout(\n",
    "        autosize=False,\n",
    "        width=800,\n",
    "        height=600,\n",
    "        margin=dict(\n",
    "            t=50,r=50,l=1,b=1\n",
    "        ),\n",
    "        legend=dict(\n",
    "            x=1,\n",
    "            y=1,\n",
    "            traceorder=\"normal\",\n",
    "            font=dict(\n",
    "                family=\"sans-serif\",\n",
    "                size=12,\n",
    "                color=\"black\"\n",
    "            )),\n",
    "        title=\"Tweet #{} vs Tweet #{}\".format(A,B),\n",
    "        xaxis_title=\"Seconds since Trump Retweeted #{}\".format(A),\n",
    "        yaxis_title=\"Seconds since Trump Retweeted #{}\".format(B))\n",
    "    return fig"
   ]
  },
  {
   "cell_type": "markdown",
   "metadata": {},
   "source": [
    "# For `X` hour windows:"
   ]
  },
  {
   "cell_type": "code",
   "execution_count": 69,
   "metadata": {},
   "outputs": [
    {
     "name": "stdout",
     "output_type": "stream",
     "text": [
      "The % similar is: 75.39 with 579 users in both streams\n",
      "SpearmanrResult(correlation=0.9839867857505521, pvalue=0.0)\n"
     ]
    },
    {
     "data": {
      "application/vnd.plotly.v1+json": {
       "config": {
        "plotlyServerURL": "https://plot.ly"
       },
       "data": [
        {
         "hovertemplate": "%{text}",
         "marker": {
          "color": "#3d019d",
          "opacity": 1,
          "size": 8
         },
         "mode": "markers",
         "name": "Retweeted 2 tweets",
         "showlegend": true,
         "text": [
          "DeborahOrona: <a href=\"http://twitter.com/download/android\" rel=\"nofollow\">Twitter for Android</a>",
          "LyndaAtchison: <a href=\"https://mobile.twitter.com\" rel=\"nofollow\">Twitter Web App</a>",
          "Aaknard: <a href=\"http://twitter.com/download/android\" rel=\"nofollow\">Twitter for Android</a>",
          "SitterleyMarcia: <a href=\"http://twitter.com/download/iphone\" rel=\"nofollow\">Twitter for iPhone</a>",
          "ChatterjeeNeel_: <a href=\"http://twitter.com/download/iphone\" rel=\"nofollow\">Twitter for iPhone</a>",
          "lbgodines: <a href=\"http://twitter.com/download/android\" rel=\"nofollow\">Twitter for Android</a>",
          "RealJobRob: <a href=\"http://twitter.com/download/iphone\" rel=\"nofollow\">Twitter for iPhone</a>",
          "tetxnu84967: <a href=\"http://twitter.com/download/iphone\" rel=\"nofollow\">Twitter for iPhone</a>",
          "allen12291958: <a href=\"http://twitter.com/download/android\" rel=\"nofollow\">Twitter for Android</a>",
          "yoSissyNY_FL: <a href=\"https://mobile.twitter.com\" rel=\"nofollow\">Twitter Web App</a>",
          "JstannerJudy: <a href=\"http://twitter.com/download/android\" rel=\"nofollow\">Twitter for Android</a>",
          "jhughes3939: <a href=\"https://mobile.twitter.com\" rel=\"nofollow\">Twitter Web App</a>",
          "DefinePopcorn: <a href=\"https://mobile.twitter.com\" rel=\"nofollow\">Twitter Web App</a>",
          "xenia_tom: <a href=\"https://mobile.twitter.com\" rel=\"nofollow\">Twitter Web App</a>",
          "PavichS2: <a href=\"http://twitter.com/download/android\" rel=\"nofollow\">Twitter for Android</a>",
          "thedeepertheluv: <a href=\"http://twitter.com/download/android\" rel=\"nofollow\">Twitter for Android</a>",
          "Chintan705: <a href=\"http://twitter.com/download/iphone\" rel=\"nofollow\">Twitter for iPhone</a>",
          "KayV34: <a href=\"http://twitter.com/download/android\" rel=\"nofollow\">Twitter for Android</a>",
          "Dominic9702: <a href=\"http://twitter.com/download/iphone\" rel=\"nofollow\">Twitter for iPhone</a>",
          "GwenLCummings: <a href=\"https://mobile.twitter.com\" rel=\"nofollow\">Twitter Web App</a>",
          "Beachbum4747: <a href=\"http://twitter.com/download/iphone\" rel=\"nofollow\">Twitter for iPhone</a>",
          "MagmaeM: <a href=\"http://twitter.com/download/iphone\" rel=\"nofollow\">Twitter for iPhone</a>",
          "LiberalsNo: <a href=\"http://twitter.com/#!/download/ipad\" rel=\"nofollow\">Twitter for iPad</a>",
          "BarseSteven: <a href=\"http://twitter.com/download/android\" rel=\"nofollow\">Twitter for Android</a>",
          "popink: <a href=\"http://twitter.com/download/iphone\" rel=\"nofollow\">Twitter for iPhone</a>",
          "TheRealPopeyeO: <a href=\"http://twitter.com/download/iphone\" rel=\"nofollow\">Twitter for iPhone</a>",
          "BBallinger6: <a href=\"http://twitter.com/download/iphone\" rel=\"nofollow\">Twitter for iPhone</a>",
          "1234potterys1: <a href=\"http://twitter.com/download/iphone\" rel=\"nofollow\">Twitter for iPhone</a>",
          "tony_hambleton: <a href=\"http://twitter.com/download/iphone\" rel=\"nofollow\">Twitter for iPhone</a>",
          "guts_ya: <a href=\"http://twitter.com/download/android\" rel=\"nofollow\">Twitter for Android</a>",
          "hayag_jerry: <a href=\"http://twitter.com/download/android\" rel=\"nofollow\">Twitter for Android</a>",
          "it8ntme: <a href=\"http://twitter.com/download/iphone\" rel=\"nofollow\">Twitter for iPhone</a>",
          "ALLEN4TRUMP2020: <a href=\"http://twitter.com/download/android\" rel=\"nofollow\">Twitter for Android</a>",
          "bfraser747: <a href=\"http://twitter.com/download/android\" rel=\"nofollow\">Twitter for Android</a>",
          "hwholcomb: <a href=\"http://twitter.com/download/iphone\" rel=\"nofollow\">Twitter for iPhone</a>",
          "Madge642: <a href=\"https://mobile.twitter.com\" rel=\"nofollow\">Twitter Web App</a>",
          "DallasBrownin16: <a href=\"https://mobile.twitter.com\" rel=\"nofollow\">Twitter Web App</a>",
          "Trumptrooper2: <a href=\"http://twitter.com/download/iphone\" rel=\"nofollow\">Twitter for iPhone</a>",
          "WmWallace1911: <a href=\"https://mobile.twitter.com\" rel=\"nofollow\">Twitter Web App</a>",
          "AmericaIsUnited: <a href=\"http://twitter.com/download/iphone\" rel=\"nofollow\">Twitter for iPhone</a>",
          "Cassie__ch: <a href=\"https://mobile.twitter.com\" rel=\"nofollow\">Twitter Web App</a>",
          "AntoinettaSpea2: <a href=\"https://mobile.twitter.com\" rel=\"nofollow\">Twitter Web App</a>",
          "Marva2017555: <a href=\"http://twitter.com/download/iphone\" rel=\"nofollow\">Twitter for iPhone</a>",
          "WePromises: <a href=\"https://mobile.twitter.com\" rel=\"nofollow\">Twitter Web App</a>",
          "gringaloca11: <a href=\"http://twitter.com/download/iphone\" rel=\"nofollow\">Twitter for iPhone</a>",
          "BambiMejia2: <a href=\"http://twitter.com/download/iphone\" rel=\"nofollow\">Twitter for iPhone</a>",
          "ClasicMthrGoose: <a href=\"http://twitter.com/download/iphone\" rel=\"nofollow\">Twitter for iPhone</a>",
          "Pjw20161951: <a href=\"http://twitter.com/#!/download/ipad\" rel=\"nofollow\">Twitter for iPad</a>",
          "stewjam66: <a href=\"http://twitter.com/download/android\" rel=\"nofollow\">Twitter for Android</a>",
          "EdwinEd1667: <a href=\"http://twitter.com/download/android\" rel=\"nofollow\">Twitter for Android</a>",
          "shbco: <a href=\"http://twitter.com/download/android\" rel=\"nofollow\">Twitter for Android</a>",
          "camp_cia: <a href=\"https://mobile.twitter.com\" rel=\"nofollow\">Mobile Web (M2)</a>",
          "SheJokerLouise: <a href=\"http://twitter.com/download/iphone\" rel=\"nofollow\">Twitter for iPhone</a>",
          "GrayZinez: <a href=\"http://twitter.com/download/iphone\" rel=\"nofollow\">Twitter for iPhone</a>",
          "glen_strother: <a href=\"http://twitter.com/download/android\" rel=\"nofollow\">Twitter for Android</a>",
          "neojosemo: <a href=\"http://twitter.com/download/iphone\" rel=\"nofollow\">Twitter for iPhone</a>",
          "DBERG420: <a href=\"http://twitter.com/download/android\" rel=\"nofollow\">Twitter for Android</a>",
          "cn27793_ah5_hn_: <a href=\"https://mobile.twitter.com\" rel=\"nofollow\">Twitter Web App</a>",
          "levins_gregory: <a href=\"http://twitter.com/download/android\" rel=\"nofollow\">Twitter for Android</a>",
          "organic2016: <a href=\"http://twitter.com/download/iphone\" rel=\"nofollow\">Twitter for iPhone</a>",
          "KeosonicOm: <a href=\"http://twitter.com/download/iphone\" rel=\"nofollow\">Twitter for iPhone</a>",
          "KimDavid927: <a href=\"http://twitter.com/download/android\" rel=\"nofollow\">Twitter for Android</a>",
          "aaroque2016: <a href=\"http://twitter.com/download/iphone\" rel=\"nofollow\">Twitter for iPhone</a>",
          "Tammy_Killebrew: <a href=\"http://twitter.com/download/android\" rel=\"nofollow\">Twitter for Android</a>",
          "Mike_Matuska: <a href=\"http://twitter.com/download/iphone\" rel=\"nofollow\">Twitter for iPhone</a>",
          "CarolLovesTrump: <a href=\"http://twitter.com/download/android\" rel=\"nofollow\">Twitter for Android</a>",
          "ryanart329: <a href=\"http://twitter.com/download/iphone\" rel=\"nofollow\">Twitter for iPhone</a>",
          "cherribaby4: <a href=\"http://twitter.com/download/iphone\" rel=\"nofollow\">Twitter for iPhone</a>",
          "justonepatriot: <a href=\"http://twitter.com/download/iphone\" rel=\"nofollow\">Twitter for iPhone</a>",
          "woodwa10_la: <a href=\"http://twitter.com/download/android\" rel=\"nofollow\">Twitter for Android</a>",
          "LeblancLianne: <a href=\"http://twitter.com/download/iphone\" rel=\"nofollow\">Twitter for iPhone</a>",
          "hgilmer265: <a href=\"http://twitter.com/download/iphone\" rel=\"nofollow\">Twitter for iPhone</a>",
          "psmith19701: <a href=\"http://twitter.com/download/android\" rel=\"nofollow\">Twitter for Android</a>",
          "stoyeneso: <a href=\"http://twitter.com/download/iphone\" rel=\"nofollow\">Twitter for iPhone</a>",
          "IRENEWA45168212: <a href=\"http://twitter.com/download/iphone\" rel=\"nofollow\">Twitter for iPhone</a>",
          "PopZ00100: <a href=\"https://mobile.twitter.com\" rel=\"nofollow\">Twitter Web App</a>",
          "GREENESJ333: <a href=\"http://twitter.com/download/android\" rel=\"nofollow\">Twitter for Android</a>",
          "lilac_silk: <a href=\"http://twitter.com/download/android\" rel=\"nofollow\">Twitter for Android</a>",
          "DutyOfAPatriot: <a href=\"http://twitter.com/#!/download/ipad\" rel=\"nofollow\">Twitter for iPad</a>",
          "LuluXar: <a href=\"http://twitter.com/download/iphone\" rel=\"nofollow\">Twitter for iPhone</a>",
          "sarah_weikle: <a href=\"http://twitter.com/download/android\" rel=\"nofollow\">Twitter for Android</a>",
          "rosarelli: <a href=\"http://twitter.com/download/iphone\" rel=\"nofollow\">Twitter for iPhone</a>",
          "hdak34: <a href=\"http://twitter.com/download/android\" rel=\"nofollow\">Twitter for Android</a>",
          "71_rajib: <a href=\"http://twitter.com/download/android\" rel=\"nofollow\">Twitter for Android</a>",
          "Kim13283440: <a href=\"https://mobile.twitter.com\" rel=\"nofollow\">Twitter Web App</a>",
          "VaBeachDi: <a href=\"http://twitter.com/download/iphone\" rel=\"nofollow\">Twitter for iPhone</a>",
          "DorothyRuth25: <a href=\"http://twitter.com/download/iphone\" rel=\"nofollow\">Twitter for iPhone</a>",
          "Ioncewasblinded: <a href=\"http://twitter.com/download/iphone\" rel=\"nofollow\">Twitter for iPhone</a>",
          "Woke2008: <a href=\"http://twitter.com/download/iphone\" rel=\"nofollow\">Twitter for iPhone</a>",
          "usacit1970: <a href=\"http://twitter.com/download/iphone\" rel=\"nofollow\">Twitter for iPhone</a>",
          "KristiRobins10: <a href=\"http://twitter.com/download/iphone\" rel=\"nofollow\">Twitter for iPhone</a>",
          "Nunez200: <a href=\"http://twitter.com/download/android\" rel=\"nofollow\">Twitter for Android</a>",
          "clfklf: <a href=\"http://twitter.com/download/android\" rel=\"nofollow\">Twitter for Android</a>",
          "DaytonLivingst2: <a href=\"http://twitter.com/download/android\" rel=\"nofollow\">Twitter for Android</a>",
          "sheilasaintfan: <a href=\"http://twitter.com/download/iphone\" rel=\"nofollow\">Twitter for iPhone</a>",
          "SallyLa57199765: <a href=\"http://twitter.com/download/iphone\" rel=\"nofollow\">Twitter for iPhone</a>",
          "matters_real: <a href=\"http://twitter.com/download/iphone\" rel=\"nofollow\">Twitter for iPhone</a>",
          "WalterNDiaz1: <a href=\"http://twitter.com/download/android\" rel=\"nofollow\">Twitter for Android</a>",
          "John_Hurrey: <a href=\"http://twitter.com\" rel=\"nofollow\">Twitter Web Client</a>",
          "Sheckyk: <a href=\"http://twitter.com/download/android\" rel=\"nofollow\">Twitter for Android</a>",
          "Ardhecornbee: <a href=\"http://twitter.com/download/android\" rel=\"nofollow\">Twitter for Android</a>",
          "rnelson189: <a href=\"http://twitter.com/download/iphone\" rel=\"nofollow\">Twitter for iPhone</a>",
          "Grandetestes: <a href=\"http://twitter.com/download/android\" rel=\"nofollow\">Twitter for Android</a>",
          "Wandafay: <a href=\"http://twitter.com/download/android\" rel=\"nofollow\">Twitter for Android</a>",
          "LkwdAskan: <a href=\"http://twitter.com/download/iphone\" rel=\"nofollow\">Twitter for iPhone</a>",
          "TopInfoBlogs: <a href=\"http://twitter.com\" rel=\"nofollow\">Twitter Web Client</a>",
          "FishManwaters: <a href=\"http://twitter.com/download/iphone\" rel=\"nofollow\">Twitter for iPhone</a>",
          "DulaLynne: <a href=\"https://mobile.twitter.com\" rel=\"nofollow\">Twitter Web App</a>",
          "Matthew86263146: <a href=\"http://twitter.com/download/iphone\" rel=\"nofollow\">Twitter for iPhone</a>",
          "peacelovekind1: <a href=\"http://twitter.com/download/iphone\" rel=\"nofollow\">Twitter for iPhone</a>",
          "KattTrotter: <a href=\"http://twitter.com/#!/download/ipad\" rel=\"nofollow\">Twitter for iPad</a>",
          "alanmillhone: <a href=\"http://twitter.com/download/android\" rel=\"nofollow\">Twitter for Android</a>",
          "sunset_dawn2: <a href=\"https://mobile.twitter.com\" rel=\"nofollow\">Twitter Web App</a>",
          "GisiAnthony: <a href=\"http://twitter.com/download/android\" rel=\"nofollow\">Twitter for Android</a>",
          "1RealLori: <a href=\"http://twitter.com/download/android\" rel=\"nofollow\">Twitter for Android</a>",
          "Angeleyesblue77: <a href=\"http://twitter.com/download/iphone\" rel=\"nofollow\">Twitter for iPhone</a>",
          "SabatiniDetails: <a href=\"http://twitter.com/download/iphone\" rel=\"nofollow\">Twitter for iPhone</a>",
          "Cruisedatsea: <a href=\"http://twitter.com/download/android\" rel=\"nofollow\">Twitter for Android</a>",
          "cccinnc: <a href=\"http://twitter.com/#!/download/ipad\" rel=\"nofollow\">Twitter for iPad</a>",
          "MaryPinkley: <a href=\"http://twitter.com/download/iphone\" rel=\"nofollow\">Twitter for iPhone</a>",
          "IraidaLeon: <a href=\"http://twitter.com/download/android\" rel=\"nofollow\">Twitter for Android</a>",
          "CharlesKaps2: <a href=\"http://twitter.com/download/android\" rel=\"nofollow\">Twitter for Android</a>",
          "Pacificnw777: <a href=\"http://twitter.com/download/android\" rel=\"nofollow\">Twitter for Android</a>",
          "Christi47072865: <a href=\"http://twitter.com/download/android\" rel=\"nofollow\">Twitter for Android</a>",
          "councilross11: <a href=\"http://twitter.com/download/android\" rel=\"nofollow\">Twitter for Android</a>",
          "anitalou_: <a href=\"https://mobile.twitter.com\" rel=\"nofollow\">Twitter Web App</a>",
          "TheRacemancan: <a href=\"http://twitter.com/download/iphone\" rel=\"nofollow\">Twitter for iPhone</a>",
          "RealTyWebb: <a href=\"http://twitter.com/download/iphone\" rel=\"nofollow\">Twitter for iPhone</a>",
          "hannibal68: <a href=\"http://twitter.com/download/android\" rel=\"nofollow\">Twitter for Android</a>",
          "dowchang: <a href=\"https://mobile.twitter.com\" rel=\"nofollow\">Twitter Web App</a>",
          "TheodoreVegh: <a href=\"https://mobile.twitter.com\" rel=\"nofollow\">Twitter Web App</a>",
          "doesitmatter437: <a href=\"http://twitter.com/download/iphone\" rel=\"nofollow\">Twitter for iPhone</a>",
          "TxSaya: <a href=\"http://twitter.com/download/iphone\" rel=\"nofollow\">Twitter for iPhone</a>",
          "KarenWillestoft: <a href=\"http://twitter.com/#!/download/ipad\" rel=\"nofollow\">Twitter for iPad</a>",
          "kayceeinva: <a href=\"http://twitter.com/download/iphone\" rel=\"nofollow\">Twitter for iPhone</a>",
          "2Glitz4U: <a href=\"http://twitter.com/download/iphone\" rel=\"nofollow\">Twitter for iPhone</a>",
          "AllenDyer6: <a href=\"http://twitter.com/download/android\" rel=\"nofollow\">Twitter for Android</a>",
          "Gracecourtwrig3: <a href=\"http://twitter.com/download/android\" rel=\"nofollow\">Twitter for Android</a>",
          "AnhLagos: <a href=\"http://twitter.com/download/iphone\" rel=\"nofollow\">Twitter for iPhone</a>",
          "ROB_ENGLAND_: <a href=\"http://twitter.com/download/iphone\" rel=\"nofollow\">Twitter for iPhone</a>",
          "IreneEagle1: <a href=\"http://twitter.com/#!/download/ipad\" rel=\"nofollow\">Twitter for iPad</a>",
          "RWDiogo: <a href=\"http://twitter.com/download/iphone\" rel=\"nofollow\">Twitter for iPhone</a>",
          "JoeFreedomLove: <a href=\"http://twitter.com/download/iphone\" rel=\"nofollow\">Twitter for iPhone</a>",
          "TheWarr57826464: <a href=\"http://twitter.com/download/android\" rel=\"nofollow\">Twitter for Android</a>",
          "CASINOFALLS: <a href=\"http://twitter.com/download/iphone\" rel=\"nofollow\">Twitter for iPhone</a>",
          "IsmailJabery: <a href=\"http://twitter.com/download/iphone\" rel=\"nofollow\">Twitter for iPhone</a>",
          "ALWAYSPsalm91: <a href=\"http://twitter.com/download/iphone\" rel=\"nofollow\">Twitter for iPhone</a>",
          "heidiconley76: <a href=\"http://twitter.com/download/android\" rel=\"nofollow\">Twitter for Android</a>",
          "Audrakat: <a href=\"http://twitter.com/download/android\" rel=\"nofollow\">Twitter for Android</a>",
          "DonSmit76680351: <a href=\"http://twitter.com/download/iphone\" rel=\"nofollow\">Twitter for iPhone</a>",
          "Dersu62: <a href=\"http://twitter.com/#!/download/ipad\" rel=\"nofollow\">Twitter for iPad</a>",
          "BlackPatriotQ17: <a href=\"http://twitter.com/download/android\" rel=\"nofollow\">Twitter for Android</a>",
          "pjk247: <a href=\"https://mobile.twitter.com\" rel=\"nofollow\">Twitter Web App</a>",
          "Cassieiswild: <a href=\"http://twitter.com/download/iphone\" rel=\"nofollow\">Twitter for iPhone</a>",
          "batista_falcon: <a href=\"http://twitter.com/download/android\" rel=\"nofollow\">Twitter for Android</a>",
          "bentley_maxie: <a href=\"https://mobile.twitter.com\" rel=\"nofollow\">Twitter Web App</a>",
          "MAGACountry45: <a href=\"http://twitter.com/download/iphone\" rel=\"nofollow\">Twitter for iPhone</a>",
          "Noozeez: <a href=\"https://mobile.twitter.com\" rel=\"nofollow\">Twitter Web App</a>",
          "theejonas_: <a href=\"http://twitter.com/download/iphone\" rel=\"nofollow\">Twitter for iPhone</a>",
          "ezridersos: <a href=\"http://twitter.com/download/android\" rel=\"nofollow\">Twitter for Android</a>",
          "bktown1: <a href=\"http://twitter.com/download/android\" rel=\"nofollow\">Twitter for Android</a>",
          "Randy77847389: <a href=\"https://mobile.twitter.com\" rel=\"nofollow\">Twitter Web App</a>",
          "Trumpist2: <a href=\"http://twitter.com/download/android\" rel=\"nofollow\">Twitter for Android</a>",
          "Rob95967018: <a href=\"http://twitter.com/download/android\" rel=\"nofollow\">Twitter for Android</a>",
          "luishon2: <a href=\"http://twitter.com/download/iphone\" rel=\"nofollow\">Twitter for iPhone</a>",
          "tantestrain: <a href=\"http://twitter.com/download/iphone\" rel=\"nofollow\">Twitter for iPhone</a>",
          "willethridge112: <a href=\"http://twitter.com/download/iphone\" rel=\"nofollow\">Twitter for iPhone</a>",
          "Trumpmissouri: <a href=\"http://twitter.com/download/iphone\" rel=\"nofollow\">Twitter for iPhone</a>",
          "Drake21231: <a href=\"http://twitter.com/download/iphone\" rel=\"nofollow\">Twitter for iPhone</a>",
          "ShawnSullivan66: <a href=\"http://twitter.com/download/iphone\" rel=\"nofollow\">Twitter for iPhone</a>",
          "dundeeborn69: <a href=\"http://twitter.com/download/iphone\" rel=\"nofollow\">Twitter for iPhone</a>",
          "brandy_mancari: <a href=\"http://twitter.com/download/android\" rel=\"nofollow\">Twitter for Android</a>",
          "shredbin: <a href=\"http://twitter.com/download/iphone\" rel=\"nofollow\">Twitter for iPhone</a>",
          "SharaeM3: <a href=\"http://twitter.com/download/android\" rel=\"nofollow\">Twitter for Android</a>",
          "TAftermath2020: <a href=\"http://twitter.com/download/iphone\" rel=\"nofollow\">Twitter for iPhone</a>",
          "Interradeserta: <a href=\"http://twitter.com/download/iphone\" rel=\"nofollow\">Twitter for iPhone</a>",
          "Wwg1wgaTrump: <a href=\"http://twitter.com/download/iphone\" rel=\"nofollow\">Twitter for iPhone</a>",
          "mtbackpackrk: <a href=\"http://twitter.com/download/android\" rel=\"nofollow\">Twitter for Android</a>",
          "DevaloisLi0: <a href=\"http://twitter.com/download/android\" rel=\"nofollow\">Twitter for Android</a>",
          "nishbow: <a href=\"https://mobile.twitter.com\" rel=\"nofollow\">Twitter Web App</a>",
          "123jesust: <a href=\"https://mobile.twitter.com\" rel=\"nofollow\">Twitter Web App</a>",
          "Tinal0963: <a href=\"http://twitter.com/#!/download/ipad\" rel=\"nofollow\">Twitter for iPad</a>",
          "Drdeleon16David: <a href=\"http://twitter.com/download/iphone\" rel=\"nofollow\">Twitter for iPhone</a>",
          "SandraLambros: <a href=\"http://twitter.com/download/iphone\" rel=\"nofollow\">Twitter for iPhone</a>",
          "SpyMail: <a href=\"http://twitter.com/download/iphone\" rel=\"nofollow\">Twitter for iPhone</a>",
          "valliberty: <a href=\"http://twitter.com/download/android\" rel=\"nofollow\">Twitter for Android</a>",
          "Barbaren7: <a href=\"https://mobile.twitter.com\" rel=\"nofollow\">Twitter Web App</a>",
          "EvelineSheila: <a href=\"http://twitter.com/download/iphone\" rel=\"nofollow\">Twitter for iPhone</a>",
          "realThomasLink: <a href=\"http://twitter.com/download/android\" rel=\"nofollow\">Twitter for Android</a>",
          "DanielMedanich: <a href=\"http://twitter.com/download/iphone\" rel=\"nofollow\">Twitter for iPhone</a>",
          "FernandoIbarr15: <a href=\"http://twitter.com/download/android\" rel=\"nofollow\">Twitter for Android</a>",
          "Cleve69_Alan: <a href=\"https://mobile.twitter.com\" rel=\"nofollow\">Twitter Web App</a>",
          "zzprosper: <a href=\"http://twitter.com/download/android\" rel=\"nofollow\">Twitter for Android</a>",
          "Lstoud1: <a href=\"https://mobile.twitter.com\" rel=\"nofollow\">Twitter Web App</a>",
          "DeboraGlorioso: <a href=\"http://twitter.com/download/iphone\" rel=\"nofollow\">Twitter for iPhone</a>",
          "auser72307407: <a href=\"http://twitter.com/download/iphone\" rel=\"nofollow\">Twitter for iPhone</a>",
          "Toastmmaster: <a href=\"https://mobile.twitter.com\" rel=\"nofollow\">Twitter Web App</a>",
          "dlbetz: <a href=\"http://twitter.com/download/android\" rel=\"nofollow\">Twitter for Android</a>",
          "SolG8lden: <a href=\"http://twitter.com/download/iphone\" rel=\"nofollow\">Twitter for iPhone</a>",
          "MagcanadaMike: <a href=\"http://twitter.com/download/iphone\" rel=\"nofollow\">Twitter for iPhone</a>",
          "SheriWible: <a href=\"http://twitter.com/download/android\" rel=\"nofollow\">Twitter for Android</a>",
          "4dash94: <a href=\"http://twitter.com/download/android\" rel=\"nofollow\">Twitter for Android</a>",
          "ProudTexan7: <a href=\"https://mobile.twitter.com\" rel=\"nofollow\">Twitter Web App</a>",
          "4Civilization: <a href=\"https://mobile.twitter.com\" rel=\"nofollow\">Twitter Web App</a>",
          "CyntianW: <a href=\"http://twitter.com/download/iphone\" rel=\"nofollow\">Twitter for iPhone</a>",
          "hgfromrgv: <a href=\"http://twitter.com/download/android\" rel=\"nofollow\">Twitter for Android</a>",
          "reshad_s1: <a href=\"http://twitter.com/download/iphone\" rel=\"nofollow\">Twitter for iPhone</a>",
          "KimM36265758: <a href=\"http://twitter.com/download/iphone\" rel=\"nofollow\">Twitter for iPhone</a>",
          "usctrojan94: <a href=\"http://twitter.com/download/iphone\" rel=\"nofollow\">Twitter for iPhone</a>",
          "EOrioledh: <a href=\"http://twitter.com/download/iphone\" rel=\"nofollow\">Twitter for iPhone</a>",
          "TexasGirl4Trump: <a href=\"http://twitter.com/download/iphone\" rel=\"nofollow\">Twitter for iPhone</a>",
          "CharleyGirlQ: <a href=\"https://mobile.twitter.com\" rel=\"nofollow\">Twitter Web App</a>",
          "mrwho007: <a href=\"http://twitter.com/download/android\" rel=\"nofollow\">Twitter for Android</a>",
          "EricStorch: <a href=\"http://twitter.com/download/iphone\" rel=\"nofollow\">Twitter for iPhone</a>",
          "KeithBrinson7: <a href=\"http://twitter.com/#!/download/ipad\" rel=\"nofollow\">Twitter for iPad</a>",
          "TruthToLight45: <a href=\"http://twitter.com/download/android\" rel=\"nofollow\">Twitter for Android</a>",
          "KennyCrase: <a href=\"http://twitter.com/download/iphone\" rel=\"nofollow\">Twitter for iPhone</a>",
          "Spirit4Freedom: <a href=\"http://twitter.com/download/iphone\" rel=\"nofollow\">Twitter for iPhone</a>",
          "mkbandcat: <a href=\"https://mobile.twitter.com\" rel=\"nofollow\">Twitter Web App</a>",
          "Justinzmom13: <a href=\"http://twitter.com/download/android\" rel=\"nofollow\">Twitter for Android</a>",
          "karen_erotoo1: <a href=\"http://twitter.com/download/android\" rel=\"nofollow\">Twitter for Android</a>",
          "varks3: <a href=\"https://mobile.twitter.com\" rel=\"nofollow\">Twitter Web App</a>",
          "IDFWUMF: <a href=\"http://twitter.com/download/android\" rel=\"nofollow\">Twitter for Android</a>",
          "dodicek1: <a href=\"http://twitter.com/download/android\" rel=\"nofollow\">Twitter for Android</a>",
          "CoachBauer69: <a href=\"http://twitter.com/download/android\" rel=\"nofollow\">Twitter for Android</a>",
          "madmaness: <a href=\"http://twitter.com/download/iphone\" rel=\"nofollow\">Twitter for iPhone</a>",
          "GalvezPrimo: <a href=\"http://twitter.com/#!/download/ipad\" rel=\"nofollow\">Twitter for iPad</a>",
          "LindacoxCox: <a href=\"https://mobile.twitter.com\" rel=\"nofollow\">Twitter Web App</a>",
          "antney12: <a href=\"http://twitter.com/download/iphone\" rel=\"nofollow\">Twitter for iPhone</a>",
          "Zamzdice3: <a href=\"http://twitter.com/download/iphone\" rel=\"nofollow\">Twitter for iPhone</a>",
          "Hh7784703533: <a href=\"http://twitter.com/download/android\" rel=\"nofollow\">Twitter for Android</a>",
          "x4PITTS1BURGH2x: <a href=\"http://twitter.com/download/android\" rel=\"nofollow\">Twitter for Android</a>",
          "BMelbon: <a href=\"http://twitter.com/download/iphone\" rel=\"nofollow\">Twitter for iPhone</a>",
          "Edwinq4769: <a href=\"http://twitter.com/download/iphone\" rel=\"nofollow\">Twitter for iPhone</a>",
          "nolan_thorn: <a href=\"https://mobile.twitter.com\" rel=\"nofollow\">Twitter Web App</a>",
          "MelissaUSAIs1: <a href=\"http://twitter.com/download/android\" rel=\"nofollow\">Twitter for Android</a>",
          "junebug3122: <a href=\"http://twitter.com/download/iphone\" rel=\"nofollow\">Twitter for iPhone</a>",
          "WheeleyML: <a href=\"http://twitter.com/download/android\" rel=\"nofollow\">Twitter for Android</a>",
          "deplorablelori: <a href=\"http://twitter.com/download/android\" rel=\"nofollow\">Twitter for Android</a>",
          "ascending2him: <a href=\"http://twitter.com/#!/download/ipad\" rel=\"nofollow\">Twitter for iPad</a>",
          "tina10004359: <a href=\"http://twitter.com/download/iphone\" rel=\"nofollow\">Twitter for iPhone</a>",
          "observingeye111: <a href=\"http://twitter.com/download/iphone\" rel=\"nofollow\">Twitter for iPhone</a>",
          "AmyRose77253769: <a href=\"http://twitter.com/download/iphone\" rel=\"nofollow\">Twitter for iPhone</a>",
          "emmick66: <a href=\"http://twitter.com/download/android\" rel=\"nofollow\">Twitter for Android</a>",
          "hudkinskirk0: <a href=\"http://twitter.com/download/iphone\" rel=\"nofollow\">Twitter for iPhone</a>",
          "Vdub_Lady: <a href=\"http://twitter.com/download/iphone\" rel=\"nofollow\">Twitter for iPhone</a>",
          "evasnchz7: <a href=\"http://twitter.com/download/android\" rel=\"nofollow\">Twitter for Android</a>",
          "SuryaTheRoar: <a href=\"https://mobile.twitter.com\" rel=\"nofollow\">Twitter Web App</a>",
          "MAGAreeni: <a href=\"http://twitter.com/download/iphone\" rel=\"nofollow\">Twitter for iPhone</a>",
          "realblee88: <a href=\"http://twitter.com/download/android\" rel=\"nofollow\">Twitter for Android</a>",
          "LovinLifeToThe1: <a href=\"http://twitter.com/download/iphone\" rel=\"nofollow\">Twitter for iPhone</a>",
          "Maicon56976006: <a href=\"http://twitter.com/download/android\" rel=\"nofollow\">Twitter for Android</a>",
          "IHSAHistorian: <a href=\"https://mobile.twitter.com\" rel=\"nofollow\">Twitter Web App</a>",
          "larado99: <a href=\"http://twitter.com/download/iphone\" rel=\"nofollow\">Twitter for iPhone</a>",
          "atxflyboy: <a href=\"http://twitter.com/download/iphone\" rel=\"nofollow\">Twitter for iPhone</a>",
          "lllaurenzo: <a href=\"http://twitter.com/download/iphone\" rel=\"nofollow\">Twitter for iPhone</a>",
          "McUkes: <a href=\"http://twitter.com/download/android\" rel=\"nofollow\">Twitter for Android</a>",
          "ladykatrina3: <a href=\"http://twitter.com/download/iphone\" rel=\"nofollow\">Twitter for iPhone</a>",
          "icuducme2: <a href=\"http://twitter.com/download/android\" rel=\"nofollow\">Twitter for Android</a>",
          "ThomasM9096: <a href=\"http://twitter.com/download/iphone\" rel=\"nofollow\">Twitter for iPhone</a>",
          "Mike_MAGA_Trump: <a href=\"https://mobile.twitter.com\" rel=\"nofollow\">Twitter Web App</a>",
          "grassplantoil24: <a href=\"http://twitter.com/download/android\" rel=\"nofollow\">Twitter for Android</a>",
          "RexWarner8: <a href=\"http://twitter.com/download/iphone\" rel=\"nofollow\">Twitter for iPhone</a>",
          "Shepard78531323: <a href=\"http://twitter.com/download/android\" rel=\"nofollow\">Twitter for Android</a>",
          "kywildcatgkh: <a href=\"http://twitter.com/download/android\" rel=\"nofollow\">Twitter for Android</a>",
          "therthonjackon: <a href=\"http://twitter.com/download/iphone\" rel=\"nofollow\">Twitter for iPhone</a>",
          "travlyngirl: <a href=\"http://twitter.com/download/iphone\" rel=\"nofollow\">Twitter for iPhone</a>",
          "Vatos4Trump: <a href=\"http://twitter.com/download/android\" rel=\"nofollow\">Twitter for Android</a>",
          "TransformativeV: <a href=\"http://twitter.com/download/android\" rel=\"nofollow\">Twitter for Android</a>",
          "donotbeajerk: <a href=\"http://twitter.com/download/android\" rel=\"nofollow\">Twitter for Android</a>",
          "virgo6776: <a href=\"http://twitter.com/download/iphone\" rel=\"nofollow\">Twitter for iPhone</a>",
          "Barney25265590: <a href=\"https://mobile.twitter.com\" rel=\"nofollow\">Twitter Web App</a>",
          "FrankCoulson7: <a href=\"https://mobile.twitter.com\" rel=\"nofollow\">Twitter Web App</a>",
          "TheOxyCon: <a href=\"https://mobile.twitter.com\" rel=\"nofollow\">Twitter Web App</a>",
          "slackologist00: <a href=\"http://twitter.com/download/android\" rel=\"nofollow\">Twitter for Android</a>",
          "JimiSoriano: <a href=\"http://twitter.com/download/iphone\" rel=\"nofollow\">Twitter for iPhone</a>",
          "WaltonLynn: <a href=\"http://twitter.com/download/iphone\" rel=\"nofollow\">Twitter for iPhone</a>",
          "dwha: <a href=\"https://mobile.twitter.com\" rel=\"nofollow\">Twitter Web App</a>",
          "lionking_007: <a href=\"http://twitter.com/download/iphone\" rel=\"nofollow\">Twitter for iPhone</a>",
          "LarryNunya: <a href=\"http://twitter.com/download/android\" rel=\"nofollow\">Twitter for Android</a>",
          "FreedomConnect_: <a href=\"http://twitter.com/#!/download/ipad\" rel=\"nofollow\">Twitter for iPad</a>",
          "dadramsey: <a href=\"http://twitter.com/download/android\" rel=\"nofollow\">Twitter for Android</a>",
          "ChrisCandysh: <a href=\"http://twitter.com/download/android\" rel=\"nofollow\">Twitter for Android</a>",
          "baboltz: <a href=\"http://twitter.com/download/android\" rel=\"nofollow\">Twitter for Android</a>",
          "ivorbiggin9: <a href=\"http://twitter.com/download/android\" rel=\"nofollow\">Twitter for Android</a>",
          "Maureen58141905: <a href=\"http://twitter.com/download/iphone\" rel=\"nofollow\">Twitter for iPhone</a>",
          "CherieNadro: <a href=\"http://twitter.com/download/android\" rel=\"nofollow\">Twitter for Android</a>",
          "MonicaKuepfer: <a href=\"http://twitter.com/download/iphone\" rel=\"nofollow\">Twitter for iPhone</a>",
          "randyblanton59: <a href=\"http://twitter.com/download/iphone\" rel=\"nofollow\">Twitter for iPhone</a>",
          "JanOvePedersen1: <a href=\"http://twitter.com/download/android\" rel=\"nofollow\">Twitter for Android</a>",
          "shariclark1: <a href=\"http://twitter.com/download/iphone\" rel=\"nofollow\">Twitter for iPhone</a>",
          "realbrianthony: <a href=\"http://twitter.com/download/iphone\" rel=\"nofollow\">Twitter for iPhone</a>",
          "Tech01Audio: <a href=\"http://twitter.com/download/android\" rel=\"nofollow\">Twitter for Android</a>",
          "WayneHenager: <a href=\"http://twitter.com/download/iphone\" rel=\"nofollow\">Twitter for iPhone</a>",
          "WantBigHammer: <a href=\"http://twitter.com/download/android\" rel=\"nofollow\">Twitter for Android</a>",
          "DanceOverMe: <a href=\"http://twitter.com/download/iphone\" rel=\"nofollow\">Twitter for iPhone</a>",
          "Viking_SmithV: <a href=\"http://twitter.com/download/android\" rel=\"nofollow\">Twitter for Android</a>",
          "JamaulSki: <a href=\"http://twitter.com/download/android\" rel=\"nofollow\">Twitter for Android</a>",
          "PanamaforTrump: <a href=\"http://twitter.com/download/android\" rel=\"nofollow\">Twitter for Android</a>",
          "74GGM492: <a href=\"http://twitter.com/download/android\" rel=\"nofollow\">Twitter for Android</a>",
          "ImLovingItAll: <a href=\"http://twitter.com/download/android\" rel=\"nofollow\">Twitter for Android</a>",
          "tx_tomcat: <a href=\"http://twitter.com/download/android\" rel=\"nofollow\">Twitter for Android</a>",
          "terressapierce: <a href=\"http://twitter.com/download/android\" rel=\"nofollow\">Twitter for Android</a>",
          "RWG4Trump: <a href=\"http://twitter.com/#!/download/ipad\" rel=\"nofollow\">Twitter for iPad</a>",
          "HolmesCarolyn23: <a href=\"http://twitter.com/download/iphone\" rel=\"nofollow\">Twitter for iPhone</a>",
          "ImAllinMAGA: <a href=\"http://twitter.com/download/iphone\" rel=\"nofollow\">Twitter for iPhone</a>",
          "hartman62: <a href=\"http://twitter.com/download/android\" rel=\"nofollow\">Twitter for Android</a>",
          "smit70791: <a href=\"http://twitter.com/download/iphone\" rel=\"nofollow\">Twitter for iPhone</a>",
          "ellieofa: <a href=\"http://twitter.com/download/iphone\" rel=\"nofollow\">Twitter for iPhone</a>",
          "PattiRich92649: <a href=\"http://twitter.com/download/iphone\" rel=\"nofollow\">Twitter for iPhone</a>",
          "AsilisArt: <a href=\"https://mobile.twitter.com\" rel=\"nofollow\">Twitter Web App</a>",
          "TrumpSu21373821: <a href=\"http://twitter.com/download/android\" rel=\"nofollow\">Twitter for Android</a>",
          "mohelnagar2012: <a href=\"http://twitter.com/download/android\" rel=\"nofollow\">Twitter for Android</a>",
          "mkehr4: <a href=\"http://twitter.com/download/iphone\" rel=\"nofollow\">Twitter for iPhone</a>",
          "cowboytroy321: <a href=\"http://twitter.com/download/iphone\" rel=\"nofollow\">Twitter for iPhone</a>",
          "iJohn_Rodriguez: <a href=\"http://twitter.com/download/android\" rel=\"nofollow\">Twitter for Android</a>",
          "casey2513: <a href=\"http://twitter.com/download/iphone\" rel=\"nofollow\">Twitter for iPhone</a>",
          "GAHarkless1970: <a href=\"http://twitter.com/download/android\" rel=\"nofollow\">Twitter for Android</a>",
          "JenBrooks727: <a href=\"http://twitter.com/download/iphone\" rel=\"nofollow\">Twitter for iPhone</a>",
          "Margare04323327: <a href=\"http://twitter.com/download/android\" rel=\"nofollow\">Twitter for Android</a>",
          "realTanya66Page: <a href=\"http://twitter.com/download/iphone\" rel=\"nofollow\">Twitter for iPhone</a>",
          "MitchRandall2: <a href=\"http://twitter.com/download/android\" rel=\"nofollow\">Twitter for Android</a>",
          "REALMATHEW: <a href=\"http://twitter.com/download/android\" rel=\"nofollow\">Twitter for Android</a>",
          "cdinicol: <a href=\"http://twitter.com/download/iphone\" rel=\"nofollow\">Twitter for iPhone</a>",
          "katflyoverstate: <a href=\"http://twitter.com/download/iphone\" rel=\"nofollow\">Twitter for iPhone</a>",
          "dfscavenger: <a href=\"http://twitter.com/download/android\" rel=\"nofollow\">Twitter for Android</a>",
          "EllisWyatt9: <a href=\"http://twitter.com/download/iphone\" rel=\"nofollow\">Twitter for iPhone</a>",
          "AnnaHoa03245441: <a href=\"http://twitter.com/download/iphone\" rel=\"nofollow\">Twitter for iPhone</a>",
          "stella_rondo: <a href=\"http://twitter.com/#!/download/ipad\" rel=\"nofollow\">Twitter for iPad</a>"
         ],
         "type": "scattergl",
         "x": [
          1603,
          872,
          2026,
          1216,
          1612,
          22,
          445,
          371,
          98,
          886,
          213,
          1209,
          3154,
          508,
          93,
          115,
          438,
          351,
          3308,
          2108,
          1944,
          406,
          470,
          81,
          936,
          2323,
          3080,
          103,
          549,
          1571,
          3538,
          499,
          81,
          632,
          89,
          1918,
          256,
          3587,
          854,
          971,
          2630,
          3393,
          121,
          1964,
          3243,
          187,
          1310,
          1204,
          1939,
          2543,
          3438,
          2759,
          89,
          214,
          1451,
          2306,
          2116,
          2888,
          97,
          893,
          2503,
          2779,
          1543,
          685,
          724,
          577,
          18,
          2922,
          2907,
          2225,
          121,
          2567,
          109,
          3155,
          1012,
          701,
          2624,
          558,
          90,
          779,
          140,
          2208,
          150,
          2677,
          2847,
          1177,
          1158,
          1268,
          2438,
          2628,
          2649,
          2864,
          3177,
          788,
          3531,
          2543,
          76,
          1144,
          69,
          861,
          1211,
          1014,
          79,
          161,
          1281,
          1993,
          898,
          169,
          799,
          305,
          97,
          2914,
          2885,
          2930,
          88,
          2905,
          110,
          1868,
          295,
          2592,
          2198,
          1391,
          1395,
          857,
          108,
          226,
          2294,
          2722,
          1889,
          697,
          454,
          359,
          190,
          808,
          2315,
          123,
          2986,
          2604,
          1405,
          1305,
          120,
          198,
          2652,
          400,
          1110,
          722,
          2329,
          2012,
          609,
          1351,
          392,
          228,
          573,
          762,
          1153,
          997,
          1021,
          235,
          619,
          725,
          1673,
          544,
          160,
          1972,
          753,
          3196,
          545,
          317,
          78,
          3058,
          1482,
          138,
          186,
          2589,
          529,
          567,
          78,
          2129,
          602,
          2825,
          3552,
          74,
          298,
          2348,
          108,
          2416,
          684,
          74,
          80,
          1219,
          320,
          534,
          3324,
          1322,
          206,
          2323,
          2495,
          1934,
          2582,
          783,
          737,
          1837,
          1521,
          521,
          2197,
          2625,
          1204,
          852,
          918,
          780,
          2713,
          363,
          2398,
          3009,
          191,
          504,
          2015,
          77,
          97,
          2311,
          91,
          36,
          83,
          2450,
          771,
          748,
          1181,
          284,
          86,
          902,
          3112,
          1293,
          2729,
          90,
          195,
          116,
          139,
          293,
          1640,
          2354,
          2908,
          19,
          1726,
          150,
          1225,
          369,
          2865,
          1798,
          503,
          2523,
          2887,
          1856,
          1805,
          824,
          2436,
          1277,
          105,
          1435,
          47,
          88,
          209,
          1321,
          103,
          531,
          188,
          2781,
          3014,
          287,
          1586,
          3257,
          2492,
          2781,
          3215,
          2727,
          111,
          2263,
          2751,
          3498,
          1629,
          222,
          528,
          80,
          1135,
          887,
          2860,
          2157,
          2683,
          236,
          2314,
          1159,
          85,
          420,
          1969,
          515,
          600,
          1544,
          2676,
          257,
          1777,
          1547,
          2441,
          539,
          1160,
          144,
          2321,
          94,
          1198,
          3366,
          933,
          118,
          580,
          606,
          2043,
          2244,
          3211,
          1908,
          1168,
          800,
          241,
          2445,
          1609,
          780,
          236,
          647,
          1330,
          554,
          923,
          1433,
          196
         ],
         "y": [
          1618,
          888,
          2016,
          1234,
          1622,
          32,
          462,
          371,
          123,
          897,
          95,
          1223,
          3070,
          499,
          88,
          113,
          460,
          363,
          3322,
          2132,
          1940,
          421,
          495,
          80,
          956,
          2315,
          3081,
          184,
          529,
          1584,
          3547,
          509,
          91,
          634,
          127,
          1931,
          256,
          3593,
          868,
          983,
          2712,
          3133,
          129,
          1982,
          3259,
          202,
          1259,
          1212,
          1947,
          2552,
          3455,
          2758,
          97,
          225,
          1464,
          2317,
          2128,
          2982,
          119,
          908,
          2500,
          2800,
          1551,
          683,
          739,
          588,
          33,
          2930,
          2931,
          2406,
          133,
          2577,
          124,
          3165,
          1021,
          702,
          2600,
          567,
          84,
          793,
          150,
          2227,
          152,
          2678,
          2855,
          1207,
          1172,
          1278,
          2458,
          2637,
          2657,
          2866,
          3185,
          809,
          3543,
          2553,
          84,
          1158,
          65,
          875,
          1210,
          1022,
          80,
          197,
          1288,
          1985,
          897,
          177,
          806,
          318,
          104,
          2982,
          2873,
          2938,
          84,
          2771,
          80,
          1919,
          301,
          2606,
          2221,
          1398,
          1403,
          868,
          101,
          240,
          2295,
          2752,
          1898,
          722,
          209,
          375,
          199,
          80,
          2327,
          133,
          2994,
          2591,
          1440,
          1313,
          131,
          204,
          2659,
          416,
          1120,
          719,
          2338,
          2020,
          555,
          1363,
          403,
          245,
          582,
          766,
          1157,
          985,
          1014,
          246,
          623,
          737,
          1613,
          541,
          172,
          1988,
          746,
          3206,
          551,
          305,
          75,
          3056,
          1494,
          151,
          197,
          2599,
          537,
          586,
          87,
          2128,
          609,
          2828,
          3537,
          82,
          315,
          2240,
          104,
          2431,
          699,
          73,
          99,
          1238,
          332,
          525,
          3340,
          1340,
          226,
          2329,
          2505,
          2004,
          2589,
          789,
          641,
          1867,
          1530,
          539,
          2225,
          2625,
          1212,
          865,
          926,
          814,
          2721,
          370,
          2405,
          3030,
          198,
          511,
          2023,
          72,
          162,
          2322,
          98,
          37,
          78,
          2456,
          769,
          773,
          1197,
          296,
          84,
          903,
          3121,
          1288,
          2738,
          78,
          211,
          124,
          155,
          305,
          1649,
          2366,
          2935,
          29,
          1717,
          158,
          1250,
          382,
          2875,
          1805,
          510,
          2532,
          2895,
          1864,
          1813,
          838,
          81,
          1273,
          100,
          1444,
          8,
          88,
          209,
          1331,
          113,
          560,
          214,
          2799,
          3038,
          467,
          1594,
          3264,
          2506,
          2790,
          3215,
          2735,
          117,
          2265,
          2759,
          3498,
          1631,
          195,
          896,
          79,
          1143,
          900,
          2878,
          2168,
          2690,
          230,
          2333,
          1166,
          81,
          437,
          1978,
          524,
          618,
          1734,
          2696,
          265,
          1785,
          1518,
          2421,
          552,
          1174,
          98,
          2332,
          88,
          1215,
          3376,
          949,
          136,
          603,
          625,
          2063,
          2265,
          3224,
          1917,
          1195,
          809,
          260,
          2965,
          1617,
          803,
          266,
          654,
          1345,
          562,
          930,
          1442,
          203
         ]
        },
        {
         "hovertemplate": "%{text}",
         "marker": {
          "color": "#3810dc",
          "opacity": 1,
          "size": 8
         },
         "mode": "markers",
         "name": "Retweeted 3 tweets",
         "showlegend": true,
         "text": [
          "Leha60849960: <a href=\"http://twitter.com/download/android\" rel=\"nofollow\">Twitter for Android</a>",
          "RMcgouldrick: <a href=\"http://twitter.com/download/android\" rel=\"nofollow\">Twitter for Android</a>",
          "teslaandspaceX: <a href=\"http://twitter.com/download/iphone\" rel=\"nofollow\">Twitter for iPhone</a>",
          "BakerSonPeekay: <a href=\"https://mobile.twitter.com\" rel=\"nofollow\">Twitter Web App</a>",
          "Albelian8: <a href=\"https://mobile.twitter.com\" rel=\"nofollow\">Twitter Web App</a>",
          "Grace02609414: <a href=\"http://twitter.com/download/iphone\" rel=\"nofollow\">Twitter for iPhone</a>",
          "Tikal217: <a href=\"http://twitter.com/#!/download/ipad\" rel=\"nofollow\">Twitter for iPad</a>",
          "bydefault: <a href=\"https://mobile.twitter.com\" rel=\"nofollow\">Twitter Web App</a>",
          "VHBigSlickAAA1: <a href=\"http://twitter.com/download/iphone\" rel=\"nofollow\">Twitter for iPhone</a>",
          "EblingJr: <a href=\"http://twitter.com/download/android\" rel=\"nofollow\">Twitter for Android</a>",
          "JFaith1979: <a href=\"http://twitter.com/download/iphone\" rel=\"nofollow\">Twitter for iPhone</a>",
          "norhino777: <a href=\"http://twitter.com/download/iphone\" rel=\"nofollow\">Twitter for iPhone</a>",
          "zack29266449: <a href=\"http://twitter.com/download/iphone\" rel=\"nofollow\">Twitter for iPhone</a>",
          "ronpowell7: <a href=\"http://twitter.com/download/android\" rel=\"nofollow\">Twitter for Android</a>",
          "ARaisinghell: <a href=\"https://mobile.twitter.com\" rel=\"nofollow\">Twitter Web App</a>",
          "tommylowens1: <a href=\"http://twitter.com/download/iphone\" rel=\"nofollow\">Twitter for iPhone</a>",
          "SomeonesCamera: <a href=\"http://twitter.com/download/android\" rel=\"nofollow\">Twitter for Android</a>",
          "DixieLand__Diva: <a href=\"http://twitter.com/download/android\" rel=\"nofollow\">Twitter for Android</a>",
          "MargaretheBrac2: <a href=\"http://twitter.com/download/iphone\" rel=\"nofollow\">Twitter for iPhone</a>",
          "sparkle49090982: <a href=\"http://twitter.com/download/iphone\" rel=\"nofollow\">Twitter for iPhone</a>",
          "Jerrydmusic: <a href=\"https://mobile.twitter.com\" rel=\"nofollow\">Twitter Web App</a>",
          "Pammy30104931: <a href=\"http://twitter.com/download/iphone\" rel=\"nofollow\">Twitter for iPhone</a>",
          "JimWeltzin: <a href=\"https://mobile.twitter.com\" rel=\"nofollow\">Twitter Web App</a>",
          "JimTypeDude: <a href=\"https://mobile.twitter.com\" rel=\"nofollow\">Twitter Web App</a>",
          "BeVau2: <a href=\"http://twitter.com/download/android\" rel=\"nofollow\">Twitter for Android</a>",
          "Mleedoodlebug22: <a href=\"http://twitter.com/download/android\" rel=\"nofollow\">Twitter for Android</a>",
          "Perch313: <a href=\"http://twitter.com/download/android\" rel=\"nofollow\">Twitter for Android</a>",
          "GnosticBushido: <a href=\"http://twitter.com/download/iphone\" rel=\"nofollow\">Twitter for iPhone</a>",
          "jeb1149: <a href=\"http://twitter.com/download/iphone\" rel=\"nofollow\">Twitter for iPhone</a>",
          "JebLadat: <a href=\"http://twitter.com/download/iphone\" rel=\"nofollow\">Twitter for iPhone</a>",
          "LycRosie: <a href=\"https://mobile.twitter.com\" rel=\"nofollow\">Twitter Web App</a>",
          "poisonsky23: <a href=\"http://twitter.com/download/iphone\" rel=\"nofollow\">Twitter for iPhone</a>",
          "MAGA_Arlene: <a href=\"http://twitter.com/download/android\" rel=\"nofollow\">Twitter for Android</a>",
          "WingChun88: <a href=\"http://twitter.com/download/iphone\" rel=\"nofollow\">Twitter for iPhone</a>",
          "03forester: <a href=\"http://twitter.com/download/iphone\" rel=\"nofollow\">Twitter for iPhone</a>",
          "heathersmedica1: <a href=\"http://twitter.com/download/iphone\" rel=\"nofollow\">Twitter for iPhone</a>",
          "omcman: <a href=\"http://twitter.com/download/iphone\" rel=\"nofollow\">Twitter for iPhone</a>",
          "DarleneIronCity: <a href=\"https://mobile.twitter.com\" rel=\"nofollow\">Twitter Web App</a>",
          "BPink4143: <a href=\"http://twitter.com/download/iphone\" rel=\"nofollow\">Twitter for iPhone</a>",
          "CynnieMaris: <a href=\"http://twitter.com/download/iphone\" rel=\"nofollow\">Twitter for iPhone</a>",
          "Binhaihotel: <a href=\"http://twitter.com/download/iphone\" rel=\"nofollow\">Twitter for iPhone</a>",
          "RChance55: <a href=\"http://twitter.com/download/iphone\" rel=\"nofollow\">Twitter for iPhone</a>",
          "Space8Jockey5: <a href=\"http://twitter.com/download/iphone\" rel=\"nofollow\">Twitter for iPhone</a>",
          "PatriotL4evr: <a href=\"http://twitter.com/download/android\" rel=\"nofollow\">Twitter for Android</a>",
          "Lady22eMaribel: <a href=\"http://twitter.com/download/android\" rel=\"nofollow\">Twitter for Android</a>",
          "maftf1956: <a href=\"http://twitter.com/download/android\" rel=\"nofollow\">Twitter for Android</a>",
          "mikeb38beacon_h: <a href=\"http://twitter.com/download/iphone\" rel=\"nofollow\">Twitter for iPhone</a>",
          "LouDAngelo1: <a href=\"http://twitter.com/download/iphone\" rel=\"nofollow\">Twitter for iPhone</a>",
          "Ask4Old: <a href=\"http://twitter.com/download/iphone\" rel=\"nofollow\">Twitter for iPhone</a>",
          "Trump20MAGA4US: <a href=\"http://twitter.com/download/iphone\" rel=\"nofollow\">Twitter for iPhone</a>",
          "NMaga2020: <a href=\"http://twitter.com/download/iphone\" rel=\"nofollow\">Twitter for iPhone</a>",
          "truth9876: <a href=\"http://twitter.com/#!/download/ipad\" rel=\"nofollow\">Twitter for iPad</a>",
          "TeresaRomary: <a href=\"http://twitter.com/download/iphone\" rel=\"nofollow\">Twitter for iPhone</a>",
          "pg_rant: <a href=\"http://twitter.com/download/iphone\" rel=\"nofollow\">Twitter for iPhone</a>",
          "KingofDaddys: <a href=\"http://twitter.com/download/android\" rel=\"nofollow\">Twitter for Android</a>",
          "LoriS09598635: <a href=\"http://twitter.com/download/iphone\" rel=\"nofollow\">Twitter for iPhone</a>",
          "QuintanaFreyre: <a href=\"http://twitter.com/download/iphone\" rel=\"nofollow\">Twitter for iPhone</a>",
          "simplyme669: <a href=\"http://twitter.com/download/android\" rel=\"nofollow\">Twitter for Android</a>",
          "bowman409: <a href=\"http://twitter.com/download/android\" rel=\"nofollow\">Twitter for Android</a>",
          "KevinBooker212: <a href=\"http://twitter.com/download/iphone\" rel=\"nofollow\">Twitter for iPhone</a>",
          "TruthAnJustice5: <a href=\"http://twitter.com/download/android\" rel=\"nofollow\">Twitter for Android</a>",
          "Notsure71361677: <a href=\"https://mobile.twitter.com\" rel=\"nofollow\">Twitter Web App</a>",
          "CarolusEduardus: <a href=\"http://twitter.com/download/android\" rel=\"nofollow\">Twitter for Android</a>",
          "Virginia4KAG: <a href=\"https://mobile.twitter.com\" rel=\"nofollow\">Twitter Web App</a>",
          "JohnJon77706148: <a href=\"http://twitter.com/download/iphone\" rel=\"nofollow\">Twitter for iPhone</a>",
          "threadkillerksu: <a href=\"http://twitter.com/download/iphone\" rel=\"nofollow\">Twitter for iPhone</a>",
          "realBenBradbury: <a href=\"http://twitter.com/download/iphone\" rel=\"nofollow\">Twitter for iPhone</a>",
          "steven21marc: <a href=\"http://twitter.com/download/iphone\" rel=\"nofollow\">Twitter for iPhone</a>",
          "QLover1745: <a href=\"http://twitter.com/download/android\" rel=\"nofollow\">Twitter for Android</a>",
          "njquackytrumpy: <a href=\"https://mobile.twitter.com\" rel=\"nofollow\">Twitter Web App</a>",
          "Floyd108879821: <a href=\"http://twitter.com/download/iphone\" rel=\"nofollow\">Twitter for iPhone</a>",
          "joedrumheller: <a href=\"http://twitter.com/download/android\" rel=\"nofollow\">Twitter for Android</a>"
         ],
         "type": "scattergl",
         "x": [
          99,
          106,
          961,
          2133,
          2594,
          3490,
          1914,
          1130,
          366,
          199,
          1875,
          104,
          2673,
          79,
          54,
          3197,
          121,
          1651,
          136,
          2129,
          1826,
          579,
          2681,
          306,
          3245,
          3093,
          1949,
          2516,
          1946,
          1445,
          1211,
          183,
          553,
          1067,
          1174,
          1184,
          950,
          358,
          87,
          2428,
          3101,
          123,
          85,
          323,
          854,
          213,
          139,
          677,
          106,
          113,
          1294,
          96,
          1723,
          2442,
          196,
          1500,
          86,
          2467,
          1155,
          1450,
          2044,
          3066,
          797,
          367,
          961,
          3060,
          68,
          823,
          85,
          2696,
          165,
          564
         ],
         "y": [
          83,
          96,
          1016,
          2130,
          2611,
          3497,
          1923,
          1131,
          390,
          201,
          1893,
          138,
          2716,
          91,
          61,
          3214,
          137,
          1660,
          146,
          2140,
          1840,
          599,
          2821,
          318,
          3243,
          3101,
          1951,
          2517,
          1955,
          1452,
          1218,
          202,
          547,
          1085,
          1153,
          1202,
          963,
          359,
          109,
          2453,
          3102,
          117,
          91,
          318,
          862,
          224,
          145,
          945,
          88,
          115,
          1289,
          111,
          1722,
          2448,
          222,
          1515,
          90,
          2480,
          1188,
          1457,
          2051,
          3073,
          803,
          362,
          972,
          3067,
          76,
          851,
          200,
          2692,
          188,
          547
         ]
        },
        {
         "hovertemplate": "%{text}",
         "marker": {
          "color": "#2d47f9",
          "opacity": 1,
          "size": 8
         },
         "mode": "markers",
         "name": "Retweeted 4 tweets",
         "showlegend": true,
         "text": [
          "joshijignesh3: <a href=\"http://twitter.com/download/android\" rel=\"nofollow\">Twitter for Android</a>",
          "KevinTatulyan: <a href=\"http://twitter.com/download/iphone\" rel=\"nofollow\">Twitter for iPhone</a>",
          "KeithAltarac: <a href=\"http://twitter.com/download/iphone\" rel=\"nofollow\">Twitter for iPhone</a>",
          "bigdaddy_ensley: <a href=\"http://twitter.com/download/iphone\" rel=\"nofollow\">Twitter for iPhone</a>",
          "PGRDET: <a href=\"http://twitter.com/download/android\" rel=\"nofollow\">Twitter for Android</a>",
          "RealRobertBoud: <a href=\"http://twitter.com/download/android\" rel=\"nofollow\">Twitter for Android</a>",
          "SRGnationwide: <a href=\"http://twitter.com/download/android\" rel=\"nofollow\">Twitter for Android</a>",
          "DirtyDeplorable: <a href=\"http://twitter.com/download/iphone\" rel=\"nofollow\">Twitter for iPhone</a>",
          "UsaJodi: <a href=\"http://twitter.com/download/iphone\" rel=\"nofollow\">Twitter for iPhone</a>",
          "melissaadams53: <a href=\"http://twitter.com/download/android\" rel=\"nofollow\">Twitter for Android</a>",
          "moosemuffinn: <a href=\"http://twitter.com/#!/download/ipad\" rel=\"nofollow\">Twitter for iPad</a>",
          "CVTrumpifornian: <a href=\"http://twitter.com/download/android\" rel=\"nofollow\">Twitter for Android</a>",
          "HaroldS21996814: <a href=\"http://twitter.com/download/iphone\" rel=\"nofollow\">Twitter for iPhone</a>",
          "dani74829276: <a href=\"http://twitter.com/download/iphone\" rel=\"nofollow\">Twitter for iPhone</a>",
          "SteveMer1171: <a href=\"http://twitter.com/download/iphone\" rel=\"nofollow\">Twitter for iPhone</a>",
          "raccredo: <a href=\"http://twitter.com/download/iphone\" rel=\"nofollow\">Twitter for iPhone</a>",
          "jennyjupite: <a href=\"http://twitter.com/download/iphone\" rel=\"nofollow\">Twitter for iPhone</a>",
          "jxm8016: <a href=\"http://twitter.com/#!/download/ipad\" rel=\"nofollow\">Twitter for iPad</a>",
          "realMattJAllen: <a href=\"https://mobile.twitter.com\" rel=\"nofollow\">Twitter Web App</a>",
          "VeritasVirtusX: <a href=\"http://twitter.com/#!/download/ipad\" rel=\"nofollow\">Twitter for iPad</a>",
          "Anup83002797: <a href=\"http://twitter.com/download/android\" rel=\"nofollow\">Twitter for Android</a>",
          "54Ange: <a href=\"http://twitter.com/download/iphone\" rel=\"nofollow\">Twitter for iPhone</a>",
          "SpaceMtnDude: <a href=\"http://twitter.com/download/iphone\" rel=\"nofollow\">Twitter for iPhone</a>",
          "PernettiSonia: <a href=\"http://twitter.com/download/iphone\" rel=\"nofollow\">Twitter for iPhone</a>",
          "Deckard61S: <a href=\"http://twitter.com/download/iphone\" rel=\"nofollow\">Twitter for iPhone</a>",
          "rightlyaligned: <a href=\"https://mobile.twitter.com\" rel=\"nofollow\">Twitter Web App</a>",
          "DwayneMcDevitt: <a href=\"http://twitter.com/download/android\" rel=\"nofollow\">Twitter for Android</a>",
          "jvenereo34: <a href=\"http://twitter.com/download/iphone\" rel=\"nofollow\">Twitter for iPhone</a>"
         ],
         "type": "scattergl",
         "x": [
          497,
          1487,
          132,
          134,
          863,
          955,
          2539,
          315,
          252,
          3204,
          213,
          2289,
          1189,
          463,
          268,
          140,
          104,
          117,
          752,
          317,
          342,
          86,
          1419,
          1865,
          192,
          919,
          441,
          2767
         ],
         "y": [
          503,
          1494,
          217,
          150,
          871,
          973,
          2545,
          322,
          274,
          3216,
          222,
          2297,
          1201,
          472,
          283,
          148,
          132,
          130,
          749,
          330,
          349,
          120,
          1448,
          1873,
          206,
          918,
          437,
          2828
         ]
        },
        {
         "hovertemplate": "%{text}",
         "marker": {
          "color": "#2593ff",
          "opacity": 1,
          "size": 8
         },
         "mode": "markers",
         "name": "Retweeted 5 tweets",
         "showlegend": true,
         "text": [
          "nytxnn: <a href=\"http://twitter.com/download/iphone\" rel=\"nofollow\">Twitter for iPhone</a>",
          "America3675: <a href=\"http://twitter.com/#!/download/ipad\" rel=\"nofollow\">Twitter for iPad</a>",
          "joybellesshadow: <a href=\"http://twitter.com/download/android\" rel=\"nofollow\">Twitter for Android</a>",
          "Sean1776cot: <a href=\"http://twitter.com/download/android\" rel=\"nofollow\">Twitter for Android</a>",
          "jerseytigger123: <a href=\"https://mobile.twitter.com\" rel=\"nofollow\">Twitter Web App</a>",
          "CovfefeUSA: <a href=\"https://mobile.twitter.com\" rel=\"nofollow\">Twitter Web App</a>",
          "Trump2024512886: <a href=\"http://twitter.com/#!/download/ipad\" rel=\"nofollow\">Twitter for iPad</a>",
          "sandyleevincent: <a href=\"http://twitter.com/download/iphone\" rel=\"nofollow\">Twitter for iPhone</a>",
          "patrick_jonah: <a href=\"http://twitter.com/#!/download/ipad\" rel=\"nofollow\">Twitter for iPad</a>",
          "Metz1245John: <a href=\"http://twitter.com/download/iphone\" rel=\"nofollow\">Twitter for iPhone</a>",
          "Pascal816329491: <a href=\"https://mobile.twitter.com\" rel=\"nofollow\">Twitter Web App</a>",
          "VictoriaPrudkov: <a href=\"http://twitter.com/download/iphone\" rel=\"nofollow\">Twitter for iPhone</a>",
          "Zetta1955rosey1: <a href=\"http://twitter.com/download/android\" rel=\"nofollow\">Twitter for Android</a>",
          "laurencristmann: <a href=\"http://twitter.com/download/iphone\" rel=\"nofollow\">Twitter for iPhone</a>",
          "la_shure: <a href=\"http://twitter.com/download/android\" rel=\"nofollow\">Twitter for Android</a>",
          "AmericanKate: <a href=\"http://twitter.com/download/android\" rel=\"nofollow\">Twitter for Android</a>",
          "JLNCollection: <a href=\"http://twitter.com/download/iphone\" rel=\"nofollow\">Twitter for iPhone</a>",
          "EeezeePeezee143: <a href=\"http://twitter.com/#!/download/ipad\" rel=\"nofollow\">Twitter for iPad</a>",
          "IamBruceRussell: <a href=\"http://twitter.com/#!/download/ipad\" rel=\"nofollow\">Twitter for iPad</a>",
          "JimMcFierceSon: <a href=\"http://twitter.com/download/iphone\" rel=\"nofollow\">Twitter for iPhone</a>",
          "KordishRon: <a href=\"http://twitter.com/download/android\" rel=\"nofollow\">Twitter for Android</a>",
          "steak_ham: <a href=\"http://twitter.com/download/android\" rel=\"nofollow\">Twitter for Android</a>"
         ],
         "type": "scattergl",
         "x": [
          594,
          84,
          148,
          3202,
          707,
          3283,
          250,
          2305,
          1964,
          1865,
          206,
          86,
          153,
          2936,
          78,
          2415,
          1668,
          78,
          668,
          768,
          909,
          139
         ],
         "y": [
          602,
          208,
          143,
          3209,
          720,
          3295,
          257,
          2321,
          1980,
          1873,
          216,
          96,
          165,
          2942,
          78,
          2440,
          1681,
          73,
          685,
          774,
          908,
          183
         ]
        },
        {
         "hovertemplate": "%{text}",
         "marker": {
          "color": "#2adef6",
          "opacity": 1,
          "size": 8
         },
         "mode": "markers",
         "name": "Retweeted 6 tweets",
         "showlegend": true,
         "text": [
          "realTheresaVR: <a href=\"http://twitter.com/download/iphone\" rel=\"nofollow\">Twitter for iPhone</a>",
          "RealMrsGrits: <a href=\"http://twitter.com/#!/download/ipad\" rel=\"nofollow\">Twitter for iPad</a>",
          "JustSayingTrump: <a href=\"http://twitter.com/#!/download/ipad\" rel=\"nofollow\">Twitter for iPad</a>",
          "Law9071: <a href=\"http://twitter.com/#!/download/ipad\" rel=\"nofollow\">Twitter for iPad</a>",
          "EdQRichards: <a href=\"http://twitter.com/download/iphone\" rel=\"nofollow\">Twitter for iPhone</a>",
          "JingmeiL: <a href=\"http://twitter.com/download/iphone\" rel=\"nofollow\">Twitter for iPhone</a>",
          "atlprinter: <a href=\"http://twitter.com/download/android\" rel=\"nofollow\">Twitter for Android</a>",
          "LaurieDumilieu: <a href=\"http://twitter.com/download/iphone\" rel=\"nofollow\">Twitter for iPhone</a>",
          "osteofrio: <a href=\"http://twitter.com/download/iphone\" rel=\"nofollow\">Twitter for iPhone</a>",
          "DanTana39389774: <a href=\"http://twitter.com/download/android\" rel=\"nofollow\">Twitter for Android</a>",
          "PamelaACantrell: <a href=\"http://twitter.com/download/iphone\" rel=\"nofollow\">Twitter for iPhone</a>"
         ],
         "type": "scattergl",
         "x": [
          273,
          437,
          2994,
          144,
          2882,
          94,
          103,
          2715,
          1327,
          89,
          79
         ],
         "y": [
          319,
          453,
          3004,
          157,
          2907,
          109,
          96,
          2725,
          1342,
          108,
          124
         ]
        },
        {
         "hovertemplate": "%{text}",
         "marker": {
          "color": "#60fdfa",
          "opacity": 1,
          "size": 8
         },
         "mode": "markers",
         "name": "Retweeted 7 tweets",
         "showlegend": true,
         "text": [
          "justanothersme2: <a href=\"https://mobile.twitter.com\" rel=\"nofollow\">Twitter Web App</a>"
         ],
         "type": "scattergl",
         "x": [
          2257
         ],
         "y": [
          2292
         ]
        },
        {
         "hovertemplate": "%{text}",
         "marker": {
          "color": "#aefdff",
          "opacity": 1,
          "size": 8
         },
         "mode": "markers",
         "name": "Retweeted 8 tweets",
         "showlegend": true,
         "text": [
          "SebeSteven: <a href=\"http://twitter.com/#!/download/ipad\" rel=\"nofollow\">Twitter for iPad</a>",
          "unrealDonaldJ: <a href=\"http://www.google.com\" rel=\"nofollow\">Copy realDonaldTrump</a>",
          "taylorjm61: <a href=\"http://twitter.com/download/iphone\" rel=\"nofollow\">Twitter for iPhone</a>",
          "ARealPrincesa: <a href=\"http://twitter.com/download/iphone\" rel=\"nofollow\">Twitter for iPhone</a>",
          "DebbieKiwiblack: <a href=\"https://mobile.twitter.com\" rel=\"nofollow\">Twitter Web App</a>",
          "willbarrett_1: <a href=\"https://mobile.twitter.com\" rel=\"nofollow\">Twitter Web App</a>",
          "Don_Rivers1: <a href=\"http://twitter.com/download/android\" rel=\"nofollow\">Twitter for Android</a>",
          "Terri26165143: <a href=\"http://twitter.com/download/android\" rel=\"nofollow\">Twitter for Android</a>",
          "IRetweetTrump: <a href=\"https://www.donaldjtrump.com/\" rel=\"nofollow\">IRetweetTrump</a>"
         ],
         "type": "scattergl",
         "x": [
          694,
          825,
          1014,
          270,
          1651,
          2476,
          158,
          2539,
          1021
         ],
         "y": [
          713,
          839,
          1024,
          253,
          1633,
          2484,
          144,
          2576,
          1030
         ]
        },
        {
         "hovertemplate": "%{text}",
         "marker": {
          "color": "#f3f3f1",
          "opacity": 1,
          "size": 8
         },
         "mode": "markers",
         "name": "Retweeted 9 tweets",
         "showlegend": true,
         "text": [
          "sccurl: <a href=\"http://twitter.com/download/iphone\" rel=\"nofollow\">Twitter for iPhone</a>",
          "psPetePatel7: <a href=\"http://twitter.com/#!/download/ipad\" rel=\"nofollow\">Twitter for iPad</a>",
          "BasilBennett2: <a href=\"http://twitter.com/download/iphone\" rel=\"nofollow\">Twitter for iPhone</a>",
          "ConserveBill: <a href=\"https://mobile.twitter.com\" rel=\"nofollow\">Twitter Web App</a>",
          "surrealDoTrump: <a href=\"http://IamANull.com\" rel=\"nofollow\">SurrealTrumper</a>",
          "souljahsingh: <a href=\"http://twitter.com/download/android\" rel=\"nofollow\">Twitter for Android</a>",
          "Roberts1Robin: <a href=\"http://twitter.com/download/iphone\" rel=\"nofollow\">Twitter for iPhone</a>",
          "electricalmama: <a href=\"http://twitter.com/download/android\" rel=\"nofollow\">Twitter for Android</a>",
          "duanevotaw: <a href=\"http://twitter.com/download/iphone\" rel=\"nofollow\">Twitter for iPhone</a>",
          "Catheri75157424: <a href=\"https://mobile.twitter.com\" rel=\"nofollow\">Twitter Web App</a>",
          "bamanicky: <a href=\"http://twitter.com/download/iphone\" rel=\"nofollow\">Twitter for iPhone</a>",
          "BKM__01: <a href=\"http://twitter.com/download/iphone\" rel=\"nofollow\">Twitter for iPhone</a>",
          "otqvv: <a href=\"http://twitter.com/download/iphone\" rel=\"nofollow\">Twitter for iPhone</a>",
          "KroekerTony: <a href=\"http://twitter.com/download/android\" rel=\"nofollow\">Twitter for Android</a>"
         ],
         "type": "scattergl",
         "x": [
          471,
          173,
          681,
          1644,
          1011,
          1280,
          932,
          1285,
          810,
          682,
          1411,
          2015,
          1241,
          2238
         ],
         "y": [
          465,
          150,
          792,
          1656,
          1025,
          1285,
          945,
          1286,
          818,
          684,
          1449,
          2044,
          1254,
          2248
         ]
        },
        {
         "hovertemplate": "%{text}",
         "marker": {
          "color": "#fffda9",
          "opacity": 1,
          "size": 8
         },
         "mode": "markers",
         "name": "Retweeted 10 tweets",
         "showlegend": true,
         "text": [
          "milothekemosabe: <a href=\"http://twitter.com\" rel=\"nofollow\">Twitter Web Client</a>",
          "Donna48195033: <a href=\"https://mobile.twitter.com\" rel=\"nofollow\">Twitter Web App</a>",
          "realdonaldsays: <a href=\"http://yahoo.com\" rel=\"nofollow\">Real Donald Says</a>",
          "daaydreemer: <a href=\"https://mobile.twitter.com\" rel=\"nofollow\">Twitter Web App</a>",
          "RangerGusMcCrae: <a href=\"http://twitter.com/#!/download/ipad\" rel=\"nofollow\">Twitter for iPad</a>",
          "trumpsvomit: <a href=\"http://www.whitehouse.gov\" rel=\"nofollow\">trumps_vomit</a>",
          "jnmnlslv: <a href=\"http://twitter.com/download/android\" rel=\"nofollow\">Twitter for Android</a>",
          "TheocharisHadj2: <a href=\"https://mobile.twitter.com\" rel=\"nofollow\">Twitter Web App</a>",
          "Barbara77250226: <a href=\"http://twitter.com/download/android\" rel=\"nofollow\">Twitter for Android</a>",
          "RealKSridharan: <a href=\"http://twitter.com/download/iphone\" rel=\"nofollow\">Twitter for iPhone</a>",
          "fastmaro_kicky: <a href=\"http://twitter.com/download/iphone\" rel=\"nofollow\">Twitter for iPhone</a>",
          "wontfollowhim: <a href=\"https://whitehouse.gov\" rel=\"nofollow\">Retweet Trump</a>",
          "DesertStormVet4: <a href=\"http://twitter.com/download/android\" rel=\"nofollow\">Twitter for Android</a>",
          "Anthony70829637: <a href=\"http://twitter.com/download/iphone\" rel=\"nofollow\">Twitter for iPhone</a>",
          "NHale1776: <a href=\"https://mobile.twitter.com\" rel=\"nofollow\">Twitter Web App</a>",
          "MrJohn94886436: <a href=\"http://twitter.com/download/android\" rel=\"nofollow\">Twitter for Android</a>",
          "OldhessL: <a href=\"http://twitter.com/download/iphone\" rel=\"nofollow\">Twitter for iPhone</a>",
          "LisaBow9: <a href=\"http://twitter.com/download/iphone\" rel=\"nofollow\">Twitter for iPhone</a>",
          "joercrouae: <a href=\"http://twitter.com/download/iphone\" rel=\"nofollow\">Twitter for iPhone</a>",
          "sangrerayada: <a href=\"http://twitter.com/download/iphone\" rel=\"nofollow\">Twitter for iPhone</a>",
          "bzm84413132: <a href=\"http://twitter.com/download/iphone\" rel=\"nofollow\">Twitter for iPhone</a>",
          "MaggioMichelle: <a href=\"http://twitter.com/download/iphone\" rel=\"nofollow\">Twitter for iPhone</a>",
          "repubfan: <a href=\"http://twitter.com/download/iphone\" rel=\"nofollow\">Twitter for iPhone</a>",
          "imbearclansami: <a href=\"https://mobile.twitter.com\" rel=\"nofollow\">Twitter Web App</a>",
          "KittyCatGranny: <a href=\"http://twitter.com/#!/download/ipad\" rel=\"nofollow\">Twitter for iPad</a>",
          "autismfamily01: <a href=\"http://twitter.com/download/iphone\" rel=\"nofollow\">Twitter for iPhone</a>"
         ],
         "type": "scattergl",
         "x": [
          2527,
          784,
          64,
          106,
          1945,
          585,
          3341,
          983,
          143,
          124,
          191,
          586,
          575,
          2287,
          113,
          78,
          196,
          114,
          3359,
          731,
          2583,
          1253,
          424,
          132,
          127,
          955
         ],
         "y": [
          2537,
          818,
          66,
          123,
          1945,
          592,
          3349,
          992,
          165,
          141,
          185,
          594,
          587,
          2301,
          120,
          107,
          218,
          122,
          3359,
          733,
          2591,
          1260,
          434,
          146,
          1464,
          961
         ]
        },
        {
         "hovertemplate": "%{text}",
         "marker": {
          "color": "#fafd5b",
          "opacity": 1,
          "size": 8
         },
         "mode": "markers",
         "name": "Retweeted 11 tweets",
         "showlegend": true,
         "text": [
          "KMCaton: <a href=\"http://twitter.com/download/iphone\" rel=\"nofollow\">Twitter for iPhone</a>",
          "weee208: <a href=\"http://twitter.com/#!/download/ipad\" rel=\"nofollow\">Twitter for iPad</a>",
          "Dog2Purple: <a href=\"https://mobile.twitter.com\" rel=\"nofollow\">Twitter Web App</a>",
          "HaroldSnure: <a href=\"https://mobile.twitter.com\" rel=\"nofollow\">Twitter Web App</a>",
          "icare4america16: <a href=\"http://twitter.com\" rel=\"nofollow\">Twitter Web Client</a>",
          "billymjonesMACK: <a href=\"http://twitter.com/download/android\" rel=\"nofollow\">Twitter for Android</a>",
          "ReneeC2920: <a href=\"http://twitter.com/download/android\" rel=\"nofollow\">Twitter for Android</a>",
          "caselvis58: <a href=\"http://twitter.com/download/iphone\" rel=\"nofollow\">Twitter for iPhone</a>",
          "kristen4trump: <a href=\"https://mobile.twitter.com\" rel=\"nofollow\">Twitter Web App</a>",
          "e1l2z3: <a href=\"http://twitter.com/download/iphone\" rel=\"nofollow\">Twitter for iPhone</a>",
          "Misstuffsee: <a href=\"http://twitter.com/download/iphone\" rel=\"nofollow\">Twitter for iPhone</a>",
          "lisam02184: <a href=\"http://twitter.com/download/android\" rel=\"nofollow\">Twitter for Android</a>",
          "Shauna33R: <a href=\"http://twitter.com/download/iphone\" rel=\"nofollow\">Twitter for iPhone</a>",
          "maxger31: <a href=\"http://twitter.com/download/iphone\" rel=\"nofollow\">Twitter for iPhone</a>",
          "Diverstang: <a href=\"http://twitter.com/download/android\" rel=\"nofollow\">Twitter for Android</a>",
          "ScottLeelon: <a href=\"http://twitter.com/download/iphone\" rel=\"nofollow\">Twitter for iPhone</a>",
          "lana67says2: <a href=\"http://twitter.com/download/android\" rel=\"nofollow\">Twitter for Android</a>",
          "1Faithum: <a href=\"http://twitter.com/download/android\" rel=\"nofollow\">Twitter for Android</a>",
          "AmbilTodd: <a href=\"http://twitter.com/download/android\" rel=\"nofollow\">Twitter for Android</a>",
          "TiredofBS11: <a href=\"https://mobile.twitter.com\" rel=\"nofollow\">Twitter Web App</a>",
          "LoraJPerkins: <a href=\"http://twitter.com/download/android\" rel=\"nofollow\">Twitter for Android</a>",
          "TheocharisHadj4: <a href=\"https://mobile.twitter.com\" rel=\"nofollow\">Twitter Web App</a>"
         ],
         "type": "scattergl",
         "x": [
          2681,
          1383,
          1852,
          2779,
          1101,
          85,
          2657,
          88,
          205,
          384,
          2298,
          2498,
          1659,
          102,
          87,
          153,
          2447,
          2327,
          952,
          552,
          329,
          1807
         ],
         "y": [
          2699,
          1375,
          1861,
          2789,
          1109,
          80,
          2669,
          138,
          220,
          406,
          2307,
          2520,
          1656,
          113,
          111,
          159,
          2414,
          2274,
          971,
          562,
          352,
          1813
         ]
        },
        {
         "hovertemplate": "%{text}",
         "marker": {
          "color": "#f7da29",
          "opacity": 1,
          "size": 8
         },
         "mode": "markers",
         "name": "Retweeted 12 tweets",
         "showlegend": true,
         "text": [
          "knassios: <a href=\"http://twitter.com/download/android\" rel=\"nofollow\">Twitter for Android</a>",
          "Represe04754550: <a href=\"http://twitter.com/download/iphone\" rel=\"nofollow\">Twitter for iPhone</a>",
          "lfbill: <a href=\"http://twitter.com/#!/download/ipad\" rel=\"nofollow\">Twitter for iPad</a>",
          "SebastianJRusso: <a href=\"http://twitter.com/download/android\" rel=\"nofollow\">Twitter for Android</a>",
          "Steve_Gregory82: <a href=\"http://twitter.com/download/android\" rel=\"nofollow\">Twitter for Android</a>",
          "DulinTommy: <a href=\"http://twitter.com/download/android\" rel=\"nofollow\">Twitter for Android</a>",
          "Hinatawakaba129: <a href=\"http://twitter.com/download/android\" rel=\"nofollow\">Twitter for Android</a>",
          "GlenStJames: <a href=\"http://twitter.com/#!/download/ipad\" rel=\"nofollow\">Twitter for iPad</a>",
          "PJN4Real: <a href=\"http://twitter.com/download/iphone\" rel=\"nofollow\">Twitter for iPhone</a>",
          "LindaSuhler: <a href=\"http://twitter.com/download/iphone\" rel=\"nofollow\">Twitter for iPhone</a>",
          "MyTeresadampier: <a href=\"http://twitter.com/download/android\" rel=\"nofollow\">Twitter for Android</a>",
          "rawoods24: <a href=\"http://twitter.com/download/iphone\" rel=\"nofollow\">Twitter for iPhone</a>",
          "mkbshm: <a href=\"http://twitter.com/download/iphone\" rel=\"nofollow\">Twitter for iPhone</a>",
          "NancymkQ: <a href=\"http://twitter.com/#!/download/ipad\" rel=\"nofollow\">Twitter for iPad</a>",
          "DustinEBole: <a href=\"http://twitter.com/download/android\" rel=\"nofollow\">Twitter for Android</a>",
          "FelizFlorecita1: <a href=\"http://twitter.com/download/android\" rel=\"nofollow\">Twitter for Android</a>",
          "Unfollow_Donald: <a href=\"https://twitter.com/Unfollow_Donald\" rel=\"nofollow\">Unfollow Donald Trump</a>",
          "JaniceW05412341: <a href=\"http://twitter.com/download/android\" rel=\"nofollow\">Twitter for Android</a>",
          "Mrseifert24Mike: <a href=\"http://twitter.com/download/iphone\" rel=\"nofollow\">Twitter for iPhone</a>",
          "JJDJ1187: <a href=\"http://twitter.com/download/iphone\" rel=\"nofollow\">Twitter for iPhone</a>",
          "gX4IK76J9YqkHEn: <a href=\"http://twitter.com/download/android\" rel=\"nofollow\">Twitter for Android</a>",
          "CheezyBorger: <a href=\"http://twitter.com/download/android\" rel=\"nofollow\">Twitter for Android</a>"
         ],
         "type": "scattergl",
         "x": [
          2520,
          1035,
          1703,
          1207,
          2604,
          2887,
          2461,
          945,
          315,
          180,
          1757,
          299,
          2599,
          1038,
          2624,
          337,
          5,
          2599,
          1019,
          1609,
          2764,
          1937
         ],
         "y": [
          2538,
          1043,
          1713,
          1196,
          2612,
          2907,
          2491,
          966,
          323,
          173,
          1769,
          293,
          2607,
          87,
          2631,
          345,
          5,
          2633,
          994,
          1616,
          2755,
          1944
         ]
        },
        {
         "hovertemplate": "%{text}",
         "marker": {
          "color": "#ff8e25",
          "opacity": 1,
          "size": 8
         },
         "mode": "markers",
         "name": "Retweeted 13 tweets",
         "showlegend": true,
         "text": [
          "MarathonerNYC: <a href=\"http://twitter.com/download/android\" rel=\"nofollow\">Twitter for Android</a>",
          "heath_china: <a href=\"https://mobile.twitter.com\" rel=\"nofollow\">Twitter Web App</a>",
          "jjon21: <a href=\"https://mobile.twitter.com\" rel=\"nofollow\">Twitter Web App</a>",
          "Helovedmefirst: <a href=\"http://twitter.com\" rel=\"nofollow\">Twitter Web Client</a>",
          "koupdetat: <a href=\"http://twitter.com/download/iphone\" rel=\"nofollow\">Twitter for iPhone</a>",
          "Matthew52802818: <a href=\"http://twitter.com/#!/download/ipad\" rel=\"nofollow\">Twitter for iPad</a>",
          "mwiley4975: <a href=\"http://twitter.com/download/android\" rel=\"nofollow\">Twitter for Android</a>",
          "henry0467: <a href=\"http://twitter.com/download/iphone\" rel=\"nofollow\">Twitter for iPhone</a>",
          "Apiphanys_Eye: <a href=\"http://twitter.com/download/android\" rel=\"nofollow\">Twitter for Android</a>",
          "ChukwudubemIgb1: <a href=\"http://twitter.com/download/android\" rel=\"nofollow\">Twitter for Android</a>",
          "San_Diego_858: <a href=\"http://twitter.com/download/iphone\" rel=\"nofollow\">Twitter for iPhone</a>",
          "KatsuhikoTsuda: <a href=\"http://twitter.com/download/iphone\" rel=\"nofollow\">Twitter for iPhone</a>",
          "inscnc: <a href=\"http://twitter.com/download/iphone\" rel=\"nofollow\">Twitter for iPhone</a>",
          "thagnome70065: <a href=\"http://twitter.com/download/android\" rel=\"nofollow\">Twitter for Android</a>",
          "ReaganCharlie: <a href=\"http://twitter.com/download/android\" rel=\"nofollow\">Twitter for Android</a>"
         ],
         "type": "scattergl",
         "x": [
          145,
          2005,
          102,
          59,
          2749,
          90,
          1284,
          2336,
          99,
          2640,
          205,
          375,
          766,
          2857,
          2818
         ],
         "y": [
          157,
          2017,
          99,
          70,
          2748,
          135,
          1282,
          2349,
          109,
          2647,
          206,
          342,
          769,
          2865,
          1537
         ]
        },
        {
         "hovertemplate": "%{text}",
         "marker": {
          "color": "#f8432d",
          "opacity": 1,
          "size": 8
         },
         "mode": "markers",
         "name": "Retweeted 14 tweets",
         "showlegend": true,
         "text": [
          "mimiinftworth: <a href=\"http://twitter.com/download/iphone\" rel=\"nofollow\">Twitter for iPhone</a>",
          "gerald_lowery: <a href=\"http://twitter.com/download/iphone\" rel=\"nofollow\">Twitter for iPhone</a>",
          "LousLounge: <a href=\"http://twitter.com/download/iphone\" rel=\"nofollow\">Twitter for iPhone</a>",
          "MichaelPoppo0: <a href=\"http://twitter.com/download/iphone\" rel=\"nofollow\">Twitter for iPhone</a>",
          "MelissaGrableAF: <a href=\"http://twitter.com/download/android\" rel=\"nofollow\">Twitter for Android</a>",
          "MeAndMyHouse1: <a href=\"http://twitter.com/download/iphone\" rel=\"nofollow\">Twitter for iPhone</a>",
          "CReeseReport: <a href=\"https://mobile.twitter.com\" rel=\"nofollow\">Twitter Web App</a>"
         ],
         "type": "scattergl",
         "x": [
          785,
          1420,
          83,
          3195,
          92,
          71,
          857
         ],
         "y": [
          787,
          1433,
          81,
          3204,
          99,
          139,
          844
         ]
        },
        {
         "hovertemplate": "%{text}",
         "marker": {
          "color": "#313131",
          "opacity": 1,
          "size": 8
         },
         "mode": "markers",
         "name": "Retweeted 17 tweets",
         "showlegend": true,
         "text": [
          "dallie_payne: <a href=\"http://twitter.com/#!/download/ipad\" rel=\"nofollow\">Twitter for iPad</a>"
         ],
         "type": "scattergl",
         "x": [
          3211
         ],
         "y": [
          3227
         ]
        }
       ],
       "layout": {
        "autosize": false,
        "height": 600,
        "legend": {
         "font": {
          "color": "black",
          "family": "sans-serif",
          "size": 12
         },
         "traceorder": "normal",
         "x": 1,
         "y": 1
        },
        "margin": {
         "b": 1,
         "l": 1,
         "r": 50,
         "t": 50
        },
        "template": {
         "data": {
          "bar": [
           {
            "error_x": {
             "color": "#2a3f5f"
            },
            "error_y": {
             "color": "#2a3f5f"
            },
            "marker": {
             "line": {
              "color": "#E5ECF6",
              "width": 0.5
             }
            },
            "type": "bar"
           }
          ],
          "barpolar": [
           {
            "marker": {
             "line": {
              "color": "#E5ECF6",
              "width": 0.5
             }
            },
            "type": "barpolar"
           }
          ],
          "carpet": [
           {
            "aaxis": {
             "endlinecolor": "#2a3f5f",
             "gridcolor": "white",
             "linecolor": "white",
             "minorgridcolor": "white",
             "startlinecolor": "#2a3f5f"
            },
            "baxis": {
             "endlinecolor": "#2a3f5f",
             "gridcolor": "white",
             "linecolor": "white",
             "minorgridcolor": "white",
             "startlinecolor": "#2a3f5f"
            },
            "type": "carpet"
           }
          ],
          "choropleth": [
           {
            "colorbar": {
             "outlinewidth": 0,
             "ticks": ""
            },
            "type": "choropleth"
           }
          ],
          "contour": [
           {
            "colorbar": {
             "outlinewidth": 0,
             "ticks": ""
            },
            "colorscale": [
             [
              0,
              "#0d0887"
             ],
             [
              0.1111111111111111,
              "#46039f"
             ],
             [
              0.2222222222222222,
              "#7201a8"
             ],
             [
              0.3333333333333333,
              "#9c179e"
             ],
             [
              0.4444444444444444,
              "#bd3786"
             ],
             [
              0.5555555555555556,
              "#d8576b"
             ],
             [
              0.6666666666666666,
              "#ed7953"
             ],
             [
              0.7777777777777778,
              "#fb9f3a"
             ],
             [
              0.8888888888888888,
              "#fdca26"
             ],
             [
              1,
              "#f0f921"
             ]
            ],
            "type": "contour"
           }
          ],
          "contourcarpet": [
           {
            "colorbar": {
             "outlinewidth": 0,
             "ticks": ""
            },
            "type": "contourcarpet"
           }
          ],
          "heatmap": [
           {
            "colorbar": {
             "outlinewidth": 0,
             "ticks": ""
            },
            "colorscale": [
             [
              0,
              "#0d0887"
             ],
             [
              0.1111111111111111,
              "#46039f"
             ],
             [
              0.2222222222222222,
              "#7201a8"
             ],
             [
              0.3333333333333333,
              "#9c179e"
             ],
             [
              0.4444444444444444,
              "#bd3786"
             ],
             [
              0.5555555555555556,
              "#d8576b"
             ],
             [
              0.6666666666666666,
              "#ed7953"
             ],
             [
              0.7777777777777778,
              "#fb9f3a"
             ],
             [
              0.8888888888888888,
              "#fdca26"
             ],
             [
              1,
              "#f0f921"
             ]
            ],
            "type": "heatmap"
           }
          ],
          "heatmapgl": [
           {
            "colorbar": {
             "outlinewidth": 0,
             "ticks": ""
            },
            "colorscale": [
             [
              0,
              "#0d0887"
             ],
             [
              0.1111111111111111,
              "#46039f"
             ],
             [
              0.2222222222222222,
              "#7201a8"
             ],
             [
              0.3333333333333333,
              "#9c179e"
             ],
             [
              0.4444444444444444,
              "#bd3786"
             ],
             [
              0.5555555555555556,
              "#d8576b"
             ],
             [
              0.6666666666666666,
              "#ed7953"
             ],
             [
              0.7777777777777778,
              "#fb9f3a"
             ],
             [
              0.8888888888888888,
              "#fdca26"
             ],
             [
              1,
              "#f0f921"
             ]
            ],
            "type": "heatmapgl"
           }
          ],
          "histogram": [
           {
            "marker": {
             "colorbar": {
              "outlinewidth": 0,
              "ticks": ""
             }
            },
            "type": "histogram"
           }
          ],
          "histogram2d": [
           {
            "colorbar": {
             "outlinewidth": 0,
             "ticks": ""
            },
            "colorscale": [
             [
              0,
              "#0d0887"
             ],
             [
              0.1111111111111111,
              "#46039f"
             ],
             [
              0.2222222222222222,
              "#7201a8"
             ],
             [
              0.3333333333333333,
              "#9c179e"
             ],
             [
              0.4444444444444444,
              "#bd3786"
             ],
             [
              0.5555555555555556,
              "#d8576b"
             ],
             [
              0.6666666666666666,
              "#ed7953"
             ],
             [
              0.7777777777777778,
              "#fb9f3a"
             ],
             [
              0.8888888888888888,
              "#fdca26"
             ],
             [
              1,
              "#f0f921"
             ]
            ],
            "type": "histogram2d"
           }
          ],
          "histogram2dcontour": [
           {
            "colorbar": {
             "outlinewidth": 0,
             "ticks": ""
            },
            "colorscale": [
             [
              0,
              "#0d0887"
             ],
             [
              0.1111111111111111,
              "#46039f"
             ],
             [
              0.2222222222222222,
              "#7201a8"
             ],
             [
              0.3333333333333333,
              "#9c179e"
             ],
             [
              0.4444444444444444,
              "#bd3786"
             ],
             [
              0.5555555555555556,
              "#d8576b"
             ],
             [
              0.6666666666666666,
              "#ed7953"
             ],
             [
              0.7777777777777778,
              "#fb9f3a"
             ],
             [
              0.8888888888888888,
              "#fdca26"
             ],
             [
              1,
              "#f0f921"
             ]
            ],
            "type": "histogram2dcontour"
           }
          ],
          "mesh3d": [
           {
            "colorbar": {
             "outlinewidth": 0,
             "ticks": ""
            },
            "type": "mesh3d"
           }
          ],
          "parcoords": [
           {
            "line": {
             "colorbar": {
              "outlinewidth": 0,
              "ticks": ""
             }
            },
            "type": "parcoords"
           }
          ],
          "pie": [
           {
            "automargin": true,
            "type": "pie"
           }
          ],
          "scatter": [
           {
            "marker": {
             "colorbar": {
              "outlinewidth": 0,
              "ticks": ""
             }
            },
            "type": "scatter"
           }
          ],
          "scatter3d": [
           {
            "line": {
             "colorbar": {
              "outlinewidth": 0,
              "ticks": ""
             }
            },
            "marker": {
             "colorbar": {
              "outlinewidth": 0,
              "ticks": ""
             }
            },
            "type": "scatter3d"
           }
          ],
          "scattercarpet": [
           {
            "marker": {
             "colorbar": {
              "outlinewidth": 0,
              "ticks": ""
             }
            },
            "type": "scattercarpet"
           }
          ],
          "scattergeo": [
           {
            "marker": {
             "colorbar": {
              "outlinewidth": 0,
              "ticks": ""
             }
            },
            "type": "scattergeo"
           }
          ],
          "scattergl": [
           {
            "marker": {
             "colorbar": {
              "outlinewidth": 0,
              "ticks": ""
             }
            },
            "type": "scattergl"
           }
          ],
          "scattermapbox": [
           {
            "marker": {
             "colorbar": {
              "outlinewidth": 0,
              "ticks": ""
             }
            },
            "type": "scattermapbox"
           }
          ],
          "scatterpolar": [
           {
            "marker": {
             "colorbar": {
              "outlinewidth": 0,
              "ticks": ""
             }
            },
            "type": "scatterpolar"
           }
          ],
          "scatterpolargl": [
           {
            "marker": {
             "colorbar": {
              "outlinewidth": 0,
              "ticks": ""
             }
            },
            "type": "scatterpolargl"
           }
          ],
          "scatterternary": [
           {
            "marker": {
             "colorbar": {
              "outlinewidth": 0,
              "ticks": ""
             }
            },
            "type": "scatterternary"
           }
          ],
          "surface": [
           {
            "colorbar": {
             "outlinewidth": 0,
             "ticks": ""
            },
            "colorscale": [
             [
              0,
              "#0d0887"
             ],
             [
              0.1111111111111111,
              "#46039f"
             ],
             [
              0.2222222222222222,
              "#7201a8"
             ],
             [
              0.3333333333333333,
              "#9c179e"
             ],
             [
              0.4444444444444444,
              "#bd3786"
             ],
             [
              0.5555555555555556,
              "#d8576b"
             ],
             [
              0.6666666666666666,
              "#ed7953"
             ],
             [
              0.7777777777777778,
              "#fb9f3a"
             ],
             [
              0.8888888888888888,
              "#fdca26"
             ],
             [
              1,
              "#f0f921"
             ]
            ],
            "type": "surface"
           }
          ],
          "table": [
           {
            "cells": {
             "fill": {
              "color": "#EBF0F8"
             },
             "line": {
              "color": "white"
             }
            },
            "header": {
             "fill": {
              "color": "#C8D4E3"
             },
             "line": {
              "color": "white"
             }
            },
            "type": "table"
           }
          ]
         },
         "layout": {
          "annotationdefaults": {
           "arrowcolor": "#2a3f5f",
           "arrowhead": 0,
           "arrowwidth": 1
          },
          "coloraxis": {
           "colorbar": {
            "outlinewidth": 0,
            "ticks": ""
           }
          },
          "colorscale": {
           "diverging": [
            [
             0,
             "#8e0152"
            ],
            [
             0.1,
             "#c51b7d"
            ],
            [
             0.2,
             "#de77ae"
            ],
            [
             0.3,
             "#f1b6da"
            ],
            [
             0.4,
             "#fde0ef"
            ],
            [
             0.5,
             "#f7f7f7"
            ],
            [
             0.6,
             "#e6f5d0"
            ],
            [
             0.7,
             "#b8e186"
            ],
            [
             0.8,
             "#7fbc41"
            ],
            [
             0.9,
             "#4d9221"
            ],
            [
             1,
             "#276419"
            ]
           ],
           "sequential": [
            [
             0,
             "#0d0887"
            ],
            [
             0.1111111111111111,
             "#46039f"
            ],
            [
             0.2222222222222222,
             "#7201a8"
            ],
            [
             0.3333333333333333,
             "#9c179e"
            ],
            [
             0.4444444444444444,
             "#bd3786"
            ],
            [
             0.5555555555555556,
             "#d8576b"
            ],
            [
             0.6666666666666666,
             "#ed7953"
            ],
            [
             0.7777777777777778,
             "#fb9f3a"
            ],
            [
             0.8888888888888888,
             "#fdca26"
            ],
            [
             1,
             "#f0f921"
            ]
           ],
           "sequentialminus": [
            [
             0,
             "#0d0887"
            ],
            [
             0.1111111111111111,
             "#46039f"
            ],
            [
             0.2222222222222222,
             "#7201a8"
            ],
            [
             0.3333333333333333,
             "#9c179e"
            ],
            [
             0.4444444444444444,
             "#bd3786"
            ],
            [
             0.5555555555555556,
             "#d8576b"
            ],
            [
             0.6666666666666666,
             "#ed7953"
            ],
            [
             0.7777777777777778,
             "#fb9f3a"
            ],
            [
             0.8888888888888888,
             "#fdca26"
            ],
            [
             1,
             "#f0f921"
            ]
           ]
          },
          "colorway": [
           "#636efa",
           "#EF553B",
           "#00cc96",
           "#ab63fa",
           "#FFA15A",
           "#19d3f3",
           "#FF6692",
           "#B6E880",
           "#FF97FF",
           "#FECB52"
          ],
          "font": {
           "color": "#2a3f5f"
          },
          "geo": {
           "bgcolor": "white",
           "lakecolor": "white",
           "landcolor": "#E5ECF6",
           "showlakes": true,
           "showland": true,
           "subunitcolor": "white"
          },
          "hoverlabel": {
           "align": "left"
          },
          "hovermode": "closest",
          "mapbox": {
           "style": "light"
          },
          "paper_bgcolor": "white",
          "plot_bgcolor": "#E5ECF6",
          "polar": {
           "angularaxis": {
            "gridcolor": "white",
            "linecolor": "white",
            "ticks": ""
           },
           "bgcolor": "#E5ECF6",
           "radialaxis": {
            "gridcolor": "white",
            "linecolor": "white",
            "ticks": ""
           }
          },
          "scene": {
           "xaxis": {
            "backgroundcolor": "#E5ECF6",
            "gridcolor": "white",
            "gridwidth": 2,
            "linecolor": "white",
            "showbackground": true,
            "ticks": "",
            "zerolinecolor": "white"
           },
           "yaxis": {
            "backgroundcolor": "#E5ECF6",
            "gridcolor": "white",
            "gridwidth": 2,
            "linecolor": "white",
            "showbackground": true,
            "ticks": "",
            "zerolinecolor": "white"
           },
           "zaxis": {
            "backgroundcolor": "#E5ECF6",
            "gridcolor": "white",
            "gridwidth": 2,
            "linecolor": "white",
            "showbackground": true,
            "ticks": "",
            "zerolinecolor": "white"
           }
          },
          "shapedefaults": {
           "line": {
            "color": "#2a3f5f"
           }
          },
          "ternary": {
           "aaxis": {
            "gridcolor": "white",
            "linecolor": "white",
            "ticks": ""
           },
           "baxis": {
            "gridcolor": "white",
            "linecolor": "white",
            "ticks": ""
           },
           "bgcolor": "#E5ECF6",
           "caxis": {
            "gridcolor": "white",
            "linecolor": "white",
            "ticks": ""
           }
          },
          "title": {
           "x": 0.05
          },
          "xaxis": {
           "automargin": true,
           "gridcolor": "white",
           "linecolor": "white",
           "ticks": "",
           "title": {
            "standoff": 15
           },
           "zerolinecolor": "white",
           "zerolinewidth": 2
          },
          "yaxis": {
           "automargin": true,
           "gridcolor": "white",
           "linecolor": "white",
           "ticks": "",
           "title": {
            "standoff": 15
           },
           "zerolinecolor": "white",
           "zerolinewidth": 2
          }
         }
        },
        "title": {
         "text": "Tweet #4 vs Tweet #12"
        },
        "width": 800,
        "xaxis": {
         "title": {
          "text": "Seconds since Trump Retweeted #4"
         }
        },
        "yaxis": {
         "title": {
          "text": "Seconds since Trump Retweeted #12"
         }
        }
       }
      },
      "text/html": [
       "<div>\n",
       "        \n",
       "        \n",
       "            <div id=\"d0b321c6-d6af-4a7a-8eee-4a7f51c99bca\" class=\"plotly-graph-div\" style=\"height:600px; width:800px;\"></div>\n",
       "            <script type=\"text/javascript\">\n",
       "                require([\"plotly\"], function(Plotly) {\n",
       "                    window.PLOTLYENV=window.PLOTLYENV || {};\n",
       "                    \n",
       "                if (document.getElementById(\"d0b321c6-d6af-4a7a-8eee-4a7f51c99bca\")) {\n",
       "                    Plotly.newPlot(\n",
       "                        'd0b321c6-d6af-4a7a-8eee-4a7f51c99bca',\n",
       "                        [{\"hovertemplate\": \"%{text}\", \"marker\": {\"color\": \"#3d019d\", \"opacity\": 1, \"size\": 8}, \"mode\": \"markers\", \"name\": \"Retweeted 2 tweets\", \"showlegend\": true, \"text\": [\"DeborahOrona: <a href=\\\"http://twitter.com/download/android\\\" rel=\\\"nofollow\\\">Twitter for Android</a>\", \"LyndaAtchison: <a href=\\\"https://mobile.twitter.com\\\" rel=\\\"nofollow\\\">Twitter Web App</a>\", \"Aaknard: <a href=\\\"http://twitter.com/download/android\\\" rel=\\\"nofollow\\\">Twitter for Android</a>\", \"SitterleyMarcia: <a href=\\\"http://twitter.com/download/iphone\\\" rel=\\\"nofollow\\\">Twitter for iPhone</a>\", \"ChatterjeeNeel_: <a href=\\\"http://twitter.com/download/iphone\\\" rel=\\\"nofollow\\\">Twitter for iPhone</a>\", \"lbgodines: <a href=\\\"http://twitter.com/download/android\\\" rel=\\\"nofollow\\\">Twitter for Android</a>\", \"RealJobRob: <a href=\\\"http://twitter.com/download/iphone\\\" rel=\\\"nofollow\\\">Twitter for iPhone</a>\", \"tetxnu84967: <a href=\\\"http://twitter.com/download/iphone\\\" rel=\\\"nofollow\\\">Twitter for iPhone</a>\", \"allen12291958: <a href=\\\"http://twitter.com/download/android\\\" rel=\\\"nofollow\\\">Twitter for Android</a>\", \"yoSissyNY_FL: <a href=\\\"https://mobile.twitter.com\\\" rel=\\\"nofollow\\\">Twitter Web App</a>\", \"JstannerJudy: <a href=\\\"http://twitter.com/download/android\\\" rel=\\\"nofollow\\\">Twitter for Android</a>\", \"jhughes3939: <a href=\\\"https://mobile.twitter.com\\\" rel=\\\"nofollow\\\">Twitter Web App</a>\", \"DefinePopcorn: <a href=\\\"https://mobile.twitter.com\\\" rel=\\\"nofollow\\\">Twitter Web App</a>\", \"xenia_tom: <a href=\\\"https://mobile.twitter.com\\\" rel=\\\"nofollow\\\">Twitter Web App</a>\", \"PavichS2: <a href=\\\"http://twitter.com/download/android\\\" rel=\\\"nofollow\\\">Twitter for Android</a>\", \"thedeepertheluv: <a href=\\\"http://twitter.com/download/android\\\" rel=\\\"nofollow\\\">Twitter for Android</a>\", \"Chintan705: <a href=\\\"http://twitter.com/download/iphone\\\" rel=\\\"nofollow\\\">Twitter for iPhone</a>\", \"KayV34: <a href=\\\"http://twitter.com/download/android\\\" rel=\\\"nofollow\\\">Twitter for Android</a>\", \"Dominic9702: <a href=\\\"http://twitter.com/download/iphone\\\" rel=\\\"nofollow\\\">Twitter for iPhone</a>\", \"GwenLCummings: <a href=\\\"https://mobile.twitter.com\\\" rel=\\\"nofollow\\\">Twitter Web App</a>\", \"Beachbum4747: <a href=\\\"http://twitter.com/download/iphone\\\" rel=\\\"nofollow\\\">Twitter for iPhone</a>\", \"MagmaeM: <a href=\\\"http://twitter.com/download/iphone\\\" rel=\\\"nofollow\\\">Twitter for iPhone</a>\", \"LiberalsNo: <a href=\\\"http://twitter.com/#!/download/ipad\\\" rel=\\\"nofollow\\\">Twitter for iPad</a>\", \"BarseSteven: <a href=\\\"http://twitter.com/download/android\\\" rel=\\\"nofollow\\\">Twitter for Android</a>\", \"popink: <a href=\\\"http://twitter.com/download/iphone\\\" rel=\\\"nofollow\\\">Twitter for iPhone</a>\", \"TheRealPopeyeO: <a href=\\\"http://twitter.com/download/iphone\\\" rel=\\\"nofollow\\\">Twitter for iPhone</a>\", \"BBallinger6: <a href=\\\"http://twitter.com/download/iphone\\\" rel=\\\"nofollow\\\">Twitter for iPhone</a>\", \"1234potterys1: <a href=\\\"http://twitter.com/download/iphone\\\" rel=\\\"nofollow\\\">Twitter for iPhone</a>\", \"tony_hambleton: <a href=\\\"http://twitter.com/download/iphone\\\" rel=\\\"nofollow\\\">Twitter for iPhone</a>\", \"guts_ya: <a href=\\\"http://twitter.com/download/android\\\" rel=\\\"nofollow\\\">Twitter for Android</a>\", \"hayag_jerry: <a href=\\\"http://twitter.com/download/android\\\" rel=\\\"nofollow\\\">Twitter for Android</a>\", \"it8ntme: <a href=\\\"http://twitter.com/download/iphone\\\" rel=\\\"nofollow\\\">Twitter for iPhone</a>\", \"ALLEN4TRUMP2020: <a href=\\\"http://twitter.com/download/android\\\" rel=\\\"nofollow\\\">Twitter for Android</a>\", \"bfraser747: <a href=\\\"http://twitter.com/download/android\\\" rel=\\\"nofollow\\\">Twitter for Android</a>\", \"hwholcomb: <a href=\\\"http://twitter.com/download/iphone\\\" rel=\\\"nofollow\\\">Twitter for iPhone</a>\", \"Madge642: <a href=\\\"https://mobile.twitter.com\\\" rel=\\\"nofollow\\\">Twitter Web App</a>\", \"DallasBrownin16: <a href=\\\"https://mobile.twitter.com\\\" rel=\\\"nofollow\\\">Twitter Web App</a>\", \"Trumptrooper2: <a href=\\\"http://twitter.com/download/iphone\\\" rel=\\\"nofollow\\\">Twitter for iPhone</a>\", \"WmWallace1911: <a href=\\\"https://mobile.twitter.com\\\" rel=\\\"nofollow\\\">Twitter Web App</a>\", \"AmericaIsUnited: <a href=\\\"http://twitter.com/download/iphone\\\" rel=\\\"nofollow\\\">Twitter for iPhone</a>\", \"Cassie__ch: <a href=\\\"https://mobile.twitter.com\\\" rel=\\\"nofollow\\\">Twitter Web App</a>\", \"AntoinettaSpea2: <a href=\\\"https://mobile.twitter.com\\\" rel=\\\"nofollow\\\">Twitter Web App</a>\", \"Marva2017555: <a href=\\\"http://twitter.com/download/iphone\\\" rel=\\\"nofollow\\\">Twitter for iPhone</a>\", \"WePromises: <a href=\\\"https://mobile.twitter.com\\\" rel=\\\"nofollow\\\">Twitter Web App</a>\", \"gringaloca11: <a href=\\\"http://twitter.com/download/iphone\\\" rel=\\\"nofollow\\\">Twitter for iPhone</a>\", \"BambiMejia2: <a href=\\\"http://twitter.com/download/iphone\\\" rel=\\\"nofollow\\\">Twitter for iPhone</a>\", \"ClasicMthrGoose: <a href=\\\"http://twitter.com/download/iphone\\\" rel=\\\"nofollow\\\">Twitter for iPhone</a>\", \"Pjw20161951: <a href=\\\"http://twitter.com/#!/download/ipad\\\" rel=\\\"nofollow\\\">Twitter for iPad</a>\", \"stewjam66: <a href=\\\"http://twitter.com/download/android\\\" rel=\\\"nofollow\\\">Twitter for Android</a>\", \"EdwinEd1667: <a href=\\\"http://twitter.com/download/android\\\" rel=\\\"nofollow\\\">Twitter for Android</a>\", \"shbco: <a href=\\\"http://twitter.com/download/android\\\" rel=\\\"nofollow\\\">Twitter for Android</a>\", \"camp_cia: <a href=\\\"https://mobile.twitter.com\\\" rel=\\\"nofollow\\\">Mobile Web (M2)</a>\", \"SheJokerLouise: <a href=\\\"http://twitter.com/download/iphone\\\" rel=\\\"nofollow\\\">Twitter for iPhone</a>\", \"GrayZinez: <a href=\\\"http://twitter.com/download/iphone\\\" rel=\\\"nofollow\\\">Twitter for iPhone</a>\", \"glen_strother: <a href=\\\"http://twitter.com/download/android\\\" rel=\\\"nofollow\\\">Twitter for Android</a>\", \"neojosemo: <a href=\\\"http://twitter.com/download/iphone\\\" rel=\\\"nofollow\\\">Twitter for iPhone</a>\", \"DBERG420: <a href=\\\"http://twitter.com/download/android\\\" rel=\\\"nofollow\\\">Twitter for Android</a>\", \"cn27793_ah5_hn_: <a href=\\\"https://mobile.twitter.com\\\" rel=\\\"nofollow\\\">Twitter Web App</a>\", \"levins_gregory: <a href=\\\"http://twitter.com/download/android\\\" rel=\\\"nofollow\\\">Twitter for Android</a>\", \"organic2016: <a href=\\\"http://twitter.com/download/iphone\\\" rel=\\\"nofollow\\\">Twitter for iPhone</a>\", \"KeosonicOm: <a href=\\\"http://twitter.com/download/iphone\\\" rel=\\\"nofollow\\\">Twitter for iPhone</a>\", \"KimDavid927: <a href=\\\"http://twitter.com/download/android\\\" rel=\\\"nofollow\\\">Twitter for Android</a>\", \"aaroque2016: <a href=\\\"http://twitter.com/download/iphone\\\" rel=\\\"nofollow\\\">Twitter for iPhone</a>\", \"Tammy_Killebrew: <a href=\\\"http://twitter.com/download/android\\\" rel=\\\"nofollow\\\">Twitter for Android</a>\", \"Mike_Matuska: <a href=\\\"http://twitter.com/download/iphone\\\" rel=\\\"nofollow\\\">Twitter for iPhone</a>\", \"CarolLovesTrump: <a href=\\\"http://twitter.com/download/android\\\" rel=\\\"nofollow\\\">Twitter for Android</a>\", \"ryanart329: <a href=\\\"http://twitter.com/download/iphone\\\" rel=\\\"nofollow\\\">Twitter for iPhone</a>\", \"cherribaby4: <a href=\\\"http://twitter.com/download/iphone\\\" rel=\\\"nofollow\\\">Twitter for iPhone</a>\", \"justonepatriot: <a href=\\\"http://twitter.com/download/iphone\\\" rel=\\\"nofollow\\\">Twitter for iPhone</a>\", \"woodwa10_la: <a href=\\\"http://twitter.com/download/android\\\" rel=\\\"nofollow\\\">Twitter for Android</a>\", \"LeblancLianne: <a href=\\\"http://twitter.com/download/iphone\\\" rel=\\\"nofollow\\\">Twitter for iPhone</a>\", \"hgilmer265: <a href=\\\"http://twitter.com/download/iphone\\\" rel=\\\"nofollow\\\">Twitter for iPhone</a>\", \"psmith19701: <a href=\\\"http://twitter.com/download/android\\\" rel=\\\"nofollow\\\">Twitter for Android</a>\", \"stoyeneso: <a href=\\\"http://twitter.com/download/iphone\\\" rel=\\\"nofollow\\\">Twitter for iPhone</a>\", \"IRENEWA45168212: <a href=\\\"http://twitter.com/download/iphone\\\" rel=\\\"nofollow\\\">Twitter for iPhone</a>\", \"PopZ00100: <a href=\\\"https://mobile.twitter.com\\\" rel=\\\"nofollow\\\">Twitter Web App</a>\", \"GREENESJ333: <a href=\\\"http://twitter.com/download/android\\\" rel=\\\"nofollow\\\">Twitter for Android</a>\", \"lilac_silk: <a href=\\\"http://twitter.com/download/android\\\" rel=\\\"nofollow\\\">Twitter for Android</a>\", \"DutyOfAPatriot: <a href=\\\"http://twitter.com/#!/download/ipad\\\" rel=\\\"nofollow\\\">Twitter for iPad</a>\", \"LuluXar: <a href=\\\"http://twitter.com/download/iphone\\\" rel=\\\"nofollow\\\">Twitter for iPhone</a>\", \"sarah_weikle: <a href=\\\"http://twitter.com/download/android\\\" rel=\\\"nofollow\\\">Twitter for Android</a>\", \"rosarelli: <a href=\\\"http://twitter.com/download/iphone\\\" rel=\\\"nofollow\\\">Twitter for iPhone</a>\", \"hdak34: <a href=\\\"http://twitter.com/download/android\\\" rel=\\\"nofollow\\\">Twitter for Android</a>\", \"71_rajib: <a href=\\\"http://twitter.com/download/android\\\" rel=\\\"nofollow\\\">Twitter for Android</a>\", \"Kim13283440: <a href=\\\"https://mobile.twitter.com\\\" rel=\\\"nofollow\\\">Twitter Web App</a>\", \"VaBeachDi: <a href=\\\"http://twitter.com/download/iphone\\\" rel=\\\"nofollow\\\">Twitter for iPhone</a>\", \"DorothyRuth25: <a href=\\\"http://twitter.com/download/iphone\\\" rel=\\\"nofollow\\\">Twitter for iPhone</a>\", \"Ioncewasblinded: <a href=\\\"http://twitter.com/download/iphone\\\" rel=\\\"nofollow\\\">Twitter for iPhone</a>\", \"Woke2008: <a href=\\\"http://twitter.com/download/iphone\\\" rel=\\\"nofollow\\\">Twitter for iPhone</a>\", \"usacit1970: <a href=\\\"http://twitter.com/download/iphone\\\" rel=\\\"nofollow\\\">Twitter for iPhone</a>\", \"KristiRobins10: <a href=\\\"http://twitter.com/download/iphone\\\" rel=\\\"nofollow\\\">Twitter for iPhone</a>\", \"Nunez200: <a href=\\\"http://twitter.com/download/android\\\" rel=\\\"nofollow\\\">Twitter for Android</a>\", \"clfklf: <a href=\\\"http://twitter.com/download/android\\\" rel=\\\"nofollow\\\">Twitter for Android</a>\", \"DaytonLivingst2: <a href=\\\"http://twitter.com/download/android\\\" rel=\\\"nofollow\\\">Twitter for Android</a>\", \"sheilasaintfan: <a href=\\\"http://twitter.com/download/iphone\\\" rel=\\\"nofollow\\\">Twitter for iPhone</a>\", \"SallyLa57199765: <a href=\\\"http://twitter.com/download/iphone\\\" rel=\\\"nofollow\\\">Twitter for iPhone</a>\", \"matters_real: <a href=\\\"http://twitter.com/download/iphone\\\" rel=\\\"nofollow\\\">Twitter for iPhone</a>\", \"WalterNDiaz1: <a href=\\\"http://twitter.com/download/android\\\" rel=\\\"nofollow\\\">Twitter for Android</a>\", \"John_Hurrey: <a href=\\\"http://twitter.com\\\" rel=\\\"nofollow\\\">Twitter Web Client</a>\", \"Sheckyk: <a href=\\\"http://twitter.com/download/android\\\" rel=\\\"nofollow\\\">Twitter for Android</a>\", \"Ardhecornbee: <a href=\\\"http://twitter.com/download/android\\\" rel=\\\"nofollow\\\">Twitter for Android</a>\", \"rnelson189: <a href=\\\"http://twitter.com/download/iphone\\\" rel=\\\"nofollow\\\">Twitter for iPhone</a>\", \"Grandetestes: <a href=\\\"http://twitter.com/download/android\\\" rel=\\\"nofollow\\\">Twitter for Android</a>\", \"Wandafay: <a href=\\\"http://twitter.com/download/android\\\" rel=\\\"nofollow\\\">Twitter for Android</a>\", \"LkwdAskan: <a href=\\\"http://twitter.com/download/iphone\\\" rel=\\\"nofollow\\\">Twitter for iPhone</a>\", \"TopInfoBlogs: <a href=\\\"http://twitter.com\\\" rel=\\\"nofollow\\\">Twitter Web Client</a>\", \"FishManwaters: <a href=\\\"http://twitter.com/download/iphone\\\" rel=\\\"nofollow\\\">Twitter for iPhone</a>\", \"DulaLynne: <a href=\\\"https://mobile.twitter.com\\\" rel=\\\"nofollow\\\">Twitter Web App</a>\", \"Matthew86263146: <a href=\\\"http://twitter.com/download/iphone\\\" rel=\\\"nofollow\\\">Twitter for iPhone</a>\", \"peacelovekind1: <a href=\\\"http://twitter.com/download/iphone\\\" rel=\\\"nofollow\\\">Twitter for iPhone</a>\", \"KattTrotter: <a href=\\\"http://twitter.com/#!/download/ipad\\\" rel=\\\"nofollow\\\">Twitter for iPad</a>\", \"alanmillhone: <a href=\\\"http://twitter.com/download/android\\\" rel=\\\"nofollow\\\">Twitter for Android</a>\", \"sunset_dawn2: <a href=\\\"https://mobile.twitter.com\\\" rel=\\\"nofollow\\\">Twitter Web App</a>\", \"GisiAnthony: <a href=\\\"http://twitter.com/download/android\\\" rel=\\\"nofollow\\\">Twitter for Android</a>\", \"1RealLori: <a href=\\\"http://twitter.com/download/android\\\" rel=\\\"nofollow\\\">Twitter for Android</a>\", \"Angeleyesblue77: <a href=\\\"http://twitter.com/download/iphone\\\" rel=\\\"nofollow\\\">Twitter for iPhone</a>\", \"SabatiniDetails: <a href=\\\"http://twitter.com/download/iphone\\\" rel=\\\"nofollow\\\">Twitter for iPhone</a>\", \"Cruisedatsea: <a href=\\\"http://twitter.com/download/android\\\" rel=\\\"nofollow\\\">Twitter for Android</a>\", \"cccinnc: <a href=\\\"http://twitter.com/#!/download/ipad\\\" rel=\\\"nofollow\\\">Twitter for iPad</a>\", \"MaryPinkley: <a href=\\\"http://twitter.com/download/iphone\\\" rel=\\\"nofollow\\\">Twitter for iPhone</a>\", \"IraidaLeon: <a href=\\\"http://twitter.com/download/android\\\" rel=\\\"nofollow\\\">Twitter for Android</a>\", \"CharlesKaps2: <a href=\\\"http://twitter.com/download/android\\\" rel=\\\"nofollow\\\">Twitter for Android</a>\", \"Pacificnw777: <a href=\\\"http://twitter.com/download/android\\\" rel=\\\"nofollow\\\">Twitter for Android</a>\", \"Christi47072865: <a href=\\\"http://twitter.com/download/android\\\" rel=\\\"nofollow\\\">Twitter for Android</a>\", \"councilross11: <a href=\\\"http://twitter.com/download/android\\\" rel=\\\"nofollow\\\">Twitter for Android</a>\", \"anitalou_: <a href=\\\"https://mobile.twitter.com\\\" rel=\\\"nofollow\\\">Twitter Web App</a>\", \"TheRacemancan: <a href=\\\"http://twitter.com/download/iphone\\\" rel=\\\"nofollow\\\">Twitter for iPhone</a>\", \"RealTyWebb: <a href=\\\"http://twitter.com/download/iphone\\\" rel=\\\"nofollow\\\">Twitter for iPhone</a>\", \"hannibal68: <a href=\\\"http://twitter.com/download/android\\\" rel=\\\"nofollow\\\">Twitter for Android</a>\", \"dowchang: <a href=\\\"https://mobile.twitter.com\\\" rel=\\\"nofollow\\\">Twitter Web App</a>\", \"TheodoreVegh: <a href=\\\"https://mobile.twitter.com\\\" rel=\\\"nofollow\\\">Twitter Web App</a>\", \"doesitmatter437: <a href=\\\"http://twitter.com/download/iphone\\\" rel=\\\"nofollow\\\">Twitter for iPhone</a>\", \"TxSaya: <a href=\\\"http://twitter.com/download/iphone\\\" rel=\\\"nofollow\\\">Twitter for iPhone</a>\", \"KarenWillestoft: <a href=\\\"http://twitter.com/#!/download/ipad\\\" rel=\\\"nofollow\\\">Twitter for iPad</a>\", \"kayceeinva: <a href=\\\"http://twitter.com/download/iphone\\\" rel=\\\"nofollow\\\">Twitter for iPhone</a>\", \"2Glitz4U: <a href=\\\"http://twitter.com/download/iphone\\\" rel=\\\"nofollow\\\">Twitter for iPhone</a>\", \"AllenDyer6: <a href=\\\"http://twitter.com/download/android\\\" rel=\\\"nofollow\\\">Twitter for Android</a>\", \"Gracecourtwrig3: <a href=\\\"http://twitter.com/download/android\\\" rel=\\\"nofollow\\\">Twitter for Android</a>\", \"AnhLagos: <a href=\\\"http://twitter.com/download/iphone\\\" rel=\\\"nofollow\\\">Twitter for iPhone</a>\", \"ROB_ENGLAND_: <a href=\\\"http://twitter.com/download/iphone\\\" rel=\\\"nofollow\\\">Twitter for iPhone</a>\", \"IreneEagle1: <a href=\\\"http://twitter.com/#!/download/ipad\\\" rel=\\\"nofollow\\\">Twitter for iPad</a>\", \"RWDiogo: <a href=\\\"http://twitter.com/download/iphone\\\" rel=\\\"nofollow\\\">Twitter for iPhone</a>\", \"JoeFreedomLove: <a href=\\\"http://twitter.com/download/iphone\\\" rel=\\\"nofollow\\\">Twitter for iPhone</a>\", \"TheWarr57826464: <a href=\\\"http://twitter.com/download/android\\\" rel=\\\"nofollow\\\">Twitter for Android</a>\", \"CASINOFALLS: <a href=\\\"http://twitter.com/download/iphone\\\" rel=\\\"nofollow\\\">Twitter for iPhone</a>\", \"IsmailJabery: <a href=\\\"http://twitter.com/download/iphone\\\" rel=\\\"nofollow\\\">Twitter for iPhone</a>\", \"ALWAYSPsalm91: <a href=\\\"http://twitter.com/download/iphone\\\" rel=\\\"nofollow\\\">Twitter for iPhone</a>\", \"heidiconley76: <a href=\\\"http://twitter.com/download/android\\\" rel=\\\"nofollow\\\">Twitter for Android</a>\", \"Audrakat: <a href=\\\"http://twitter.com/download/android\\\" rel=\\\"nofollow\\\">Twitter for Android</a>\", \"DonSmit76680351: <a href=\\\"http://twitter.com/download/iphone\\\" rel=\\\"nofollow\\\">Twitter for iPhone</a>\", \"Dersu62: <a href=\\\"http://twitter.com/#!/download/ipad\\\" rel=\\\"nofollow\\\">Twitter for iPad</a>\", \"BlackPatriotQ17: <a href=\\\"http://twitter.com/download/android\\\" rel=\\\"nofollow\\\">Twitter for Android</a>\", \"pjk247: <a href=\\\"https://mobile.twitter.com\\\" rel=\\\"nofollow\\\">Twitter Web App</a>\", \"Cassieiswild: <a href=\\\"http://twitter.com/download/iphone\\\" rel=\\\"nofollow\\\">Twitter for iPhone</a>\", \"batista_falcon: <a href=\\\"http://twitter.com/download/android\\\" rel=\\\"nofollow\\\">Twitter for Android</a>\", \"bentley_maxie: <a href=\\\"https://mobile.twitter.com\\\" rel=\\\"nofollow\\\">Twitter Web App</a>\", \"MAGACountry45: <a href=\\\"http://twitter.com/download/iphone\\\" rel=\\\"nofollow\\\">Twitter for iPhone</a>\", \"Noozeez: <a href=\\\"https://mobile.twitter.com\\\" rel=\\\"nofollow\\\">Twitter Web App</a>\", \"theejonas_: <a href=\\\"http://twitter.com/download/iphone\\\" rel=\\\"nofollow\\\">Twitter for iPhone</a>\", \"ezridersos: <a href=\\\"http://twitter.com/download/android\\\" rel=\\\"nofollow\\\">Twitter for Android</a>\", \"bktown1: <a href=\\\"http://twitter.com/download/android\\\" rel=\\\"nofollow\\\">Twitter for Android</a>\", \"Randy77847389: <a href=\\\"https://mobile.twitter.com\\\" rel=\\\"nofollow\\\">Twitter Web App</a>\", \"Trumpist2: <a href=\\\"http://twitter.com/download/android\\\" rel=\\\"nofollow\\\">Twitter for Android</a>\", \"Rob95967018: <a href=\\\"http://twitter.com/download/android\\\" rel=\\\"nofollow\\\">Twitter for Android</a>\", \"luishon2: <a href=\\\"http://twitter.com/download/iphone\\\" rel=\\\"nofollow\\\">Twitter for iPhone</a>\", \"tantestrain: <a href=\\\"http://twitter.com/download/iphone\\\" rel=\\\"nofollow\\\">Twitter for iPhone</a>\", \"willethridge112: <a href=\\\"http://twitter.com/download/iphone\\\" rel=\\\"nofollow\\\">Twitter for iPhone</a>\", \"Trumpmissouri: <a href=\\\"http://twitter.com/download/iphone\\\" rel=\\\"nofollow\\\">Twitter for iPhone</a>\", \"Drake21231: <a href=\\\"http://twitter.com/download/iphone\\\" rel=\\\"nofollow\\\">Twitter for iPhone</a>\", \"ShawnSullivan66: <a href=\\\"http://twitter.com/download/iphone\\\" rel=\\\"nofollow\\\">Twitter for iPhone</a>\", \"dundeeborn69: <a href=\\\"http://twitter.com/download/iphone\\\" rel=\\\"nofollow\\\">Twitter for iPhone</a>\", \"brandy_mancari: <a href=\\\"http://twitter.com/download/android\\\" rel=\\\"nofollow\\\">Twitter for Android</a>\", \"shredbin: <a href=\\\"http://twitter.com/download/iphone\\\" rel=\\\"nofollow\\\">Twitter for iPhone</a>\", \"SharaeM3: <a href=\\\"http://twitter.com/download/android\\\" rel=\\\"nofollow\\\">Twitter for Android</a>\", \"TAftermath2020: <a href=\\\"http://twitter.com/download/iphone\\\" rel=\\\"nofollow\\\">Twitter for iPhone</a>\", \"Interradeserta: <a href=\\\"http://twitter.com/download/iphone\\\" rel=\\\"nofollow\\\">Twitter for iPhone</a>\", \"Wwg1wgaTrump: <a href=\\\"http://twitter.com/download/iphone\\\" rel=\\\"nofollow\\\">Twitter for iPhone</a>\", \"mtbackpackrk: <a href=\\\"http://twitter.com/download/android\\\" rel=\\\"nofollow\\\">Twitter for Android</a>\", \"DevaloisLi0: <a href=\\\"http://twitter.com/download/android\\\" rel=\\\"nofollow\\\">Twitter for Android</a>\", \"nishbow: <a href=\\\"https://mobile.twitter.com\\\" rel=\\\"nofollow\\\">Twitter Web App</a>\", \"123jesust: <a href=\\\"https://mobile.twitter.com\\\" rel=\\\"nofollow\\\">Twitter Web App</a>\", \"Tinal0963: <a href=\\\"http://twitter.com/#!/download/ipad\\\" rel=\\\"nofollow\\\">Twitter for iPad</a>\", \"Drdeleon16David: <a href=\\\"http://twitter.com/download/iphone\\\" rel=\\\"nofollow\\\">Twitter for iPhone</a>\", \"SandraLambros: <a href=\\\"http://twitter.com/download/iphone\\\" rel=\\\"nofollow\\\">Twitter for iPhone</a>\", \"SpyMail: <a href=\\\"http://twitter.com/download/iphone\\\" rel=\\\"nofollow\\\">Twitter for iPhone</a>\", \"valliberty: <a href=\\\"http://twitter.com/download/android\\\" rel=\\\"nofollow\\\">Twitter for Android</a>\", \"Barbaren7: <a href=\\\"https://mobile.twitter.com\\\" rel=\\\"nofollow\\\">Twitter Web App</a>\", \"EvelineSheila: <a href=\\\"http://twitter.com/download/iphone\\\" rel=\\\"nofollow\\\">Twitter for iPhone</a>\", \"realThomasLink: <a href=\\\"http://twitter.com/download/android\\\" rel=\\\"nofollow\\\">Twitter for Android</a>\", \"DanielMedanich: <a href=\\\"http://twitter.com/download/iphone\\\" rel=\\\"nofollow\\\">Twitter for iPhone</a>\", \"FernandoIbarr15: <a href=\\\"http://twitter.com/download/android\\\" rel=\\\"nofollow\\\">Twitter for Android</a>\", \"Cleve69_Alan: <a href=\\\"https://mobile.twitter.com\\\" rel=\\\"nofollow\\\">Twitter Web App</a>\", \"zzprosper: <a href=\\\"http://twitter.com/download/android\\\" rel=\\\"nofollow\\\">Twitter for Android</a>\", \"Lstoud1: <a href=\\\"https://mobile.twitter.com\\\" rel=\\\"nofollow\\\">Twitter Web App</a>\", \"DeboraGlorioso: <a href=\\\"http://twitter.com/download/iphone\\\" rel=\\\"nofollow\\\">Twitter for iPhone</a>\", \"auser72307407: <a href=\\\"http://twitter.com/download/iphone\\\" rel=\\\"nofollow\\\">Twitter for iPhone</a>\", \"Toastmmaster: <a href=\\\"https://mobile.twitter.com\\\" rel=\\\"nofollow\\\">Twitter Web App</a>\", \"dlbetz: <a href=\\\"http://twitter.com/download/android\\\" rel=\\\"nofollow\\\">Twitter for Android</a>\", \"SolG8lden: <a href=\\\"http://twitter.com/download/iphone\\\" rel=\\\"nofollow\\\">Twitter for iPhone</a>\", \"MagcanadaMike: <a href=\\\"http://twitter.com/download/iphone\\\" rel=\\\"nofollow\\\">Twitter for iPhone</a>\", \"SheriWible: <a href=\\\"http://twitter.com/download/android\\\" rel=\\\"nofollow\\\">Twitter for Android</a>\", \"4dash94: <a href=\\\"http://twitter.com/download/android\\\" rel=\\\"nofollow\\\">Twitter for Android</a>\", \"ProudTexan7: <a href=\\\"https://mobile.twitter.com\\\" rel=\\\"nofollow\\\">Twitter Web App</a>\", \"4Civilization: <a href=\\\"https://mobile.twitter.com\\\" rel=\\\"nofollow\\\">Twitter Web App</a>\", \"CyntianW: <a href=\\\"http://twitter.com/download/iphone\\\" rel=\\\"nofollow\\\">Twitter for iPhone</a>\", \"hgfromrgv: <a href=\\\"http://twitter.com/download/android\\\" rel=\\\"nofollow\\\">Twitter for Android</a>\", \"reshad_s1: <a href=\\\"http://twitter.com/download/iphone\\\" rel=\\\"nofollow\\\">Twitter for iPhone</a>\", \"KimM36265758: <a href=\\\"http://twitter.com/download/iphone\\\" rel=\\\"nofollow\\\">Twitter for iPhone</a>\", \"usctrojan94: <a href=\\\"http://twitter.com/download/iphone\\\" rel=\\\"nofollow\\\">Twitter for iPhone</a>\", \"EOrioledh: <a href=\\\"http://twitter.com/download/iphone\\\" rel=\\\"nofollow\\\">Twitter for iPhone</a>\", \"TexasGirl4Trump: <a href=\\\"http://twitter.com/download/iphone\\\" rel=\\\"nofollow\\\">Twitter for iPhone</a>\", \"CharleyGirlQ: <a href=\\\"https://mobile.twitter.com\\\" rel=\\\"nofollow\\\">Twitter Web App</a>\", \"mrwho007: <a href=\\\"http://twitter.com/download/android\\\" rel=\\\"nofollow\\\">Twitter for Android</a>\", \"EricStorch: <a href=\\\"http://twitter.com/download/iphone\\\" rel=\\\"nofollow\\\">Twitter for iPhone</a>\", \"KeithBrinson7: <a href=\\\"http://twitter.com/#!/download/ipad\\\" rel=\\\"nofollow\\\">Twitter for iPad</a>\", \"TruthToLight45: <a href=\\\"http://twitter.com/download/android\\\" rel=\\\"nofollow\\\">Twitter for Android</a>\", \"KennyCrase: <a href=\\\"http://twitter.com/download/iphone\\\" rel=\\\"nofollow\\\">Twitter for iPhone</a>\", \"Spirit4Freedom: <a href=\\\"http://twitter.com/download/iphone\\\" rel=\\\"nofollow\\\">Twitter for iPhone</a>\", \"mkbandcat: <a href=\\\"https://mobile.twitter.com\\\" rel=\\\"nofollow\\\">Twitter Web App</a>\", \"Justinzmom13: <a href=\\\"http://twitter.com/download/android\\\" rel=\\\"nofollow\\\">Twitter for Android</a>\", \"karen_erotoo1: <a href=\\\"http://twitter.com/download/android\\\" rel=\\\"nofollow\\\">Twitter for Android</a>\", \"varks3: <a href=\\\"https://mobile.twitter.com\\\" rel=\\\"nofollow\\\">Twitter Web App</a>\", \"IDFWUMF: <a href=\\\"http://twitter.com/download/android\\\" rel=\\\"nofollow\\\">Twitter for Android</a>\", \"dodicek1: <a href=\\\"http://twitter.com/download/android\\\" rel=\\\"nofollow\\\">Twitter for Android</a>\", \"CoachBauer69: <a href=\\\"http://twitter.com/download/android\\\" rel=\\\"nofollow\\\">Twitter for Android</a>\", \"madmaness: <a href=\\\"http://twitter.com/download/iphone\\\" rel=\\\"nofollow\\\">Twitter for iPhone</a>\", \"GalvezPrimo: <a href=\\\"http://twitter.com/#!/download/ipad\\\" rel=\\\"nofollow\\\">Twitter for iPad</a>\", \"LindacoxCox: <a href=\\\"https://mobile.twitter.com\\\" rel=\\\"nofollow\\\">Twitter Web App</a>\", \"antney12: <a href=\\\"http://twitter.com/download/iphone\\\" rel=\\\"nofollow\\\">Twitter for iPhone</a>\", \"Zamzdice3: <a href=\\\"http://twitter.com/download/iphone\\\" rel=\\\"nofollow\\\">Twitter for iPhone</a>\", \"Hh7784703533: <a href=\\\"http://twitter.com/download/android\\\" rel=\\\"nofollow\\\">Twitter for Android</a>\", \"x4PITTS1BURGH2x: <a href=\\\"http://twitter.com/download/android\\\" rel=\\\"nofollow\\\">Twitter for Android</a>\", \"BMelbon: <a href=\\\"http://twitter.com/download/iphone\\\" rel=\\\"nofollow\\\">Twitter for iPhone</a>\", \"Edwinq4769: <a href=\\\"http://twitter.com/download/iphone\\\" rel=\\\"nofollow\\\">Twitter for iPhone</a>\", \"nolan_thorn: <a href=\\\"https://mobile.twitter.com\\\" rel=\\\"nofollow\\\">Twitter Web App</a>\", \"MelissaUSAIs1: <a href=\\\"http://twitter.com/download/android\\\" rel=\\\"nofollow\\\">Twitter for Android</a>\", \"junebug3122: <a href=\\\"http://twitter.com/download/iphone\\\" rel=\\\"nofollow\\\">Twitter for iPhone</a>\", \"WheeleyML: <a href=\\\"http://twitter.com/download/android\\\" rel=\\\"nofollow\\\">Twitter for Android</a>\", \"deplorablelori: <a href=\\\"http://twitter.com/download/android\\\" rel=\\\"nofollow\\\">Twitter for Android</a>\", \"ascending2him: <a href=\\\"http://twitter.com/#!/download/ipad\\\" rel=\\\"nofollow\\\">Twitter for iPad</a>\", \"tina10004359: <a href=\\\"http://twitter.com/download/iphone\\\" rel=\\\"nofollow\\\">Twitter for iPhone</a>\", \"observingeye111: <a href=\\\"http://twitter.com/download/iphone\\\" rel=\\\"nofollow\\\">Twitter for iPhone</a>\", \"AmyRose77253769: <a href=\\\"http://twitter.com/download/iphone\\\" rel=\\\"nofollow\\\">Twitter for iPhone</a>\", \"emmick66: <a href=\\\"http://twitter.com/download/android\\\" rel=\\\"nofollow\\\">Twitter for Android</a>\", \"hudkinskirk0: <a href=\\\"http://twitter.com/download/iphone\\\" rel=\\\"nofollow\\\">Twitter for iPhone</a>\", \"Vdub_Lady: <a href=\\\"http://twitter.com/download/iphone\\\" rel=\\\"nofollow\\\">Twitter for iPhone</a>\", \"evasnchz7: <a href=\\\"http://twitter.com/download/android\\\" rel=\\\"nofollow\\\">Twitter for Android</a>\", \"SuryaTheRoar: <a href=\\\"https://mobile.twitter.com\\\" rel=\\\"nofollow\\\">Twitter Web App</a>\", \"MAGAreeni: <a href=\\\"http://twitter.com/download/iphone\\\" rel=\\\"nofollow\\\">Twitter for iPhone</a>\", \"realblee88: <a href=\\\"http://twitter.com/download/android\\\" rel=\\\"nofollow\\\">Twitter for Android</a>\", \"LovinLifeToThe1: <a href=\\\"http://twitter.com/download/iphone\\\" rel=\\\"nofollow\\\">Twitter for iPhone</a>\", \"Maicon56976006: <a href=\\\"http://twitter.com/download/android\\\" rel=\\\"nofollow\\\">Twitter for Android</a>\", \"IHSAHistorian: <a href=\\\"https://mobile.twitter.com\\\" rel=\\\"nofollow\\\">Twitter Web App</a>\", \"larado99: <a href=\\\"http://twitter.com/download/iphone\\\" rel=\\\"nofollow\\\">Twitter for iPhone</a>\", \"atxflyboy: <a href=\\\"http://twitter.com/download/iphone\\\" rel=\\\"nofollow\\\">Twitter for iPhone</a>\", \"lllaurenzo: <a href=\\\"http://twitter.com/download/iphone\\\" rel=\\\"nofollow\\\">Twitter for iPhone</a>\", \"McUkes: <a href=\\\"http://twitter.com/download/android\\\" rel=\\\"nofollow\\\">Twitter for Android</a>\", \"ladykatrina3: <a href=\\\"http://twitter.com/download/iphone\\\" rel=\\\"nofollow\\\">Twitter for iPhone</a>\", \"icuducme2: <a href=\\\"http://twitter.com/download/android\\\" rel=\\\"nofollow\\\">Twitter for Android</a>\", \"ThomasM9096: <a href=\\\"http://twitter.com/download/iphone\\\" rel=\\\"nofollow\\\">Twitter for iPhone</a>\", \"Mike_MAGA_Trump: <a href=\\\"https://mobile.twitter.com\\\" rel=\\\"nofollow\\\">Twitter Web App</a>\", \"grassplantoil24: <a href=\\\"http://twitter.com/download/android\\\" rel=\\\"nofollow\\\">Twitter for Android</a>\", \"RexWarner8: <a href=\\\"http://twitter.com/download/iphone\\\" rel=\\\"nofollow\\\">Twitter for iPhone</a>\", \"Shepard78531323: <a href=\\\"http://twitter.com/download/android\\\" rel=\\\"nofollow\\\">Twitter for Android</a>\", \"kywildcatgkh: <a href=\\\"http://twitter.com/download/android\\\" rel=\\\"nofollow\\\">Twitter for Android</a>\", \"therthonjackon: <a href=\\\"http://twitter.com/download/iphone\\\" rel=\\\"nofollow\\\">Twitter for iPhone</a>\", \"travlyngirl: <a href=\\\"http://twitter.com/download/iphone\\\" rel=\\\"nofollow\\\">Twitter for iPhone</a>\", \"Vatos4Trump: <a href=\\\"http://twitter.com/download/android\\\" rel=\\\"nofollow\\\">Twitter for Android</a>\", \"TransformativeV: <a href=\\\"http://twitter.com/download/android\\\" rel=\\\"nofollow\\\">Twitter for Android</a>\", \"donotbeajerk: <a href=\\\"http://twitter.com/download/android\\\" rel=\\\"nofollow\\\">Twitter for Android</a>\", \"virgo6776: <a href=\\\"http://twitter.com/download/iphone\\\" rel=\\\"nofollow\\\">Twitter for iPhone</a>\", \"Barney25265590: <a href=\\\"https://mobile.twitter.com\\\" rel=\\\"nofollow\\\">Twitter Web App</a>\", \"FrankCoulson7: <a href=\\\"https://mobile.twitter.com\\\" rel=\\\"nofollow\\\">Twitter Web App</a>\", \"TheOxyCon: <a href=\\\"https://mobile.twitter.com\\\" rel=\\\"nofollow\\\">Twitter Web App</a>\", \"slackologist00: <a href=\\\"http://twitter.com/download/android\\\" rel=\\\"nofollow\\\">Twitter for Android</a>\", \"JimiSoriano: <a href=\\\"http://twitter.com/download/iphone\\\" rel=\\\"nofollow\\\">Twitter for iPhone</a>\", \"WaltonLynn: <a href=\\\"http://twitter.com/download/iphone\\\" rel=\\\"nofollow\\\">Twitter for iPhone</a>\", \"dwha: <a href=\\\"https://mobile.twitter.com\\\" rel=\\\"nofollow\\\">Twitter Web App</a>\", \"lionking_007: <a href=\\\"http://twitter.com/download/iphone\\\" rel=\\\"nofollow\\\">Twitter for iPhone</a>\", \"LarryNunya: <a href=\\\"http://twitter.com/download/android\\\" rel=\\\"nofollow\\\">Twitter for Android</a>\", \"FreedomConnect_: <a href=\\\"http://twitter.com/#!/download/ipad\\\" rel=\\\"nofollow\\\">Twitter for iPad</a>\", \"dadramsey: <a href=\\\"http://twitter.com/download/android\\\" rel=\\\"nofollow\\\">Twitter for Android</a>\", \"ChrisCandysh: <a href=\\\"http://twitter.com/download/android\\\" rel=\\\"nofollow\\\">Twitter for Android</a>\", \"baboltz: <a href=\\\"http://twitter.com/download/android\\\" rel=\\\"nofollow\\\">Twitter for Android</a>\", \"ivorbiggin9: <a href=\\\"http://twitter.com/download/android\\\" rel=\\\"nofollow\\\">Twitter for Android</a>\", \"Maureen58141905: <a href=\\\"http://twitter.com/download/iphone\\\" rel=\\\"nofollow\\\">Twitter for iPhone</a>\", \"CherieNadro: <a href=\\\"http://twitter.com/download/android\\\" rel=\\\"nofollow\\\">Twitter for Android</a>\", \"MonicaKuepfer: <a href=\\\"http://twitter.com/download/iphone\\\" rel=\\\"nofollow\\\">Twitter for iPhone</a>\", \"randyblanton59: <a href=\\\"http://twitter.com/download/iphone\\\" rel=\\\"nofollow\\\">Twitter for iPhone</a>\", \"JanOvePedersen1: <a href=\\\"http://twitter.com/download/android\\\" rel=\\\"nofollow\\\">Twitter for Android</a>\", \"shariclark1: <a href=\\\"http://twitter.com/download/iphone\\\" rel=\\\"nofollow\\\">Twitter for iPhone</a>\", \"realbrianthony: <a href=\\\"http://twitter.com/download/iphone\\\" rel=\\\"nofollow\\\">Twitter for iPhone</a>\", \"Tech01Audio: <a href=\\\"http://twitter.com/download/android\\\" rel=\\\"nofollow\\\">Twitter for Android</a>\", \"WayneHenager: <a href=\\\"http://twitter.com/download/iphone\\\" rel=\\\"nofollow\\\">Twitter for iPhone</a>\", \"WantBigHammer: <a href=\\\"http://twitter.com/download/android\\\" rel=\\\"nofollow\\\">Twitter for Android</a>\", \"DanceOverMe: <a href=\\\"http://twitter.com/download/iphone\\\" rel=\\\"nofollow\\\">Twitter for iPhone</a>\", \"Viking_SmithV: <a href=\\\"http://twitter.com/download/android\\\" rel=\\\"nofollow\\\">Twitter for Android</a>\", \"JamaulSki: <a href=\\\"http://twitter.com/download/android\\\" rel=\\\"nofollow\\\">Twitter for Android</a>\", \"PanamaforTrump: <a href=\\\"http://twitter.com/download/android\\\" rel=\\\"nofollow\\\">Twitter for Android</a>\", \"74GGM492: <a href=\\\"http://twitter.com/download/android\\\" rel=\\\"nofollow\\\">Twitter for Android</a>\", \"ImLovingItAll: <a href=\\\"http://twitter.com/download/android\\\" rel=\\\"nofollow\\\">Twitter for Android</a>\", \"tx_tomcat: <a href=\\\"http://twitter.com/download/android\\\" rel=\\\"nofollow\\\">Twitter for Android</a>\", \"terressapierce: <a href=\\\"http://twitter.com/download/android\\\" rel=\\\"nofollow\\\">Twitter for Android</a>\", \"RWG4Trump: <a href=\\\"http://twitter.com/#!/download/ipad\\\" rel=\\\"nofollow\\\">Twitter for iPad</a>\", \"HolmesCarolyn23: <a href=\\\"http://twitter.com/download/iphone\\\" rel=\\\"nofollow\\\">Twitter for iPhone</a>\", \"ImAllinMAGA: <a href=\\\"http://twitter.com/download/iphone\\\" rel=\\\"nofollow\\\">Twitter for iPhone</a>\", \"hartman62: <a href=\\\"http://twitter.com/download/android\\\" rel=\\\"nofollow\\\">Twitter for Android</a>\", \"smit70791: <a href=\\\"http://twitter.com/download/iphone\\\" rel=\\\"nofollow\\\">Twitter for iPhone</a>\", \"ellieofa: <a href=\\\"http://twitter.com/download/iphone\\\" rel=\\\"nofollow\\\">Twitter for iPhone</a>\", \"PattiRich92649: <a href=\\\"http://twitter.com/download/iphone\\\" rel=\\\"nofollow\\\">Twitter for iPhone</a>\", \"AsilisArt: <a href=\\\"https://mobile.twitter.com\\\" rel=\\\"nofollow\\\">Twitter Web App</a>\", \"TrumpSu21373821: <a href=\\\"http://twitter.com/download/android\\\" rel=\\\"nofollow\\\">Twitter for Android</a>\", \"mohelnagar2012: <a href=\\\"http://twitter.com/download/android\\\" rel=\\\"nofollow\\\">Twitter for Android</a>\", \"mkehr4: <a href=\\\"http://twitter.com/download/iphone\\\" rel=\\\"nofollow\\\">Twitter for iPhone</a>\", \"cowboytroy321: <a href=\\\"http://twitter.com/download/iphone\\\" rel=\\\"nofollow\\\">Twitter for iPhone</a>\", \"iJohn_Rodriguez: <a href=\\\"http://twitter.com/download/android\\\" rel=\\\"nofollow\\\">Twitter for Android</a>\", \"casey2513: <a href=\\\"http://twitter.com/download/iphone\\\" rel=\\\"nofollow\\\">Twitter for iPhone</a>\", \"GAHarkless1970: <a href=\\\"http://twitter.com/download/android\\\" rel=\\\"nofollow\\\">Twitter for Android</a>\", \"JenBrooks727: <a href=\\\"http://twitter.com/download/iphone\\\" rel=\\\"nofollow\\\">Twitter for iPhone</a>\", \"Margare04323327: <a href=\\\"http://twitter.com/download/android\\\" rel=\\\"nofollow\\\">Twitter for Android</a>\", \"realTanya66Page: <a href=\\\"http://twitter.com/download/iphone\\\" rel=\\\"nofollow\\\">Twitter for iPhone</a>\", \"MitchRandall2: <a href=\\\"http://twitter.com/download/android\\\" rel=\\\"nofollow\\\">Twitter for Android</a>\", \"REALMATHEW: <a href=\\\"http://twitter.com/download/android\\\" rel=\\\"nofollow\\\">Twitter for Android</a>\", \"cdinicol: <a href=\\\"http://twitter.com/download/iphone\\\" rel=\\\"nofollow\\\">Twitter for iPhone</a>\", \"katflyoverstate: <a href=\\\"http://twitter.com/download/iphone\\\" rel=\\\"nofollow\\\">Twitter for iPhone</a>\", \"dfscavenger: <a href=\\\"http://twitter.com/download/android\\\" rel=\\\"nofollow\\\">Twitter for Android</a>\", \"EllisWyatt9: <a href=\\\"http://twitter.com/download/iphone\\\" rel=\\\"nofollow\\\">Twitter for iPhone</a>\", \"AnnaHoa03245441: <a href=\\\"http://twitter.com/download/iphone\\\" rel=\\\"nofollow\\\">Twitter for iPhone</a>\", \"stella_rondo: <a href=\\\"http://twitter.com/#!/download/ipad\\\" rel=\\\"nofollow\\\">Twitter for iPad</a>\"], \"type\": \"scattergl\", \"x\": [1603.0, 872.0, 2026.0, 1216.0, 1612.0, 22.0, 445.0, 371.0, 98.0, 886.0, 213.0, 1209.0, 3154.0, 508.0, 93.0, 115.0, 438.0, 351.0, 3308.0, 2108.0, 1944.0, 406.0, 470.0, 81.0, 936.0, 2323.0, 3080.0, 103.0, 549.0, 1571.0, 3538.0, 499.0, 81.0, 632.0, 89.0, 1918.0, 256.0, 3587.0, 854.0, 971.0, 2630.0, 3393.0, 121.0, 1964.0, 3243.0, 187.0, 1310.0, 1204.0, 1939.0, 2543.0, 3438.0, 2759.0, 89.0, 214.0, 1451.0, 2306.0, 2116.0, 2888.0, 97.0, 893.0, 2503.0, 2779.0, 1543.0, 685.0, 724.0, 577.0, 18.0, 2922.0, 2907.0, 2225.0, 121.0, 2567.0, 109.0, 3155.0, 1012.0, 701.0, 2624.0, 558.0, 90.0, 779.0, 140.0, 2208.0, 150.0, 2677.0, 2847.0, 1177.0, 1158.0, 1268.0, 2438.0, 2628.0, 2649.0, 2864.0, 3177.0, 788.0, 3531.0, 2543.0, 76.0, 1144.0, 69.0, 861.0, 1211.0, 1014.0, 79.0, 161.0, 1281.0, 1993.0, 898.0, 169.0, 799.0, 305.0, 97.0, 2914.0, 2885.0, 2930.0, 88.0, 2905.0, 110.0, 1868.0, 295.0, 2592.0, 2198.0, 1391.0, 1395.0, 857.0, 108.0, 226.0, 2294.0, 2722.0, 1889.0, 697.0, 454.0, 359.0, 190.0, 808.0, 2315.0, 123.0, 2986.0, 2604.0, 1405.0, 1305.0, 120.0, 198.0, 2652.0, 400.0, 1110.0, 722.0, 2329.0, 2012.0, 609.0, 1351.0, 392.0, 228.0, 573.0, 762.0, 1153.0, 997.0, 1021.0, 235.0, 619.0, 725.0, 1673.0, 544.0, 160.0, 1972.0, 753.0, 3196.0, 545.0, 317.0, 78.0, 3058.0, 1482.0, 138.0, 186.0, 2589.0, 529.0, 567.0, 78.0, 2129.0, 602.0, 2825.0, 3552.0, 74.0, 298.0, 2348.0, 108.0, 2416.0, 684.0, 74.0, 80.0, 1219.0, 320.0, 534.0, 3324.0, 1322.0, 206.0, 2323.0, 2495.0, 1934.0, 2582.0, 783.0, 737.0, 1837.0, 1521.0, 521.0, 2197.0, 2625.0, 1204.0, 852.0, 918.0, 780.0, 2713.0, 363.0, 2398.0, 3009.0, 191.0, 504.0, 2015.0, 77.0, 97.0, 2311.0, 91.0, 36.0, 83.0, 2450.0, 771.0, 748.0, 1181.0, 284.0, 86.0, 902.0, 3112.0, 1293.0, 2729.0, 90.0, 195.0, 116.0, 139.0, 293.0, 1640.0, 2354.0, 2908.0, 19.0, 1726.0, 150.0, 1225.0, 369.0, 2865.0, 1798.0, 503.0, 2523.0, 2887.0, 1856.0, 1805.0, 824.0, 2436.0, 1277.0, 105.0, 1435.0, 47.0, 88.0, 209.0, 1321.0, 103.0, 531.0, 188.0, 2781.0, 3014.0, 287.0, 1586.0, 3257.0, 2492.0, 2781.0, 3215.0, 2727.0, 111.0, 2263.0, 2751.0, 3498.0, 1629.0, 222.0, 528.0, 80.0, 1135.0, 887.0, 2860.0, 2157.0, 2683.0, 236.0, 2314.0, 1159.0, 85.0, 420.0, 1969.0, 515.0, 600.0, 1544.0, 2676.0, 257.0, 1777.0, 1547.0, 2441.0, 539.0, 1160.0, 144.0, 2321.0, 94.0, 1198.0, 3366.0, 933.0, 118.0, 580.0, 606.0, 2043.0, 2244.0, 3211.0, 1908.0, 1168.0, 800.0, 241.0, 2445.0, 1609.0, 780.0, 236.0, 647.0, 1330.0, 554.0, 923.0, 1433.0, 196.0], \"y\": [1618.0, 888.0, 2016.0, 1234.0, 1622.0, 32.0, 462.0, 371.0, 123.0, 897.0, 95.0, 1223.0, 3070.0, 499.0, 88.0, 113.0, 460.0, 363.0, 3322.0, 2132.0, 1940.0, 421.0, 495.0, 80.0, 956.0, 2315.0, 3081.0, 184.0, 529.0, 1584.0, 3547.0, 509.0, 91.0, 634.0, 127.0, 1931.0, 256.0, 3593.0, 868.0, 983.0, 2712.0, 3133.0, 129.0, 1982.0, 3259.0, 202.0, 1259.0, 1212.0, 1947.0, 2552.0, 3455.0, 2758.0, 97.0, 225.0, 1464.0, 2317.0, 2128.0, 2982.0, 119.0, 908.0, 2500.0, 2800.0, 1551.0, 683.0, 739.0, 588.0, 33.0, 2930.0, 2931.0, 2406.0, 133.0, 2577.0, 124.0, 3165.0, 1021.0, 702.0, 2600.0, 567.0, 84.0, 793.0, 150.0, 2227.0, 152.0, 2678.0, 2855.0, 1207.0, 1172.0, 1278.0, 2458.0, 2637.0, 2657.0, 2866.0, 3185.0, 809.0, 3543.0, 2553.0, 84.0, 1158.0, 65.0, 875.0, 1210.0, 1022.0, 80.0, 197.0, 1288.0, 1985.0, 897.0, 177.0, 806.0, 318.0, 104.0, 2982.0, 2873.0, 2938.0, 84.0, 2771.0, 80.0, 1919.0, 301.0, 2606.0, 2221.0, 1398.0, 1403.0, 868.0, 101.0, 240.0, 2295.0, 2752.0, 1898.0, 722.0, 209.0, 375.0, 199.0, 80.0, 2327.0, 133.0, 2994.0, 2591.0, 1440.0, 1313.0, 131.0, 204.0, 2659.0, 416.0, 1120.0, 719.0, 2338.0, 2020.0, 555.0, 1363.0, 403.0, 245.0, 582.0, 766.0, 1157.0, 985.0, 1014.0, 246.0, 623.0, 737.0, 1613.0, 541.0, 172.0, 1988.0, 746.0, 3206.0, 551.0, 305.0, 75.0, 3056.0, 1494.0, 151.0, 197.0, 2599.0, 537.0, 586.0, 87.0, 2128.0, 609.0, 2828.0, 3537.0, 82.0, 315.0, 2240.0, 104.0, 2431.0, 699.0, 73.0, 99.0, 1238.0, 332.0, 525.0, 3340.0, 1340.0, 226.0, 2329.0, 2505.0, 2004.0, 2589.0, 789.0, 641.0, 1867.0, 1530.0, 539.0, 2225.0, 2625.0, 1212.0, 865.0, 926.0, 814.0, 2721.0, 370.0, 2405.0, 3030.0, 198.0, 511.0, 2023.0, 72.0, 162.0, 2322.0, 98.0, 37.0, 78.0, 2456.0, 769.0, 773.0, 1197.0, 296.0, 84.0, 903.0, 3121.0, 1288.0, 2738.0, 78.0, 211.0, 124.0, 155.0, 305.0, 1649.0, 2366.0, 2935.0, 29.0, 1717.0, 158.0, 1250.0, 382.0, 2875.0, 1805.0, 510.0, 2532.0, 2895.0, 1864.0, 1813.0, 838.0, 81.0, 1273.0, 100.0, 1444.0, 8.0, 88.0, 209.0, 1331.0, 113.0, 560.0, 214.0, 2799.0, 3038.0, 467.0, 1594.0, 3264.0, 2506.0, 2790.0, 3215.0, 2735.0, 117.0, 2265.0, 2759.0, 3498.0, 1631.0, 195.0, 896.0, 79.0, 1143.0, 900.0, 2878.0, 2168.0, 2690.0, 230.0, 2333.0, 1166.0, 81.0, 437.0, 1978.0, 524.0, 618.0, 1734.0, 2696.0, 265.0, 1785.0, 1518.0, 2421.0, 552.0, 1174.0, 98.0, 2332.0, 88.0, 1215.0, 3376.0, 949.0, 136.0, 603.0, 625.0, 2063.0, 2265.0, 3224.0, 1917.0, 1195.0, 809.0, 260.0, 2965.0, 1617.0, 803.0, 266.0, 654.0, 1345.0, 562.0, 930.0, 1442.0, 203.0]}, {\"hovertemplate\": \"%{text}\", \"marker\": {\"color\": \"#3810dc\", \"opacity\": 1, \"size\": 8}, \"mode\": \"markers\", \"name\": \"Retweeted 3 tweets\", \"showlegend\": true, \"text\": [\"Leha60849960: <a href=\\\"http://twitter.com/download/android\\\" rel=\\\"nofollow\\\">Twitter for Android</a>\", \"RMcgouldrick: <a href=\\\"http://twitter.com/download/android\\\" rel=\\\"nofollow\\\">Twitter for Android</a>\", \"teslaandspaceX: <a href=\\\"http://twitter.com/download/iphone\\\" rel=\\\"nofollow\\\">Twitter for iPhone</a>\", \"BakerSonPeekay: <a href=\\\"https://mobile.twitter.com\\\" rel=\\\"nofollow\\\">Twitter Web App</a>\", \"Albelian8: <a href=\\\"https://mobile.twitter.com\\\" rel=\\\"nofollow\\\">Twitter Web App</a>\", \"Grace02609414: <a href=\\\"http://twitter.com/download/iphone\\\" rel=\\\"nofollow\\\">Twitter for iPhone</a>\", \"Tikal217: <a href=\\\"http://twitter.com/#!/download/ipad\\\" rel=\\\"nofollow\\\">Twitter for iPad</a>\", \"bydefault: <a href=\\\"https://mobile.twitter.com\\\" rel=\\\"nofollow\\\">Twitter Web App</a>\", \"VHBigSlickAAA1: <a href=\\\"http://twitter.com/download/iphone\\\" rel=\\\"nofollow\\\">Twitter for iPhone</a>\", \"EblingJr: <a href=\\\"http://twitter.com/download/android\\\" rel=\\\"nofollow\\\">Twitter for Android</a>\", \"JFaith1979: <a href=\\\"http://twitter.com/download/iphone\\\" rel=\\\"nofollow\\\">Twitter for iPhone</a>\", \"norhino777: <a href=\\\"http://twitter.com/download/iphone\\\" rel=\\\"nofollow\\\">Twitter for iPhone</a>\", \"zack29266449: <a href=\\\"http://twitter.com/download/iphone\\\" rel=\\\"nofollow\\\">Twitter for iPhone</a>\", \"ronpowell7: <a href=\\\"http://twitter.com/download/android\\\" rel=\\\"nofollow\\\">Twitter for Android</a>\", \"ARaisinghell: <a href=\\\"https://mobile.twitter.com\\\" rel=\\\"nofollow\\\">Twitter Web App</a>\", \"tommylowens1: <a href=\\\"http://twitter.com/download/iphone\\\" rel=\\\"nofollow\\\">Twitter for iPhone</a>\", \"SomeonesCamera: <a href=\\\"http://twitter.com/download/android\\\" rel=\\\"nofollow\\\">Twitter for Android</a>\", \"DixieLand__Diva: <a href=\\\"http://twitter.com/download/android\\\" rel=\\\"nofollow\\\">Twitter for Android</a>\", \"MargaretheBrac2: <a href=\\\"http://twitter.com/download/iphone\\\" rel=\\\"nofollow\\\">Twitter for iPhone</a>\", \"sparkle49090982: <a href=\\\"http://twitter.com/download/iphone\\\" rel=\\\"nofollow\\\">Twitter for iPhone</a>\", \"Jerrydmusic: <a href=\\\"https://mobile.twitter.com\\\" rel=\\\"nofollow\\\">Twitter Web App</a>\", \"Pammy30104931: <a href=\\\"http://twitter.com/download/iphone\\\" rel=\\\"nofollow\\\">Twitter for iPhone</a>\", \"JimWeltzin: <a href=\\\"https://mobile.twitter.com\\\" rel=\\\"nofollow\\\">Twitter Web App</a>\", \"JimTypeDude: <a href=\\\"https://mobile.twitter.com\\\" rel=\\\"nofollow\\\">Twitter Web App</a>\", \"BeVau2: <a href=\\\"http://twitter.com/download/android\\\" rel=\\\"nofollow\\\">Twitter for Android</a>\", \"Mleedoodlebug22: <a href=\\\"http://twitter.com/download/android\\\" rel=\\\"nofollow\\\">Twitter for Android</a>\", \"Perch313: <a href=\\\"http://twitter.com/download/android\\\" rel=\\\"nofollow\\\">Twitter for Android</a>\", \"GnosticBushido: <a href=\\\"http://twitter.com/download/iphone\\\" rel=\\\"nofollow\\\">Twitter for iPhone</a>\", \"jeb1149: <a href=\\\"http://twitter.com/download/iphone\\\" rel=\\\"nofollow\\\">Twitter for iPhone</a>\", \"JebLadat: <a href=\\\"http://twitter.com/download/iphone\\\" rel=\\\"nofollow\\\">Twitter for iPhone</a>\", \"LycRosie: <a href=\\\"https://mobile.twitter.com\\\" rel=\\\"nofollow\\\">Twitter Web App</a>\", \"poisonsky23: <a href=\\\"http://twitter.com/download/iphone\\\" rel=\\\"nofollow\\\">Twitter for iPhone</a>\", \"MAGA_Arlene: <a href=\\\"http://twitter.com/download/android\\\" rel=\\\"nofollow\\\">Twitter for Android</a>\", \"WingChun88: <a href=\\\"http://twitter.com/download/iphone\\\" rel=\\\"nofollow\\\">Twitter for iPhone</a>\", \"03forester: <a href=\\\"http://twitter.com/download/iphone\\\" rel=\\\"nofollow\\\">Twitter for iPhone</a>\", \"heathersmedica1: <a href=\\\"http://twitter.com/download/iphone\\\" rel=\\\"nofollow\\\">Twitter for iPhone</a>\", \"omcman: <a href=\\\"http://twitter.com/download/iphone\\\" rel=\\\"nofollow\\\">Twitter for iPhone</a>\", \"DarleneIronCity: <a href=\\\"https://mobile.twitter.com\\\" rel=\\\"nofollow\\\">Twitter Web App</a>\", \"BPink4143: <a href=\\\"http://twitter.com/download/iphone\\\" rel=\\\"nofollow\\\">Twitter for iPhone</a>\", \"CynnieMaris: <a href=\\\"http://twitter.com/download/iphone\\\" rel=\\\"nofollow\\\">Twitter for iPhone</a>\", \"Binhaihotel: <a href=\\\"http://twitter.com/download/iphone\\\" rel=\\\"nofollow\\\">Twitter for iPhone</a>\", \"RChance55: <a href=\\\"http://twitter.com/download/iphone\\\" rel=\\\"nofollow\\\">Twitter for iPhone</a>\", \"Space8Jockey5: <a href=\\\"http://twitter.com/download/iphone\\\" rel=\\\"nofollow\\\">Twitter for iPhone</a>\", \"PatriotL4evr: <a href=\\\"http://twitter.com/download/android\\\" rel=\\\"nofollow\\\">Twitter for Android</a>\", \"Lady22eMaribel: <a href=\\\"http://twitter.com/download/android\\\" rel=\\\"nofollow\\\">Twitter for Android</a>\", \"maftf1956: <a href=\\\"http://twitter.com/download/android\\\" rel=\\\"nofollow\\\">Twitter for Android</a>\", \"mikeb38beacon_h: <a href=\\\"http://twitter.com/download/iphone\\\" rel=\\\"nofollow\\\">Twitter for iPhone</a>\", \"LouDAngelo1: <a href=\\\"http://twitter.com/download/iphone\\\" rel=\\\"nofollow\\\">Twitter for iPhone</a>\", \"Ask4Old: <a href=\\\"http://twitter.com/download/iphone\\\" rel=\\\"nofollow\\\">Twitter for iPhone</a>\", \"Trump20MAGA4US: <a href=\\\"http://twitter.com/download/iphone\\\" rel=\\\"nofollow\\\">Twitter for iPhone</a>\", \"NMaga2020: <a href=\\\"http://twitter.com/download/iphone\\\" rel=\\\"nofollow\\\">Twitter for iPhone</a>\", \"truth9876: <a href=\\\"http://twitter.com/#!/download/ipad\\\" rel=\\\"nofollow\\\">Twitter for iPad</a>\", \"TeresaRomary: <a href=\\\"http://twitter.com/download/iphone\\\" rel=\\\"nofollow\\\">Twitter for iPhone</a>\", \"pg_rant: <a href=\\\"http://twitter.com/download/iphone\\\" rel=\\\"nofollow\\\">Twitter for iPhone</a>\", \"KingofDaddys: <a href=\\\"http://twitter.com/download/android\\\" rel=\\\"nofollow\\\">Twitter for Android</a>\", \"LoriS09598635: <a href=\\\"http://twitter.com/download/iphone\\\" rel=\\\"nofollow\\\">Twitter for iPhone</a>\", \"QuintanaFreyre: <a href=\\\"http://twitter.com/download/iphone\\\" rel=\\\"nofollow\\\">Twitter for iPhone</a>\", \"simplyme669: <a href=\\\"http://twitter.com/download/android\\\" rel=\\\"nofollow\\\">Twitter for Android</a>\", \"bowman409: <a href=\\\"http://twitter.com/download/android\\\" rel=\\\"nofollow\\\">Twitter for Android</a>\", \"KevinBooker212: <a href=\\\"http://twitter.com/download/iphone\\\" rel=\\\"nofollow\\\">Twitter for iPhone</a>\", \"TruthAnJustice5: <a href=\\\"http://twitter.com/download/android\\\" rel=\\\"nofollow\\\">Twitter for Android</a>\", \"Notsure71361677: <a href=\\\"https://mobile.twitter.com\\\" rel=\\\"nofollow\\\">Twitter Web App</a>\", \"CarolusEduardus: <a href=\\\"http://twitter.com/download/android\\\" rel=\\\"nofollow\\\">Twitter for Android</a>\", \"Virginia4KAG: <a href=\\\"https://mobile.twitter.com\\\" rel=\\\"nofollow\\\">Twitter Web App</a>\", \"JohnJon77706148: <a href=\\\"http://twitter.com/download/iphone\\\" rel=\\\"nofollow\\\">Twitter for iPhone</a>\", \"threadkillerksu: <a href=\\\"http://twitter.com/download/iphone\\\" rel=\\\"nofollow\\\">Twitter for iPhone</a>\", \"realBenBradbury: <a href=\\\"http://twitter.com/download/iphone\\\" rel=\\\"nofollow\\\">Twitter for iPhone</a>\", \"steven21marc: <a href=\\\"http://twitter.com/download/iphone\\\" rel=\\\"nofollow\\\">Twitter for iPhone</a>\", \"QLover1745: <a href=\\\"http://twitter.com/download/android\\\" rel=\\\"nofollow\\\">Twitter for Android</a>\", \"njquackytrumpy: <a href=\\\"https://mobile.twitter.com\\\" rel=\\\"nofollow\\\">Twitter Web App</a>\", \"Floyd108879821: <a href=\\\"http://twitter.com/download/iphone\\\" rel=\\\"nofollow\\\">Twitter for iPhone</a>\", \"joedrumheller: <a href=\\\"http://twitter.com/download/android\\\" rel=\\\"nofollow\\\">Twitter for Android</a>\"], \"type\": \"scattergl\", \"x\": [99.0, 106.0, 961.0, 2133.0, 2594.0, 3490.0, 1914.0, 1130.0, 366.0, 199.0, 1875.0, 104.0, 2673.0, 79.0, 54.0, 3197.0, 121.0, 1651.0, 136.0, 2129.0, 1826.0, 579.0, 2681.0, 306.0, 3245.0, 3093.0, 1949.0, 2516.0, 1946.0, 1445.0, 1211.0, 183.0, 553.0, 1067.0, 1174.0, 1184.0, 950.0, 358.0, 87.0, 2428.0, 3101.0, 123.0, 85.0, 323.0, 854.0, 213.0, 139.0, 677.0, 106.0, 113.0, 1294.0, 96.0, 1723.0, 2442.0, 196.0, 1500.0, 86.0, 2467.0, 1155.0, 1450.0, 2044.0, 3066.0, 797.0, 367.0, 961.0, 3060.0, 68.0, 823.0, 85.0, 2696.0, 165.0, 564.0], \"y\": [83.0, 96.0, 1016.0, 2130.0, 2611.0, 3497.0, 1923.0, 1131.0, 390.0, 201.0, 1893.0, 138.0, 2716.0, 91.0, 61.0, 3214.0, 137.0, 1660.0, 146.0, 2140.0, 1840.0, 599.0, 2821.0, 318.0, 3243.0, 3101.0, 1951.0, 2517.0, 1955.0, 1452.0, 1218.0, 202.0, 547.0, 1085.0, 1153.0, 1202.0, 963.0, 359.0, 109.0, 2453.0, 3102.0, 117.0, 91.0, 318.0, 862.0, 224.0, 145.0, 945.0, 88.0, 115.0, 1289.0, 111.0, 1722.0, 2448.0, 222.0, 1515.0, 90.0, 2480.0, 1188.0, 1457.0, 2051.0, 3073.0, 803.0, 362.0, 972.0, 3067.0, 76.0, 851.0, 200.0, 2692.0, 188.0, 547.0]}, {\"hovertemplate\": \"%{text}\", \"marker\": {\"color\": \"#2d47f9\", \"opacity\": 1, \"size\": 8}, \"mode\": \"markers\", \"name\": \"Retweeted 4 tweets\", \"showlegend\": true, \"text\": [\"joshijignesh3: <a href=\\\"http://twitter.com/download/android\\\" rel=\\\"nofollow\\\">Twitter for Android</a>\", \"KevinTatulyan: <a href=\\\"http://twitter.com/download/iphone\\\" rel=\\\"nofollow\\\">Twitter for iPhone</a>\", \"KeithAltarac: <a href=\\\"http://twitter.com/download/iphone\\\" rel=\\\"nofollow\\\">Twitter for iPhone</a>\", \"bigdaddy_ensley: <a href=\\\"http://twitter.com/download/iphone\\\" rel=\\\"nofollow\\\">Twitter for iPhone</a>\", \"PGRDET: <a href=\\\"http://twitter.com/download/android\\\" rel=\\\"nofollow\\\">Twitter for Android</a>\", \"RealRobertBoud: <a href=\\\"http://twitter.com/download/android\\\" rel=\\\"nofollow\\\">Twitter for Android</a>\", \"SRGnationwide: <a href=\\\"http://twitter.com/download/android\\\" rel=\\\"nofollow\\\">Twitter for Android</a>\", \"DirtyDeplorable: <a href=\\\"http://twitter.com/download/iphone\\\" rel=\\\"nofollow\\\">Twitter for iPhone</a>\", \"UsaJodi: <a href=\\\"http://twitter.com/download/iphone\\\" rel=\\\"nofollow\\\">Twitter for iPhone</a>\", \"melissaadams53: <a href=\\\"http://twitter.com/download/android\\\" rel=\\\"nofollow\\\">Twitter for Android</a>\", \"moosemuffinn: <a href=\\\"http://twitter.com/#!/download/ipad\\\" rel=\\\"nofollow\\\">Twitter for iPad</a>\", \"CVTrumpifornian: <a href=\\\"http://twitter.com/download/android\\\" rel=\\\"nofollow\\\">Twitter for Android</a>\", \"HaroldS21996814: <a href=\\\"http://twitter.com/download/iphone\\\" rel=\\\"nofollow\\\">Twitter for iPhone</a>\", \"dani74829276: <a href=\\\"http://twitter.com/download/iphone\\\" rel=\\\"nofollow\\\">Twitter for iPhone</a>\", \"SteveMer1171: <a href=\\\"http://twitter.com/download/iphone\\\" rel=\\\"nofollow\\\">Twitter for iPhone</a>\", \"raccredo: <a href=\\\"http://twitter.com/download/iphone\\\" rel=\\\"nofollow\\\">Twitter for iPhone</a>\", \"jennyjupite: <a href=\\\"http://twitter.com/download/iphone\\\" rel=\\\"nofollow\\\">Twitter for iPhone</a>\", \"jxm8016: <a href=\\\"http://twitter.com/#!/download/ipad\\\" rel=\\\"nofollow\\\">Twitter for iPad</a>\", \"realMattJAllen: <a href=\\\"https://mobile.twitter.com\\\" rel=\\\"nofollow\\\">Twitter Web App</a>\", \"VeritasVirtusX: <a href=\\\"http://twitter.com/#!/download/ipad\\\" rel=\\\"nofollow\\\">Twitter for iPad</a>\", \"Anup83002797: <a href=\\\"http://twitter.com/download/android\\\" rel=\\\"nofollow\\\">Twitter for Android</a>\", \"54Ange: <a href=\\\"http://twitter.com/download/iphone\\\" rel=\\\"nofollow\\\">Twitter for iPhone</a>\", \"SpaceMtnDude: <a href=\\\"http://twitter.com/download/iphone\\\" rel=\\\"nofollow\\\">Twitter for iPhone</a>\", \"PernettiSonia: <a href=\\\"http://twitter.com/download/iphone\\\" rel=\\\"nofollow\\\">Twitter for iPhone</a>\", \"Deckard61S: <a href=\\\"http://twitter.com/download/iphone\\\" rel=\\\"nofollow\\\">Twitter for iPhone</a>\", \"rightlyaligned: <a href=\\\"https://mobile.twitter.com\\\" rel=\\\"nofollow\\\">Twitter Web App</a>\", \"DwayneMcDevitt: <a href=\\\"http://twitter.com/download/android\\\" rel=\\\"nofollow\\\">Twitter for Android</a>\", \"jvenereo34: <a href=\\\"http://twitter.com/download/iphone\\\" rel=\\\"nofollow\\\">Twitter for iPhone</a>\"], \"type\": \"scattergl\", \"x\": [497.0, 1487.0, 132.0, 134.0, 863.0, 955.0, 2539.0, 315.0, 252.0, 3204.0, 213.0, 2289.0, 1189.0, 463.0, 268.0, 140.0, 104.0, 117.0, 752.0, 317.0, 342.0, 86.0, 1419.0, 1865.0, 192.0, 919.0, 441.0, 2767.0], \"y\": [503.0, 1494.0, 217.0, 150.0, 871.0, 973.0, 2545.0, 322.0, 274.0, 3216.0, 222.0, 2297.0, 1201.0, 472.0, 283.0, 148.0, 132.0, 130.0, 749.0, 330.0, 349.0, 120.0, 1448.0, 1873.0, 206.0, 918.0, 437.0, 2828.0]}, {\"hovertemplate\": \"%{text}\", \"marker\": {\"color\": \"#2593ff\", \"opacity\": 1, \"size\": 8}, \"mode\": \"markers\", \"name\": \"Retweeted 5 tweets\", \"showlegend\": true, \"text\": [\"nytxnn: <a href=\\\"http://twitter.com/download/iphone\\\" rel=\\\"nofollow\\\">Twitter for iPhone</a>\", \"America3675: <a href=\\\"http://twitter.com/#!/download/ipad\\\" rel=\\\"nofollow\\\">Twitter for iPad</a>\", \"joybellesshadow: <a href=\\\"http://twitter.com/download/android\\\" rel=\\\"nofollow\\\">Twitter for Android</a>\", \"Sean1776cot: <a href=\\\"http://twitter.com/download/android\\\" rel=\\\"nofollow\\\">Twitter for Android</a>\", \"jerseytigger123: <a href=\\\"https://mobile.twitter.com\\\" rel=\\\"nofollow\\\">Twitter Web App</a>\", \"CovfefeUSA: <a href=\\\"https://mobile.twitter.com\\\" rel=\\\"nofollow\\\">Twitter Web App</a>\", \"Trump2024512886: <a href=\\\"http://twitter.com/#!/download/ipad\\\" rel=\\\"nofollow\\\">Twitter for iPad</a>\", \"sandyleevincent: <a href=\\\"http://twitter.com/download/iphone\\\" rel=\\\"nofollow\\\">Twitter for iPhone</a>\", \"patrick_jonah: <a href=\\\"http://twitter.com/#!/download/ipad\\\" rel=\\\"nofollow\\\">Twitter for iPad</a>\", \"Metz1245John: <a href=\\\"http://twitter.com/download/iphone\\\" rel=\\\"nofollow\\\">Twitter for iPhone</a>\", \"Pascal816329491: <a href=\\\"https://mobile.twitter.com\\\" rel=\\\"nofollow\\\">Twitter Web App</a>\", \"VictoriaPrudkov: <a href=\\\"http://twitter.com/download/iphone\\\" rel=\\\"nofollow\\\">Twitter for iPhone</a>\", \"Zetta1955rosey1: <a href=\\\"http://twitter.com/download/android\\\" rel=\\\"nofollow\\\">Twitter for Android</a>\", \"laurencristmann: <a href=\\\"http://twitter.com/download/iphone\\\" rel=\\\"nofollow\\\">Twitter for iPhone</a>\", \"la_shure: <a href=\\\"http://twitter.com/download/android\\\" rel=\\\"nofollow\\\">Twitter for Android</a>\", \"AmericanKate: <a href=\\\"http://twitter.com/download/android\\\" rel=\\\"nofollow\\\">Twitter for Android</a>\", \"JLNCollection: <a href=\\\"http://twitter.com/download/iphone\\\" rel=\\\"nofollow\\\">Twitter for iPhone</a>\", \"EeezeePeezee143: <a href=\\\"http://twitter.com/#!/download/ipad\\\" rel=\\\"nofollow\\\">Twitter for iPad</a>\", \"IamBruceRussell: <a href=\\\"http://twitter.com/#!/download/ipad\\\" rel=\\\"nofollow\\\">Twitter for iPad</a>\", \"JimMcFierceSon: <a href=\\\"http://twitter.com/download/iphone\\\" rel=\\\"nofollow\\\">Twitter for iPhone</a>\", \"KordishRon: <a href=\\\"http://twitter.com/download/android\\\" rel=\\\"nofollow\\\">Twitter for Android</a>\", \"steak_ham: <a href=\\\"http://twitter.com/download/android\\\" rel=\\\"nofollow\\\">Twitter for Android</a>\"], \"type\": \"scattergl\", \"x\": [594.0, 84.0, 148.0, 3202.0, 707.0, 3283.0, 250.0, 2305.0, 1964.0, 1865.0, 206.0, 86.0, 153.0, 2936.0, 78.0, 2415.0, 1668.0, 78.0, 668.0, 768.0, 909.0, 139.0], \"y\": [602.0, 208.0, 143.0, 3209.0, 720.0, 3295.0, 257.0, 2321.0, 1980.0, 1873.0, 216.0, 96.0, 165.0, 2942.0, 78.0, 2440.0, 1681.0, 73.0, 685.0, 774.0, 908.0, 183.0]}, {\"hovertemplate\": \"%{text}\", \"marker\": {\"color\": \"#2adef6\", \"opacity\": 1, \"size\": 8}, \"mode\": \"markers\", \"name\": \"Retweeted 6 tweets\", \"showlegend\": true, \"text\": [\"realTheresaVR: <a href=\\\"http://twitter.com/download/iphone\\\" rel=\\\"nofollow\\\">Twitter for iPhone</a>\", \"RealMrsGrits: <a href=\\\"http://twitter.com/#!/download/ipad\\\" rel=\\\"nofollow\\\">Twitter for iPad</a>\", \"JustSayingTrump: <a href=\\\"http://twitter.com/#!/download/ipad\\\" rel=\\\"nofollow\\\">Twitter for iPad</a>\", \"Law9071: <a href=\\\"http://twitter.com/#!/download/ipad\\\" rel=\\\"nofollow\\\">Twitter for iPad</a>\", \"EdQRichards: <a href=\\\"http://twitter.com/download/iphone\\\" rel=\\\"nofollow\\\">Twitter for iPhone</a>\", \"JingmeiL: <a href=\\\"http://twitter.com/download/iphone\\\" rel=\\\"nofollow\\\">Twitter for iPhone</a>\", \"atlprinter: <a href=\\\"http://twitter.com/download/android\\\" rel=\\\"nofollow\\\">Twitter for Android</a>\", \"LaurieDumilieu: <a href=\\\"http://twitter.com/download/iphone\\\" rel=\\\"nofollow\\\">Twitter for iPhone</a>\", \"osteofrio: <a href=\\\"http://twitter.com/download/iphone\\\" rel=\\\"nofollow\\\">Twitter for iPhone</a>\", \"DanTana39389774: <a href=\\\"http://twitter.com/download/android\\\" rel=\\\"nofollow\\\">Twitter for Android</a>\", \"PamelaACantrell: <a href=\\\"http://twitter.com/download/iphone\\\" rel=\\\"nofollow\\\">Twitter for iPhone</a>\"], \"type\": \"scattergl\", \"x\": [273.0, 437.0, 2994.0, 144.0, 2882.0, 94.0, 103.0, 2715.0, 1327.0, 89.0, 79.0], \"y\": [319.0, 453.0, 3004.0, 157.0, 2907.0, 109.0, 96.0, 2725.0, 1342.0, 108.0, 124.0]}, {\"hovertemplate\": \"%{text}\", \"marker\": {\"color\": \"#60fdfa\", \"opacity\": 1, \"size\": 8}, \"mode\": \"markers\", \"name\": \"Retweeted 7 tweets\", \"showlegend\": true, \"text\": [\"justanothersme2: <a href=\\\"https://mobile.twitter.com\\\" rel=\\\"nofollow\\\">Twitter Web App</a>\"], \"type\": \"scattergl\", \"x\": [2257.0], \"y\": [2292.0]}, {\"hovertemplate\": \"%{text}\", \"marker\": {\"color\": \"#aefdff\", \"opacity\": 1, \"size\": 8}, \"mode\": \"markers\", \"name\": \"Retweeted 8 tweets\", \"showlegend\": true, \"text\": [\"SebeSteven: <a href=\\\"http://twitter.com/#!/download/ipad\\\" rel=\\\"nofollow\\\">Twitter for iPad</a>\", \"unrealDonaldJ: <a href=\\\"http://www.google.com\\\" rel=\\\"nofollow\\\">Copy realDonaldTrump</a>\", \"taylorjm61: <a href=\\\"http://twitter.com/download/iphone\\\" rel=\\\"nofollow\\\">Twitter for iPhone</a>\", \"ARealPrincesa: <a href=\\\"http://twitter.com/download/iphone\\\" rel=\\\"nofollow\\\">Twitter for iPhone</a>\", \"DebbieKiwiblack: <a href=\\\"https://mobile.twitter.com\\\" rel=\\\"nofollow\\\">Twitter Web App</a>\", \"willbarrett_1: <a href=\\\"https://mobile.twitter.com\\\" rel=\\\"nofollow\\\">Twitter Web App</a>\", \"Don_Rivers1: <a href=\\\"http://twitter.com/download/android\\\" rel=\\\"nofollow\\\">Twitter for Android</a>\", \"Terri26165143: <a href=\\\"http://twitter.com/download/android\\\" rel=\\\"nofollow\\\">Twitter for Android</a>\", \"IRetweetTrump: <a href=\\\"https://www.donaldjtrump.com/\\\" rel=\\\"nofollow\\\">IRetweetTrump</a>\"], \"type\": \"scattergl\", \"x\": [694.0, 825.0, 1014.0, 270.0, 1651.0, 2476.0, 158.0, 2539.0, 1021.0], \"y\": [713.0, 839.0, 1024.0, 253.0, 1633.0, 2484.0, 144.0, 2576.0, 1030.0]}, {\"hovertemplate\": \"%{text}\", \"marker\": {\"color\": \"#f3f3f1\", \"opacity\": 1, \"size\": 8}, \"mode\": \"markers\", \"name\": \"Retweeted 9 tweets\", \"showlegend\": true, \"text\": [\"sccurl: <a href=\\\"http://twitter.com/download/iphone\\\" rel=\\\"nofollow\\\">Twitter for iPhone</a>\", \"psPetePatel7: <a href=\\\"http://twitter.com/#!/download/ipad\\\" rel=\\\"nofollow\\\">Twitter for iPad</a>\", \"BasilBennett2: <a href=\\\"http://twitter.com/download/iphone\\\" rel=\\\"nofollow\\\">Twitter for iPhone</a>\", \"ConserveBill: <a href=\\\"https://mobile.twitter.com\\\" rel=\\\"nofollow\\\">Twitter Web App</a>\", \"surrealDoTrump: <a href=\\\"http://IamANull.com\\\" rel=\\\"nofollow\\\">SurrealTrumper</a>\", \"souljahsingh: <a href=\\\"http://twitter.com/download/android\\\" rel=\\\"nofollow\\\">Twitter for Android</a>\", \"Roberts1Robin: <a href=\\\"http://twitter.com/download/iphone\\\" rel=\\\"nofollow\\\">Twitter for iPhone</a>\", \"electricalmama: <a href=\\\"http://twitter.com/download/android\\\" rel=\\\"nofollow\\\">Twitter for Android</a>\", \"duanevotaw: <a href=\\\"http://twitter.com/download/iphone\\\" rel=\\\"nofollow\\\">Twitter for iPhone</a>\", \"Catheri75157424: <a href=\\\"https://mobile.twitter.com\\\" rel=\\\"nofollow\\\">Twitter Web App</a>\", \"bamanicky: <a href=\\\"http://twitter.com/download/iphone\\\" rel=\\\"nofollow\\\">Twitter for iPhone</a>\", \"BKM__01: <a href=\\\"http://twitter.com/download/iphone\\\" rel=\\\"nofollow\\\">Twitter for iPhone</a>\", \"otqvv: <a href=\\\"http://twitter.com/download/iphone\\\" rel=\\\"nofollow\\\">Twitter for iPhone</a>\", \"KroekerTony: <a href=\\\"http://twitter.com/download/android\\\" rel=\\\"nofollow\\\">Twitter for Android</a>\"], \"type\": \"scattergl\", \"x\": [471.0, 173.0, 681.0, 1644.0, 1011.0, 1280.0, 932.0, 1285.0, 810.0, 682.0, 1411.0, 2015.0, 1241.0, 2238.0], \"y\": [465.0, 150.0, 792.0, 1656.0, 1025.0, 1285.0, 945.0, 1286.0, 818.0, 684.0, 1449.0, 2044.0, 1254.0, 2248.0]}, {\"hovertemplate\": \"%{text}\", \"marker\": {\"color\": \"#fffda9\", \"opacity\": 1, \"size\": 8}, \"mode\": \"markers\", \"name\": \"Retweeted 10 tweets\", \"showlegend\": true, \"text\": [\"milothekemosabe: <a href=\\\"http://twitter.com\\\" rel=\\\"nofollow\\\">Twitter Web Client</a>\", \"Donna48195033: <a href=\\\"https://mobile.twitter.com\\\" rel=\\\"nofollow\\\">Twitter Web App</a>\", \"realdonaldsays: <a href=\\\"http://yahoo.com\\\" rel=\\\"nofollow\\\">Real Donald Says</a>\", \"daaydreemer: <a href=\\\"https://mobile.twitter.com\\\" rel=\\\"nofollow\\\">Twitter Web App</a>\", \"RangerGusMcCrae: <a href=\\\"http://twitter.com/#!/download/ipad\\\" rel=\\\"nofollow\\\">Twitter for iPad</a>\", \"trumpsvomit: <a href=\\\"http://www.whitehouse.gov\\\" rel=\\\"nofollow\\\">trumps_vomit</a>\", \"jnmnlslv: <a href=\\\"http://twitter.com/download/android\\\" rel=\\\"nofollow\\\">Twitter for Android</a>\", \"TheocharisHadj2: <a href=\\\"https://mobile.twitter.com\\\" rel=\\\"nofollow\\\">Twitter Web App</a>\", \"Barbara77250226: <a href=\\\"http://twitter.com/download/android\\\" rel=\\\"nofollow\\\">Twitter for Android</a>\", \"RealKSridharan: <a href=\\\"http://twitter.com/download/iphone\\\" rel=\\\"nofollow\\\">Twitter for iPhone</a>\", \"fastmaro_kicky: <a href=\\\"http://twitter.com/download/iphone\\\" rel=\\\"nofollow\\\">Twitter for iPhone</a>\", \"wontfollowhim: <a href=\\\"https://whitehouse.gov\\\" rel=\\\"nofollow\\\">Retweet Trump</a>\", \"DesertStormVet4: <a href=\\\"http://twitter.com/download/android\\\" rel=\\\"nofollow\\\">Twitter for Android</a>\", \"Anthony70829637: <a href=\\\"http://twitter.com/download/iphone\\\" rel=\\\"nofollow\\\">Twitter for iPhone</a>\", \"NHale1776: <a href=\\\"https://mobile.twitter.com\\\" rel=\\\"nofollow\\\">Twitter Web App</a>\", \"MrJohn94886436: <a href=\\\"http://twitter.com/download/android\\\" rel=\\\"nofollow\\\">Twitter for Android</a>\", \"OldhessL: <a href=\\\"http://twitter.com/download/iphone\\\" rel=\\\"nofollow\\\">Twitter for iPhone</a>\", \"LisaBow9: <a href=\\\"http://twitter.com/download/iphone\\\" rel=\\\"nofollow\\\">Twitter for iPhone</a>\", \"joercrouae: <a href=\\\"http://twitter.com/download/iphone\\\" rel=\\\"nofollow\\\">Twitter for iPhone</a>\", \"sangrerayada: <a href=\\\"http://twitter.com/download/iphone\\\" rel=\\\"nofollow\\\">Twitter for iPhone</a>\", \"bzm84413132: <a href=\\\"http://twitter.com/download/iphone\\\" rel=\\\"nofollow\\\">Twitter for iPhone</a>\", \"MaggioMichelle: <a href=\\\"http://twitter.com/download/iphone\\\" rel=\\\"nofollow\\\">Twitter for iPhone</a>\", \"repubfan: <a href=\\\"http://twitter.com/download/iphone\\\" rel=\\\"nofollow\\\">Twitter for iPhone</a>\", \"imbearclansami: <a href=\\\"https://mobile.twitter.com\\\" rel=\\\"nofollow\\\">Twitter Web App</a>\", \"KittyCatGranny: <a href=\\\"http://twitter.com/#!/download/ipad\\\" rel=\\\"nofollow\\\">Twitter for iPad</a>\", \"autismfamily01: <a href=\\\"http://twitter.com/download/iphone\\\" rel=\\\"nofollow\\\">Twitter for iPhone</a>\"], \"type\": \"scattergl\", \"x\": [2527.0, 784.0, 64.0, 106.0, 1945.0, 585.0, 3341.0, 983.0, 143.0, 124.0, 191.0, 586.0, 575.0, 2287.0, 113.0, 78.0, 196.0, 114.0, 3359.0, 731.0, 2583.0, 1253.0, 424.0, 132.0, 127.0, 955.0], \"y\": [2537.0, 818.0, 66.0, 123.0, 1945.0, 592.0, 3349.0, 992.0, 165.0, 141.0, 185.0, 594.0, 587.0, 2301.0, 120.0, 107.0, 218.0, 122.0, 3359.0, 733.0, 2591.0, 1260.0, 434.0, 146.0, 1464.0, 961.0]}, {\"hovertemplate\": \"%{text}\", \"marker\": {\"color\": \"#fafd5b\", \"opacity\": 1, \"size\": 8}, \"mode\": \"markers\", \"name\": \"Retweeted 11 tweets\", \"showlegend\": true, \"text\": [\"KMCaton: <a href=\\\"http://twitter.com/download/iphone\\\" rel=\\\"nofollow\\\">Twitter for iPhone</a>\", \"weee208: <a href=\\\"http://twitter.com/#!/download/ipad\\\" rel=\\\"nofollow\\\">Twitter for iPad</a>\", \"Dog2Purple: <a href=\\\"https://mobile.twitter.com\\\" rel=\\\"nofollow\\\">Twitter Web App</a>\", \"HaroldSnure: <a href=\\\"https://mobile.twitter.com\\\" rel=\\\"nofollow\\\">Twitter Web App</a>\", \"icare4america16: <a href=\\\"http://twitter.com\\\" rel=\\\"nofollow\\\">Twitter Web Client</a>\", \"billymjonesMACK: <a href=\\\"http://twitter.com/download/android\\\" rel=\\\"nofollow\\\">Twitter for Android</a>\", \"ReneeC2920: <a href=\\\"http://twitter.com/download/android\\\" rel=\\\"nofollow\\\">Twitter for Android</a>\", \"caselvis58: <a href=\\\"http://twitter.com/download/iphone\\\" rel=\\\"nofollow\\\">Twitter for iPhone</a>\", \"kristen4trump: <a href=\\\"https://mobile.twitter.com\\\" rel=\\\"nofollow\\\">Twitter Web App</a>\", \"e1l2z3: <a href=\\\"http://twitter.com/download/iphone\\\" rel=\\\"nofollow\\\">Twitter for iPhone</a>\", \"Misstuffsee: <a href=\\\"http://twitter.com/download/iphone\\\" rel=\\\"nofollow\\\">Twitter for iPhone</a>\", \"lisam02184: <a href=\\\"http://twitter.com/download/android\\\" rel=\\\"nofollow\\\">Twitter for Android</a>\", \"Shauna33R: <a href=\\\"http://twitter.com/download/iphone\\\" rel=\\\"nofollow\\\">Twitter for iPhone</a>\", \"maxger31: <a href=\\\"http://twitter.com/download/iphone\\\" rel=\\\"nofollow\\\">Twitter for iPhone</a>\", \"Diverstang: <a href=\\\"http://twitter.com/download/android\\\" rel=\\\"nofollow\\\">Twitter for Android</a>\", \"ScottLeelon: <a href=\\\"http://twitter.com/download/iphone\\\" rel=\\\"nofollow\\\">Twitter for iPhone</a>\", \"lana67says2: <a href=\\\"http://twitter.com/download/android\\\" rel=\\\"nofollow\\\">Twitter for Android</a>\", \"1Faithum: <a href=\\\"http://twitter.com/download/android\\\" rel=\\\"nofollow\\\">Twitter for Android</a>\", \"AmbilTodd: <a href=\\\"http://twitter.com/download/android\\\" rel=\\\"nofollow\\\">Twitter for Android</a>\", \"TiredofBS11: <a href=\\\"https://mobile.twitter.com\\\" rel=\\\"nofollow\\\">Twitter Web App</a>\", \"LoraJPerkins: <a href=\\\"http://twitter.com/download/android\\\" rel=\\\"nofollow\\\">Twitter for Android</a>\", \"TheocharisHadj4: <a href=\\\"https://mobile.twitter.com\\\" rel=\\\"nofollow\\\">Twitter Web App</a>\"], \"type\": \"scattergl\", \"x\": [2681.0, 1383.0, 1852.0, 2779.0, 1101.0, 85.0, 2657.0, 88.0, 205.0, 384.0, 2298.0, 2498.0, 1659.0, 102.0, 87.0, 153.0, 2447.0, 2327.0, 952.0, 552.0, 329.0, 1807.0], \"y\": [2699.0, 1375.0, 1861.0, 2789.0, 1109.0, 80.0, 2669.0, 138.0, 220.0, 406.0, 2307.0, 2520.0, 1656.0, 113.0, 111.0, 159.0, 2414.0, 2274.0, 971.0, 562.0, 352.0, 1813.0]}, {\"hovertemplate\": \"%{text}\", \"marker\": {\"color\": \"#f7da29\", \"opacity\": 1, \"size\": 8}, \"mode\": \"markers\", \"name\": \"Retweeted 12 tweets\", \"showlegend\": true, \"text\": [\"knassios: <a href=\\\"http://twitter.com/download/android\\\" rel=\\\"nofollow\\\">Twitter for Android</a>\", \"Represe04754550: <a href=\\\"http://twitter.com/download/iphone\\\" rel=\\\"nofollow\\\">Twitter for iPhone</a>\", \"lfbill: <a href=\\\"http://twitter.com/#!/download/ipad\\\" rel=\\\"nofollow\\\">Twitter for iPad</a>\", \"SebastianJRusso: <a href=\\\"http://twitter.com/download/android\\\" rel=\\\"nofollow\\\">Twitter for Android</a>\", \"Steve_Gregory82: <a href=\\\"http://twitter.com/download/android\\\" rel=\\\"nofollow\\\">Twitter for Android</a>\", \"DulinTommy: <a href=\\\"http://twitter.com/download/android\\\" rel=\\\"nofollow\\\">Twitter for Android</a>\", \"Hinatawakaba129: <a href=\\\"http://twitter.com/download/android\\\" rel=\\\"nofollow\\\">Twitter for Android</a>\", \"GlenStJames: <a href=\\\"http://twitter.com/#!/download/ipad\\\" rel=\\\"nofollow\\\">Twitter for iPad</a>\", \"PJN4Real: <a href=\\\"http://twitter.com/download/iphone\\\" rel=\\\"nofollow\\\">Twitter for iPhone</a>\", \"LindaSuhler: <a href=\\\"http://twitter.com/download/iphone\\\" rel=\\\"nofollow\\\">Twitter for iPhone</a>\", \"MyTeresadampier: <a href=\\\"http://twitter.com/download/android\\\" rel=\\\"nofollow\\\">Twitter for Android</a>\", \"rawoods24: <a href=\\\"http://twitter.com/download/iphone\\\" rel=\\\"nofollow\\\">Twitter for iPhone</a>\", \"mkbshm: <a href=\\\"http://twitter.com/download/iphone\\\" rel=\\\"nofollow\\\">Twitter for iPhone</a>\", \"NancymkQ: <a href=\\\"http://twitter.com/#!/download/ipad\\\" rel=\\\"nofollow\\\">Twitter for iPad</a>\", \"DustinEBole: <a href=\\\"http://twitter.com/download/android\\\" rel=\\\"nofollow\\\">Twitter for Android</a>\", \"FelizFlorecita1: <a href=\\\"http://twitter.com/download/android\\\" rel=\\\"nofollow\\\">Twitter for Android</a>\", \"Unfollow_Donald: <a href=\\\"https://twitter.com/Unfollow_Donald\\\" rel=\\\"nofollow\\\">Unfollow Donald Trump</a>\", \"JaniceW05412341: <a href=\\\"http://twitter.com/download/android\\\" rel=\\\"nofollow\\\">Twitter for Android</a>\", \"Mrseifert24Mike: <a href=\\\"http://twitter.com/download/iphone\\\" rel=\\\"nofollow\\\">Twitter for iPhone</a>\", \"JJDJ1187: <a href=\\\"http://twitter.com/download/iphone\\\" rel=\\\"nofollow\\\">Twitter for iPhone</a>\", \"gX4IK76J9YqkHEn: <a href=\\\"http://twitter.com/download/android\\\" rel=\\\"nofollow\\\">Twitter for Android</a>\", \"CheezyBorger: <a href=\\\"http://twitter.com/download/android\\\" rel=\\\"nofollow\\\">Twitter for Android</a>\"], \"type\": \"scattergl\", \"x\": [2520.0, 1035.0, 1703.0, 1207.0, 2604.0, 2887.0, 2461.0, 945.0, 315.0, 180.0, 1757.0, 299.0, 2599.0, 1038.0, 2624.0, 337.0, 5.0, 2599.0, 1019.0, 1609.0, 2764.0, 1937.0], \"y\": [2538.0, 1043.0, 1713.0, 1196.0, 2612.0, 2907.0, 2491.0, 966.0, 323.0, 173.0, 1769.0, 293.0, 2607.0, 87.0, 2631.0, 345.0, 5.0, 2633.0, 994.0, 1616.0, 2755.0, 1944.0]}, {\"hovertemplate\": \"%{text}\", \"marker\": {\"color\": \"#ff8e25\", \"opacity\": 1, \"size\": 8}, \"mode\": \"markers\", \"name\": \"Retweeted 13 tweets\", \"showlegend\": true, \"text\": [\"MarathonerNYC: <a href=\\\"http://twitter.com/download/android\\\" rel=\\\"nofollow\\\">Twitter for Android</a>\", \"heath_china: <a href=\\\"https://mobile.twitter.com\\\" rel=\\\"nofollow\\\">Twitter Web App</a>\", \"jjon21: <a href=\\\"https://mobile.twitter.com\\\" rel=\\\"nofollow\\\">Twitter Web App</a>\", \"Helovedmefirst: <a href=\\\"http://twitter.com\\\" rel=\\\"nofollow\\\">Twitter Web Client</a>\", \"koupdetat: <a href=\\\"http://twitter.com/download/iphone\\\" rel=\\\"nofollow\\\">Twitter for iPhone</a>\", \"Matthew52802818: <a href=\\\"http://twitter.com/#!/download/ipad\\\" rel=\\\"nofollow\\\">Twitter for iPad</a>\", \"mwiley4975: <a href=\\\"http://twitter.com/download/android\\\" rel=\\\"nofollow\\\">Twitter for Android</a>\", \"henry0467: <a href=\\\"http://twitter.com/download/iphone\\\" rel=\\\"nofollow\\\">Twitter for iPhone</a>\", \"Apiphanys_Eye: <a href=\\\"http://twitter.com/download/android\\\" rel=\\\"nofollow\\\">Twitter for Android</a>\", \"ChukwudubemIgb1: <a href=\\\"http://twitter.com/download/android\\\" rel=\\\"nofollow\\\">Twitter for Android</a>\", \"San_Diego_858: <a href=\\\"http://twitter.com/download/iphone\\\" rel=\\\"nofollow\\\">Twitter for iPhone</a>\", \"KatsuhikoTsuda: <a href=\\\"http://twitter.com/download/iphone\\\" rel=\\\"nofollow\\\">Twitter for iPhone</a>\", \"inscnc: <a href=\\\"http://twitter.com/download/iphone\\\" rel=\\\"nofollow\\\">Twitter for iPhone</a>\", \"thagnome70065: <a href=\\\"http://twitter.com/download/android\\\" rel=\\\"nofollow\\\">Twitter for Android</a>\", \"ReaganCharlie: <a href=\\\"http://twitter.com/download/android\\\" rel=\\\"nofollow\\\">Twitter for Android</a>\"], \"type\": \"scattergl\", \"x\": [145.0, 2005.0, 102.0, 59.0, 2749.0, 90.0, 1284.0, 2336.0, 99.0, 2640.0, 205.0, 375.0, 766.0, 2857.0, 2818.0], \"y\": [157.0, 2017.0, 99.0, 70.0, 2748.0, 135.0, 1282.0, 2349.0, 109.0, 2647.0, 206.0, 342.0, 769.0, 2865.0, 1537.0]}, {\"hovertemplate\": \"%{text}\", \"marker\": {\"color\": \"#f8432d\", \"opacity\": 1, \"size\": 8}, \"mode\": \"markers\", \"name\": \"Retweeted 14 tweets\", \"showlegend\": true, \"text\": [\"mimiinftworth: <a href=\\\"http://twitter.com/download/iphone\\\" rel=\\\"nofollow\\\">Twitter for iPhone</a>\", \"gerald_lowery: <a href=\\\"http://twitter.com/download/iphone\\\" rel=\\\"nofollow\\\">Twitter for iPhone</a>\", \"LousLounge: <a href=\\\"http://twitter.com/download/iphone\\\" rel=\\\"nofollow\\\">Twitter for iPhone</a>\", \"MichaelPoppo0: <a href=\\\"http://twitter.com/download/iphone\\\" rel=\\\"nofollow\\\">Twitter for iPhone</a>\", \"MelissaGrableAF: <a href=\\\"http://twitter.com/download/android\\\" rel=\\\"nofollow\\\">Twitter for Android</a>\", \"MeAndMyHouse1: <a href=\\\"http://twitter.com/download/iphone\\\" rel=\\\"nofollow\\\">Twitter for iPhone</a>\", \"CReeseReport: <a href=\\\"https://mobile.twitter.com\\\" rel=\\\"nofollow\\\">Twitter Web App</a>\"], \"type\": \"scattergl\", \"x\": [785.0, 1420.0, 83.0, 3195.0, 92.0, 71.0, 857.0], \"y\": [787.0, 1433.0, 81.0, 3204.0, 99.0, 139.0, 844.0]}, {\"hovertemplate\": \"%{text}\", \"marker\": {\"color\": \"#313131\", \"opacity\": 1, \"size\": 8}, \"mode\": \"markers\", \"name\": \"Retweeted 17 tweets\", \"showlegend\": true, \"text\": [\"dallie_payne: <a href=\\\"http://twitter.com/#!/download/ipad\\\" rel=\\\"nofollow\\\">Twitter for iPad</a>\"], \"type\": \"scattergl\", \"x\": [3211.0], \"y\": [3227.0]}],\n",
       "                        {\"autosize\": false, \"height\": 600, \"legend\": {\"font\": {\"color\": \"black\", \"family\": \"sans-serif\", \"size\": 12}, \"traceorder\": \"normal\", \"x\": 1, \"y\": 1}, \"margin\": {\"b\": 1, \"l\": 1, \"r\": 50, \"t\": 50}, \"template\": {\"data\": {\"bar\": [{\"error_x\": {\"color\": \"#2a3f5f\"}, \"error_y\": {\"color\": \"#2a3f5f\"}, \"marker\": {\"line\": {\"color\": \"#E5ECF6\", \"width\": 0.5}}, \"type\": \"bar\"}], \"barpolar\": [{\"marker\": {\"line\": {\"color\": \"#E5ECF6\", \"width\": 0.5}}, \"type\": \"barpolar\"}], \"carpet\": [{\"aaxis\": {\"endlinecolor\": \"#2a3f5f\", \"gridcolor\": \"white\", \"linecolor\": \"white\", \"minorgridcolor\": \"white\", \"startlinecolor\": \"#2a3f5f\"}, \"baxis\": {\"endlinecolor\": \"#2a3f5f\", \"gridcolor\": \"white\", \"linecolor\": \"white\", \"minorgridcolor\": \"white\", \"startlinecolor\": \"#2a3f5f\"}, \"type\": \"carpet\"}], \"choropleth\": [{\"colorbar\": {\"outlinewidth\": 0, \"ticks\": \"\"}, \"type\": \"choropleth\"}], \"contour\": [{\"colorbar\": {\"outlinewidth\": 0, \"ticks\": \"\"}, \"colorscale\": [[0.0, \"#0d0887\"], [0.1111111111111111, \"#46039f\"], [0.2222222222222222, \"#7201a8\"], [0.3333333333333333, \"#9c179e\"], [0.4444444444444444, \"#bd3786\"], [0.5555555555555556, \"#d8576b\"], [0.6666666666666666, \"#ed7953\"], [0.7777777777777778, \"#fb9f3a\"], [0.8888888888888888, \"#fdca26\"], [1.0, \"#f0f921\"]], \"type\": \"contour\"}], \"contourcarpet\": [{\"colorbar\": {\"outlinewidth\": 0, \"ticks\": \"\"}, \"type\": \"contourcarpet\"}], \"heatmap\": [{\"colorbar\": {\"outlinewidth\": 0, \"ticks\": \"\"}, \"colorscale\": [[0.0, \"#0d0887\"], [0.1111111111111111, \"#46039f\"], [0.2222222222222222, \"#7201a8\"], [0.3333333333333333, \"#9c179e\"], [0.4444444444444444, \"#bd3786\"], [0.5555555555555556, \"#d8576b\"], [0.6666666666666666, \"#ed7953\"], [0.7777777777777778, \"#fb9f3a\"], [0.8888888888888888, \"#fdca26\"], [1.0, \"#f0f921\"]], \"type\": \"heatmap\"}], \"heatmapgl\": [{\"colorbar\": {\"outlinewidth\": 0, \"ticks\": \"\"}, \"colorscale\": [[0.0, \"#0d0887\"], [0.1111111111111111, \"#46039f\"], [0.2222222222222222, \"#7201a8\"], [0.3333333333333333, \"#9c179e\"], [0.4444444444444444, \"#bd3786\"], [0.5555555555555556, \"#d8576b\"], [0.6666666666666666, \"#ed7953\"], [0.7777777777777778, \"#fb9f3a\"], [0.8888888888888888, \"#fdca26\"], [1.0, \"#f0f921\"]], \"type\": \"heatmapgl\"}], \"histogram\": [{\"marker\": {\"colorbar\": {\"outlinewidth\": 0, \"ticks\": \"\"}}, \"type\": \"histogram\"}], \"histogram2d\": [{\"colorbar\": {\"outlinewidth\": 0, \"ticks\": \"\"}, \"colorscale\": [[0.0, \"#0d0887\"], [0.1111111111111111, \"#46039f\"], [0.2222222222222222, \"#7201a8\"], [0.3333333333333333, \"#9c179e\"], [0.4444444444444444, \"#bd3786\"], [0.5555555555555556, \"#d8576b\"], [0.6666666666666666, \"#ed7953\"], [0.7777777777777778, \"#fb9f3a\"], [0.8888888888888888, \"#fdca26\"], [1.0, \"#f0f921\"]], \"type\": \"histogram2d\"}], \"histogram2dcontour\": [{\"colorbar\": {\"outlinewidth\": 0, \"ticks\": \"\"}, \"colorscale\": [[0.0, \"#0d0887\"], [0.1111111111111111, \"#46039f\"], [0.2222222222222222, \"#7201a8\"], [0.3333333333333333, \"#9c179e\"], [0.4444444444444444, \"#bd3786\"], [0.5555555555555556, \"#d8576b\"], [0.6666666666666666, \"#ed7953\"], [0.7777777777777778, \"#fb9f3a\"], [0.8888888888888888, \"#fdca26\"], [1.0, \"#f0f921\"]], \"type\": \"histogram2dcontour\"}], \"mesh3d\": [{\"colorbar\": {\"outlinewidth\": 0, \"ticks\": \"\"}, \"type\": \"mesh3d\"}], \"parcoords\": [{\"line\": {\"colorbar\": {\"outlinewidth\": 0, \"ticks\": \"\"}}, \"type\": \"parcoords\"}], \"pie\": [{\"automargin\": true, \"type\": \"pie\"}], \"scatter\": [{\"marker\": {\"colorbar\": {\"outlinewidth\": 0, \"ticks\": \"\"}}, \"type\": \"scatter\"}], \"scatter3d\": [{\"line\": {\"colorbar\": {\"outlinewidth\": 0, \"ticks\": \"\"}}, \"marker\": {\"colorbar\": {\"outlinewidth\": 0, \"ticks\": \"\"}}, \"type\": \"scatter3d\"}], \"scattercarpet\": [{\"marker\": {\"colorbar\": {\"outlinewidth\": 0, \"ticks\": \"\"}}, \"type\": \"scattercarpet\"}], \"scattergeo\": [{\"marker\": {\"colorbar\": {\"outlinewidth\": 0, \"ticks\": \"\"}}, \"type\": \"scattergeo\"}], \"scattergl\": [{\"marker\": {\"colorbar\": {\"outlinewidth\": 0, \"ticks\": \"\"}}, \"type\": \"scattergl\"}], \"scattermapbox\": [{\"marker\": {\"colorbar\": {\"outlinewidth\": 0, \"ticks\": \"\"}}, \"type\": \"scattermapbox\"}], \"scatterpolar\": [{\"marker\": {\"colorbar\": {\"outlinewidth\": 0, \"ticks\": \"\"}}, \"type\": \"scatterpolar\"}], \"scatterpolargl\": [{\"marker\": {\"colorbar\": {\"outlinewidth\": 0, \"ticks\": \"\"}}, \"type\": \"scatterpolargl\"}], \"scatterternary\": [{\"marker\": {\"colorbar\": {\"outlinewidth\": 0, \"ticks\": \"\"}}, \"type\": \"scatterternary\"}], \"surface\": [{\"colorbar\": {\"outlinewidth\": 0, \"ticks\": \"\"}, \"colorscale\": [[0.0, \"#0d0887\"], [0.1111111111111111, \"#46039f\"], [0.2222222222222222, \"#7201a8\"], [0.3333333333333333, \"#9c179e\"], [0.4444444444444444, \"#bd3786\"], [0.5555555555555556, \"#d8576b\"], [0.6666666666666666, \"#ed7953\"], [0.7777777777777778, \"#fb9f3a\"], [0.8888888888888888, \"#fdca26\"], [1.0, \"#f0f921\"]], \"type\": \"surface\"}], \"table\": [{\"cells\": {\"fill\": {\"color\": \"#EBF0F8\"}, \"line\": {\"color\": \"white\"}}, \"header\": {\"fill\": {\"color\": \"#C8D4E3\"}, \"line\": {\"color\": \"white\"}}, \"type\": \"table\"}]}, \"layout\": {\"annotationdefaults\": {\"arrowcolor\": \"#2a3f5f\", \"arrowhead\": 0, \"arrowwidth\": 1}, \"coloraxis\": {\"colorbar\": {\"outlinewidth\": 0, \"ticks\": \"\"}}, \"colorscale\": {\"diverging\": [[0, \"#8e0152\"], [0.1, \"#c51b7d\"], [0.2, \"#de77ae\"], [0.3, \"#f1b6da\"], [0.4, \"#fde0ef\"], [0.5, \"#f7f7f7\"], [0.6, \"#e6f5d0\"], [0.7, \"#b8e186\"], [0.8, \"#7fbc41\"], [0.9, \"#4d9221\"], [1, \"#276419\"]], \"sequential\": [[0.0, \"#0d0887\"], [0.1111111111111111, \"#46039f\"], [0.2222222222222222, \"#7201a8\"], [0.3333333333333333, \"#9c179e\"], [0.4444444444444444, \"#bd3786\"], [0.5555555555555556, \"#d8576b\"], [0.6666666666666666, \"#ed7953\"], [0.7777777777777778, \"#fb9f3a\"], [0.8888888888888888, \"#fdca26\"], [1.0, \"#f0f921\"]], \"sequentialminus\": [[0.0, \"#0d0887\"], [0.1111111111111111, \"#46039f\"], [0.2222222222222222, \"#7201a8\"], [0.3333333333333333, \"#9c179e\"], [0.4444444444444444, \"#bd3786\"], [0.5555555555555556, \"#d8576b\"], [0.6666666666666666, \"#ed7953\"], [0.7777777777777778, \"#fb9f3a\"], [0.8888888888888888, \"#fdca26\"], [1.0, \"#f0f921\"]]}, \"colorway\": [\"#636efa\", \"#EF553B\", \"#00cc96\", \"#ab63fa\", \"#FFA15A\", \"#19d3f3\", \"#FF6692\", \"#B6E880\", \"#FF97FF\", \"#FECB52\"], \"font\": {\"color\": \"#2a3f5f\"}, \"geo\": {\"bgcolor\": \"white\", \"lakecolor\": \"white\", \"landcolor\": \"#E5ECF6\", \"showlakes\": true, \"showland\": true, \"subunitcolor\": \"white\"}, \"hoverlabel\": {\"align\": \"left\"}, \"hovermode\": \"closest\", \"mapbox\": {\"style\": \"light\"}, \"paper_bgcolor\": \"white\", \"plot_bgcolor\": \"#E5ECF6\", \"polar\": {\"angularaxis\": {\"gridcolor\": \"white\", \"linecolor\": \"white\", \"ticks\": \"\"}, \"bgcolor\": \"#E5ECF6\", \"radialaxis\": {\"gridcolor\": \"white\", \"linecolor\": \"white\", \"ticks\": \"\"}}, \"scene\": {\"xaxis\": {\"backgroundcolor\": \"#E5ECF6\", \"gridcolor\": \"white\", \"gridwidth\": 2, \"linecolor\": \"white\", \"showbackground\": true, \"ticks\": \"\", \"zerolinecolor\": \"white\"}, \"yaxis\": {\"backgroundcolor\": \"#E5ECF6\", \"gridcolor\": \"white\", \"gridwidth\": 2, \"linecolor\": \"white\", \"showbackground\": true, \"ticks\": \"\", \"zerolinecolor\": \"white\"}, \"zaxis\": {\"backgroundcolor\": \"#E5ECF6\", \"gridcolor\": \"white\", \"gridwidth\": 2, \"linecolor\": \"white\", \"showbackground\": true, \"ticks\": \"\", \"zerolinecolor\": \"white\"}}, \"shapedefaults\": {\"line\": {\"color\": \"#2a3f5f\"}}, \"ternary\": {\"aaxis\": {\"gridcolor\": \"white\", \"linecolor\": \"white\", \"ticks\": \"\"}, \"baxis\": {\"gridcolor\": \"white\", \"linecolor\": \"white\", \"ticks\": \"\"}, \"bgcolor\": \"#E5ECF6\", \"caxis\": {\"gridcolor\": \"white\", \"linecolor\": \"white\", \"ticks\": \"\"}}, \"title\": {\"x\": 0.05}, \"xaxis\": {\"automargin\": true, \"gridcolor\": \"white\", \"linecolor\": \"white\", \"ticks\": \"\", \"title\": {\"standoff\": 15}, \"zerolinecolor\": \"white\", \"zerolinewidth\": 2}, \"yaxis\": {\"automargin\": true, \"gridcolor\": \"white\", \"linecolor\": \"white\", \"ticks\": \"\", \"title\": {\"standoff\": 15}, \"zerolinecolor\": \"white\", \"zerolinewidth\": 2}}}, \"title\": {\"text\": \"Tweet #4 vs Tweet #12\"}, \"width\": 800, \"xaxis\": {\"title\": {\"text\": \"Seconds since Trump Retweeted #4\"}}, \"yaxis\": {\"title\": {\"text\": \"Seconds since Trump Retweeted #12\"}}},\n",
       "                        {\"responsive\": true}\n",
       "                    ).then(function(){\n",
       "                            \n",
       "var gd = document.getElementById('d0b321c6-d6af-4a7a-8eee-4a7f51c99bca');\n",
       "var x = new MutationObserver(function (mutations, observer) {{\n",
       "        var display = window.getComputedStyle(gd).display;\n",
       "        if (!display || display === 'none') {{\n",
       "            console.log([gd, 'removed!']);\n",
       "            Plotly.purge(gd);\n",
       "            observer.disconnect();\n",
       "        }}\n",
       "}});\n",
       "\n",
       "// Listen for the removal of the full notebook cells\n",
       "var notebookContainer = gd.closest('#notebook-container');\n",
       "if (notebookContainer) {{\n",
       "    x.observe(notebookContainer, {childList: true});\n",
       "}}\n",
       "\n",
       "// Listen for the clearing of the current output cell\n",
       "var outputEl = gd.closest('.output');\n",
       "if (outputEl) {{\n",
       "    x.observe(outputEl, {childList: true});\n",
       "}}\n",
       "\n",
       "                        })\n",
       "                };\n",
       "                });\n",
       "            </script>\n",
       "        </div>"
      ]
     },
     "metadata": {},
     "output_type": "display_data"
    }
   ],
   "source": [
    "window=1\n",
    "\n",
    "retweets_after_trump, source_counts, user_counts = get_retweets_after_trump(df, window=window)\n",
    "\n",
    "#Which should we compare?\n",
    "A = 4\n",
    "B = 12\n",
    "\n",
    "df2, sr, p = rank_twitterers(retweets_after_trump[A], retweets_after_trump[B])\n",
    "print(\"The % similar is: {:.2f} with {} users in both streams\".format(p, len(df2)))\n",
    "print(sr)\n",
    "\n",
    "\n",
    "f = make_plot(df2, user_counts)\n",
    "f.show()\n",
    "\n",
    "with open('/data/www/tmp.html','w') as outFile:\n",
    "    outFile.write( plotly.io.to_html(f,include_plotlyjs='cdn') )"
   ]
  },
  {
   "cell_type": "markdown",
   "metadata": {},
   "source": [
    "# Do all of them..."
   ]
  },
  {
   "cell_type": "code",
   "execution_count": 70,
   "metadata": {
    "scrolled": false
   },
   "outputs": [
    {
     "name": "stdout",
     "output_type": "stream",
     "text": [
      "1,2,62.531328320802004,0.9140642701143452,6.320794189644715e-197,https://epic.cs.colorado.edu/covid19/retweet_correlations/1_2_1H.html\n",
      "1,3,48.310810810810814,0.7850761194263073,7.284906307450154e-91,https://epic.cs.colorado.edu/covid19/retweet_correlations/1_3_1H.html\n",
      "1,4,14.414414414414415,0.0968450327829739,0.2768218047909554,https://epic.cs.colorado.edu/covid19/retweet_correlations/1_4_1H.html\n",
      "1,5,17.591339648173207,0.23627199008005326,0.006803231854146785,https://epic.cs.colorado.edu/covid19/retweet_correlations/1_5_1H.html\n",
      "1,6,56.80981595092025,0.8949857353729315,1.0085738739043856e-163,https://epic.cs.colorado.edu/covid19/retweet_correlations/1_6_1H.html\n",
      "1,7,31.193693693693692,0.07900569471532494,0.18985070571793122,https://epic.cs.colorado.edu/covid19/retweet_correlations/1_7_1H.html\n",
      "1,8,57.001239157372986,0.8746094233276799,4.250115655271649e-146,https://epic.cs.colorado.edu/covid19/retweet_correlations/1_8_1H.html\n",
      "1,10,29.617117117117115,0.07635007591431975,0.21716771620882144,https://epic.cs.colorado.edu/covid19/retweet_correlations/1_10_1H.html\n",
      "1,11,56.27425614489003,0.8450844334585338,8.021286045392384e-120,https://epic.cs.colorado.edu/covid19/retweet_correlations/1_11_1H.html\n",
      "1,12,16.666666666666664,0.1305280837312977,0.14195199475486545,https://epic.cs.colorado.edu/covid19/retweet_correlations/1_12_1H.html\n",
      "1,13,71.28129602356407,0.9348910930617897,5.765820364669414e-219,https://epic.cs.colorado.edu/covid19/retweet_correlations/1_13_1H.html\n",
      "1,14,73.94578313253012,0.9616196930282267,8.566916827808671e-277,https://epic.cs.colorado.edu/covid19/retweet_correlations/1_14_1H.html\n",
      "1,15,67.45283018867924,0.8828537313415096,3.070180031848143e-142,https://epic.cs.colorado.edu/covid19/retweet_correlations/1_15_1H.html\n",
      "2,3,59.02255639097744,0.8552514846139789,5.472110487155507e-136,https://epic.cs.colorado.edu/covid19/retweet_correlations/2_3_1H.html\n",
      "2,4,16.541353383458645,0.20010696582379606,0.02141953492995056,https://epic.cs.colorado.edu/covid19/retweet_correlations/2_4_1H.html\n",
      "2,5,17.591339648173207,0.17384844389036438,0.04791483512997374,https://epic.cs.colorado.edu/covid19/retweet_correlations/2_5_1H.html\n",
      "2,6,66.04010025062657,0.9602088821442284,5.400668759958829e-293,https://epic.cs.colorado.edu/covid19/retweet_correlations/2_6_1H.html\n",
      "2,7,33.20802005012531,0.07965222219388286,0.19616006562350283,https://epic.cs.colorado.edu/covid19/retweet_correlations/2_7_1H.html\n",
      "2,8,64.03508771929825,0.9433494010493856,5.015782220537747e-246,https://epic.cs.colorado.edu/covid19/retweet_correlations/2_8_1H.html\n",
      "2,10,31.32832080200501,0.08577817424917954,0.17638551849129358,https://epic.cs.colorado.edu/covid19/retweet_correlations/2_10_1H.html\n",
      "2,11,63.130659767141005,0.9200294771815265,7.083184565681612e-200,https://epic.cs.colorado.edu/covid19/retweet_correlations/2_11_1H.html\n",
      "2,12,16.276041666666664,0.153200980663238,0.08806097785093796,https://epic.cs.colorado.edu/covid19/retweet_correlations/2_12_1H.html\n",
      "2,13,73.19587628865979,0.9472239724207717,1.0265622530332278e-246,https://epic.cs.colorado.edu/covid19/retweet_correlations/2_13_1H.html\n",
      "2,14,73.19277108433735,0.9502752368386189,2.2654585349115844e-247,https://epic.cs.colorado.edu/covid19/retweet_correlations/2_14_1H.html\n",
      "2,15,74.37106918238993,0.9678533883018743,1.7577543161462488e-284,https://epic.cs.colorado.edu/covid19/retweet_correlations/2_15_1H.html\n",
      "3,4,16.21338912133891,0.051648767755169474,0.523315410090327,https://epic.cs.colorado.edu/covid19/retweet_correlations/3_4_1H.html\n",
      "3,5,20.16238159675237,0.21369216706465244,0.008876462474024668,https://epic.cs.colorado.edu/covid19/retweet_correlations/3_5_1H.html\n",
      "3,6,65.76687116564418,0.8642246507991151,1.937693036917482e-161,https://epic.cs.colorado.edu/covid19/retweet_correlations/3_6_1H.html\n",
      "3,7,28.451882845188287,-0.019168988994664637,0.7529772632048082,https://epic.cs.colorado.edu/covid19/retweet_correlations/3_7_1H.html\n",
      "3,8,68.77323420074349,0.8761102135036093,2.332576691418868e-177,https://epic.cs.colorado.edu/covid19/retweet_correlations/3_8_1H.html\n",
      "3,10,27.19665271966527,-0.022768987598592583,0.7147999543528911,https://epic.cs.colorado.edu/covid19/retweet_correlations/3_10_1H.html\n",
      "3,11,75.29107373868047,0.9154431381817109,1.9476833857152966e-231,https://epic.cs.colorado.edu/covid19/retweet_correlations/3_11_1H.html\n",
      "3,12,19.140625,0.04991967177350516,0.5482053645782696,https://epic.cs.colorado.edu/covid19/retweet_correlations/3_12_1H.html\n",
      "3,13,63.47569955817378,0.8034989164365193,1.10550528472705e-98,https://epic.cs.colorado.edu/covid19/retweet_correlations/3_13_1H.html\n",
      "3,14,62.951807228915655,0.7853391809750441,1.145311641149075e-88,https://epic.cs.colorado.edu/covid19/retweet_correlations/3_14_1H.html\n",
      "3,15,73.27044025157232,0.8579816714375593,2.489696822378828e-136,https://epic.cs.colorado.edu/covid19/retweet_correlations/3_15_1H.html\n",
      "4,5,20.56833558863329,0.2351175245902499,0.0035479682197948914,https://epic.cs.colorado.edu/covid19/retweet_correlations/4_5_1H.html\n",
      "4,6,17.914110429447852,0.23889083300415428,0.0036856503948104005,https://epic.cs.colorado.edu/covid19/retweet_correlations/4_6_1H.html\n",
      "4,7,14.388489208633093,0.32411262530268153,9.361842243702168e-05,https://epic.cs.colorado.edu/covid19/retweet_correlations/4_7_1H.html\n",
      "4,8,18.21561338289963,0.09437150361891941,0.25555278095571976,https://epic.cs.colorado.edu/covid19/retweet_correlations/4_8_1H.html\n",
      "4,10,13.874614594039056,0.3762063053562244,6.898179684233871e-06,https://epic.cs.colorado.edu/covid19/retweet_correlations/4_10_1H.html\n",
      "4,11,17.72315653298836,0.11491960889583945,0.1811542060596577,https://epic.cs.colorado.edu/covid19/retweet_correlations/4_11_1H.html\n",
      "4,12,75.390625,0.9839867857505521,0.0,https://epic.cs.colorado.edu/covid19/retweet_correlations/4_12_1H.html\n",
      "4,13,18.409425625920473,0.1882437698833695,0.03552536557361068,https://epic.cs.colorado.edu/covid19/retweet_correlations/4_13_1H.html\n",
      "4,14,17.620481927710845,0.1437196529203229,0.12212580254503243,https://epic.cs.colorado.edu/covid19/retweet_correlations/4_14_1H.html\n",
      "4,15,20.125786163522015,0.18062947067312848,0.041314791145002736,https://epic.cs.colorado.edu/covid19/retweet_correlations/4_15_1H.html\n",
      "5,6,18.26792963464141,0.3279401596736292,0.00010324869993686012,https://epic.cs.colorado.edu/covid19/retweet_correlations/5_6_1H.html\n",
      "5,7,20.974289580514206,0.2748419469271282,0.0005382668629040479,https://epic.cs.colorado.edu/covid19/retweet_correlations/5_7_1H.html\n",
      "5,8,18.538565629228685,0.25775632933440074,0.0023589436081187585,https://epic.cs.colorado.edu/covid19/retweet_correlations/5_8_1H.html\n",
      "5,10,22.32746955345061,0.3049014081564899,6.834000743434948e-05,https://epic.cs.colorado.edu/covid19/retweet_correlations/5_10_1H.html\n",
      "5,11,18.538565629228685,0.24908697590693504,0.0033335038126753452,https://epic.cs.colorado.edu/covid19/retweet_correlations/5_11_1H.html\n",
      "5,12,20.027063599458728,0.24971032358784953,0.002207920115218496,https://epic.cs.colorado.edu/covid19/retweet_correlations/5_12_1H.html\n",
      "5,13,17.673048600883654,0.21299836440105752,0.019505419684879604,https://epic.cs.colorado.edu/covid19/retweet_correlations/5_13_1H.html\n",
      "5,14,19.427710843373493,0.13633930455772822,0.12340250541787694,https://epic.cs.colorado.edu/covid19/retweet_correlations/5_14_1H.html\n",
      "5,15,17.92452830188679,0.29631662305129053,0.001368852994398289,https://epic.cs.colorado.edu/covid19/retweet_correlations/5_15_1H.html\n",
      "6,7,34.11042944785276,0.02019562231322754,0.7374400494630025,https://epic.cs.colorado.edu/covid19/retweet_correlations/6_7_1H.html\n",
      "6,8,74.8451053283767,0.9721360701958337,0.0,https://epic.cs.colorado.edu/covid19/retweet_correlations/6_8_1H.html\n",
      "6,10,33.374233128834355,0.03817210072050235,0.5307381310183994,https://epic.cs.colorado.edu/covid19/retweet_correlations/6_10_1H.html\n",
      "6,11,70.5045278137128,0.9280880916069391,3.980977294605827e-235,https://epic.cs.colorado.edu/covid19/retweet_correlations/6_11_1H.html\n",
      "6,12,18.359375,0.16206557756623957,0.05485733197351415,https://epic.cs.colorado.edu/covid19/retweet_correlations/6_12_1H.html\n",
      "6,13,71.1340206185567,0.905985329281772,1.0607816836806525e-181,https://epic.cs.colorado.edu/covid19/retweet_correlations/6_13_1H.html\n",
      "6,14,68.97590361445783,0.9111217574087782,1.1791233295211369e-177,https://epic.cs.colorado.edu/covid19/retweet_correlations/6_14_1H.html\n"
     ]
    },
    {
     "name": "stdout",
     "output_type": "stream",
     "text": [
      "6,15,84.59119496855347,0.985796776579345,0.0,https://epic.cs.colorado.edu/covid19/retweet_correlations/6_15_1H.html\n",
      "7,8,34.20074349442379,0.04423423287329471,0.4642311886585231,https://epic.cs.colorado.edu/covid19/retweet_correlations/7_8_1H.html\n",
      "7,10,64.79017400204708,0.9710974438808551,0.0,https://epic.cs.colorado.edu/covid19/retweet_correlations/7_10_1H.html\n",
      "7,11,32.85899094437257,0.020217733379770002,0.7484672220164701,https://epic.cs.colorado.edu/covid19/retweet_correlations/7_11_1H.html\n",
      "7,12,16.40625,0.3169121396660627,0.00029973158133070533,https://epic.cs.colorado.edu/covid19/retweet_correlations/7_12_1H.html\n",
      "7,13,40.35346097201767,0.13003325081647596,0.031418079962972204,https://epic.cs.colorado.edu/covid19/retweet_correlations/7_13_1H.html\n",
      "7,14,42.168674698795186,0.07282156451531767,0.2244804970280778,https://epic.cs.colorado.edu/covid19/retweet_correlations/7_14_1H.html\n",
      "7,15,38.36477987421384,-0.0007356313863228987,0.9908788427265737,https://epic.cs.colorado.edu/covid19/retweet_correlations/7_15_1H.html\n",
      "8,10,33.33333333333333,0.016983663822375174,0.7815684687413847,https://epic.cs.colorado.edu/covid19/retweet_correlations/8_10_1H.html\n",
      "8,11,73.22121604139716,0.9187748846897111,8.0948231725770735e-230,https://epic.cs.colorado.edu/covid19/retweet_correlations/8_11_1H.html\n",
      "8,12,18.359375,0.08671664123066551,0.30656108000573756,https://epic.cs.colorado.edu/covid19/retweet_correlations/8_12_1H.html\n",
      "8,13,67.74668630338734,0.9074863383119438,1.259045292999855e-174,https://epic.cs.colorado.edu/covid19/retweet_correlations/8_13_1H.html\n",
      "8,14,67.16867469879519,0.8863419403388906,1.4491841359545433e-150,https://epic.cs.colorado.edu/covid19/retweet_correlations/8_14_1H.html\n",
      "8,15,81.60377358490565,0.973922268899516,0.0,https://epic.cs.colorado.edu/covid19/retweet_correlations/8_15_1H.html\n",
      "10,11,32.082794307891334,0.0075046605408125525,0.906394035392488,https://epic.cs.colorado.edu/covid19/retweet_correlations/10_11_1H.html\n",
      "10,12,16.145833333333336,0.3903428850178602,7.402684763427552e-06,https://epic.cs.colorado.edu/covid19/retweet_correlations/10_12_1H.html\n",
      "10,13,36.671575846833576,0.07451308087452287,0.24139399793139765,https://epic.cs.colorado.edu/covid19/retweet_correlations/10_13_1H.html\n",
      "10,14,39.1566265060241,0.056061155638454936,0.36795443253167515,https://epic.cs.colorado.edu/covid19/retweet_correlations/10_14_1H.html\n",
      "10,15,37.42138364779874,-0.024058814143856216,0.7119334432595872,https://epic.cs.colorado.edu/covid19/retweet_correlations/10_15_1H.html\n",
      "11,12,16.796875,0.15132012025830982,0.08693177624994103,https://epic.cs.colorado.edu/covid19/retweet_correlations/11_12_1H.html\n",
      "11,13,64.35935198821797,0.879414192186031,2.6289279921363234e-142,https://epic.cs.colorado.edu/covid19/retweet_correlations/11_13_1H.html\n",
      "11,14,65.06024096385542,0.8644476509003113,1.6564653884615902e-130,https://epic.cs.colorado.edu/covid19/retweet_correlations/11_14_1H.html\n",
      "11,15,76.88679245283019,0.9162178737681378,1.4403717683684383e-195,https://epic.cs.colorado.edu/covid19/retweet_correlations/11_15_1H.html\n",
      "12,13,17.083946980854197,0.11411799305599438,0.22255320782586413,https://epic.cs.colorado.edu/covid19/retweet_correlations/12_13_1H.html\n",
      "12,14,17.771084337349397,0.09334769826342604,0.31469538095431254,https://epic.cs.colorado.edu/covid19/retweet_correlations/12_14_1H.html\n",
      "12,15,19.18238993710692,0.1464213368357303,0.10754780462176296,https://epic.cs.colorado.edu/covid19/retweet_correlations/12_15_1H.html\n",
      "13,14,75.45180722891565,0.9750260033724926,0.0,https://epic.cs.colorado.edu/covid19/retweet_correlations/13_14_1H.html\n",
      "13,15,67.9245283018868,0.9054406525251956,4.011896616971306e-162,https://epic.cs.colorado.edu/covid19/retweet_correlations/13_15_1H.html\n",
      "14,15,66.98113207547169,0.9048443098591592,2.4523500038722604e-159,https://epic.cs.colorado.edu/covid19/retweet_correlations/14_15_1H.html\n"
     ]
    }
   ],
   "source": [
    "window=1\n",
    "\n",
    "retweets_after_trump, source_counts, user_counts = get_retweets_after_trump(df, window=window)\n",
    "\n",
    "\n",
    "for A in retweets_after_trump.keys():\n",
    "    for B in retweets_after_trump.keys():\n",
    "        if B > A:\n",
    "            df2, sr, p = rank_twitterers(retweets_after_trump[A], retweets_after_trump[B])\n",
    "            \n",
    "            f = make_plot(df2, user_counts)\n",
    "            with open('/data/www/covid19-static-pages/docs/retweet_correlations/{}_{}_{}H.html'.format(A,B,window),'w') as outFile:\n",
    "                outFile.write( plotly.io.to_html(f,include_plotlyjs='cdn') )\n",
    "\n",
    "            print(\"{},{},{},{},{},https://epic.cs.colorado.edu/covid19/retweet_correlations/{}_{}_{}H.html\".format(A,B,p,sr.correlation,sr.pvalue,A,B,window))\n"
   ]
  },
  {
   "cell_type": "code",
   "execution_count": 59,
   "metadata": {
    "scrolled": false
   },
   "outputs": [
    {
     "data": {
      "text/plain": [
       "Text(0.5, 0, 'Number of tweets')"
      ]
     },
     "execution_count": 59,
     "metadata": {},
     "output_type": "execute_result"
    },
    {
     "data": {
      "image/png": "[encoded data removed]",
      "text/plain": [
       "<Figure size 1080x576 with 1 Axes>"
      ]
     },
     "metadata": {
      "image/png": {
       "height": 479,
       "width": 897
      },
      "needs_background": "light"
     },
     "output_type": "display_data"
    }
   ],
   "source": [
    "ax = pd.Series([x[1] for x in user_counts.most_common()]).hist(figsize=(15,8), bins=[1,2,3,4,5,6,7,8,9,10,11,12,13,14])\n",
    "ax.set_ylabel(\"Number of users retweeting\")\n",
    "ax.set_xlabel(\"Number of tweets\");"
   ]
  },
  {
   "cell_type": "code",
   "execution_count": null,
   "metadata": {},
   "outputs": [],
   "source": []
  }
 ],
 "metadata": {
  "kernelspec": {
   "display_name": "Python 3",
   "language": "python",
   "name": "python3"
  },
  "language_info": {
   "codemirror_mode": {
    "name": "ipython",
    "version": 3
   },
   "file_extension": ".py",
   "mimetype": "text/x-python",
   "name": "python",
   "nbconvert_exporter": "python",
   "pygments_lexer": "ipython3",
   "version": "3.6.9"
  }
 },
 "nbformat": 4,
 "nbformat_minor": 4
}
