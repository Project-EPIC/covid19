{
 "cells": [
  {
   "cell_type": "code",
   "execution_count": 93,
   "metadata": {
    "ExecuteTime": {
     "end_time": "2020-05-01T19:20:00.875054Z",
     "start_time": "2020-05-01T19:20:00.872223Z"
    }
   },
   "outputs": [],
   "source": [
    "import pystache"
   ]
  },
  {
   "cell_type": "code",
   "execution_count": 94,
   "metadata": {
    "ExecuteTime": {
     "end_time": "2020-05-01T19:20:01.006815Z",
     "start_time": "2020-05-01T19:20:01.004466Z"
    }
   },
   "outputs": [],
   "source": [
    "#local copy for testing 'n stuff"
   ]
  },
  {
   "cell_type": "code",
   "execution_count": 95,
   "metadata": {
    "ExecuteTime": {
     "end_time": "2020-05-01T19:20:01.128841Z",
     "start_time": "2020-05-01T19:20:01.125208Z"
    }
   },
   "outputs": [],
   "source": [
    "def buildSingleStaticPlotlyPage(output='/home/jupyter/data/www/plotly-sample-rendering.html'):\n",
    "\n",
    "    main_template = open('templates/main.html').read()\n",
    "\n",
    "    opts = {\n",
    "        \"TITLE\"    : \"Retweets of the World Health Organization\",\n",
    "        \"SUBHEADER\": \"Diffusion of the top 25 most retweeted @WHO tweets\",\n",
    "        \"PLOTLY_1\" : open('sample/_plotly-div.html').read()\n",
    "    }\n",
    "\n",
    "    with open(output,'w') as outFile:\n",
    "        outFile.write(pystache.render(main_template, opts))\n",
    "    print(\"View file at http://epic.tweetsonamap.com/plotly-sample-rendering.html\")"
   ]
  },
  {
   "cell_type": "code",
   "execution_count": 96,
   "metadata": {
    "ExecuteTime": {
     "end_time": "2020-05-01T19:20:01.278018Z",
     "start_time": "2020-05-01T19:20:01.244889Z"
    }
   },
   "outputs": [
    {
     "name": "stdout",
     "output_type": "stream",
     "text": [
      "View file at http://epic.tweetsonamap.com/plotly-sample-rendering.html\n"
     ]
    }
   ],
   "source": [
    "buildSingleStaticPlotlyPage(output='docs/who.html')"
   ]
  },
  {
   "cell_type": "code",
   "execution_count": null,
   "metadata": {},
   "outputs": [],
   "source": []
  },
  {
   "cell_type": "code",
   "execution_count": null,
   "metadata": {},
   "outputs": [],
   "source": []
  }
 ],
 "metadata": {
  "hide_input": false,
  "kernelspec": {
   "display_name": "Python 3",
   "language": "python",
   "name": "python3"
  },
  "language_info": {
   "codemirror_mode": {
    "name": "ipython",
    "version": 3
   },
   "file_extension": ".py",
   "mimetype": "text/x-python",
   "name": "python",
   "nbconvert_exporter": "python",
   "pygments_lexer": "ipython3",
   "version": "3.7.4"
  },
  "varInspector": {
   "cols": {
    "lenName": 16,
    "lenType": 16,
    "lenVar": 40
   },
   "kernels_config": {
    "python": {
     "delete_cmd_postfix": "",
     "delete_cmd_prefix": "del ",
     "library": "var_list.py",
     "varRefreshCmd": "print(var_dic_list())"
    },
    "r": {
     "delete_cmd_postfix": ") ",
     "delete_cmd_prefix": "rm(",
     "library": "var_list.r",
     "varRefreshCmd": "cat(var_dic_list()) "
    }
   },
   "types_to_exclude": [
    "module",
    "function",
    "builtin_function_or_method",
    "instance",
    "_Feature"
   ],
   "window_display": false
  }
 },
 "nbformat": 4,
 "nbformat_minor": 4
}
